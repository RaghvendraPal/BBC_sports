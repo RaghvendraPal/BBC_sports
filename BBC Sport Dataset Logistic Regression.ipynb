{
 "cells": [
  {
   "cell_type": "code",
   "execution_count": 1,
   "metadata": {},
   "outputs": [],
   "source": [
    "import nltk\n",
    "from nltk.tokenize import word_tokenize \n",
    "from nltk.corpus import stopwords\n",
    "from nltk.stem import PorterStemmer\n",
    "import pandas as pd\n",
    "import numpy as np\n",
    "import os\n",
    "from tqdm.notebook import tqdm as tqdm\n",
    "from nltk.corpus import stopwords\n",
    "from sklearn.feature_extraction.text import TfidfTransformer\n",
    "from sklearn.feature_extraction.text import TfidfVectorizer\n",
    "from sklearn.feature_extraction.text import CountVectorizer\n",
    "from sklearn.metrics import confusion_matrix\n",
    "from sklearn.metrics import classification_report\n",
    "\n",
    "from gensim.models import Word2Vec"
   ]
  },
  {
   "cell_type": "code",
   "execution_count": 2,
   "metadata": {},
   "outputs": [],
   "source": [
    "PATH = '../BBCSports/bbcsport-fulltext-asis/bbcsport/'\n",
    "classes = os.listdir(PATH)\n",
    "classes.remove('README.TXT')"
   ]
  },
  {
   "cell_type": "code",
   "execution_count": 3,
   "metadata": {},
   "outputs": [
    {
     "name": "stdout",
     "output_type": "stream",
     "text": [
      "['athletics', 'cricket', 'football', 'rugby', 'tennis']\n"
     ]
    }
   ],
   "source": [
    "print(classes)"
   ]
  },
  {
   "cell_type": "code",
   "execution_count": 4,
   "metadata": {},
   "outputs": [
    {
     "name": "stdout",
     "output_type": "stream",
     "text": [
      "There are 5 classes present for the BBC sports dataset\n"
     ]
    }
   ],
   "source": [
    "print(\"There are {} classes present for the BBC sports dataset\".format(len(classes)))"
   ]
  },
  {
   "cell_type": "code",
   "execution_count": 5,
   "metadata": {},
   "outputs": [
    {
     "data": {
      "text/plain": [
       "['athletics', 'cricket', 'football', 'rugby', 'tennis']"
      ]
     },
     "execution_count": 5,
     "metadata": {},
     "output_type": "execute_result"
    }
   ],
   "source": [
    "classes"
   ]
  },
  {
   "cell_type": "code",
   "execution_count": 6,
   "metadata": {},
   "outputs": [
    {
     "data": {
      "text/plain": [
       "'../BBCSports/bbcsport-fulltext-asis/bbcsport/athletics'"
      ]
     },
     "execution_count": 6,
     "metadata": {},
     "output_type": "execute_result"
    }
   ],
   "source": [
    "PATH+classes[0]"
   ]
  },
  {
   "cell_type": "code",
   "execution_count": 7,
   "metadata": {},
   "outputs": [],
   "source": [
    "class_data = os.listdir(PATH+classes[0])"
   ]
  },
  {
   "cell_type": "code",
   "execution_count": 8,
   "metadata": {},
   "outputs": [
    {
     "data": {
      "text/plain": [
       "'003.txt'"
      ]
     },
     "execution_count": 8,
     "metadata": {},
     "output_type": "execute_result"
    }
   ],
   "source": [
    "class_data[2]"
   ]
  },
  {
   "cell_type": "code",
   "execution_count": 9,
   "metadata": {},
   "outputs": [
    {
     "data": {
      "text/plain": [
       "101"
      ]
     },
     "execution_count": 9,
     "metadata": {},
     "output_type": "execute_result"
    }
   ],
   "source": [
    "len(class_data)"
   ]
  },
  {
   "cell_type": "code",
   "execution_count": 10,
   "metadata": {},
   "outputs": [
    {
     "data": {
      "text/plain": [
       "'../BBCSports/bbcsport-fulltext-asis/bbcsport/athletics/001.txt'"
      ]
     },
     "execution_count": 10,
     "metadata": {},
     "output_type": "execute_result"
    }
   ],
   "source": [
    "PATH+classes[0]+\"/\"+class_data[0]"
   ]
  },
  {
   "cell_type": "code",
   "execution_count": 11,
   "metadata": {},
   "outputs": [],
   "source": [
    "file1 = open(PATH+classes[0]+\"/\"+class_data[0],\"r\")"
   ]
  },
  {
   "cell_type": "code",
   "execution_count": 12,
   "metadata": {
    "scrolled": true
   },
   "outputs": [
    {
     "data": {
      "text/plain": [
       "'Claxton hunting first major medal\\n\\nBritish hurdler Sarah Claxton is confident she can win her first major medal at next month\\'s European Indoor Championships in Madrid.\\n\\nThe 25-year-old has already smashed the British record over 60m hurdles twice this season, setting a new mark of 7.96 seconds to win the AAAs title. \"I am quite confident,\" said Claxton. \"But I take each race as it comes. \"As long as I keep up my training but not do too much I think there is a chance of a medal.\" Claxton has won the national 60m hurdles title for the past three years but has struggled to translate her domestic success to the international stage. Now, the Scotland-born athlete owns the equal fifth-fastest time in the world this year. And at last week\\'s Birmingham Grand Prix, Claxton left European medal favourite Russian Irina Shevchenko trailing in sixth spot.\\n\\nFor the first time, Claxton has only been preparing for a campaign over the hurdles - which could explain her leap in form. In previous seasons, the 25-year-old also contested the long jump but since moving from Colchester to London she has re-focused her attentions. Claxton will see if her new training regime pays dividends at the European Indoors which take place on 5-6 March.\\n'"
      ]
     },
     "execution_count": 12,
     "metadata": {},
     "output_type": "execute_result"
    }
   ],
   "source": [
    "file1.read()"
   ]
  },
  {
   "cell_type": "code",
   "execution_count": 13,
   "metadata": {},
   "outputs": [
    {
     "data": {
      "application/vnd.jupyter.widget-view+json": {
       "model_id": "b3682fa1fad14a1b8d2816943be44b38",
       "version_major": 2,
       "version_minor": 0
      },
      "text/plain": [
       "HBox(children=(FloatProgress(value=0.0, max=5.0), HTML(value='')))"
      ]
     },
     "metadata": {},
     "output_type": "display_data"
    },
    {
     "name": "stdout",
     "output_type": "stream",
     "text": [
      "\n"
     ]
    }
   ],
   "source": [
    "text_list = []\n",
    "class_list = []\n",
    "class_num = []\n",
    "for SPORT in tqdm(classes):\n",
    "    for FILE_NAME in os.listdir(PATH+SPORT):\n",
    "        file1 = open(PATH+SPORT+\"/\"+FILE_NAME,\"r\")\n",
    "        text_list.append(file1.read())\n",
    "        class_list.append(SPORT)\n",
    "        class_num.append(classes.index(SPORT))"
   ]
  },
  {
   "cell_type": "code",
   "execution_count": 14,
   "metadata": {},
   "outputs": [
    {
     "name": "stdout",
     "output_type": "stream",
     "text": [
      "Length of Text Data :  737\n",
      "Length of Class Data :  737\n",
      "Length of Number Class Data :  737\n"
     ]
    }
   ],
   "source": [
    "print(\"Length of Text Data : \", len(text_list))\n",
    "print(\"Length of Class Data : \", len(class_list))\n",
    "print(\"Length of Number Class Data : \", len(class_num))"
   ]
  },
  {
   "cell_type": "code",
   "execution_count": 15,
   "metadata": {},
   "outputs": [],
   "source": [
    "data_dict = {'Text':text_list,'Category':class_list, 'Class': class_num}\n",
    "data  = pd.DataFrame(data_dict)"
   ]
  },
  {
   "cell_type": "code",
   "execution_count": 16,
   "metadata": {},
   "outputs": [
    {
     "data": {
      "text/html": [
       "<div>\n",
       "<style scoped>\n",
       "    .dataframe tbody tr th:only-of-type {\n",
       "        vertical-align: middle;\n",
       "    }\n",
       "\n",
       "    .dataframe tbody tr th {\n",
       "        vertical-align: top;\n",
       "    }\n",
       "\n",
       "    .dataframe thead th {\n",
       "        text-align: right;\n",
       "    }\n",
       "</style>\n",
       "<table border=\"1\" class=\"dataframe\">\n",
       "  <thead>\n",
       "    <tr style=\"text-align: right;\">\n",
       "      <th></th>\n",
       "      <th>Text</th>\n",
       "      <th>Category</th>\n",
       "      <th>Class</th>\n",
       "    </tr>\n",
       "  </thead>\n",
       "  <tbody>\n",
       "    <tr>\n",
       "      <th>0</th>\n",
       "      <td>Claxton hunting first major medal\\n\\nBritish h...</td>\n",
       "      <td>athletics</td>\n",
       "      <td>0</td>\n",
       "    </tr>\n",
       "    <tr>\n",
       "      <th>1</th>\n",
       "      <td>O'Sullivan could run in Worlds\\n\\nSonia O'Sull...</td>\n",
       "      <td>athletics</td>\n",
       "      <td>0</td>\n",
       "    </tr>\n",
       "    <tr>\n",
       "      <th>2</th>\n",
       "      <td>Greene sets sights on world title\\n\\nMaurice G...</td>\n",
       "      <td>athletics</td>\n",
       "      <td>0</td>\n",
       "    </tr>\n",
       "    <tr>\n",
       "      <th>3</th>\n",
       "      <td>IAAF launches fight against drugs\\n\\nThe IAAF ...</td>\n",
       "      <td>athletics</td>\n",
       "      <td>0</td>\n",
       "    </tr>\n",
       "    <tr>\n",
       "      <th>4</th>\n",
       "      <td>Dibaba breaks 5,000m world record\\n\\nEthiopia'...</td>\n",
       "      <td>athletics</td>\n",
       "      <td>0</td>\n",
       "    </tr>\n",
       "  </tbody>\n",
       "</table>\n",
       "</div>"
      ],
      "text/plain": [
       "                                                Text   Category  Class\n",
       "0  Claxton hunting first major medal\\n\\nBritish h...  athletics      0\n",
       "1  O'Sullivan could run in Worlds\\n\\nSonia O'Sull...  athletics      0\n",
       "2  Greene sets sights on world title\\n\\nMaurice G...  athletics      0\n",
       "3  IAAF launches fight against drugs\\n\\nThe IAAF ...  athletics      0\n",
       "4  Dibaba breaks 5,000m world record\\n\\nEthiopia'...  athletics      0"
      ]
     },
     "execution_count": 16,
     "metadata": {},
     "output_type": "execute_result"
    }
   ],
   "source": [
    "data.head()"
   ]
  },
  {
   "cell_type": "code",
   "execution_count": 17,
   "metadata": {},
   "outputs": [
    {
     "data": {
      "text/html": [
       "<div>\n",
       "<style scoped>\n",
       "    .dataframe tbody tr th:only-of-type {\n",
       "        vertical-align: middle;\n",
       "    }\n",
       "\n",
       "    .dataframe tbody tr th {\n",
       "        vertical-align: top;\n",
       "    }\n",
       "\n",
       "    .dataframe thead th {\n",
       "        text-align: right;\n",
       "    }\n",
       "</style>\n",
       "<table border=\"1\" class=\"dataframe\">\n",
       "  <thead>\n",
       "    <tr style=\"text-align: right;\">\n",
       "      <th></th>\n",
       "      <th>Text</th>\n",
       "      <th>Category</th>\n",
       "      <th>Class</th>\n",
       "    </tr>\n",
       "  </thead>\n",
       "  <tbody>\n",
       "    <tr>\n",
       "      <th>101</th>\n",
       "      <td>Hayden sets up Australia win\\n\\nSecond one-day...</td>\n",
       "      <td>cricket</td>\n",
       "      <td>1</td>\n",
       "    </tr>\n",
       "    <tr>\n",
       "      <th>102</th>\n",
       "      <td>Pietersen gives England a chance\\n\\nLunch: Eng...</td>\n",
       "      <td>cricket</td>\n",
       "      <td>1</td>\n",
       "    </tr>\n",
       "    <tr>\n",
       "      <th>103</th>\n",
       "      <td>South Africa far too strong again\\n\\nSecond on...</td>\n",
       "      <td>cricket</td>\n",
       "      <td>1</td>\n",
       "    </tr>\n",
       "    <tr>\n",
       "      <th>104</th>\n",
       "      <td>Pakistan on revenge mission\\n\\nPakistan's cric...</td>\n",
       "      <td>cricket</td>\n",
       "      <td>1</td>\n",
       "    </tr>\n",
       "    <tr>\n",
       "      <th>105</th>\n",
       "      <td>Russell to instruct keeper Jones\\n\\nFormer Eng...</td>\n",
       "      <td>cricket</td>\n",
       "      <td>1</td>\n",
       "    </tr>\n",
       "    <tr>\n",
       "      <th>106</th>\n",
       "      <td>England A roll to second victory\\n\\nOne-day to...</td>\n",
       "      <td>cricket</td>\n",
       "      <td>1</td>\n",
       "    </tr>\n",
       "    <tr>\n",
       "      <th>107</th>\n",
       "      <td>Kaif absence wrong - Azharuddin\\n\\nIndia were ...</td>\n",
       "      <td>cricket</td>\n",
       "      <td>1</td>\n",
       "    </tr>\n",
       "    <tr>\n",
       "      <th>108</th>\n",
       "      <td>Bracewell worried by Lee\\n\\nNew Zealand coach ...</td>\n",
       "      <td>cricket</td>\n",
       "      <td>1</td>\n",
       "    </tr>\n",
       "    <tr>\n",
       "      <th>109</th>\n",
       "      <td>Pakistan accept venues compromise\\n\\nThe doubt...</td>\n",
       "      <td>cricket</td>\n",
       "      <td>1</td>\n",
       "    </tr>\n",
       "  </tbody>\n",
       "</table>\n",
       "</div>"
      ],
      "text/plain": [
       "                                                  Text Category  Class\n",
       "101  Hayden sets up Australia win\\n\\nSecond one-day...  cricket      1\n",
       "102  Pietersen gives England a chance\\n\\nLunch: Eng...  cricket      1\n",
       "103  South Africa far too strong again\\n\\nSecond on...  cricket      1\n",
       "104  Pakistan on revenge mission\\n\\nPakistan's cric...  cricket      1\n",
       "105  Russell to instruct keeper Jones\\n\\nFormer Eng...  cricket      1\n",
       "106  England A roll to second victory\\n\\nOne-day to...  cricket      1\n",
       "107  Kaif absence wrong - Azharuddin\\n\\nIndia were ...  cricket      1\n",
       "108  Bracewell worried by Lee\\n\\nNew Zealand coach ...  cricket      1\n",
       "109  Pakistan accept venues compromise\\n\\nThe doubt...  cricket      1"
      ]
     },
     "execution_count": 17,
     "metadata": {},
     "output_type": "execute_result"
    }
   ],
   "source": [
    "data.iloc[101:110]"
   ]
  },
  {
   "cell_type": "code",
   "execution_count": 18,
   "metadata": {},
   "outputs": [
    {
     "data": {
      "text/html": [
       "<div>\n",
       "<style scoped>\n",
       "    .dataframe tbody tr th:only-of-type {\n",
       "        vertical-align: middle;\n",
       "    }\n",
       "\n",
       "    .dataframe tbody tr th {\n",
       "        vertical-align: top;\n",
       "    }\n",
       "\n",
       "    .dataframe thead th {\n",
       "        text-align: right;\n",
       "    }\n",
       "</style>\n",
       "<table border=\"1\" class=\"dataframe\">\n",
       "  <thead>\n",
       "    <tr style=\"text-align: right;\">\n",
       "      <th></th>\n",
       "      <th>Text</th>\n",
       "      <th>Category</th>\n",
       "      <th>Class</th>\n",
       "    </tr>\n",
       "  </thead>\n",
       "  <tbody>\n",
       "    <tr>\n",
       "      <th>225</th>\n",
       "      <td>Man Utd stroll to Cup win\\n\\nWayne Rooney made...</td>\n",
       "      <td>football</td>\n",
       "      <td>2</td>\n",
       "    </tr>\n",
       "    <tr>\n",
       "      <th>226</th>\n",
       "      <td>Van Nistelrooy set to return\\n\\nManchester Uni...</td>\n",
       "      <td>football</td>\n",
       "      <td>2</td>\n",
       "    </tr>\n",
       "    <tr>\n",
       "      <th>227</th>\n",
       "      <td>Moyes U-turn on Beattie dismissal\\n\\nEverton m...</td>\n",
       "      <td>football</td>\n",
       "      <td>2</td>\n",
       "    </tr>\n",
       "    <tr>\n",
       "      <th>228</th>\n",
       "      <td>Ronaldo considering new contract\\n\\nManchester...</td>\n",
       "      <td>football</td>\n",
       "      <td>2</td>\n",
       "    </tr>\n",
       "    <tr>\n",
       "      <th>229</th>\n",
       "      <td>Smith keen on Home series return\\n\\nScotland m...</td>\n",
       "      <td>football</td>\n",
       "      <td>2</td>\n",
       "    </tr>\n",
       "    <tr>\n",
       "      <th>230</th>\n",
       "      <td>Mido makes third apology\\n\\nAhmed 'Mido' Hossa...</td>\n",
       "      <td>football</td>\n",
       "      <td>2</td>\n",
       "    </tr>\n",
       "    <tr>\n",
       "      <th>231</th>\n",
       "      <td>Man City 0-2 Man Utd\\n\\nManchester United redu...</td>\n",
       "      <td>football</td>\n",
       "      <td>2</td>\n",
       "    </tr>\n",
       "    <tr>\n",
       "      <th>232</th>\n",
       "      <td>Gerrard plays down European hopes\\n\\nSteven Ge...</td>\n",
       "      <td>football</td>\n",
       "      <td>2</td>\n",
       "    </tr>\n",
       "    <tr>\n",
       "      <th>233</th>\n",
       "      <td>Duff ruled out of Barcelona clash\\n\\nChelsea's...</td>\n",
       "      <td>football</td>\n",
       "      <td>2</td>\n",
       "    </tr>\n",
       "    <tr>\n",
       "      <th>234</th>\n",
       "      <td>Chelsea clinch cup in extra-time\\n\\n(after ext...</td>\n",
       "      <td>football</td>\n",
       "      <td>2</td>\n",
       "    </tr>\n",
       "  </tbody>\n",
       "</table>\n",
       "</div>"
      ],
      "text/plain": [
       "                                                  Text  Category  Class\n",
       "225  Man Utd stroll to Cup win\\n\\nWayne Rooney made...  football      2\n",
       "226  Van Nistelrooy set to return\\n\\nManchester Uni...  football      2\n",
       "227  Moyes U-turn on Beattie dismissal\\n\\nEverton m...  football      2\n",
       "228  Ronaldo considering new contract\\n\\nManchester...  football      2\n",
       "229  Smith keen on Home series return\\n\\nScotland m...  football      2\n",
       "230  Mido makes third apology\\n\\nAhmed 'Mido' Hossa...  football      2\n",
       "231  Man City 0-2 Man Utd\\n\\nManchester United redu...  football      2\n",
       "232  Gerrard plays down European hopes\\n\\nSteven Ge...  football      2\n",
       "233  Duff ruled out of Barcelona clash\\n\\nChelsea's...  football      2\n",
       "234  Chelsea clinch cup in extra-time\\n\\n(after ext...  football      2"
      ]
     },
     "execution_count": 18,
     "metadata": {},
     "output_type": "execute_result"
    }
   ],
   "source": [
    "data.iloc[225:235]"
   ]
  },
  {
   "cell_type": "code",
   "execution_count": 19,
   "metadata": {
    "scrolled": true
   },
   "outputs": [
    {
     "data": {
      "text/html": [
       "<div>\n",
       "<style scoped>\n",
       "    .dataframe tbody tr th:only-of-type {\n",
       "        vertical-align: middle;\n",
       "    }\n",
       "\n",
       "    .dataframe tbody tr th {\n",
       "        vertical-align: top;\n",
       "    }\n",
       "\n",
       "    .dataframe thead th {\n",
       "        text-align: right;\n",
       "    }\n",
       "</style>\n",
       "<table border=\"1\" class=\"dataframe\">\n",
       "  <thead>\n",
       "    <tr style=\"text-align: right;\">\n",
       "      <th></th>\n",
       "      <th>Text</th>\n",
       "      <th>Category</th>\n",
       "      <th>Class</th>\n",
       "    </tr>\n",
       "  </thead>\n",
       "  <tbody>\n",
       "    <tr>\n",
       "      <th>490</th>\n",
       "      <td>Hodgson shoulders England blame\\n\\nFly-half Ch...</td>\n",
       "      <td>rugby</td>\n",
       "      <td>3</td>\n",
       "    </tr>\n",
       "    <tr>\n",
       "      <th>491</th>\n",
       "      <td>Vickery out of Six Nations\\n\\nEngland tight-he...</td>\n",
       "      <td>rugby</td>\n",
       "      <td>3</td>\n",
       "    </tr>\n",
       "    <tr>\n",
       "      <th>492</th>\n",
       "      <td>Yachvili savours France comeback\\n\\nFrance scr...</td>\n",
       "      <td>rugby</td>\n",
       "      <td>3</td>\n",
       "    </tr>\n",
       "    <tr>\n",
       "      <th>493</th>\n",
       "      <td>Laporte tinkers with team\\n\\nFrance coach Bern...</td>\n",
       "      <td>rugby</td>\n",
       "      <td>3</td>\n",
       "    </tr>\n",
       "    <tr>\n",
       "      <th>494</th>\n",
       "      <td>Lewsey puzzle over disallowed try\\n\\nEngland's...</td>\n",
       "      <td>rugby</td>\n",
       "      <td>3</td>\n",
       "    </tr>\n",
       "    <tr>\n",
       "      <th>495</th>\n",
       "      <td>Fuming Robinson blasts officials\\n\\nEngland co...</td>\n",
       "      <td>rugby</td>\n",
       "      <td>3</td>\n",
       "    </tr>\n",
       "    <tr>\n",
       "      <th>496</th>\n",
       "      <td>O'Gara revels in Ireland victory\\n\\nIreland fl...</td>\n",
       "      <td>rugby</td>\n",
       "      <td>3</td>\n",
       "    </tr>\n",
       "    <tr>\n",
       "      <th>497</th>\n",
       "      <td>Thomas out of Six Nations\\n\\nWales captain Gar...</td>\n",
       "      <td>rugby</td>\n",
       "      <td>3</td>\n",
       "    </tr>\n",
       "    <tr>\n",
       "      <th>498</th>\n",
       "      <td>Wales coach elated with win\\n\\nMike Ruddock pa...</td>\n",
       "      <td>rugby</td>\n",
       "      <td>3</td>\n",
       "    </tr>\n",
       "    <tr>\n",
       "      <th>499</th>\n",
       "      <td>Newcastle 27-27 Gloucester\\n\\nNewcastle centre...</td>\n",
       "      <td>rugby</td>\n",
       "      <td>3</td>\n",
       "    </tr>\n",
       "  </tbody>\n",
       "</table>\n",
       "</div>"
      ],
      "text/plain": [
       "                                                  Text Category  Class\n",
       "490  Hodgson shoulders England blame\\n\\nFly-half Ch...    rugby      3\n",
       "491  Vickery out of Six Nations\\n\\nEngland tight-he...    rugby      3\n",
       "492  Yachvili savours France comeback\\n\\nFrance scr...    rugby      3\n",
       "493  Laporte tinkers with team\\n\\nFrance coach Bern...    rugby      3\n",
       "494  Lewsey puzzle over disallowed try\\n\\nEngland's...    rugby      3\n",
       "495  Fuming Robinson blasts officials\\n\\nEngland co...    rugby      3\n",
       "496  O'Gara revels in Ireland victory\\n\\nIreland fl...    rugby      3\n",
       "497  Thomas out of Six Nations\\n\\nWales captain Gar...    rugby      3\n",
       "498  Wales coach elated with win\\n\\nMike Ruddock pa...    rugby      3\n",
       "499  Newcastle 27-27 Gloucester\\n\\nNewcastle centre...    rugby      3"
      ]
     },
     "execution_count": 19,
     "metadata": {},
     "output_type": "execute_result"
    }
   ],
   "source": [
    "data.iloc[490:500]"
   ]
  },
  {
   "cell_type": "code",
   "execution_count": 20,
   "metadata": {
    "scrolled": false
   },
   "outputs": [
    {
     "data": {
      "text/html": [
       "<div>\n",
       "<style scoped>\n",
       "    .dataframe tbody tr th:only-of-type {\n",
       "        vertical-align: middle;\n",
       "    }\n",
       "\n",
       "    .dataframe tbody tr th {\n",
       "        vertical-align: top;\n",
       "    }\n",
       "\n",
       "    .dataframe thead th {\n",
       "        text-align: right;\n",
       "    }\n",
       "</style>\n",
       "<table border=\"1\" class=\"dataframe\">\n",
       "  <thead>\n",
       "    <tr style=\"text-align: right;\">\n",
       "      <th></th>\n",
       "      <th>Text</th>\n",
       "      <th>Category</th>\n",
       "      <th>Class</th>\n",
       "    </tr>\n",
       "  </thead>\n",
       "  <tbody>\n",
       "    <tr>\n",
       "      <th>637</th>\n",
       "      <td>Henman overcomes rival Rusedski\\n\\nTim Henman ...</td>\n",
       "      <td>tennis</td>\n",
       "      <td>4</td>\n",
       "    </tr>\n",
       "    <tr>\n",
       "      <th>638</th>\n",
       "      <td>Safin slumps to shock Dubai loss\\n\\nMarat Safi...</td>\n",
       "      <td>tennis</td>\n",
       "      <td>4</td>\n",
       "    </tr>\n",
       "    <tr>\n",
       "      <th>639</th>\n",
       "      <td>Ferrero eyes return to top form\\n\\nFormer worl...</td>\n",
       "      <td>tennis</td>\n",
       "      <td>4</td>\n",
       "    </tr>\n",
       "    <tr>\n",
       "      <th>640</th>\n",
       "      <td>Roddick into San Jose final\\n\\nAndy Roddick wi...</td>\n",
       "      <td>tennis</td>\n",
       "      <td>4</td>\n",
       "    </tr>\n",
       "    <tr>\n",
       "      <th>641</th>\n",
       "      <td>Federer claims Dubai crown\\n\\nWorld number one...</td>\n",
       "      <td>tennis</td>\n",
       "      <td>4</td>\n",
       "    </tr>\n",
       "    <tr>\n",
       "      <th>642</th>\n",
       "      <td>Young debut cut short by Ginepri\\n\\nFifteen-ye...</td>\n",
       "      <td>tennis</td>\n",
       "      <td>4</td>\n",
       "    </tr>\n",
       "    <tr>\n",
       "      <th>643</th>\n",
       "      <td>Melzer shocks Agassi\\n\\nSecond seed Andre Agas...</td>\n",
       "      <td>tennis</td>\n",
       "      <td>4</td>\n",
       "    </tr>\n",
       "    <tr>\n",
       "      <th>644</th>\n",
       "      <td>Federer forced to dig deep\\n\\nTop seed Roger F...</td>\n",
       "      <td>tennis</td>\n",
       "      <td>4</td>\n",
       "    </tr>\n",
       "    <tr>\n",
       "      <th>645</th>\n",
       "      <td>Nadal marches on in Mexico\\n\\nRafael Nadal con...</td>\n",
       "      <td>tennis</td>\n",
       "      <td>4</td>\n",
       "    </tr>\n",
       "    <tr>\n",
       "      <th>646</th>\n",
       "      <td>Hantuchova in Dubai last eight\\n\\nDaniela Hant...</td>\n",
       "      <td>tennis</td>\n",
       "      <td>4</td>\n",
       "    </tr>\n",
       "  </tbody>\n",
       "</table>\n",
       "</div>"
      ],
      "text/plain": [
       "                                                  Text Category  Class\n",
       "637  Henman overcomes rival Rusedski\\n\\nTim Henman ...   tennis      4\n",
       "638  Safin slumps to shock Dubai loss\\n\\nMarat Safi...   tennis      4\n",
       "639  Ferrero eyes return to top form\\n\\nFormer worl...   tennis      4\n",
       "640  Roddick into San Jose final\\n\\nAndy Roddick wi...   tennis      4\n",
       "641  Federer claims Dubai crown\\n\\nWorld number one...   tennis      4\n",
       "642  Young debut cut short by Ginepri\\n\\nFifteen-ye...   tennis      4\n",
       "643  Melzer shocks Agassi\\n\\nSecond seed Andre Agas...   tennis      4\n",
       "644  Federer forced to dig deep\\n\\nTop seed Roger F...   tennis      4\n",
       "645  Nadal marches on in Mexico\\n\\nRafael Nadal con...   tennis      4\n",
       "646  Hantuchova in Dubai last eight\\n\\nDaniela Hant...   tennis      4"
      ]
     },
     "execution_count": 20,
     "metadata": {},
     "output_type": "execute_result"
    }
   ],
   "source": [
    "data.iloc[637:647]"
   ]
  },
  {
   "cell_type": "code",
   "execution_count": 21,
   "metadata": {
    "scrolled": true
   },
   "outputs": [
    {
     "data": {
      "text/plain": [
       "football     265\n",
       "rugby        147\n",
       "cricket      124\n",
       "athletics    101\n",
       "tennis       100\n",
       "Name: Category, dtype: int64"
      ]
     },
     "execution_count": 21,
     "metadata": {},
     "output_type": "execute_result"
    }
   ],
   "source": [
    "data['Category'].value_counts()"
   ]
  },
  {
   "cell_type": "code",
   "execution_count": 22,
   "metadata": {
    "scrolled": false
   },
   "outputs": [
    {
     "data": {
      "text/plain": [
       "2    265\n",
       "3    147\n",
       "1    124\n",
       "0    101\n",
       "4    100\n",
       "Name: Class, dtype: int64"
      ]
     },
     "execution_count": 22,
     "metadata": {},
     "output_type": "execute_result"
    }
   ],
   "source": [
    "data['Class'].value_counts()"
   ]
  },
  {
   "cell_type": "code",
   "execution_count": 23,
   "metadata": {
    "scrolled": false
   },
   "outputs": [
    {
     "data": {
      "text/plain": [
       "'Claxton hunting first major medal\\n\\nBritish hurdler Sarah Claxton is confident she can win her first major medal at next month\\'s European Indoor Championships in Madrid.\\n\\nThe 25-year-old has already smashed the British record over 60m hurdles twice this season, setting a new mark of 7.96 seconds to win the AAAs title. \"I am quite confident,\" said Claxton. \"But I take each race as it comes. \"As long as I keep up my training but not do too much I think there is a chance of a medal.\" Claxton has won the national 60m hurdles title for the past three years but has struggled to translate her domestic success to the international stage. Now, the Scotland-born athlete owns the equal fifth-fastest time in the world this year. And at last week\\'s Birmingham Grand Prix, Claxton left European medal favourite Russian Irina Shevchenko trailing in sixth spot.\\n\\nFor the first time, Claxton has only been preparing for a campaign over the hurdles - which could explain her leap in form. In previous seasons, the 25-year-old also contested the long jump but since moving from Colchester to London she has re-focused her attentions. Claxton will see if her new training regime pays dividends at the European Indoors which take place on 5-6 March.\\n'"
      ]
     },
     "execution_count": 23,
     "metadata": {},
     "output_type": "execute_result"
    }
   ],
   "source": [
    "data.iloc[0,0]"
   ]
  },
  {
   "cell_type": "code",
   "execution_count": 24,
   "metadata": {
    "scrolled": false
   },
   "outputs": [
    {
     "name": "stdout",
     "output_type": "stream",
     "text": [
      "Claxton hunting first major medal\n",
      "\n",
      "British hurdler Sarah Claxton is confident she can win her first major medal at next month's European Indoor Championships in Madrid.\n",
      "\n",
      "The 25-year-old has already smashed the British record over 60m hurdles twice this season, setting a new mark of 7.96 seconds to win the AAAs title. \"I am quite confident,\" said Claxton. \"But I take each race as it comes. \"As long as I keep up my training but not do too much I think there is a chance of a medal.\" Claxton has won the national 60m hurdles title for the past three years but has struggled to translate her domestic success to the international stage. Now, the Scotland-born athlete owns the equal fifth-fastest time in the world this year. And at last week's Birmingham Grand Prix, Claxton left European medal favourite Russian Irina Shevchenko trailing in sixth spot.\n",
      "\n",
      "For the first time, Claxton has only been preparing for a campaign over the hurdles - which could explain her leap in form. In previous seasons, the 25-year-old also contested the long jump but since moving from Colchester to London she has re-focused her attentions. Claxton will see if her new training regime pays dividends at the European Indoors which take place on 5-6 March.\n",
      "\n",
      "====================================================================================================\n",
      "Event devised to nurture athletes\n",
      "\n",
      "UK Athletics has launched a new outdoor series aimed at creating extra competitive events for athletes just below Great Britain standard.\n",
      "\n",
      "The UK Challenge will consist of 10 high standard meetings from May until the series final on 3 September. Athletes must compete in at least three events to gain a series ranking with the top eight athletes in each discipline contesting the final. The scheme also coincides with plans to introduce a new UK ranking system. A list of the top 100 athletes in each event will be compiled and updated every two weeks throughout the outdoor season. UK Athletics chief executive David Moorcroft said he hoped the initiatives would stimulate the sport at all levels. \"We are building on the development of domestic competition started in the indoor season and will be looking to affect the careers of thousands of British athletes,\" said Moorcroft. \"This is an athlete driven programme and identifies a strata of competitors who will provide depth to our club profile.\"\n",
      "\n",
      "====================================================================================================\n",
      "Shoaib ruled out of Test series\n",
      "\n",
      "Fast bowler Shoaib Akhtar will miss Pakistan's Test series in India because he is still troubled by a hamstring injury and cannot be considered.\n",
      "\n",
      "He suffered the injury in Australia last month and says his recovery will take another four to five weeks. The squad for India will be named on Saturday but he was quoted as saying: \"I don't want to play half fit.\" The news comes less than 24 hours after he was fined Â£265 for breaching the terms of his contract in Australia. He was accused of visiting nightclubs and talking to the media without permission, but denies the charges and has lodged an appeal against the decision of a disciplinary panel. However, Shoaib insisted his decision to pull out of the Test series had nothing to do with the outcome of the disciplinary hearing. \"My decision is not linked to the fine or warning,\" he said. \"It is an honest decision since I don't want to go half fit to India.\" Shoaib's absence will be a huge blow to Pakistan's chances of avenging last year's home Test series defeat by India. But he still hopes to be available for the six one-day internationals which follow the Test matches. \"I have informed the Pakistan Cricket Board of my decision and will inform them as soon as I get fit so if the team needs me at that stage I am available.\n",
      "\n",
      "\"I would love to play the one-day series provided the team needs me,\" he added. The 29-year-old, known as the Rawalpindi Express, is the quickest bowler in world cricket and has been clocked at 100mph. But his fitness record has been poor and he has missed 30 of the 66 Tests Pakistan have played since he made his debut in November 1997. Shoaib believes injuries are an inevitable part of the game for fast bowlers because of the amount of international cricket nowadays. But critics point to the fact that he has increased his workload by agreeing contracts with English counties. He had spells with Durham in 2003-04 and is due to play for Worcestershire in the second half of the 2005 season following a tour to the West Indies. Pakistan, meanwhile, are awaiting fitness reports on fellow seamers Mohammad Sami, Mohammad Khalil and Shabbir Ahmed before finalising their squad for India. Another paceman, Umar Gul, will definitely not make the trip because he is still undergoing rehabilitation following stress fractures in his back.\n",
      "\n",
      "====================================================================================================\n",
      "Aragones angered by racism fine\n",
      "\n",
      "Spain coach Luis Aragones is furious after being fined by The Spanish Football Federation for his comments about Thierry Henry.\n",
      "\n",
      "The 66-year-old criticised his 3000 euros (Â£2,060) punishment even though it was far below the maximum penalty. \"I am not guilty, nor do I accept being judged for actions against the image of the sport,\" he said. \"I'm not a racist and I've never lacked sporting decorum. I've never done that and I have medals for sporting merit.\" Aragones was handed the fine on Tuesday after making racist remarks about Henry to Arsenal team-mate and Spanish international Jose Reyes last October.\n",
      "\n",
      "The Spanish Football Federation at first declined to take action against Aragones, but was then requested to do so by Spain's anti-violence commission. The fine was far less than the expected amount of about Â£22,000 or even the suspension of his coaching licence. Arsenal boss Arsene Wenger, who was fined Â£15,000 in December for accusing Manchester United striker Ruud van Nistelrooy of cheating, believes that Aragones' punishment was too lenient. \"You compare his fine and my fine, and if you consider his was for racist abuse, then you seem to get away with it more in Spain than you should,\" Wenger said. \"He shouldn't have said what he said, and how much money is enough, I don't know but it doesn't look a big punishment.\" However, Aragones insists the fine is unjustified and unfair. \"I have been treated like Islero (the bull that killed famous bullfighter Manolete),\" said Aragones on hearing he had been fined for his actions. \"I have not liked one thing about this whole affair and I do not agree with the sanction. They have looked for a scapegoat.\" Spain's anti-violence commission must now ratify the Spanish FA's decision and has until next week to announce its verdict. Aragones has 10 days to appeal, and the commission can also appeal. Alberto Flores, president of the Spanish FA's disciplinary committee, said no-one in the committee felt Aragones was a racist nor had \"acted in a racist way.\" \"A fine, the highest we could apply, is sufficient punishment. Suspension would have been a bit exaggerated,\" Flores told sports daily Marca.\n",
      "\n",
      "====================================================================================================\n"
     ]
    }
   ],
   "source": [
    "print(data.iloc[0,0])\n",
    "print(100*'=')\n",
    "print(data.iloc[100,0])\n",
    "print(100*'=')\n",
    "print(data.iloc[200,0])\n",
    "print(100*'=')\n",
    "print(data.iloc[300,0])\n",
    "print(100*'=')"
   ]
  },
  {
   "cell_type": "code",
   "execution_count": 25,
   "metadata": {},
   "outputs": [],
   "source": [
    "data_unique = data.groupby(data.columns.tolist()).Class.agg('count').to_frame('Count').reset_index()"
   ]
  },
  {
   "cell_type": "code",
   "execution_count": 26,
   "metadata": {},
   "outputs": [
    {
     "name": "stdout",
     "output_type": "stream",
     "text": [
      "Number of duplicate rows in Data are :  10\n"
     ]
    }
   ],
   "source": [
    "print(\"Number of duplicate rows in Data are : \",len(data)-len(data_unique))"
   ]
  },
  {
   "cell_type": "code",
   "execution_count": 27,
   "metadata": {},
   "outputs": [
    {
     "data": {
      "text/html": [
       "<div>\n",
       "<style scoped>\n",
       "    .dataframe tbody tr th:only-of-type {\n",
       "        vertical-align: middle;\n",
       "    }\n",
       "\n",
       "    .dataframe tbody tr th {\n",
       "        vertical-align: top;\n",
       "    }\n",
       "\n",
       "    .dataframe thead th {\n",
       "        text-align: right;\n",
       "    }\n",
       "</style>\n",
       "<table border=\"1\" class=\"dataframe\">\n",
       "  <thead>\n",
       "    <tr style=\"text-align: right;\">\n",
       "      <th></th>\n",
       "      <th>Text</th>\n",
       "      <th>Category</th>\n",
       "      <th>Class</th>\n",
       "      <th>Count</th>\n",
       "    </tr>\n",
       "  </thead>\n",
       "  <tbody>\n",
       "    <tr>\n",
       "      <th>76</th>\n",
       "      <td>Bortolami predicts dour contest\\n\\nItaly skipp...</td>\n",
       "      <td>rugby</td>\n",
       "      <td>3</td>\n",
       "      <td>2</td>\n",
       "    </tr>\n",
       "    <tr>\n",
       "      <th>174</th>\n",
       "      <td>Edwards tips Idowu for Euro gold\\n\\nWorld outd...</td>\n",
       "      <td>athletics</td>\n",
       "      <td>0</td>\n",
       "      <td>2</td>\n",
       "    </tr>\n",
       "    <tr>\n",
       "      <th>223</th>\n",
       "      <td>Ferguson rues failure to cut gap\\n\\nBoss Sir A...</td>\n",
       "      <td>football</td>\n",
       "      <td>2</td>\n",
       "      <td>2</td>\n",
       "    </tr>\n",
       "    <tr>\n",
       "      <th>262</th>\n",
       "      <td>Hantuchova in Dubai last eight\\n\\nDaniela Hant...</td>\n",
       "      <td>tennis</td>\n",
       "      <td>4</td>\n",
       "      <td>2</td>\n",
       "    </tr>\n",
       "    <tr>\n",
       "      <th>263</th>\n",
       "      <td>Harbhajan action given all-clear\\n\\nIndian spi...</td>\n",
       "      <td>cricket</td>\n",
       "      <td>1</td>\n",
       "      <td>2</td>\n",
       "    </tr>\n",
       "    <tr>\n",
       "      <th>302</th>\n",
       "      <td>Holmes starts 2005 with GB events\\n\\nKelly Hol...</td>\n",
       "      <td>athletics</td>\n",
       "      <td>0</td>\n",
       "      <td>2</td>\n",
       "    </tr>\n",
       "    <tr>\n",
       "      <th>317</th>\n",
       "      <td>India's top six secure - Ganguly\\n\\nCaptain So...</td>\n",
       "      <td>cricket</td>\n",
       "      <td>1</td>\n",
       "      <td>2</td>\n",
       "    </tr>\n",
       "    <tr>\n",
       "      <th>340</th>\n",
       "      <td>Jayasuriya set to join Somerset\\n\\nSomerset ar...</td>\n",
       "      <td>cricket</td>\n",
       "      <td>1</td>\n",
       "      <td>2</td>\n",
       "    </tr>\n",
       "    <tr>\n",
       "      <th>446</th>\n",
       "      <td>Moyes U-turn on Beattie dismissal\\n\\nEverton m...</td>\n",
       "      <td>football</td>\n",
       "      <td>2</td>\n",
       "      <td>2</td>\n",
       "    </tr>\n",
       "    <tr>\n",
       "      <th>606</th>\n",
       "      <td>Spain coach faces racism inquiry\\n\\nSpain's Fo...</td>\n",
       "      <td>football</td>\n",
       "      <td>2</td>\n",
       "      <td>2</td>\n",
       "    </tr>\n",
       "  </tbody>\n",
       "</table>\n",
       "</div>"
      ],
      "text/plain": [
       "                                                  Text   Category  Class  \\\n",
       "76   Bortolami predicts dour contest\\n\\nItaly skipp...      rugby      3   \n",
       "174  Edwards tips Idowu for Euro gold\\n\\nWorld outd...  athletics      0   \n",
       "223  Ferguson rues failure to cut gap\\n\\nBoss Sir A...   football      2   \n",
       "262  Hantuchova in Dubai last eight\\n\\nDaniela Hant...     tennis      4   \n",
       "263  Harbhajan action given all-clear\\n\\nIndian spi...    cricket      1   \n",
       "302  Holmes starts 2005 with GB events\\n\\nKelly Hol...  athletics      0   \n",
       "317  India's top six secure - Ganguly\\n\\nCaptain So...    cricket      1   \n",
       "340  Jayasuriya set to join Somerset\\n\\nSomerset ar...    cricket      1   \n",
       "446  Moyes U-turn on Beattie dismissal\\n\\nEverton m...   football      2   \n",
       "606  Spain coach faces racism inquiry\\n\\nSpain's Fo...   football      2   \n",
       "\n",
       "     Count  \n",
       "76       2  \n",
       "174      2  \n",
       "223      2  \n",
       "262      2  \n",
       "263      2  \n",
       "302      2  \n",
       "317      2  \n",
       "340      2  \n",
       "446      2  \n",
       "606      2  "
      ]
     },
     "execution_count": 27,
     "metadata": {},
     "output_type": "execute_result"
    }
   ],
   "source": [
    "data_unique[data_unique.Count>1]"
   ]
  },
  {
   "cell_type": "code",
   "execution_count": 28,
   "metadata": {
    "scrolled": false
   },
   "outputs": [
    {
     "data": {
      "text/html": [
       "<div>\n",
       "<style scoped>\n",
       "    .dataframe tbody tr th:only-of-type {\n",
       "        vertical-align: middle;\n",
       "    }\n",
       "\n",
       "    .dataframe tbody tr th {\n",
       "        vertical-align: top;\n",
       "    }\n",
       "\n",
       "    .dataframe thead th {\n",
       "        text-align: right;\n",
       "    }\n",
       "</style>\n",
       "<table border=\"1\" class=\"dataframe\">\n",
       "  <thead>\n",
       "    <tr style=\"text-align: right;\">\n",
       "      <th></th>\n",
       "      <th>Text</th>\n",
       "      <th>Category</th>\n",
       "      <th>Class</th>\n",
       "      <th>Count</th>\n",
       "    </tr>\n",
       "  </thead>\n",
       "  <tbody>\n",
       "    <tr>\n",
       "      <th>0</th>\n",
       "      <td>2004 - A year to remember\\n\\nClub football in ...</td>\n",
       "      <td>football</td>\n",
       "      <td>2</td>\n",
       "      <td>1</td>\n",
       "    </tr>\n",
       "    <tr>\n",
       "      <th>1</th>\n",
       "      <td>2004: An Irish Athletics Year\\n\\n2004 won't be...</td>\n",
       "      <td>athletics</td>\n",
       "      <td>0</td>\n",
       "      <td>1</td>\n",
       "    </tr>\n",
       "    <tr>\n",
       "      <th>2</th>\n",
       "      <td>A November to remember\\n\\nLast Saturday, one n...</td>\n",
       "      <td>rugby</td>\n",
       "      <td>3</td>\n",
       "      <td>1</td>\n",
       "    </tr>\n",
       "    <tr>\n",
       "      <th>3</th>\n",
       "      <td>A need to limit foreign numbers\\n\\nWith all th...</td>\n",
       "      <td>football</td>\n",
       "      <td>2</td>\n",
       "      <td>1</td>\n",
       "    </tr>\n",
       "    <tr>\n",
       "      <th>4</th>\n",
       "      <td>A year to remember for Irish\\n\\nThere used to ...</td>\n",
       "      <td>rugby</td>\n",
       "      <td>3</td>\n",
       "      <td>1</td>\n",
       "    </tr>\n",
       "  </tbody>\n",
       "</table>\n",
       "</div>"
      ],
      "text/plain": [
       "                                                Text   Category  Class  Count\n",
       "0  2004 - A year to remember\\n\\nClub football in ...   football      2      1\n",
       "1  2004: An Irish Athletics Year\\n\\n2004 won't be...  athletics      0      1\n",
       "2  A November to remember\\n\\nLast Saturday, one n...      rugby      3      1\n",
       "3  A need to limit foreign numbers\\n\\nWith all th...   football      2      1\n",
       "4  A year to remember for Irish\\n\\nThere used to ...      rugby      3      1"
      ]
     },
     "execution_count": 28,
     "metadata": {},
     "output_type": "execute_result"
    }
   ],
   "source": [
    "data_unique.head()"
   ]
  },
  {
   "cell_type": "code",
   "execution_count": 29,
   "metadata": {},
   "outputs": [],
   "source": [
    "import re\n",
    "def decontracted(phrase):\n",
    "    # specific\n",
    "    phrase = re.sub(r\"won't\", \"will not\", phrase)\n",
    "    phrase = re.sub(r\"shan't\", \"shall not\", phrase)\n",
    "    phrase = re.sub(r\"can\\'t\", \"can not\", phrase)\n",
    "    # general\n",
    "    phrase = re.sub(r\"n\\'t\", \" not\", phrase)\n",
    "    phrase = re.sub(r\"\\'re\", \" are\", phrase)\n",
    "    phrase = re.sub(r\"\\'s\", \" is\", phrase)\n",
    "    phrase = re.sub(r\"\\'d\", \" would\", phrase)\n",
    "    phrase = re.sub(r\"\\'ll\", \" will\", phrase)\n",
    "    phrase = re.sub(r\"\\'t\", \" not\", phrase)\n",
    "    phrase = re.sub(r\"\\'ve\", \" have\", phrase)\n",
    "    phrase = re.sub(r\"\\'m\", \" am\", phrase)\n",
    "    \n",
    "    return phrase\n"
   ]
  },
  {
   "cell_type": "code",
   "execution_count": 30,
   "metadata": {},
   "outputs": [],
   "source": [
    "stopWords = set(stopwords.words('english'))"
   ]
  },
  {
   "cell_type": "code",
   "execution_count": 31,
   "metadata": {
    "scrolled": false
   },
   "outputs": [
    {
     "name": "stdout",
     "output_type": "stream",
     "text": [
      "{'out', 's', 'for', \"weren't\", 'who', 'between', 'can', 'that', 'has', 'from', 'this', 'having', 'herself', 'more', 'below', 'and', 'should', \"wasn't\", 'during', 'yours', 'not', 'in', 't', 'nor', \"you'd\", 'ain', 'me', \"you're\", 'aren', \"don't\", 'no', 'be', 'our', 're', 'm', \"couldn't\", 'shan', \"shan't\", 'so', \"haven't\", 'at', 'how', 'the', 'himself', 'such', 'd', \"won't\", 'while', 'your', \"needn't\", 'under', \"she's\", 'there', 'them', 'to', 'been', 'further', 'both', \"mightn't\", \"you've\", 'these', 'about', 'now', 'you', 'didn', 'too', 'but', 'wasn', 'against', 'weren', 'hadn', \"mustn't\", 'each', 'have', 'ma', 'its', \"shouldn't\", 'was', 'only', 'y', 'before', 'my', 'ourselves', 'mustn', 'shouldn', 'off', 'than', 'we', 'or', 'being', 'itself', 'it', 'couldn', 'did', 'few', 'once', 'because', 'yourself', 'i', 'yourselves', 'which', 'any', 'll', 'needn', \"should've\", 'doing', 'why', 'doesn', \"doesn't\", 'through', 'wouldn', 'down', 'when', 'isn', 'hers', 'is', 'will', 'what', 'where', 'all', 'a', 'above', 'won', 'very', 'over', 'just', 'with', 'his', 'don', 'after', 'an', 'as', 'up', 'some', 'same', 'again', 'ours', 'then', 'most', 'other', \"you'll\", 'were', 'do', \"didn't\", \"hasn't\", 'are', 'o', 'she', 'whom', 'by', 'haven', 've', \"isn't\", 'their', \"that'll\", 'if', 'on', 'does', 'myself', 'he', 'of', \"hadn't\", \"aren't\", \"it's\", 'own', 'here', \"wouldn't\", 'had', 'they', 'him', 'mightn', 'until', 'themselves', 'theirs', 'am', 'hasn', 'those', 'into', 'her'}\n"
     ]
    }
   ],
   "source": [
    "print(stopWords)"
   ]
  },
  {
   "cell_type": "code",
   "execution_count": 32,
   "metadata": {},
   "outputs": [],
   "source": [
    "# stopwords= set(['br', 'the', 'i', 'me', 'my', 'myself', 'we', 'our', 'ours', 'ourselves', 'you', \"you're\", \"you've\",\\\n",
    "# \"you'll\", \"you'd\", 'your', 'yours', 'yourself', 'yourselves', 'he', 'him', 'his',\n",
    "# 'himself', \\\n",
    "# 'she', \"she's\", 'her', 'hers', 'herself', 'it', \"it's\", 'its', 'itself', 'they', 'them',\n",
    "# 'their',\\\n",
    "# 'theirs', 'themselves', 'what', 'which', 'who', 'whom', 'this', 'that', \"that'll\",\n",
    "# 'these', 'those', \\\n",
    "# 'am', 'is', 'are', 'was', 'were', 'be', 'been', 'being', 'have', 'has', 'had', 'having',\n",
    "# 'do', 'does', \\\n",
    "# 'did', 'doing', 'a', 'an', 'the', 'and', 'but', 'if', 'or', 'because', 'as', 'until', 'while', 'of', \\\n",
    "# 'at', 'by', 'for', 'with', 'about', 'against', 'between', 'into', 'through', 'during',\n",
    "# 'before', 'after',\\\n",
    "# 'above', 'below', 'to', 'from', 'up', 'down', 'in', 'out', 'on', 'off', 'over', 'under'\n",
    "# , 'again', 'further',\\\n",
    "# 'then', 'once', 'here', 'there', 'when', 'where', 'why', 'how', 'all', 'any', 'both', 'each', 'few', 'more',\\\n",
    "# 'most', 'other', 'some', 'such', 'only', 'own', 'same', 'so', 'than', 'too', 'very', \\\n",
    "# 's', 't', 'can', 'will', 'just', 'don', \"don't\", 'should', \"should've\", 'now', 'd', 'll'\n",
    "# , 'm', 'o', 're', \\\n",
    "# 've', 'y', 'ain', 'aren', \"aren't\", 'couldn', \"couldn't\", 'didn', \"didn't\", 'doesn', \"doesn't\", 'hadn',\\\n",
    "# \"hadn't\", 'hasn', \"hasn't\", 'haven', \"haven't\", 'isn', \"isn't\", 'ma', 'mightn',\n",
    "# \"mightn't\", 'mustn',\\\n",
    "# \"mustn't\", 'needn', \"needn't\", 'shan', \"shan't\", 'shouldn', \"shouldn't\", 'wasn',\n",
    "# \"wasn't\", 'weren', \"weren't\", \\\n",
    "# 'won', \"won't\", 'wouldn', \"wouldn't\"])\n"
   ]
  },
  {
   "cell_type": "code",
   "execution_count": 33,
   "metadata": {},
   "outputs": [
    {
     "data": {
      "application/vnd.jupyter.widget-view+json": {
       "model_id": "7f796b9526a74cf49211538aa223fa6b",
       "version_major": 2,
       "version_minor": 0
      },
      "text/plain": [
       "HBox(children=(FloatProgress(value=0.0, max=727.0), HTML(value='')))"
      ]
     },
     "metadata": {},
     "output_type": "display_data"
    },
    {
     "name": "stdout",
     "output_type": "stream",
     "text": [
      "\n"
     ]
    }
   ],
   "source": [
    "from nltk.tokenize import word_tokenize\n",
    "from nltk.stem import PorterStemmer\n",
    "\n",
    "porter = PorterStemmer()\n",
    "preprocessed_data = []\n",
    "# tqdm is for printing the status bar\n",
    "for sentance in tqdm(data_unique['Text'].values):\n",
    "\n",
    "#     sentance = decontracted(sentance)\n",
    "    #remove words with numbers python: https://stackoverflow.com/a/18082370/4084039\n",
    "    sentance = re.sub(\"\\S*\\d\\S*\", \"\", sentance).strip()\n",
    "    sentance = re.sub('[^A-Za-z]+', ' ', sentance)\n",
    "    # https://gist.github.com/sebleier/554280\n",
    "    sentance = ' '.join(porter.stem(e.lower()) for e in sentance.split() if e.lower() not in stopWords)\n",
    "    preprocessed_data.append(sentance.strip())\n"
   ]
  },
  {
   "cell_type": "code",
   "execution_count": null,
   "metadata": {},
   "outputs": [],
   "source": []
  },
  {
   "cell_type": "markdown",
   "metadata": {},
   "source": [
    "### Before Stemming"
   ]
  },
  {
   "cell_type": "code",
   "execution_count": 34,
   "metadata": {
    "scrolled": false
   },
   "outputs": [
    {
     "data": {
      "text/plain": [
       "[\"2004 - A year to remember\\n\\nClub football in South America continues to suffer from the continent's economic crisis.\\n\\nThe best players are lured across the Atlantic - 900 players left Brazil alone in 2004. And crowds are low, with money tight and the fear of violence proving a powerful incentive to stay at home. The average attendance in this year's Brazilian Championship was a record low of 8,139. Furthermore, in 2004 no new talent exploded on the continent with quite the same force as Diego, Robinho and Carlos Tevez in the two previous years. There is no doubt that the highlight of South America's footballing year has to come from the international game. There were some dramatic tournaments in 2004. The Copa America, held in Peru last July, could hardly have come to a more exciting conclusion. With the last kick of the final Brazil scored one of the most decisive equalising goals in the history of football.\\n\\nArgentina thought they had the game won and were in no state to take penalties when Adriano's 93rd-minute blast forced a shoot-out. Earlier in the year there was intense disappointment for Brazil when they amazingly failed to qualify for the Olympic football tournament. The gold medal is the only title they lack but they will have to wait four more years after missing out on the two qualification slots up for grabs in South America's Under-23 Championships, held in Chile in January. Argentina and Paraguay made it through and went on to secure gold and silver in Athens. These tournaments were terrific but the real highlights of the year in South American football could only come from the World Cup qualification campaign. The reason? It is the only time that all the great players come back home and play competitive matches in front of their own fans. I well remember getting a shiver down my spine awaiting the kick-off of the match between Brazil and Argentina at the start of June. Euro 2004 was about to get under way. The thought struck me that the accumulation of talent on the Belo Horizonte pitch was at least as outstanding as that about to go into action in Portugal. For 90 minutes Brazil was the capital of the football world. Ronaldo obviously felt the sense of occasion.\\n\\nHe will probably never play a bigger match in Brazil and it was taking place in the stadium where he had made his name over a decade earlier. He was unstoppable, suffering and scoring three penalties in Brazil's 3-1 win. If Ronaldo's performance was the individual highlight of the year, my collective prize goes to Argentina in a match they played a few months later. In October I was down in Buenos Aires to see their first match under new coach Jose Pekerman. Nerves were settled with an early goal and old rivals Uruguay were blasted away. Soon after half-time Argentina were four up and although Uruguay hit back with two consolation goals, it was the performance of the hosts that lingers in the memory. Argentina's goals were magnificent team efforts involving all of the fundamentals of well-played football. The ball moved quickly around the field, with plenty of running off the ball to provide options and lots of crisp, accurate passing, mixing long and short to find gaps in the defence. The crowd responded in fine style, creating the kind of atmosphere familiar to all those old enough to remember the 1978 World Cup. These, then, were my highlights of 2004. With seven vital rounds of World Cup qualifiers scheduled for next year, South American football should come up with much more to celebrate in 2005.\\n\",\n",
       " \"2004: An Irish Athletics Year\\n\\n2004 won't be remembered as one of Irish athletics' great years.\\n\\nThe year began with that optimism which invariably and unaccountably, seems to herald an upcoming Olympiad. But come late August, a few hot days in the magnificent stadium in Athens told us of the true strength of Irish athletics - or to be more accurate, the lack of it. Sonia O'Sullivan's Olympic farewell apart, there was little to stir the emotions of Irish athletics watchers. But after the disastrous build-up to the games, we shouldn't have been surprised. At the start of the year, an O'Sullivan had been earmarked as Ireland's best medal prospect but as it turned out, walker Gillian never even made it to the start line because of injury. Less than a week before the Olympics, the sport was rocked by news that 10,000m hope Cathal Lombard had tested for the banned substance EPO. Lombard's shattering of Mark Carroll's national 10,000m record in April had already set tongues wagging but even the most cynical of observers, were surprised when he was rumbled after an Irish Sports Council sting operation. The Corkman quickly held his hands up in admission and was promptly handed a two-year ban from the sport.\\n\\nBack at pre-Olympic ranch in Greece, it must have seemed that things couldn't have got any worse but they very nearly did with walker Jamie Costin lucky to escape with his life after being involved in a car crash near Athens. Once the track and field action began in Athens, a familiar pattern of underachievement emerged although Alistair Cragg's performance in being the only athlete from a European nation to qualify for the 5,000m final did offer hope for the future. Our beloved Sonia scraped into the women's 5K final as a fastest loser and for a couple of days, the country attempted to delude itself into believing that she might be in the medal shake-up. As it happened, she went out the back door early in the final although there was nothing undignified about the way that she insisted on finishing the race over a minute behind winner Meseret Defar. It later transpired that Sonia had been suffering from a stomach bug in the 48 hours before the final although typically, the Cobhwoman played down the effects of the illness. Amazingly, she was back in action a couple of weeks later when beating a world-class field at the Flora Lite 5K road race in London and while her major championship days may be over, it's unlikely that we have seen the last of her in competition. At least Sonia managed to make it to Athens. At the start of the year, several Northern Ireland athletes had genuine hopes of qualifying for the Games but come August, an out-of-form and injured Paul Brizzel was the lone standard bearer for the province. The Ballymena man gave it a lash but his achilles problem, and a bad lane draw, meant a time of 21.00 and an early exit.\\n\\nJames McIlroy, Gareth Turnbull, Zoe Brown and Paul McKee all had to be content with watching the Athens action on their television screens. 800m hope McIlroy never got near his best during the summer and a fourth place in the British trials effectively ended his hopes of making the plane. The injury-plagued Turnbull gamely travelled round Europe in search of the 1500m qualifying mark but 3:39 was the best he could achieve, after missing several months training during the previous winter. A lingering hamstring probem and a virus wrecked McKee's Athens ambitions and both he and Turnbull deserve a slice of better fortune in 2005. Pole vaulter Brown had hoped for a vote of confidence from the British selectors after she had achieved the Athens B standard but the call never came. As the summer ended, stalwarts Catherina McKiernan and Dermot Donnelly hung up their competitive spikes. McKiernan had to candidly acknowledge that time had crept up on her after several injury-ravaged years. Donnelly and his Annadale Striders team-mates later suffered tragedy when their friend and clubman Andy Campbell was found dead at his home on 18 December. A large turnout of athletics-loving folk turned out in west Belfast to offer their respects to the Campbell family and Andy's many friends. As only death can, it put the year's athletics happenings in a sharp perspective.\\n\",\n",
       " 'A November to remember\\n\\nLast Saturday, one newspaper proclaimed that England were still the number one side in the world.\\n\\nThat statement was made to look a little foolish by events later that afternoon at Twickenham. But it illustrated the wonderful unpredictability of Test rugby at the highest level, at the end of a richly entertaining autumn series. The final weekend threw the world pecking order into renewed confusion, with Australia\\'s triumph in London followed by France\\'s capitulation to New Zealand. \"Clearly, there is no number one side in the world at the moment,\" declared Wallabies coach Eddie Jones on arrival back in Sydney. \"There are four, five or probably six sides all competing at the same level and on any given day the difference between one side and another is only about 1%.\"\\n\\nWhile that bodes well for rugby as a whole, it also sharpens the sense of excitement ahead of what could be the most open Six Nations Championship for a decade. While the Wallabies, All Blacks and Springboks hit the beach before turning their attention to Super 12 matters in the new year, Europe\\'s finest have less than 10 weeks before they return to the international fray. And for the first time in more than a decade, it will not simply be a straightforward choice between England and France for the Six Nations title.\\n\\nThat owes much to Ireland\\'s continued progress and the belief that Wales are on the verge of delivering a major scalp to cement the promise of their autumn displays.\\n\\n, who secured a first Triple Crown in 19 years last season, could go one better and win their first Five/Six Nations title since 1985. They start with away games against Italy and Scotland, before England and France come to Lansdowne Road.\\n\\nTheir momentous victory over the Springboks can only bolster Ireland\\'s self-belief, while Ronan O\\'Gara\\'s late drop goal to deliver victory over Argentina was further proof that Eddie O\\'Sullivan\\'s side can now close out tight games. Not that England or France, who have won nine of the last 10 Six Nations titles between them, will lay down quietly.\\n\\ndismantling of the Springboks suggested that even after the loss of such influential figures as Martin Johnson and Lawrence Dallaglio, they still have the personnel to prosper.\\n\\nThe narrow defeat to Australia was a timely reminder that not everything is blooming in the red rose garden, but the fresh shoots of post-World Cup recovery have been sown by new head coach Andy Robinson. A fresh desire to regain former heights is evident, and if England emerge triumphant from an opening Six Nations engagement in Cardiff, a fourth title in six years is within reach.\\n\\nare in familiar revival territory, but this time it appears there is substance behind the rediscovered style.\\n\\nWhile South Africa\\'s over-confidence in Cardiff made for a closer scoreline than expected, Wales could legitimately claim to have had victory within their grasp against the All Blacks in one of the best Tests in recent memory. If Mike Ruddock can coax a reliable set-piece platform from his pack, there is no reason why victories should not ensue come February. The last fortnight has left\\n\\nin a state of bewilderment after an autumn series that began with a superb victory over Australia. A stunning defeat to Argentina, their first loss since the World Cup, could have been attributed to trademark French inconsistency.\\n\\nBut the manner of New Zealand\\'s 45-6 demolition job in Paris has coach Bernard Laporte bemoaning a lack of young talent coming through to replace the old guard. Fortunately for the French, the opening match of the Six Nations sees them entertaining\\n\\nin Paris. After two reasonable performances against Australia, the Scots\\' humbling by the Springboks forced coach Matt Williams to reassess his belief that a win over one of the major nations was imminent. While individuals such as Chris Cusiter and Ali Hogg enhanced their reputations, a lack of top-class players will continue to undermine their best efforts.\\n\\n, who start with home games against Ireland and Wales before travelling to Scotland, are also hopeful of registering more than one victory for the first time in the Championship. As autumn gives way to winter and the Heineken Cup prepares to resume centre stage meantime, the joy of Six will keep the home fires burning until February.\\n',\n",
       " \"A need to limit foreign numbers\\n\\nWith all the top clubs vying for the title and the Champions League, at least the FA Cup gave an opportunity for one or two of the younger lads at the major clubs to get a game in the first team.\\n\\nI don't personally like to see weakened sides in the competition, but it seems in some cases it's the only chance for the young lads to get some first-team experience. Over the years the influx of foreign players has affected the young Englishman more than anyone. I know you have to have freedom of movement but I do believe a time will come when countries will have to put a limit on the number of overseas players - including Europeans.\\n\\nI think the trend has become more noticeable since the influx of foreign bosses like Arsene Wenger, Claudio Ranieri and now Jose Mourinho. They seem to know the foreign market more than the English, although Chelsea appear to be signing one or two young Englishmen. When the foreigners first started coming into the country, I thought people like Dennis Bergkamp and Gianfranco Zola were absolutely magnificent. Zola is still the best player I have ever seen in my time as a manager. I don't think anybody would ever begrudge players like that because you would pay money to watch these individuals. But I think the problem now is that clubs, even at the lower level, find English players expensive. Agents are offering players left, right and centre who are not only cheap but can also come over on trial, which was unheard of in the past. Bolton are a good example. I never thought they could be successful, but Sam Allardyce has waved his magic wand and brought these players over. The technology that Sam uses has definitely paid off. He has all these databases on every foreign player.\\n\\nHe is a unique person - I never thought you could have 10 different nations in a dressing room and still have a good team spirit! But Sam has proved that wrong over the last few years and will continue to do it. What Bolton have said is they can't pay large transfer fees but they can get these players in for 6-12 months and compete at a high level that way. My view about foreign players changed about three years ago when I had quite a large number of them at Bramall Lane.\\n\\nThe match we played with West Brom which was abandoned after we went down to six players changed my views on having a large amount of foreign players. I decided then to go with the kids and if I could sign English lads I would. I got two sent off in that game and one or two other things happened with players. I also found that with a couple of players that didn't talk English it is very difficult coaching-wise to get them to grasp the fundamentals. If possible I will look for players I sign to speak English, although we are in the process of signing Hao Haidong from China.\\n\\nHe has very limited English but is a very experienced player who I don't think you have to tell too many times what you want him to do. There was a time when Scottish football was a good source for players but if you speak to people that look at players up there now it is clear the standard has dropped over the years. You only have to look at the Scotland squad - the talent is not there any longer because they don't invest in their youth development. It is common knowledge we enquired about Liverpool's Neil Mellor, who could now find himself pushed down the pecking order by the arrival of Fernando Morientes from Real Madrid. I think people like Neil are better off getting some games under their belt, but it's difficult because Liverpool are such a great club and he has had opportunities there. He has scored goals there so they rate him highly and it must be difficult for young players to turn their back on that and drop down to the Championship level.\\n\",\n",
       " \"A year to remember for Irish\\n\\nThere used to be one subliminal moment during a year in Irish rugby that stood out more than most.\\n\\nWell, at least there used to one. Now there is a handful to look back with a mixture of satisfaction, and sorrow. It has been quite a year for the Irish, and not just with Eddie O'Sullivan's Triple Crown winning international outfit either. Right down through the ranks Irish rugby is creating waves and upsetting the more established teams in the game. But most of the kudos will go to O'Sullivan and his merry band of warriors who not only collected their first Triple Crown for 29 years, but also finished their autumn campaign with a 100% record. For the second year in succession they also finished in the runners-up spot in the RBS Six Nations. But in the three games in November which included a victory over Tri-Nations champions and Grand Slam chasing South Africa, Ireland finsihed the year on a high. The 18-12 victory at Lansdowne Road was only their second victory over the Boks after the initial success back in 1965. That success was revenge for the consecutive defeats in Blomefontein and Cape Town in the summer. Those two reverses and the 35-17 flop against France, were the only dark patches in an otherwise excellent 12 months. But the big one, of course, was the 19-13 defeat of World Cup champions England on their precious Twickenham turf. The winning try was conceived in O'Sullivan's mind, perfectly executed by the team and finished immaculately by Girvan Dempsey. For me, the try of the Championship. O'Sullivan's career is now in vertical take-off mode. It is no wonder that Sir Clive Woodward has elevated the Galway-based coach to head the Lions Test side. Not only that, but a fair majority of the present Ireland side will be wearing red next June in New Zealand.\\n\\nThere can be no doubt that Ireland's representation will be the biggest ever, albeit in a proposed 44-man squad. In Brian O'Driscoll and Paul O'Connell, Ireland have now the two front-runners for the captaincy. Gordon D'Arcy, whose career began as a teenager back in 1999, finally arrived when he was named the Six Nations Player of the Tournament. But it was not only the senior squad that brought kudos to Ireland, the youngsters strutted their stuff on the big stage as well. The under-21 squad confounded the doubters as they went all the way to the World Cup final in Scotland only to be beaten by a powerful All Black side in the decider. The young Irish boys had stated their intentions earlier in the season when they finished runners-up to England in the Six Nations under-21 tournament. On the provincial front, Leinster, for second year in succession, blew it when the Heineken Cup looked a good wager. While Ulster finished runners-up in their very tight group for the second season in succession, it was Munster again flying the flag for the Irish. Looking to reach their third final, they went down 37-32 to eventual winners Wasps in what many beileve was the most competitive and thunderous game ever witnessed at Lansdowne Road. How Wasps recovered from that energy-sapping duel, and then go onto to defeat Toulouse in the final was anybody's guess. Ulster, meanwhile, just lost out to adding the inaugural Celtic Cup in winning the Celtic League when they were pipped at the post by the Scarlets in the final game.\\n\\nUlster, however, took time to start the new season under new coach Mark McCall. The once famous Ravenhill fortress was breached four times as Ulster only manged five wins from their first 12 outings in the Celtic League. Leinster are again looking the most potent outfit going into 2005, but whether they can take that final step under Declan Kidney is another thing. On the down side, Irish rugby was hit by a number of tragedies. Teenage star John McCall died while playing for the Ireland against New Zealand in the under-19 World Cup game in Durban. That happened only 10 days after he led Royal Armagh to their first Ulster Schools' Cup success since 1977. The death of former Ireland coach and Lions flanker Mike Doyle in a car crash in Northern Ireland shocked the rugby fraternity A larger than life character, Doyle had coached Ireland to the Triple Crown in 1985, the last time that goal had been achieved before this season. Ulster rugby also suffered the sudden deaths of well-known Londonderry YM player Jim Huey, Coleraine's Jonathan Hutchinson, and Belfast Harlequins lock Johnny Poole. They all passed away long before the full-time whistle.\\n\",\n",
       " 'Adriano\\'s Chelsea link rejected\\n\\nAdriano\\'s agent Gilmar Rinaldi has insisted that he has had no contact with Chelsea over the striker.\\n\\nChelsea were reported to have made inquiries about Inter Milan\\'s 22-year-old Brazilian star. Rinaldi told BBC Sport from Rio de Janeiro: \"I can assure you that Chelsea have had no dealings whatsoever with either me or Adriano. \"Parma and Real Madrid are interested but there\\'s nothing new there. Their interest has been known for some time.\" Adriano has scored 14 goals in 20 Serie A appearances this season. And Chelsea boss Jose Mourinho had claimed that he was in Milan talking to Adriano on the day he is alleged to have held a clandestine meeting with Arsenal defender Ashley Cole. Mourinho said he was \"just practising my Portuguese with him because I don\\'t need strikers\". Rinaldi told BBC Sport: \"I have to say that nobody from Chelsea or any other London club has contacted me. \"If they want to, that\\'s fine. I can tell them what the situation is. \"If Chelsea are interested then they must make an offer.\" Inter are reported to have slapped a price tag in the region of Â£40m on the head of Adriano, who joined them just over a year ago from Parma. Real Madrid view him as a natural replacement for compatriot Ronaldo. But Rinaldi said: \"I cannot give you a price that Inter would accept for Adriano. That\\'s something that would have to be negotiated between the interested clubs.\"\\n',\n",
       " 'African double in Edinburgh\\n\\nWorld 5000m champion Eliud Kipchoge won the 9.2km race at the View From Great Edinburgh Cross Country.\\n\\nThe Kenyan, who was second when Newcastle hosted the race last year, was in front from the outset. Ethiopian duo Gebre Gebremariam and Dejene Berhanu made last-gasp efforts to overtake him, but Kipchoge responded and a burst of speed clinched victory. Gavin Thompson was the first Briton in 12th place while Nick McCormick held of his British rivals to win the 4km race. The Morpeth Harrier led from the end of the first lap and ended Mike Skinner and Andrew Baddeley\\'s hopes with a surge in the lasp lap. \"My training has gone so well I wasn\\'t really worried about the opposition asI knew I was in great shape,\" said McCormick, who now hopes to earn a 1,500m place in the British team for the World Championships in Helsinki. In the women\\'s race, Ethiopia\\'s Tirunesh Dibaba won a battle with world cross country champion Benita Johnson to retain her title. Australian Johnson, who shocked her African rivals in Brussels last March, looked to be on course for another win in the 6.2km race. But world 5000m champion Dibaba make a telling strike for the finishing line in the final 20 metres. Britons Kathy Butler and Hayley Yelling were out of contention early on.\\n',\n",
       " 'Agassi fear for Melbourne\\n\\nAndre Agassi\\'s involvement in the Australian Open was put in doubt after he pulled out of the Kooyong Classic with a hip injury.\\n\\nAgassi was serving at 5-6 down in the first set to fellow American Andy Roddick when he decided to bring a premature end to the match. \"My hip was cramping and I just could not continue,\" said the 34-year-old. Agassi, who has won the Australian Open four times, will have an MRI scan to discover the extent of the damage. He said the problem was not the same as the hip injury which forced him to miss Wimbledon last year.\\n\\n\"The good news is that it didn\\'t just tear, it was tightening up and that can be your body protecting itself, which is hopefully more of the issue,\" he added. \"That wasn\\'t comfortable out there at all, what I was feeling. \"I have to wait and see what I\\'m dealing with - it\\'s a pretty scary feeling out there when something doesn\\'t feel right and is getting worse. \"It\\'s very disappointing and I\\'ll have to do my best to deal with it. Time will shortly tell if it (the Australian Open) is a possibility or not. \"I was not counting on this being the end of the day for me. \"Maybe in a few days I\\'ll have a much better sense of what my hopes will be.\"\\n',\n",
       " 'Agassi into second round in Dubai\\n\\nFourth seed Andre Agassi beat Radek Stepanek 6-4 7-5 in the first round of the Dubai Tennis Championships.\\n\\nThe 34-year-old, moving well despite a hip problem which needed an injection, served well and won 80% of his first serve and 76% of his second. But the American could not break the Czech Stepanek until the final game of the first set and in the second he had to fight back after losing his serve. Agassi, making his first appearance at the event, received a standing ovation. He said: \"I have had a few great days here in Dubai. I have waited a long time to be here, and I must apologise for being so late.\" Other first-day winners included Spaniards Juan Carlos Ferrero and Tommy Robredo, Dominik Hrbaty of Slovakia and Germany\\'s Rainer Schuettler. Ferrero, the 2001 champion, overcame Florian Mayer of Germany 6-3 6-4 while Robredo had to fight hard to beat Olivier Rochus of Belgium 7-6 (7-5) 7-6 (7-5). Hrbaty crushed Omar Bahrouzyan of the United Arab Emirates 6-0 6-4 while Schuettler beat Younes Al Aynaoui of Morocco 6-0 6-1. Ferrero could now meet top seed Roger Federer - who faces qualifier Ivo Minar on Tuesday - in the second round. British rivals Tim Henman and Greg Rusedski will face each other in the opening round on Tuesday.\\n',\n",
       " 'Ajax refuse to rule out Jol move\\n\\nAjax have refused to reveal whether Tottenham\\'s boss Martin Jol is on the Dutch champions\\' shortlist to become the Amsterdam club\\'s new coach.\\n\\nJol, who has coached in his native Holland, has guided Spurs to the Premiership\\'s top eight. An Ajax spokesman told BBC Sport: \"The coach must fit our profile - a coach who understands the Dutch league and offensive and distinctive football. \"We need to find a solution soon, so someone is in place for next season.\" Ronald Koeman quit as Ajax boss last week after their exit from the Uefa Cup. Jol has been linked with the vacant post at Ajax, with reports saying he has fallen out with Spurs\\' sporting director Frank Arnesen. But in a statement on Spurs\\' website, Jol said: \"I\\'m happy here, I\\'m not in discussion with anyone else, I don\\'t want to go elsewhere.\" Ajax have enlisted the help of Dutch legend Johann Cruyff, currently a consultant at Barcelona, to help find a new head coach. Cruyff has admitted he has been impressed by the way former RFC Waalwijk coach Jol has turned round Spurs\\' fortunes since taking over from Jacques Santini. Tonny Bruins Slot and Ruud Krol are currently in charge of Ajax, who are third in the Dutch league.\\n']"
      ]
     },
     "execution_count": 34,
     "metadata": {},
     "output_type": "execute_result"
    }
   ],
   "source": [
    "list(data_unique.loc[:9, 'Text'])"
   ]
  },
  {
   "cell_type": "markdown",
   "metadata": {},
   "source": [
    "### After Stemming "
   ]
  },
  {
   "cell_type": "code",
   "execution_count": 35,
   "metadata": {
    "scrolled": false
   },
   "outputs": [
    {
     "data": {
      "text/plain": [
       "['year rememb club footbal south america continu suffer contin econom crisi best player lure across atlant player left brazil alon crowd low money tight fear violenc prove power incent stay home averag attend year brazilian championship record low furthermor new talent explod contin quit forc diego robinho carlo tevez two previou year doubt highlight south america footbal year come intern game dramat tournament copa america held peru last juli could hardli come excit conclus last kick final brazil score one decis equalis goal histori footbal argentina thought game state take penalti adriano blast forc shoot earlier year intens disappoint brazil amazingli fail qualifi olymp footbal tournament gold medal titl lack wait four year miss two qualif slot grab south america championship held chile januari argentina paraguay made went secur gold silver athen tournament terrif real highlight year south american footbal could come world cup qualif campaign reason time great player come back home play competit match front fan well rememb get shiver spine await kick match brazil argentina start june euro get way thought struck accumul talent belo horizont pitch least outstand go action portug minut brazil capit footbal world ronaldo obvious felt sens occas probabl never play bigger match brazil take place stadium made name decad earlier unstopp suffer score three penalti brazil win ronaldo perform individu highlight year collect prize goe argentina match play month later octob bueno air see first match new coach jose pekerman nerv settl earli goal old rival uruguay blast away soon half time argentina four although uruguay hit back two consol goal perform host linger memori argentina goal magnific team effort involv fundament well play footbal ball move quickli around field plenti run ball provid option lot crisp accur pass mix long short find gap defenc crowd respond fine style creat kind atmospher familiar old enough rememb world cup highlight seven vital round world cup qualifi schedul next year south american footbal come much celebr',\n",
       " 'irish athlet year rememb one irish athlet great year year began optim invari unaccount seem herald upcom olympiad come late august hot day magnific stadium athen told us true strength irish athlet accur lack sonia sullivan olymp farewel apart littl stir emot irish athlet watcher disastr build game surpris start year sullivan earmark ireland best medal prospect turn walker gillian never even made start line injuri less week olymp sport rock news hope cathal lombard test ban substanc epo lombard shatter mark carrol nation record april alreadi set tongu wag even cynic observ surpris rumbl irish sport council sting oper corkman quickli held hand admiss promptli hand two year ban sport back pre olymp ranch greec must seem thing got wors nearli walker jami costin lucki escap life involv car crash near athen track field action began athen familiar pattern underachiev emerg although alistair cragg perform athlet european nation qualifi final offer hope futur belov sonia scrape women final fastest loser coupl day countri attempt delud believ might medal shake happen went back door earli final although noth undignifi way insist finish race minut behind winner meseret defar later transpir sonia suffer stomach bug hour final although typic cobhwoman play effect ill amazingli back action coupl week later beat world class field flora lite road race london major championship day may unlik seen last competit least sonia manag make athen start year sever northern ireland athlet genuin hope qualifi game come august form injur paul brizzel lone standard bearer provinc ballymena man gave lash achil problem bad lane draw meant time earli exit jame mcilroy gareth turnbul zoe brown paul mckee content watch athen action televis screen hope mcilroy never got near best summer fourth place british trial effect end hope make plane injuri plagu turnbul game travel round europ search qualifi mark best could achiev miss sever month train previou winter linger hamstr probem viru wreck mckee athen ambit turnbul deserv slice better fortun pole vaulter brown hope vote confid british selector achiev athen b standard call never came summer end stalwart catherina mckiernan dermot donnelli hung competit spike mckiernan candidli acknowledg time crept sever injuri ravag year donnelli annadal strider team mate later suffer tragedi friend clubman andi campbel found dead home decemb larg turnout athlet love folk turn west belfast offer respect campbel famili andi mani friend death put year athlet happen sharp perspect',\n",
       " 'novemb rememb last saturday one newspap proclaim england still number one side world statement made look littl foolish event later afternoon twickenham illustr wonder unpredict test rugbi highest level end richli entertain autumn seri final weekend threw world peck order renew confus australia triumph london follow franc capitul new zealand clearli number one side world moment declar wallabi coach eddi jone arriv back sydney four five probabl six side compet level given day differ one side anoth bode well rugbi whole also sharpen sens excit ahead could open six nation championship decad wallabi black springbok hit beach turn attent super matter new year europ finest less week return intern fray first time decad simpli straightforward choic england franc six nation titl owe much ireland continu progress belief wale verg deliv major scalp cement promis autumn display secur first tripl crown year last season could go one better win first five six nation titl sinc start away game itali scotland england franc come lansdown road moment victori springbok bolster ireland self belief ronan gara late drop goal deliv victori argentina proof eddi sullivan side close tight game england franc nine last six nation titl lay quietli dismantl springbok suggest even loss influenti figur martin johnson lawrenc dallaglio still personnel prosper narrow defeat australia time remind everyth bloom red rose garden fresh shoot post world cup recoveri sown new head coach andi robinson fresh desir regain former height evid england emerg triumphant open six nation engag cardiff fourth titl six year within reach familiar reviv territori time appear substanc behind rediscov style south africa confid cardiff made closer scorelin expect wale could legitim claim victori within grasp black one best test recent memori mike ruddock coax reliabl set piec platform pack reason victori ensu come februari last fortnight left state bewilder autumn seri began superb victori australia stun defeat argentina first loss sinc world cup could attribut trademark french inconsist manner new zealand demolit job pari coach bernard laport bemoan lack young talent come replac old guard fortun french open match six nation see entertain pari two reason perform australia scot humbl springbok forc coach matt william reassess belief win one major nation immin individu chri cusit ali hogg enhanc reput lack top class player continu undermin best effort start home game ireland wale travel scotland also hope regist one victori first time championship autumn give way winter heineken cup prepar resum centr stage meantim joy six keep home fire burn februari',\n",
       " 'need limit foreign number top club vy titl champion leagu least fa cup gave opportun one two younger lad major club get game first team person like see weaken side competit seem case chanc young lad get first team experi year influx foreign player affect young englishman anyon know freedom movement believ time come countri put limit number oversea player includ european think trend becom notic sinc influx foreign boss like arsen wenger claudio ranieri jose mourinho seem know foreign market english although chelsea appear sign one two young englishmen foreign first start come countri thought peopl like denni bergkamp gianfranco zola absolut magnific zola still best player ever seen time manag think anybodi would ever begrudg player like would pay money watch individu think problem club even lower level find english player expens agent offer player left right centr cheap also come trial unheard past bolton good exampl never thought could success sam allardyc wave magic wand brought player technolog sam use definit paid databas everi foreign player uniqu person never thought could differ nation dress room still good team spirit sam prove wrong last year continu bolton said pay larg transfer fee get player month compet high level way view foreign player chang three year ago quit larg number bramal lane match play west brom abandon went six player chang view larg amount foreign player decid go kid could sign english lad would got two sent game one two thing happen player also found coupl player talk english difficult coach wise get grasp fundament possibl look player sign speak english although process sign hao haidong china limit english experienc player think tell mani time want time scottish footbal good sourc player speak peopl look player clear standard drop year look scotland squad talent longer invest youth develop common knowledg enquir liverpool neil mellor could find push peck order arriv fernando morient real madrid think peopl like neil better get game belt difficult liverpool great club opportun score goal rate highli must difficult young player turn back drop championship level',\n",
       " 'year rememb irish use one sublimin moment year irish rugbi stood well least use one hand look back mixtur satisfact sorrow quit year irish eddi sullivan tripl crown win intern outfit either right rank irish rugbi creat wave upset establish team game kudo go sullivan merri band warrior collect first tripl crown year also finish autumn campaign record second year success also finish runner spot rb six nation three game novemb includ victori tri nation champion grand slam chase south africa ireland finsih year high victori lansdown road second victori bok initi success back success reveng consecut defeat blomefontein cape town summer two revers flop franc dark patch otherwis excel month big one cours defeat world cup champion england preciou twickenham turf win tri conceiv sullivan mind perfectli execut team finish immacul girvan dempsey tri championship sullivan career vertic take mode wonder sir clive woodward elev galway base coach head lion test side fair major present ireland side wear red next june new zealand doubt ireland represent biggest ever albeit propos squad brian driscol paul connel ireland two front runner captainci gordon arci whose career began teenag back final arriv name six nation player tournament senior squad brought kudo ireland youngster strut stuff big stage well squad confound doubter went way world cup final scotland beaten power black side decid young irish boy state intent earlier season finish runner england six nation tournament provinci front leinster second year success blew heineken cup look good wager ulster finish runner tight group second season success munster fli flag irish look reach third final went eventu winner wasp mani beilev competit thunder game ever wit lansdown road wasp recov energi sap duel go onto defeat toulous final anybodi guess ulster meanwhil lost ad inaugur celtic cup win celtic leagu pip post scarlet final game ulster howev took time start new season new coach mark mccall famou ravenhil fortress breach four time ulster mang five win first outing celtic leagu leinster look potent outfit go whether take final step declan kidney anoth thing side irish rugbi hit number tragedi teenag star john mccall die play ireland new zealand world cup game durban happen day led royal armagh first ulster school cup success sinc death former ireland coach lion flanker mike doyl car crash northern ireland shock rugbi fratern larger life charact doyl coach ireland tripl crown last time goal achiev season ulster rugbi also suffer sudden death well known londonderri ym player jim huey colerain jonathan hutchinson belfast harlequin lock johnni pool pass away long full time whistl',\n",
       " 'adriano chelsea link reject adriano agent gilmar rinaldi insist contact chelsea striker chelsea report made inquiri inter milan brazilian star rinaldi told bbc sport rio de janeiro assur chelsea deal whatsoev either adriano parma real madrid interest noth new interest known time adriano score goal seri appear season chelsea boss jose mourinho claim milan talk adriano day alleg held clandestin meet arsen defend ashley cole mourinho said practis portugues need striker rinaldi told bbc sport say nobodi chelsea london club contact want fine tell situat chelsea interest must make offer inter report slap price tag region head adriano join year ago parma real madrid view natur replac compatriot ronaldo rinaldi said cannot give price inter would accept adriano someth would negoti interest club',\n",
       " 'african doubl edinburgh world champion eliud kipchog race view great edinburgh cross countri kenyan second newcastl host race last year front outset ethiopian duo gebr gebremariam dejen berhanu made last gasp effort overtak kipchog respond burst speed clinch victori gavin thompson first briton place nick mccormick held british rival win race morpeth harrier led end first lap end mike skinner andrew baddeley hope surg lasp lap train gone well realli worri opposit asi knew great shape said mccormick hope earn place british team world championship helsinki women race ethiopia tirunesh dibaba battl world cross countri champion benita johnson retain titl australian johnson shock african rival brussel last march look cours anoth win race world champion dibaba make tell strike finish line final metr briton kathi butler hayley yell content earli',\n",
       " 'agassi fear melbourn andr agassi involv australian open put doubt pull kooyong classic hip injuri agassi serv first set fellow american andi roddick decid bring prematur end match hip cramp could continu said agassi australian open four time mri scan discov extent damag said problem hip injuri forc miss wimbledon last year good news tear tighten bodi protect hope issu ad comfort feel wait see deal pretti scari feel someth feel right get wors disappoint best deal time shortli tell australian open possibl count end day mayb day much better sens hope',\n",
       " 'agassi second round dubai fourth seed andr agassi beat radek stepanek first round dubai tenni championship move well despit hip problem need inject serv well first serv second american could break czech stepanek final game first set second fight back lose serv agassi make first appear event receiv stand ovat said great day dubai wait long time must apologis late first day winner includ spaniard juan carlo ferrero tommi robredo dominik hrbati slovakia germani rainer schuettler ferrero champion overcam florian mayer germani robredo fight hard beat olivi rochu belgium hrbati crush omar bahrouzyan unit arab emir schuettler beat youn al aynaoui morocco ferrero could meet top seed roger feder face qualifi ivo minar tuesday second round british rival tim henman greg rusedski face open round tuesday',\n",
       " 'ajax refus rule jol move ajax refus reveal whether tottenham boss martin jol dutch champion shortlist becom amsterdam club new coach jol coach nativ holland guid spur premiership top eight ajax spokesman told bbc sport coach must fit profil coach understand dutch leagu offens distinct footbal need find solut soon someon place next season ronald koeman quit ajax boss last week exit uefa cup jol link vacant post ajax report say fallen spur sport director frank arnesen statement spur websit jol said happi discuss anyon els want go elsewher ajax enlist help dutch legend johann cruyff current consult barcelona help find new head coach cruyff admit impress way former rfc waalwijk coach jol turn round spur fortun sinc take jacqu santini tonni bruin slot ruud krol current charg ajax third dutch leagu']"
      ]
     },
     "execution_count": 35,
     "metadata": {},
     "output_type": "execute_result"
    }
   ],
   "source": [
    "preprocessed_data[:10]"
   ]
  },
  {
   "cell_type": "code",
   "execution_count": 36,
   "metadata": {},
   "outputs": [],
   "source": [
    "data_unique['preprocessed_data'] = preprocessed_data"
   ]
  },
  {
   "cell_type": "code",
   "execution_count": 37,
   "metadata": {},
   "outputs": [
    {
     "data": {
      "text/html": [
       "<div>\n",
       "<style scoped>\n",
       "    .dataframe tbody tr th:only-of-type {\n",
       "        vertical-align: middle;\n",
       "    }\n",
       "\n",
       "    .dataframe tbody tr th {\n",
       "        vertical-align: top;\n",
       "    }\n",
       "\n",
       "    .dataframe thead th {\n",
       "        text-align: right;\n",
       "    }\n",
       "</style>\n",
       "<table border=\"1\" class=\"dataframe\">\n",
       "  <thead>\n",
       "    <tr style=\"text-align: right;\">\n",
       "      <th></th>\n",
       "      <th>Text</th>\n",
       "      <th>Category</th>\n",
       "      <th>Class</th>\n",
       "      <th>Count</th>\n",
       "      <th>preprocessed_data</th>\n",
       "    </tr>\n",
       "  </thead>\n",
       "  <tbody>\n",
       "    <tr>\n",
       "      <th>0</th>\n",
       "      <td>2004 - A year to remember\\n\\nClub football in ...</td>\n",
       "      <td>football</td>\n",
       "      <td>2</td>\n",
       "      <td>1</td>\n",
       "      <td>year rememb club footbal south america continu...</td>\n",
       "    </tr>\n",
       "    <tr>\n",
       "      <th>1</th>\n",
       "      <td>2004: An Irish Athletics Year\\n\\n2004 won't be...</td>\n",
       "      <td>athletics</td>\n",
       "      <td>0</td>\n",
       "      <td>1</td>\n",
       "      <td>irish athlet year rememb one irish athlet grea...</td>\n",
       "    </tr>\n",
       "    <tr>\n",
       "      <th>2</th>\n",
       "      <td>A November to remember\\n\\nLast Saturday, one n...</td>\n",
       "      <td>rugby</td>\n",
       "      <td>3</td>\n",
       "      <td>1</td>\n",
       "      <td>novemb rememb last saturday one newspap procla...</td>\n",
       "    </tr>\n",
       "    <tr>\n",
       "      <th>3</th>\n",
       "      <td>A need to limit foreign numbers\\n\\nWith all th...</td>\n",
       "      <td>football</td>\n",
       "      <td>2</td>\n",
       "      <td>1</td>\n",
       "      <td>need limit foreign number top club vy titl cha...</td>\n",
       "    </tr>\n",
       "    <tr>\n",
       "      <th>4</th>\n",
       "      <td>A year to remember for Irish\\n\\nThere used to ...</td>\n",
       "      <td>rugby</td>\n",
       "      <td>3</td>\n",
       "      <td>1</td>\n",
       "      <td>year rememb irish use one sublimin moment year...</td>\n",
       "    </tr>\n",
       "  </tbody>\n",
       "</table>\n",
       "</div>"
      ],
      "text/plain": [
       "                                                Text   Category  Class  Count  \\\n",
       "0  2004 - A year to remember\\n\\nClub football in ...   football      2      1   \n",
       "1  2004: An Irish Athletics Year\\n\\n2004 won't be...  athletics      0      1   \n",
       "2  A November to remember\\n\\nLast Saturday, one n...      rugby      3      1   \n",
       "3  A need to limit foreign numbers\\n\\nWith all th...   football      2      1   \n",
       "4  A year to remember for Irish\\n\\nThere used to ...      rugby      3      1   \n",
       "\n",
       "                                   preprocessed_data  \n",
       "0  year rememb club footbal south america continu...  \n",
       "1  irish athlet year rememb one irish athlet grea...  \n",
       "2  novemb rememb last saturday one newspap procla...  \n",
       "3  need limit foreign number top club vy titl cha...  \n",
       "4  year rememb irish use one sublimin moment year...  "
      ]
     },
     "execution_count": 37,
     "metadata": {},
     "output_type": "execute_result"
    }
   ],
   "source": [
    "data_unique.head()"
   ]
  },
  {
   "cell_type": "code",
   "execution_count": 38,
   "metadata": {},
   "outputs": [
    {
     "data": {
      "text/html": [
       "<div>\n",
       "<style scoped>\n",
       "    .dataframe tbody tr th:only-of-type {\n",
       "        vertical-align: middle;\n",
       "    }\n",
       "\n",
       "    .dataframe tbody tr th {\n",
       "        vertical-align: top;\n",
       "    }\n",
       "\n",
       "    .dataframe thead th {\n",
       "        text-align: right;\n",
       "    }\n",
       "</style>\n",
       "<table border=\"1\" class=\"dataframe\">\n",
       "  <thead>\n",
       "    <tr style=\"text-align: right;\">\n",
       "      <th></th>\n",
       "      <th>Text</th>\n",
       "      <th>Category</th>\n",
       "      <th>Class</th>\n",
       "      <th>Count</th>\n",
       "      <th>preprocessed_data</th>\n",
       "    </tr>\n",
       "  </thead>\n",
       "  <tbody>\n",
       "    <tr>\n",
       "      <th>101</th>\n",
       "      <td>Castaignede fires Laporte warning\\n\\nFormer Fr...</td>\n",
       "      <td>rugby</td>\n",
       "      <td>3</td>\n",
       "      <td>1</td>\n",
       "      <td>castaigned fire laport warn former franc fli h...</td>\n",
       "    </tr>\n",
       "    <tr>\n",
       "      <th>102</th>\n",
       "      <td>Cech sets clean-sheet benchmark\\n\\nChelsea's P...</td>\n",
       "      <td>football</td>\n",
       "      <td>2</td>\n",
       "      <td>1</td>\n",
       "      <td>cech set clean sheet benchmark chelsea petr ce...</td>\n",
       "    </tr>\n",
       "    <tr>\n",
       "      <th>103</th>\n",
       "      <td>Celtic make late bid for Bellamy\\n\\nNewcastle ...</td>\n",
       "      <td>football</td>\n",
       "      <td>2</td>\n",
       "      <td>1</td>\n",
       "      <td>celtic make late bid bellami newcastl striker ...</td>\n",
       "    </tr>\n",
       "    <tr>\n",
       "      <th>104</th>\n",
       "      <td>Celtic unhappy over Bulgaria date\\n\\nMartin O'...</td>\n",
       "      <td>football</td>\n",
       "      <td>2</td>\n",
       "      <td>1</td>\n",
       "      <td>celtic unhappi bulgaria date martin neill hope...</td>\n",
       "    </tr>\n",
       "    <tr>\n",
       "      <th>105</th>\n",
       "      <td>Celts savour Grand Slam prospect\\n\\nThe Six Na...</td>\n",
       "      <td>rugby</td>\n",
       "      <td>3</td>\n",
       "      <td>1</td>\n",
       "      <td>celt savour grand slam prospect six nation her...</td>\n",
       "    </tr>\n",
       "    <tr>\n",
       "      <th>106</th>\n",
       "      <td>Charlton 1-2 Liverpool\\n\\nFernando Morientes g...</td>\n",
       "      <td>football</td>\n",
       "      <td>2</td>\n",
       "      <td>1</td>\n",
       "      <td>charlton liverpool fernando morient grab first...</td>\n",
       "    </tr>\n",
       "    <tr>\n",
       "      <th>107</th>\n",
       "      <td>Charvis set to lose fitness bid\\n\\nFlanker Col...</td>\n",
       "      <td>rugby</td>\n",
       "      <td>3</td>\n",
       "      <td>1</td>\n",
       "      <td>charvi set lose fit bid flanker colin charvi u...</td>\n",
       "    </tr>\n",
       "    <tr>\n",
       "      <th>108</th>\n",
       "      <td>Chelsea 3-0 Portsmouth\\n\\nDidier Drogba scored...</td>\n",
       "      <td>football</td>\n",
       "      <td>2</td>\n",
       "      <td>1</td>\n",
       "      <td>chelsea portsmouth didier drogba score twice l...</td>\n",
       "    </tr>\n",
       "    <tr>\n",
       "      <th>109</th>\n",
       "      <td>Chelsea clinch cup in extra-time\\n\\n(after ext...</td>\n",
       "      <td>football</td>\n",
       "      <td>2</td>\n",
       "      <td>1</td>\n",
       "      <td>chelsea clinch cup extra time extra time score...</td>\n",
       "    </tr>\n",
       "  </tbody>\n",
       "</table>\n",
       "</div>"
      ],
      "text/plain": [
       "                                                  Text  Category  Class  \\\n",
       "101  Castaignede fires Laporte warning\\n\\nFormer Fr...     rugby      3   \n",
       "102  Cech sets clean-sheet benchmark\\n\\nChelsea's P...  football      2   \n",
       "103  Celtic make late bid for Bellamy\\n\\nNewcastle ...  football      2   \n",
       "104  Celtic unhappy over Bulgaria date\\n\\nMartin O'...  football      2   \n",
       "105  Celts savour Grand Slam prospect\\n\\nThe Six Na...     rugby      3   \n",
       "106  Charlton 1-2 Liverpool\\n\\nFernando Morientes g...  football      2   \n",
       "107  Charvis set to lose fitness bid\\n\\nFlanker Col...     rugby      3   \n",
       "108  Chelsea 3-0 Portsmouth\\n\\nDidier Drogba scored...  football      2   \n",
       "109  Chelsea clinch cup in extra-time\\n\\n(after ext...  football      2   \n",
       "\n",
       "     Count                                  preprocessed_data  \n",
       "101      1  castaigned fire laport warn former franc fli h...  \n",
       "102      1  cech set clean sheet benchmark chelsea petr ce...  \n",
       "103      1  celtic make late bid bellami newcastl striker ...  \n",
       "104      1  celtic unhappi bulgaria date martin neill hope...  \n",
       "105      1  celt savour grand slam prospect six nation her...  \n",
       "106      1  charlton liverpool fernando morient grab first...  \n",
       "107      1  charvi set lose fit bid flanker colin charvi u...  \n",
       "108      1  chelsea portsmouth didier drogba score twice l...  \n",
       "109      1  chelsea clinch cup extra time extra time score...  "
      ]
     },
     "execution_count": 38,
     "metadata": {},
     "output_type": "execute_result"
    }
   ],
   "source": [
    "data_unique.iloc[101:110]"
   ]
  },
  {
   "cell_type": "code",
   "execution_count": 39,
   "metadata": {
    "scrolled": true
   },
   "outputs": [
    {
     "data": {
      "text/html": [
       "<div>\n",
       "<style scoped>\n",
       "    .dataframe tbody tr th:only-of-type {\n",
       "        vertical-align: middle;\n",
       "    }\n",
       "\n",
       "    .dataframe tbody tr th {\n",
       "        vertical-align: top;\n",
       "    }\n",
       "\n",
       "    .dataframe thead th {\n",
       "        text-align: right;\n",
       "    }\n",
       "</style>\n",
       "<table border=\"1\" class=\"dataframe\">\n",
       "  <thead>\n",
       "    <tr style=\"text-align: right;\">\n",
       "      <th></th>\n",
       "      <th>Text</th>\n",
       "      <th>Category</th>\n",
       "      <th>Class</th>\n",
       "      <th>Count</th>\n",
       "      <th>preprocessed_data</th>\n",
       "    </tr>\n",
       "  </thead>\n",
       "  <tbody>\n",
       "    <tr>\n",
       "      <th>225</th>\n",
       "      <td>Ferrero eyes return to top form\\n\\nFormer worl...</td>\n",
       "      <td>tennis</td>\n",
       "      <td>4</td>\n",
       "      <td>1</td>\n",
       "      <td>ferrero eye return top form former world numbe...</td>\n",
       "    </tr>\n",
       "    <tr>\n",
       "      <th>226</th>\n",
       "      <td>Fifa agrees goal-line technology\\n\\nFifa is ex...</td>\n",
       "      <td>football</td>\n",
       "      <td>2</td>\n",
       "      <td>1</td>\n",
       "      <td>fifa agre goal line technolog fifa expect use ...</td>\n",
       "    </tr>\n",
       "    <tr>\n",
       "      <th>227</th>\n",
       "      <td>Finnan says Irish can win group\\n\\nSteve Finna...</td>\n",
       "      <td>football</td>\n",
       "      <td>2</td>\n",
       "      <td>1</td>\n",
       "      <td>finnan say irish win group steve finnan believ...</td>\n",
       "    </tr>\n",
       "    <tr>\n",
       "      <th>228</th>\n",
       "      <td>Fit-again Betsen in France squad\\n\\nFrance hav...</td>\n",
       "      <td>rugby</td>\n",
       "      <td>3</td>\n",
       "      <td>1</td>\n",
       "      <td>fit betsen franc squad franc brought flanker s...</td>\n",
       "    </tr>\n",
       "    <tr>\n",
       "      <th>229</th>\n",
       "      <td>Flintoff fit to bowl at Wanderers\\n\\nFourth Te...</td>\n",
       "      <td>cricket</td>\n",
       "      <td>1</td>\n",
       "      <td>1</td>\n",
       "      <td>flintoff fit bowl wander fourth test wander so...</td>\n",
       "    </tr>\n",
       "    <tr>\n",
       "      <th>230</th>\n",
       "      <td>Flintoff fit to bowl at Wanderers\\n\\nFourth Te...</td>\n",
       "      <td>cricket</td>\n",
       "      <td>1</td>\n",
       "      <td>1</td>\n",
       "      <td>flintoff fit bowl wander fourth test wander so...</td>\n",
       "    </tr>\n",
       "    <tr>\n",
       "      <th>231</th>\n",
       "      <td>France v Wales (Sat)\\n\\nStade de France, Paris...</td>\n",
       "      <td>rugby</td>\n",
       "      <td>3</td>\n",
       "      <td>1</td>\n",
       "      <td>franc v wale sat stade de franc pari saturday ...</td>\n",
       "    </tr>\n",
       "    <tr>\n",
       "      <th>232</th>\n",
       "      <td>Freeman considers return to track\\n\\nFormer Ol...</td>\n",
       "      <td>athletics</td>\n",
       "      <td>0</td>\n",
       "      <td>1</td>\n",
       "      <td>freeman consid return track former olymp champ...</td>\n",
       "    </tr>\n",
       "    <tr>\n",
       "      <th>233</th>\n",
       "      <td>Fuming Robinson blasts officials\\n\\nEngland co...</td>\n",
       "      <td>rugby</td>\n",
       "      <td>3</td>\n",
       "      <td>1</td>\n",
       "      <td>fume robinson blast offici england coach andi ...</td>\n",
       "    </tr>\n",
       "    <tr>\n",
       "      <th>234</th>\n",
       "      <td>Fuming Robinson blasts officials\\n\\nEngland co...</td>\n",
       "      <td>rugby</td>\n",
       "      <td>3</td>\n",
       "      <td>1</td>\n",
       "      <td>fume robinson blast offici england coach andi ...</td>\n",
       "    </tr>\n",
       "  </tbody>\n",
       "</table>\n",
       "</div>"
      ],
      "text/plain": [
       "                                                  Text   Category  Class  \\\n",
       "225  Ferrero eyes return to top form\\n\\nFormer worl...     tennis      4   \n",
       "226  Fifa agrees goal-line technology\\n\\nFifa is ex...   football      2   \n",
       "227  Finnan says Irish can win group\\n\\nSteve Finna...   football      2   \n",
       "228  Fit-again Betsen in France squad\\n\\nFrance hav...      rugby      3   \n",
       "229  Flintoff fit to bowl at Wanderers\\n\\nFourth Te...    cricket      1   \n",
       "230  Flintoff fit to bowl at Wanderers\\n\\nFourth Te...    cricket      1   \n",
       "231  France v Wales (Sat)\\n\\nStade de France, Paris...      rugby      3   \n",
       "232  Freeman considers return to track\\n\\nFormer Ol...  athletics      0   \n",
       "233  Fuming Robinson blasts officials\\n\\nEngland co...      rugby      3   \n",
       "234  Fuming Robinson blasts officials\\n\\nEngland co...      rugby      3   \n",
       "\n",
       "     Count                                  preprocessed_data  \n",
       "225      1  ferrero eye return top form former world numbe...  \n",
       "226      1  fifa agre goal line technolog fifa expect use ...  \n",
       "227      1  finnan say irish win group steve finnan believ...  \n",
       "228      1  fit betsen franc squad franc brought flanker s...  \n",
       "229      1  flintoff fit bowl wander fourth test wander so...  \n",
       "230      1  flintoff fit bowl wander fourth test wander so...  \n",
       "231      1  franc v wale sat stade de franc pari saturday ...  \n",
       "232      1  freeman consid return track former olymp champ...  \n",
       "233      1  fume robinson blast offici england coach andi ...  \n",
       "234      1  fume robinson blast offici england coach andi ...  "
      ]
     },
     "execution_count": 39,
     "metadata": {},
     "output_type": "execute_result"
    }
   ],
   "source": [
    "data_unique.iloc[225:235]"
   ]
  },
  {
   "cell_type": "code",
   "execution_count": 40,
   "metadata": {},
   "outputs": [
    {
     "data": {
      "text/plain": [
       "football     262\n",
       "rugby        146\n",
       "cricket      121\n",
       "tennis        99\n",
       "athletics     99\n",
       "Name: Category, dtype: int64"
      ]
     },
     "execution_count": 40,
     "metadata": {},
     "output_type": "execute_result"
    }
   ],
   "source": [
    "data_unique['Category'].value_counts()"
   ]
  },
  {
   "cell_type": "code",
   "execution_count": 42,
   "metadata": {
    "scrolled": true
   },
   "outputs": [
    {
     "data": {
      "image/png": "[encoded data removed]",
      "text/plain": [
       "<Figure size 432x288 with 1 Axes>"
      ]
     },
     "metadata": {},
     "output_type": "display_data"
    }
   ],
   "source": [
    "import matplotlib.pyplot as plt\n",
    "data_unique['Category'].value_counts().plot(kind='bar')\n",
    "plt.title('Class distribution in Original data')\n",
    "plt.xlabel('Class Count')\n",
    "plt.ylabel('Class')\n",
    "plt.show()"
   ]
  },
  {
   "cell_type": "code",
   "execution_count": 43,
   "metadata": {},
   "outputs": [],
   "source": [
    "# plot = data_unique.plot.pie(y='Category', figsize=(5, 5))"
   ]
  },
  {
   "cell_type": "code",
   "execution_count": 44,
   "metadata": {},
   "outputs": [],
   "source": [
    "from sklearn.model_selection import train_test_split\n",
    "X, X_test = train_test_split(data_unique, test_size=0.33, random_state=42)\n",
    "X_train, X_val = train_test_split(X, test_size=0.13, random_state=42)"
   ]
  },
  {
   "cell_type": "code",
   "execution_count": 45,
   "metadata": {},
   "outputs": [
    {
     "data": {
      "image/png": "[encoded data removed]",
      "text/plain": [
       "<Figure size 432x288 with 1 Axes>"
      ]
     },
     "metadata": {},
     "output_type": "display_data"
    }
   ],
   "source": [
    "X_train['Category'].value_counts().plot(kind='bar')\n",
    "plt.title('Class distribution in Train data')\n",
    "plt.xlabel('Class Count')\n",
    "plt.ylabel('Class')\n",
    "plt.show()"
   ]
  },
  {
   "cell_type": "code",
   "execution_count": 46,
   "metadata": {},
   "outputs": [
    {
     "data": {
      "image/png": "[encoded data removed]",
      "text/plain": [
       "<Figure size 432x288 with 1 Axes>"
      ]
     },
     "metadata": {},
     "output_type": "display_data"
    }
   ],
   "source": [
    "X_val['Category'].value_counts().plot(kind='bar')\n",
    "plt.title('Class distribution in Validation data')\n",
    "plt.xlabel('Class Count')\n",
    "plt.ylabel('Class')\n",
    "plt.show()"
   ]
  },
  {
   "cell_type": "code",
   "execution_count": 47,
   "metadata": {},
   "outputs": [
    {
     "data": {
      "image/png": "[encoded data removed]",
      "text/plain": [
       "<Figure size 432x288 with 1 Axes>"
      ]
     },
     "metadata": {},
     "output_type": "display_data"
    }
   ],
   "source": [
    "X_test['Category'].value_counts().plot(kind='bar')\n",
    "plt.title('Class distribution in Test data')\n",
    "plt.xlabel('Class Count')\n",
    "plt.ylabel('Class')\n",
    "plt.show()"
   ]
  },
  {
   "cell_type": "code",
   "execution_count": 48,
   "metadata": {},
   "outputs": [
    {
     "name": "stdout",
     "output_type": "stream",
     "text": [
      "Shape of Train Data      :  (423, 5)\n",
      "Shape of Validation Data :  (64, 5)\n",
      "Shape of Test Data       :  (240, 5)\n"
     ]
    }
   ],
   "source": [
    "print(\"Shape of Train Data      : \",X_train.shape)\n",
    "print(\"Shape of Validation Data : \",X_val.shape)\n",
    "print(\"Shape of Test Data       : \",X_test.shape)"
   ]
  },
  {
   "cell_type": "code",
   "execution_count": 49,
   "metadata": {},
   "outputs": [
    {
     "name": "stdout",
     "output_type": "stream",
     "text": [
      "some feature names  ['ab', 'abil', 'abl', 'absenc', 'absolut', 'accept', 'accord', 'account', 'accus', 'achiev']\n",
      "==================================================\n",
      "the type of count vectorizer  <class 'scipy.sparse.csr.csr_matrix'>\n",
      "the shape of out text BOW vectorizer  (423, 1089)\n",
      "the number of unique words  1089\n"
     ]
    }
   ],
   "source": [
    "#BoW\n",
    "count_vect = CountVectorizer(max_df = 70, min_df = 10, max_features = 3000) #in scikit-learn\n",
    "count_vect.fit(X_train['preprocessed_data'])\n",
    "print(\"some feature names \", count_vect.get_feature_names()[:10])\n",
    "print('='*50)\n",
    "final_counts = count_vect.transform(X_train['preprocessed_data'])\n",
    "final_cv = count_vect.transform(X_val['preprocessed_data'])\n",
    "print(\"the type of count vectorizer \",type(final_counts))\n",
    "print(\"the shape of out text BOW vectorizer \",final_counts.get_shape())\n",
    "print(\"the number of unique words \", final_counts.get_shape()[1])\n"
   ]
  },
  {
   "cell_type": "code",
   "execution_count": 50,
   "metadata": {},
   "outputs": [
    {
     "name": "stdout",
     "output_type": "stream",
     "text": [
      "['ab', 'abil', 'abl', 'absenc', 'absolut', 'accept', 'accord', 'account', 'accus', 'achiev', 'across', 'act', 'action', 'adam', 'add', 'admit', 'advantag', 'affair', 'africa', 'african', 'afterward', 'agassi', 'age', 'agent', 'ago', 'agre', 'ahead', 'aim', 'akhtar', 'alan', 'alex', 'alleg', 'allow', 'almost', 'along', 'alongsid', 'alreadi', 'although', 'alway', 'ambit', 'american', 'among', 'amount', 'anderson', 'andi', 'andr', 'andrew', 'anfield', 'ankl', 'announc', 'anti', 'anybodi', 'anyon', 'anyth', 'apart', 'appeal', 'appear', 'appli', 'appoint', 'approach', 'april', 'area', 'arm', 'around', 'arriv', 'arsen', 'ashley', 'ask', 'assess', 'assist', 'associ', 'aston', 'athen', 'athlet', 'attack', 'attempt', 'august', 'australia', 'australian', 'author', 'autumn', 'avail', 'averag', 'aviv', 'avoid', 'awar', 'award', 'away', 'bad', 'badli', 'balanc', 'ban', 'bangladesh', 'bar', 'barcelona', 'barkley', 'base', 'basi', 'bat', 'bath', 'batsman', 'batsmen', 'battl', 'bbc', 'beaten', 'becam', 'becom', 'began', 'begin', 'behaviour', 'behind', 'bell', 'bench', 'benefit', 'benitez', 'better', 'beyond', 'bid', 'big', 'biggest', 'birmingham', 'bit', 'black', 'blackburn', 'blame', 'block', 'blow', 'blue', 'board', 'bob', 'bodi', 'boje', 'book', 'boost', 'born', 'boss', 'bottom', 'boundari', 'bowl', 'bowler', 'box', 'boy', 'brazilian', 'break', 'brian', 'bridg', 'bring', 'britain', 'british', 'broke', 'broken', 'bronz', 'brought', 'brown', 'build', 'byrn', 'call', 'camp', 'campaign', 'campbel', 'cannot', 'cap', 'capabl', 'capt', 'cardiff', 'care', 'career', 'carl', 'carlo', 'carri', 'carrol', 'case', 'catch', 'caught', 'caus', 'celtic', 'centr', 'central', 'centuri', 'certain', 'certainli', 'chairman', 'challeng', 'chang', 'charact', 'charg', 'charli', 'charlton', 'chase', 'chelsea', 'chief', 'choic', 'chri', 'citi', 'claim', 'clash', 'class', 'clean', 'clear', 'clinch', 'clive', 'clock', 'close', 'cole', 'comeback', 'comfort', 'comment', 'commit', 'committe', 'compatriot', 'compet', 'competit', 'complet', 'conced', 'concentr', 'concern', 'condit', 'confer', 'confid', 'confirm', 'connel', 'consid', 'consist', 'content', 'contest', 'continu', 'contract', 'contribut', 'control', 'controversi', 'convert', 'convinc', 'cope', 'corner', 'cost', 'council', 'counti', 'countri', 'coupl', 'cours', 'court', 'cover', 'craig', 'crash', 'creat', 'cricket', 'critic', 'criticis', 'cross', 'crowd', 'crown', 'cueto', 'current', 'cut', 'daili', 'dallaglio', 'damien', 'darren', 'davi', 'david', 'dawson', 'de', 'deal', 'debut', 'decemb', 'decid', 'declin', 'deep', 'defenc', 'defend', 'definit', 'delight', 'deliv', 'deliveri', 'deni', 'depart', 'departur', 'describ', 'deserv', 'desper', 'despit', 'determin', 'develop', 'differ', 'difficult', 'director', 'disappoint', 'disciplinari', 'discuss', 'dismiss', 'display', 'distanc', 'domest', 'domin', 'done', 'dope', 'doubl', 'doubt', 'draw', 'dream', 'driscol', 'drive', 'drop', 'drug', 'dubai', 'dublin', 'duck', 'due', 'duo', 'earli', 'earlier', 'earn', 'easi', 'easili', 'edg', 'effect', 'effort', 'eight', 'eighth', 'either', 'els', 'emot', 'endur', 'english', 'enjoy', 'enough', 'ensur', 'equal', 'equalis', 'especi', 'europ', 'european', 'even', 'event', 'eventu', 'ever', 'everi', 'everton', 'everyon', 'everyth', 'evid', 'excel', 'excit', 'execut', 'experi', 'experienc', 'explain', 'extend', 'extra', 'extrem', 'eye', 'fa', 'fact', 'factor', 'fail', 'faith', 'fall', 'fan', 'fantast', 'far', 'fast', 'favour', 'favourit', 'fear', 'featur', 'februari', 'feder', 'feel', 'feet', 'fell', 'fellow', 'felt', 'ferguson', 'field', 'fifa', 'fifth', 'fight', 'figur', 'find', 'fine', 'finish', 'fit', 'flanker', 'fli', 'flintoff', 'focus', 'follow', 'foot', 'footbal', 'forc', 'fortun', 'forward', 'fought', 'found', 'fourth', 'franc', 'franci', 'frank', 'free', 'french', 'friday', 'friendli', 'front', 'frustrat', 'full', 'fulli', 'fund', 'futur', 'gap', 'garden', 'gareth', 'gari', 'gave', 'gavin', 'gener', 'germani', 'gerrard', 'gile', 'given', 'gloucest', 'gmt', 'goal', 'goalkeep', 'goe', 'gold', 'gone', 'gordon', 'govern', 'grab', 'graem', 'graham', 'grand', 'green', 'greg', 'ground', 'group', 'guilti', 'gunner', 'guy', 'hall', 'hamstr', 'hand', 'handl', 'happen', 'happi', 'hard', 'harmison', 'harri', 'head', 'hear', 'heard', 'heart', 'heineken', 'held', 'help', 'henman', 'henri', 'heptathlon', 'hero', 'hewitt', 'high', 'highli', 'highlight', 'hill', 'histori', 'hit', 'hodgson', 'hoggard', 'hold', 'holder', 'holm', 'honour', 'host', 'hotel', 'hour', 'howev', 'huge', 'hurdl', 'hurt', 'iaaf', 'ian', 'idea', 'immedi', 'import', 'impress', 'improv', 'incid', 'includ', 'india', 'indian', 'individu', 'indoor', 'inform', 'initi', 'injur', 'inning', 'insid', 'insist', 'inspir', 'instead', 'intend', 'intent', 'interest', 'interview', 'investig', 'involv', 'ireland', 'irish', 'issu', 'itali', 'italian', 'jacqu', 'jame', 'jami', 'januari', 'jason', 'job', 'johansson', 'john', 'johnson', 'join', 'jonathan', 'jone', 'jonni', 'jose', 'judg', 'juli', 'jump', 'june', 'junior', 'justin', 'kalli', 'keen', 'keep', 'keeper', 'kelli', 'kept', 'kevin', 'key', 'khan', 'kick', 'kill', 'kim', 'knee', 'knew', 'knock', 'lack', 'lad', 'land', 'lanka', 'lansdown', 'late', 'later', 'launch', 'leader', 'learn', 'least', 'leav', 'led', 'lee', 'leg', 'leicest', 'less', 'let', 'level', 'lewi', 'lewsey', 'life', 'lift', 'link', 'lion', 'list', 'littl', 'live', 'liverpool', 'lleyton', 'lock', 'london', 'lose', 'loss', 'love', 'low', 'madrid', 'main', 'maintain', 'major', 'man', 'manchest', 'mani', 'marathon', 'march', 'marcu', 'martin', 'massiv', 'mate', 'mathew', 'matt', 'matter', 'matthew', 'may', 'mayb', 'mean', 'meanwhil', 'medal', 'medallist', 'media', 'meet', 'melbourn', 'member', 'men', 'mental', 'met', 'michael', 'mid', 'middl', 'middlesbrough', 'midfield', 'might', 'mike', 'milan', 'mind', 'minist', 'minut', 'mistak', 'mix', 'mohammad', 'moment', 'monday', 'money', 'morgan', 'morn', 'motiv', 'mourinho', 'much', 'murphi', 'must', 'name', 'natur', 'near', 'nearli', 'negoti', 'neil', 'net', 'never', 'newcastl', 'news', 'newspap', 'nice', 'nicki', 'night', 'nine', 'noon', 'normal', 'northern', 'norwich', 'noth', 'novemb', 'ntini', 'number', 'obviou', 'obvious', 'occas', 'octob', 'offer', 'offici', 'old', 'olli', 'olymp', 'onto', 'oper', 'oppon', 'opportun', 'opposit', 'option', 'order', 'organis', 'outsid', 'outstand', 'over', 'overnight', 'pace', 'paid', 'pair', 'pakistan', 'pari', 'park', 'part', 'particular', 'partner', 'partnership', 'pass', 'past', 'paul', 'pay', 'penalti', 'peopl', 'perfect', 'perform', 'period', 'person', 'peter', 'phil', 'physic', 'pick', 'pitch', 'plan', 'pleas', 'plenti', 'pois', 'pole', 'pollock', 'poor', 'posit', 'possibl', 'post', 'potenti', 'power', 'prais', 'prefer', 'premier', 'premiership', 'prepar', 'present', 'presid', 'press', 'pressur', 'pretti', 'previou', 'price', 'prix', 'prize', 'probabl', 'problem', 'process', 'produc', 'profession', 'programm', 'progress', 'promis', 'prop', 'prospect', 'proud', 'prove', 'provid', 'public', 'pull', 'punish', 'push', 'qualifi', 'qualiti', 'quarter', 'question', 'quick', 'quickli', 'quit', 'race', 'radio', 'rafael', 'rain', 'rais', 'ran', 'rang', 'ranger', 'rank', 'rate', 'rather', 'rb', 'reach', 'react', 'read', 'readi', 'real', 'realis', 'realli', 'reason', 'recal', 'receiv', 'recent', 'record', 'recov', 'red', 'reduc', 'refere', 'refus', 'regard', 'regular', 'reject', 'relationship', 'relay', 'remain', 'remark', 'rememb', 'remov', 'replac', 'replay', 'repli', 'report', 'repres', 'requir', 'respect', 'respond', 'respons', 'rest', 'result', 'resum', 'retir', 'reveal', 'review', 'reward', 'richard', 'rise', 'rival', 'road', 'robert', 'robinson', 'roddick', 'roger', 'role', 'room', 'round', 'rounder', 'row', 'roy', 'rugbi', 'rule', 'runner', 'rusedski', 'russia', 'russian', 'sack', 'safe', 'sale', 'saturday', 'save', 'saw', 'schedul', 'scorer', 'scot', 'scotland', 'scott', 'scottish', 'scrum', 'seal', 'search', 'secur', 'seed', 'seek', 'seem', 'seen', 'select', 'selector', 'semi', 'send', 'senior', 'sent', 'septemb', 'seri', 'seriou', 'serv', 'session', 'settl', 'seven', 'seventh', 'sever', 'shane', 'shape', 'share', 'shaun', 'sheffield', 'shoaib', 'shock', 'short', 'shot', 'shoulder', 'show', 'shown', 'sidelin', 'sign', 'silver', 'similar', 'simon', 'simpli', 'singl', 'sir', 'sit', 'situat', 'sixth', 'skill', 'skipper', 'slam', 'slip', 'slump', 'smith', 'sole', 'someon', 'someth', 'sometim', 'soon', 'sort', 'south', 'southampton', 'spain', 'spaniard', 'spanish', 'speak', 'special', 'spell', 'spent', 'spinner', 'spokesman', 'spot', 'sprint', 'sprinter', 'spur', 'squad', 'sri', 'st', 'stadium', 'stage', 'stamford', 'stand', 'standard', 'star', 'state', 'statement', 'stay', 'step', 'stephen', 'steve', 'steven', 'stop', 'storm', 'straight', 'strauss', 'strength', 'strike', 'striker', 'strong', 'struck', 'struggl', 'stuart', 'stump', 'style', 'sub', 'substitut', 'succeed', 'success', 'suffer', 'suggest', 'sullivan', 'summer', 'sunday', 'superb', 'support', 'sure', 'surfac', 'surgeri', 'surpris', 'surviv', 'suspend', 'suspens', 'sydney', 'tabl', 'tackl', 'tait', 'taken', 'talent', 'talk', 'target', 'task', 'taylor', 'tel', 'televis', 'tell', 'tenni', 'term', 'terri', 'thank', 'thierri', 'thoma', 'thompson', 'thorp', 'though', 'thought', 'threat', 'threaten', 'throughout', 'throw', 'thursday', 'tie', 'tight', 'tim', 'today', 'togeth', 'tommi', 'total', 'tottenham', 'touch', 'tough', 'tour', 'tourist', 'tournament', 'track', 'tradit', 'trafford', 'train', 'transfer', 'travel', 'treatment', 'trescothick', 'trial', 'tribut', 'trip', 'trophi', 'troubl', 'tuesday', 'turn', 'twice', 'twickenham', 'uefa', 'ul', 'unabl', 'unbeaten', 'understand', 'union', 'unit', 'unlik', 'upset', 'usa', 'use', 'utd', 'van', 'vaughan', 'venu', 'veteran', 'victim', 'video', 'view', 'villa', 'villier', 'visit', 'visitor', 'volley', 'wait', 'wale', 'walk', 'warm', 'warn', 'wasp', 'wast', 'watch', 'websit', 'wednesday', 'weekend', 'welsh', 'wenger', 'went', 'west', 'whether', 'white', 'whole', 'whose', 'wicket', 'wide', 'wilkinson', 'william', 'wimbledon', 'wing', 'winger', 'winner', 'winter', 'wish', 'withdraw', 'within', 'without', 'wkt', 'women', 'wonder', 'woodward', 'word', 'worri', 'wors', 'wrong', 'xi', 'yard', 'yet', 'young', 'zealand', 'zimbabw']\n"
     ]
    }
   ],
   "source": [
    "print(count_vect.get_feature_names())\n",
    "# print(final_counts.toarray())"
   ]
  },
  {
   "cell_type": "code",
   "execution_count": 51,
   "metadata": {
    "scrolled": false
   },
   "outputs": [
    {
     "name": "stdout",
     "output_type": "stream",
     "text": [
      "some feature names  ['ab', 'ab de', 'ab de villier', 'abil', 'abl', 'absenc', 'absolut', 'accept', 'accord', 'account']\n",
      "the type of count vectorizer  <class 'scipy.sparse.csr.csr_matrix'>\n",
      "the shape of out text BOW vectorizer  (423, 1293)\n",
      "the number of unique words including both unigrams and bigrams  1293\n"
     ]
    }
   ],
   "source": [
    "#bi-gram, tri-gram and n-gram\n",
    "#removing stop words like \"not\" should be avoided before building n-grams\n",
    "# count_vect = CountVectorizer(ngram_range=(1,2))\n",
    "# please do read the CountVectorizer documentation http://scikitlearn.org/stable/modules/generated/sklearn.feature_extraction.text.CountVectorizer.html\n",
    "# you can choose these numebrs min_df=10, max_features=5000, of your choice\n",
    "count_vect_bi_gram = CountVectorizer(ngram_range=(1,3), max_df = 70, min_df = 10, max_features = 3000)\n",
    "final_bigram_counts = count_vect_bi_gram.fit_transform(X_train['preprocessed_data'])\n",
    "print(\"some feature names \", count_vect_bi_gram.get_feature_names()[:10])\n",
    "final_bigram_cv = count_vect_bi_gram.transform(X_val['preprocessed_data'])\n",
    "print(\"the type of count vectorizer \",type(final_bigram_counts))\n",
    "print(\"the shape of out text BOW vectorizer \",final_bigram_counts.get_shape())\n",
    "print(\"the number of unique words including both unigrams and bigrams \", final_bigram_counts.get_shape()[1])\n"
   ]
  },
  {
   "cell_type": "code",
   "execution_count": 52,
   "metadata": {
    "scrolled": false
   },
   "outputs": [
    {
     "name": "stdout",
     "output_type": "stream",
     "text": [
      "['ab', 'ab de', 'ab de villier', 'abil', 'abl', 'absenc', 'absolut', 'accept', 'accord', 'account', 'accus', 'achiev', 'across', 'act', 'action', 'adam', 'add', 'admit', 'advantag', 'affair', 'africa', 'african', 'afterward', 'agassi', 'age', 'agent', 'ago', 'agre', 'ahead', 'aim', 'akhtar', 'alan', 'alex', 'alex ferguson', 'alleg', 'allow', 'almost', 'along', 'alongsid', 'alreadi', 'although', 'alway', 'ambit', 'american', 'among', 'amount', 'anderson', 'andi', 'andi robinson', 'andi roddick', 'andr', 'andr agassi', 'andrew', 'andrew flintoff', 'andrew strauss', 'anfield', 'ankl', 'announc', 'anti', 'anybodi', 'anyon', 'anyth', 'apart', 'appeal', 'appear', 'appli', 'appoint', 'approach', 'april', 'area', 'arm', 'around', 'arriv', 'arsen', 'arsen wenger', 'ashley', 'ashley gile', 'ask', 'assess', 'assist', 'associ', 'aston', 'aston villa', 'athen', 'athlet', 'attack', 'attempt', 'august', 'australia', 'australian', 'australian open', 'author', 'autumn', 'avail', 'averag', 'aviv', 'avoid', 'awar', 'award', 'away', 'bad', 'badli', 'balanc', 'ban', 'bangladesh', 'bar', 'barcelona', 'barkley', 'base', 'basi', 'bat', 'bath', 'batsman', 'batsmen', 'battl', 'bbc', 'bbc radio', 'bbc sport', 'beaten', 'becam', 'becom', 'began', 'begin', 'behaviour', 'behind', 'bell', 'bench', 'benefit', 'benitez', 'better', 'beyond', 'bid', 'big', 'biggest', 'birmingham', 'bit', 'black', 'blackburn', 'blame', 'block', 'blow', 'blue', 'board', 'bob', 'bodi', 'boje', 'book', 'boost', 'born', 'boss', 'bottom', 'boundari', 'bowl', 'bowler', 'box', 'boy', 'brazilian', 'break', 'brian', 'brian driscol', 'bridg', 'bring', 'britain', 'british', 'broke', 'broken', 'bronz', 'brought', 'brown', 'build', 'byrn', 'call', 'camp', 'campaign', 'campbel', 'cannot', 'cap', 'capabl', 'capt', 'cardiff', 'care', 'career', 'carl', 'carl cup', 'carlo', 'carri', 'carrol', 'case', 'catch', 'caught', 'caus', 'celtic', 'centr', 'central', 'centuri', 'certain', 'certainli', 'chairman', 'challeng', 'champion leagu', 'chang', 'charact', 'charg', 'charli', 'charli hodgson', 'charlton', 'chase', 'chelsea', 'chief', 'chief execut', 'choic', 'chri', 'citi', 'claim', 'clash', 'class', 'clean', 'clear', 'clinch', 'clive', 'clive woodward', 'clock', 'close', 'coach andi', 'coach andi robinson', 'coach john', 'cole', 'come back', 'comeback', 'comfort', 'comment', 'commit', 'committe', 'compatriot', 'compet', 'competit', 'complet', 'conced', 'concentr', 'concern', 'condit', 'confer', 'confid', 'confirm', 'connel', 'consid', 'consist', 'content', 'contest', 'continu', 'contract', 'contribut', 'control', 'controversi', 'convert', 'convinc', 'cope', 'corner', 'cost', 'council', 'counti', 'countri', 'coupl', 'cours', 'court', 'cover', 'craig', 'crash', 'creat', 'cricket', 'cricket board', 'critic', 'criticis', 'cross', 'crowd', 'crown', 'cueto', 'cup final', 'cup win', 'current', 'cut', 'daili', 'dallaglio', 'damien', 'darren', 'davi', 'davi cup', 'david', 'dawson', 'day intern', 'de', 'de villier', 'deal', 'debut', 'decemb', 'decid', 'decid whether', 'declin', 'deep', 'defenc', 'defend', 'defend champion', 'definit', 'delight', 'deliv', 'deliveri', 'deni', 'depart', 'departur', 'describ', 'deserv', 'desper', 'despit', 'determin', 'develop', 'differ', 'difficult', 'director', 'disappoint', 'disciplinari', 'discuss', 'dismiss', 'display', 'distanc', 'domest', 'domin', 'done', 'dope', 'doubl', 'doubl olymp', 'doubt', 'draw', 'dream', 'driscol', 'drive', 'drop', 'drop goal', 'drug', 'drug test', 'dubai', 'dublin', 'duck', 'due', 'duo', 'earli', 'earlier', 'earn', 'easi', 'easili', 'edg', 'effect', 'effort', 'eight', 'eighth', 'either', 'els', 'emot', 'end season', 'endur', 'england captain', 'england coach', 'england coach andi', 'english', 'enjoy', 'enough', 'ensur', 'equal', 'equalis', 'especi', 'europ', 'european', 'european championship', 'european indoor', 'european indoor championship', 'even', 'even though', 'event', 'eventu', 'ever', 'everi', 'everton', 'everyon', 'everyth', 'evid', 'excel', 'excit', 'execut', 'experi', 'experienc', 'explain', 'extend', 'extra', 'extrem', 'eye', 'fa', 'fa cup', 'fact', 'factor', 'fail', 'faith', 'fall', 'fan', 'fantast', 'far', 'fast', 'favour', 'favourit', 'fear', 'featur', 'februari', 'feder', 'feel', 'feet', 'fell', 'fellow', 'felt', 'ferguson', 'field', 'fifa', 'fifth', 'fight', 'figur', 'find', 'fine', 'finish', 'first half', 'first match', 'first round', 'first set', 'first team', 'first test', 'first three', 'first time', 'first two', 'fit', 'five live', 'five year', 'flanker', 'fli', 'fli half', 'flintoff', 'focus', 'follow', 'foot', 'footbal', 'footbal associ', 'forc', 'former england', 'fortun', 'forward', 'fought', 'found', 'four day', 'four year', 'fourth', 'franc', 'franci', 'frank', 'free', 'free kick', 'french', 'french open', 'french open champion', 'friday', 'friendli', 'front', 'frustrat', 'full', 'full back', 'fulli', 'fund', 'futur', 'gap', 'garden', 'gareth', 'gari', 'gave', 'gavin', 'gener', 'germani', 'gerrard', 'get back', 'gile', 'given', 'gloucest', 'gmt', 'go get', 'goal', 'goalkeep', 'goe', 'gold', 'gone', 'good enough', 'gordon', 'govern', 'grab', 'graem', 'graem smith', 'graham', 'grand', 'grand prix', 'grand slam', 'green', 'greg', 'greg rusedski', 'ground', 'group', 'guilti', 'gunner', 'guy', 'half time', 'hall', 'hamstr', 'hamstr injuri', 'hand', 'handl', 'happen', 'happi', 'hard', 'harmison', 'harri', 'head', 'hear', 'heard', 'heart', 'heineken', 'heineken cup', 'held', 'help', 'henman', 'henri', 'heptathlon', 'hero', 'hewitt', 'high', 'highli', 'highlight', 'hill', 'histori', 'hit', 'hodgson', 'hoggard', 'hold', 'holder', 'holm', 'home side', 'honour', 'host', 'hotel', 'hour', 'howev', 'huge', 'hurdl', 'hurt', 'iaaf', 'ian', 'idea', 'immedi', 'import', 'impress', 'improv', 'incid', 'includ', 'india', 'indian', 'individu', 'indoor', 'indoor championship', 'inform', 'initi', 'injur', 'inning', 'insid', 'insist', 'inspir', 'instead', 'intend', 'intent', 'interest', 'intern cricket', 'intern rugbi', 'intern rugbi board', 'interview', 'investig', 'involv', 'ireland', 'irish', 'issu', 'itali', 'italian', 'jacqu', 'jacqu kalli', 'jame', 'jami', 'januari', 'jason', 'jason garden', 'job', 'johansson', 'john', 'johnson', 'join', 'jonathan', 'jone', 'jonni', 'jonni wilkinson', 'jose', 'jose mourinho', 'judg', 'juli', 'jump', 'june', 'junior', 'justin', 'kalli', 'keen', 'keep', 'keeper', 'kelli', 'kelli holm', 'kept', 'kevin', 'key', 'khan', 'kick', 'kill', 'kim', 'knee', 'knee injuri', 'knew', 'knock', 'lack', 'lad', 'land', 'lanka', 'lansdown', 'lansdown road', 'last eight', 'last month', 'last season', 'last summer', 'last week', 'last weekend', 'last year', 'late', 'later', 'launch', 'leader', 'leagu game', 'learn', 'least', 'leav', 'led', 'lee', 'leg', 'leicest', 'less', 'let', 'level', 'lewi', 'lewi franci', 'lewsey', 'life', 'lift', 'link', 'lion', 'list', 'littl', 'littl bit', 'live', 'liverpool', 'lleyton', 'lleyton hewitt', 'lock', 'london', 'long term', 'long time', 'look forward', 'look like', 'lose', 'loss', 'lot peopl', 'love', 'low', 'made mistak', 'madrid', 'main', 'maintain', 'major', 'make sure', 'man', 'man utd', 'manchest', 'manchest citi', 'manchest unit', 'mani', 'marathon', 'march', 'marcu', 'mark lewi', 'mark lewi franci', 'martin', 'massiv', 'mate', 'mathew', 'mathew tait', 'matt', 'matter', 'matthew', 'may', 'mayb', 'mean', 'meanwhil', 'medal', 'medallist', 'media', 'meet', 'melbourn', 'member', 'men', 'mental', 'met', 'michael', 'michael vaughan', 'mid', 'middl', 'middlesbrough', 'midfield', 'might', 'mike', 'milan', 'mind', 'minist', 'minut', 'minut second', 'mistak', 'mix', 'mohammad', 'moment', 'monday', 'money', 'morgan', 'morn', 'motiv', 'mourinho', 'much', 'murphi', 'must', 'name', 'nation team', 'natur', 'near', 'nearli', 'negoti', 'neil', 'net', 'never', 'new zealand', 'newcastl', 'news', 'newspap', 'next month', 'next season', 'next week', 'next year', 'nice', 'nicki', 'night', 'nine', 'noon', 'normal', 'northern', 'norwich', 'norwich union', 'noth', 'novemb', 'ntini', 'number', 'number one', 'obviou', 'obvious', 'occas', 'octob', 'offer', 'offici', 'old', 'old trafford', 'olli', 'olli barkley', 'olymp', 'olymp champion', 'olymp gold', 'one day', 'one day intern', 'onto', 'open champion', 'oper', 'oppon', 'opportun', 'opposit', 'option', 'order', 'organis', 'outsid', 'outstand', 'over', 'overnight', 'pace', 'paid', 'pair', 'pakistan', 'pari', 'park', 'part', 'particular', 'partner', 'partnership', 'pass', 'past', 'paul', 'pay', 'penalti', 'peopl', 'perfect', 'perform', 'period', 'person', 'person best', 'peter', 'phil', 'physic', 'pick', 'pitch', 'plan', 'play best', 'play england', 'play first', 'play well', 'pleas', 'plenti', 'pois', 'pole', 'pollock', 'poor', 'posit', 'possibl', 'post', 'potenti', 'power', 'prais', 'prefer', 'premier', 'premier leagu', 'premiership', 'prepar', 'present', 'presid', 'press', 'pressur', 'pretti', 'previou', 'price', 'prix', 'prize', 'probabl', 'problem', 'process', 'produc', 'profession', 'programm', 'progress', 'promis', 'prop', 'prospect', 'proud', 'prove', 'provid', 'public', 'pull', 'punish', 'push', 'qualifi', 'qualiti', 'quarter', 'quarter final', 'question', 'quick', 'quickli', 'quit', 'race', 'radio', 'radio five', 'radio five live', 'rafael', 'rafael benitez', 'rain', 'rais', 'ran', 'rang', 'ranger', 'rank', 'rate', 'rather', 'rb', 'rb six', 'rb six nation', 'reach', 'react', 'read', 'readi', 'real', 'real madrid', 'realis', 'realli', 'reason', 'recal', 'receiv', 'recent', 'record', 'record holder', 'recov', 'red', 'reduc', 'refere', 'refus', 'regard', 'regular', 'reject', 'relationship', 'relay', 'remain', 'remark', 'rememb', 'remov', 'replac', 'replay', 'repli', 'report', 'repres', 'requir', 'respect', 'respond', 'respons', 'rest', 'result', 'resum', 'retir', 'reveal', 'review', 'reward', 'richard', 'rise', 'rival', 'road', 'robert', 'robinson', 'roddick', 'roger', 'roger feder', 'role', 'room', 'round', 'rounder', 'row', 'roy', 'rugbi', 'rugbi board', 'rule', 'runner', 'rusedski', 'russia', 'russian', 'sack', 'safe', 'said team', 'said think', 'said would', 'sale', 'saturday', 'save', 'saw', 'schedul', 'scorer', 'scot', 'scotland', 'scott', 'scottish', 'scrum', 'scrum half', 'seal', 'search', 'second half', 'second round', 'second set', 'secur', 'seed', 'seek', 'seem', 'seen', 'select', 'selector', 'semi', 'semi final', 'send', 'senior', 'sent', 'septemb', 'seri', 'seriou', 'serv', 'session', 'settl', 'seven', 'seventh', 'sever', 'shane', 'shape', 'share', 'shaun', 'shaun pollock', 'sheffield', 'shoaib', 'shock', 'short', 'shot', 'shoulder', 'show', 'shown', 'sidelin', 'sign', 'silver', 'similar', 'simon', 'simpli', 'singl', 'sir', 'sir alex', 'sir alex ferguson', 'sir clive', 'sir clive woodward', 'sit', 'situat', 'six nation', 'six year', 'sixth', 'skill', 'skipper', 'slam', 'slip', 'slump', 'smith', 'sole', 'someon', 'someth', 'sometim', 'soon', 'sort', 'south', 'south africa', 'south african', 'southampton', 'spain', 'spaniard', 'spanish', 'speak', 'special', 'spell', 'spent', 'spinner', 'spokesman', 'spot', 'sprint', 'sprinter', 'spur', 'squad', 'sri', 'sri lanka', 'st', 'stadium', 'stage', 'stamford', 'stamford bridg', 'stand', 'standard', 'star', 'start line', 'start season', 'state', 'statement', 'stay', 'step', 'stephen', 'steve', 'steve harmison', 'steven', 'steven gerrard', 'stop', 'storm', 'straight', 'strauss', 'strength', 'strike', 'striker', 'strong', 'struck', 'struggl', 'stuart', 'stump', 'style', 'sub', 'substitut', 'succeed', 'success', 'suffer', 'suggest', 'sullivan', 'summer', 'sunday', 'superb', 'support', 'sure', 'surfac', 'surgeri', 'surpris', 'surviv', 'suspend', 'suspens', 'sydney', 'tabl', 'tackl', 'tait', 'take place', 'taken', 'talent', 'talk', 'target', 'task', 'taylor', 'team mate', 'team play', 'tel', 'tel aviv', 'televis', 'tell', 'tenni', 'term', 'terri', 'test seri', 'thank', 'thierri', 'thierri henri', 'thoma', 'thompson', 'thorp', 'though', 'thought', 'threat', 'threaten', 'three day', 'three game', 'three month', 'three test', 'three year', 'throughout', 'throw', 'thursday', 'tie', 'tight', 'tim', 'tim henman', 'today', 'togeth', 'told bbc', 'told bbc radio', 'told bbc sport', 'told daili', 'tommi', 'top seed', 'total', 'tottenham', 'touch', 'tough', 'tour', 'tour new', 'tour new zealand', 'tourist', 'tournament', 'track', 'tradit', 'trafford', 'train', 'transfer', 'travel', 'treatment', 'trescothick', 'trial', 'tribut', 'trip', 'trophi', 'troubl', 'tuesday', 'turn', 'twice', 'twickenham', 'two game', 'two match', 'two week', 'two year', 'uefa', 'ul', 'unabl', 'unbeaten', 'understand', 'union', 'unit', 'unlik', 'upset', 'us open', 'usa', 'use', 'utd', 'van', 'vaughan', 'venu', 'veteran', 'victim', 'video', 'view', 'villa', 'villier', 'visit', 'visitor', 'volley', 'wait', 'wale', 'walk', 'want play', 'warm', 'warn', 'wasp', 'wast', 'watch', 'websit', 'wednesday', 'weekend', 'welsh', 'wenger', 'went', 'west', 'whether', 'white', 'whole', 'whose', 'wicket', 'wide', 'wilkinson', 'william', 'wimbledon', 'win first', 'win game', 'wing', 'winger', 'winner', 'winter', 'wish', 'withdraw', 'within', 'without', 'wkt', 'women', 'wonder', 'woodward', 'word', 'work hard', 'world champion', 'world cup', 'world indoor', 'world number', 'world number one', 'world record', 'worri', 'wors', 'would like', 'would take', 'wrong', 'xi', 'yard', 'year ago', 'year said', 'yet', 'young', 'zealand', 'zimbabw']\n"
     ]
    }
   ],
   "source": [
    "print(count_vect_bi_gram.get_feature_names())"
   ]
  },
  {
   "cell_type": "markdown",
   "metadata": {},
   "source": [
    "### TF-IDF"
   ]
  },
  {
   "cell_type": "code",
   "execution_count": 53,
   "metadata": {},
   "outputs": [
    {
     "name": "stdout",
     "output_type": "stream",
     "text": [
      "some sample features(unique words in the corpus) ['ab', 'ab de', 'abil', 'abl', 'absenc', 'absolut', 'accept', 'accord', 'account', 'accus']\n",
      "==================================================\n",
      "the type of count vectorizer  <class 'scipy.sparse.csr.csr_matrix'>\n",
      "the shape of out text TFIDF vectorizer  (423, 1277)\n",
      "the number of unique words including both unigrams and bigrams  1277\n"
     ]
    }
   ],
   "source": [
    "tf_idf_vect = TfidfVectorizer(ngram_range=(1,2), max_df = 70, min_df = 10, max_features = 3000)\n",
    "tf_idf_vect.fit(X_train['preprocessed_data'])\n",
    "print(\"some sample features(unique words in the corpus)\",tf_idf_vect.get_feature_names()[0:10])\n",
    "print('='*50)\n",
    "\n",
    "final_tf_idf_train = tf_idf_vect.transform(X_train['preprocessed_data'])\n",
    "final_tf_idf_cv = tf_idf_vect.transform(X_val['preprocessed_data'])\n",
    "print(\"the type of count vectorizer \",type(final_tf_idf_train))\n",
    "print(\"the shape of out text TFIDF vectorizer \",final_tf_idf_train.get_shape())\n",
    "print(\"the number of unique words including both unigrams and bigrams \", final_tf_idf_train.get_shape()[1])"
   ]
  },
  {
   "cell_type": "code",
   "execution_count": 54,
   "metadata": {},
   "outputs": [
    {
     "name": "stdout",
     "output_type": "stream",
     "text": [
      "['ab', 'ab de', 'abil', 'abl', 'absenc', 'absolut', 'accept', 'accord', 'account', 'accus', 'achiev', 'across', 'act', 'action', 'adam', 'add', 'admit', 'advantag', 'affair', 'africa', 'african', 'afterward', 'agassi', 'age', 'agent', 'ago', 'agre', 'ahead', 'aim', 'akhtar', 'alan', 'alex', 'alex ferguson', 'alleg', 'allow', 'almost', 'along', 'alongsid', 'alreadi', 'although', 'alway', 'ambit', 'american', 'among', 'amount', 'anderson', 'andi', 'andi robinson', 'andi roddick', 'andr', 'andr agassi', 'andrew', 'andrew flintoff', 'andrew strauss', 'anfield', 'ankl', 'announc', 'anti', 'anybodi', 'anyon', 'anyth', 'apart', 'appeal', 'appear', 'appli', 'appoint', 'approach', 'april', 'area', 'arm', 'around', 'arriv', 'arsen', 'arsen wenger', 'ashley', 'ashley gile', 'ask', 'assess', 'assist', 'associ', 'aston', 'aston villa', 'athen', 'athlet', 'attack', 'attempt', 'august', 'australia', 'australian', 'australian open', 'author', 'autumn', 'avail', 'averag', 'aviv', 'avoid', 'awar', 'award', 'away', 'bad', 'badli', 'balanc', 'ban', 'bangladesh', 'bar', 'barcelona', 'barkley', 'base', 'basi', 'bat', 'bath', 'batsman', 'batsmen', 'battl', 'bbc', 'bbc radio', 'bbc sport', 'beaten', 'becam', 'becom', 'began', 'begin', 'behaviour', 'behind', 'bell', 'bench', 'benefit', 'benitez', 'better', 'beyond', 'bid', 'big', 'biggest', 'birmingham', 'bit', 'black', 'blackburn', 'blame', 'block', 'blow', 'blue', 'board', 'bob', 'bodi', 'boje', 'book', 'boost', 'born', 'boss', 'bottom', 'boundari', 'bowl', 'bowler', 'box', 'boy', 'brazilian', 'break', 'brian', 'brian driscol', 'bridg', 'bring', 'britain', 'british', 'broke', 'broken', 'bronz', 'brought', 'brown', 'build', 'byrn', 'call', 'camp', 'campaign', 'campbel', 'cannot', 'cap', 'capabl', 'capt', 'cardiff', 'care', 'career', 'carl', 'carl cup', 'carlo', 'carri', 'carrol', 'case', 'catch', 'caught', 'caus', 'celtic', 'centr', 'central', 'centuri', 'certain', 'certainli', 'chairman', 'challeng', 'champion leagu', 'chang', 'charact', 'charg', 'charli', 'charli hodgson', 'charlton', 'chase', 'chelsea', 'chief', 'chief execut', 'choic', 'chri', 'citi', 'claim', 'clash', 'class', 'clean', 'clear', 'clinch', 'clive', 'clive woodward', 'clock', 'close', 'coach andi', 'coach john', 'cole', 'come back', 'comeback', 'comfort', 'comment', 'commit', 'committe', 'compatriot', 'compet', 'competit', 'complet', 'conced', 'concentr', 'concern', 'condit', 'confer', 'confid', 'confirm', 'connel', 'consid', 'consist', 'content', 'contest', 'continu', 'contract', 'contribut', 'control', 'controversi', 'convert', 'convinc', 'cope', 'corner', 'cost', 'council', 'counti', 'countri', 'coupl', 'cours', 'court', 'cover', 'craig', 'crash', 'creat', 'cricket', 'cricket board', 'critic', 'criticis', 'cross', 'crowd', 'crown', 'cueto', 'cup final', 'cup win', 'current', 'cut', 'daili', 'dallaglio', 'damien', 'darren', 'davi', 'davi cup', 'david', 'dawson', 'day intern', 'de', 'de villier', 'deal', 'debut', 'decemb', 'decid', 'decid whether', 'declin', 'deep', 'defenc', 'defend', 'defend champion', 'definit', 'delight', 'deliv', 'deliveri', 'deni', 'depart', 'departur', 'describ', 'deserv', 'desper', 'despit', 'determin', 'develop', 'differ', 'difficult', 'director', 'disappoint', 'disciplinari', 'discuss', 'dismiss', 'display', 'distanc', 'domest', 'domin', 'done', 'dope', 'doubl', 'doubl olymp', 'doubt', 'draw', 'dream', 'driscol', 'drive', 'drop', 'drop goal', 'drug', 'drug test', 'dubai', 'dublin', 'duck', 'due', 'duo', 'earli', 'earlier', 'earn', 'easi', 'easili', 'edg', 'effect', 'effort', 'eight', 'eighth', 'either', 'els', 'emot', 'end season', 'endur', 'england captain', 'england coach', 'english', 'enjoy', 'enough', 'ensur', 'equal', 'equalis', 'especi', 'europ', 'european', 'european championship', 'european indoor', 'even', 'even though', 'event', 'eventu', 'ever', 'everi', 'everton', 'everyon', 'everyth', 'evid', 'excel', 'excit', 'execut', 'experi', 'experienc', 'explain', 'extend', 'extra', 'extrem', 'eye', 'fa', 'fa cup', 'fact', 'factor', 'fail', 'faith', 'fall', 'fan', 'fantast', 'far', 'fast', 'favour', 'favourit', 'fear', 'featur', 'februari', 'feder', 'feel', 'feet', 'fell', 'fellow', 'felt', 'ferguson', 'field', 'fifa', 'fifth', 'fight', 'figur', 'find', 'fine', 'finish', 'first half', 'first match', 'first round', 'first set', 'first team', 'first test', 'first three', 'first time', 'first two', 'fit', 'five live', 'five year', 'flanker', 'fli', 'fli half', 'flintoff', 'focus', 'follow', 'foot', 'footbal', 'footbal associ', 'forc', 'former england', 'fortun', 'forward', 'fought', 'found', 'four day', 'four year', 'fourth', 'franc', 'franci', 'frank', 'free', 'free kick', 'french', 'french open', 'friday', 'friendli', 'front', 'frustrat', 'full', 'full back', 'fulli', 'fund', 'futur', 'gap', 'garden', 'gareth', 'gari', 'gave', 'gavin', 'gener', 'germani', 'gerrard', 'get back', 'gile', 'given', 'gloucest', 'gmt', 'go get', 'goal', 'goalkeep', 'goe', 'gold', 'gone', 'good enough', 'gordon', 'govern', 'grab', 'graem', 'graem smith', 'graham', 'grand', 'grand prix', 'grand slam', 'green', 'greg', 'greg rusedski', 'ground', 'group', 'guilti', 'gunner', 'guy', 'half time', 'hall', 'hamstr', 'hamstr injuri', 'hand', 'handl', 'happen', 'happi', 'hard', 'harmison', 'harri', 'head', 'hear', 'heard', 'heart', 'heineken', 'heineken cup', 'held', 'help', 'henman', 'henri', 'heptathlon', 'hero', 'hewitt', 'high', 'highli', 'highlight', 'hill', 'histori', 'hit', 'hodgson', 'hoggard', 'hold', 'holder', 'holm', 'home side', 'honour', 'host', 'hotel', 'hour', 'howev', 'huge', 'hurdl', 'hurt', 'iaaf', 'ian', 'idea', 'immedi', 'import', 'impress', 'improv', 'incid', 'includ', 'india', 'indian', 'individu', 'indoor', 'indoor championship', 'inform', 'initi', 'injur', 'inning', 'insid', 'insist', 'inspir', 'instead', 'intend', 'intent', 'interest', 'intern cricket', 'intern rugbi', 'interview', 'investig', 'involv', 'ireland', 'irish', 'issu', 'itali', 'italian', 'jacqu', 'jacqu kalli', 'jame', 'jami', 'januari', 'jason', 'jason garden', 'job', 'johansson', 'john', 'johnson', 'join', 'jonathan', 'jone', 'jonni', 'jonni wilkinson', 'jose', 'jose mourinho', 'judg', 'juli', 'jump', 'june', 'junior', 'justin', 'kalli', 'keen', 'keep', 'keeper', 'kelli', 'kelli holm', 'kept', 'kevin', 'key', 'khan', 'kick', 'kill', 'kim', 'knee', 'knee injuri', 'knew', 'knock', 'lack', 'lad', 'land', 'lanka', 'lansdown', 'lansdown road', 'last eight', 'last month', 'last season', 'last summer', 'last week', 'last weekend', 'last year', 'late', 'later', 'launch', 'leader', 'leagu game', 'learn', 'least', 'leav', 'led', 'lee', 'leg', 'leicest', 'less', 'let', 'level', 'lewi', 'lewi franci', 'lewsey', 'life', 'lift', 'link', 'lion', 'list', 'littl', 'littl bit', 'live', 'liverpool', 'lleyton', 'lleyton hewitt', 'lock', 'london', 'long term', 'long time', 'look forward', 'look like', 'lose', 'loss', 'lot peopl', 'love', 'low', 'made mistak', 'madrid', 'main', 'maintain', 'major', 'make sure', 'man', 'man utd', 'manchest', 'manchest citi', 'manchest unit', 'mani', 'marathon', 'march', 'marcu', 'mark lewi', 'martin', 'massiv', 'mate', 'mathew', 'mathew tait', 'matt', 'matter', 'matthew', 'may', 'mayb', 'mean', 'meanwhil', 'medal', 'medallist', 'media', 'meet', 'melbourn', 'member', 'men', 'mental', 'met', 'michael', 'michael vaughan', 'mid', 'middl', 'middlesbrough', 'midfield', 'might', 'mike', 'milan', 'mind', 'minist', 'minut', 'minut second', 'mistak', 'mix', 'mohammad', 'moment', 'monday', 'money', 'morgan', 'morn', 'motiv', 'mourinho', 'much', 'murphi', 'must', 'name', 'nation team', 'natur', 'near', 'nearli', 'negoti', 'neil', 'net', 'never', 'new zealand', 'newcastl', 'news', 'newspap', 'next month', 'next season', 'next week', 'next year', 'nice', 'nicki', 'night', 'nine', 'noon', 'normal', 'northern', 'norwich', 'norwich union', 'noth', 'novemb', 'ntini', 'number', 'number one', 'obviou', 'obvious', 'occas', 'octob', 'offer', 'offici', 'old', 'old trafford', 'olli', 'olli barkley', 'olymp', 'olymp champion', 'olymp gold', 'one day', 'onto', 'open champion', 'oper', 'oppon', 'opportun', 'opposit', 'option', 'order', 'organis', 'outsid', 'outstand', 'over', 'overnight', 'pace', 'paid', 'pair', 'pakistan', 'pari', 'park', 'part', 'particular', 'partner', 'partnership', 'pass', 'past', 'paul', 'pay', 'penalti', 'peopl', 'perfect', 'perform', 'period', 'person', 'person best', 'peter', 'phil', 'physic', 'pick', 'pitch', 'plan', 'play best', 'play england', 'play first', 'play well', 'pleas', 'plenti', 'pois', 'pole', 'pollock', 'poor', 'posit', 'possibl', 'post', 'potenti', 'power', 'prais', 'prefer', 'premier', 'premier leagu', 'premiership', 'prepar', 'present', 'presid', 'press', 'pressur', 'pretti', 'previou', 'price', 'prix', 'prize', 'probabl', 'problem', 'process', 'produc', 'profession', 'programm', 'progress', 'promis', 'prop', 'prospect', 'proud', 'prove', 'provid', 'public', 'pull', 'punish', 'push', 'qualifi', 'qualiti', 'quarter', 'quarter final', 'question', 'quick', 'quickli', 'quit', 'race', 'radio', 'radio five', 'rafael', 'rafael benitez', 'rain', 'rais', 'ran', 'rang', 'ranger', 'rank', 'rate', 'rather', 'rb', 'rb six', 'reach', 'react', 'read', 'readi', 'real', 'real madrid', 'realis', 'realli', 'reason', 'recal', 'receiv', 'recent', 'record', 'record holder', 'recov', 'red', 'reduc', 'refere', 'refus', 'regard', 'regular', 'reject', 'relationship', 'relay', 'remain', 'remark', 'rememb', 'remov', 'replac', 'replay', 'repli', 'report', 'repres', 'requir', 'respect', 'respond', 'respons', 'rest', 'result', 'resum', 'retir', 'reveal', 'review', 'reward', 'richard', 'rise', 'rival', 'road', 'robert', 'robinson', 'roddick', 'roger', 'roger feder', 'role', 'room', 'round', 'rounder', 'row', 'roy', 'rugbi', 'rugbi board', 'rule', 'runner', 'rusedski', 'russia', 'russian', 'sack', 'safe', 'said team', 'said think', 'said would', 'sale', 'saturday', 'save', 'saw', 'schedul', 'scorer', 'scot', 'scotland', 'scott', 'scottish', 'scrum', 'scrum half', 'seal', 'search', 'second half', 'second round', 'second set', 'secur', 'seed', 'seek', 'seem', 'seen', 'select', 'selector', 'semi', 'semi final', 'send', 'senior', 'sent', 'septemb', 'seri', 'seriou', 'serv', 'session', 'settl', 'seven', 'seventh', 'sever', 'shane', 'shape', 'share', 'shaun', 'shaun pollock', 'sheffield', 'shoaib', 'shock', 'short', 'shot', 'shoulder', 'show', 'shown', 'sidelin', 'sign', 'silver', 'similar', 'simon', 'simpli', 'singl', 'sir', 'sir alex', 'sir clive', 'sit', 'situat', 'six nation', 'six year', 'sixth', 'skill', 'skipper', 'slam', 'slip', 'slump', 'smith', 'sole', 'someon', 'someth', 'sometim', 'soon', 'sort', 'south', 'south africa', 'south african', 'southampton', 'spain', 'spaniard', 'spanish', 'speak', 'special', 'spell', 'spent', 'spinner', 'spokesman', 'spot', 'sprint', 'sprinter', 'spur', 'squad', 'sri', 'sri lanka', 'st', 'stadium', 'stage', 'stamford', 'stamford bridg', 'stand', 'standard', 'star', 'start line', 'start season', 'state', 'statement', 'stay', 'step', 'stephen', 'steve', 'steve harmison', 'steven', 'steven gerrard', 'stop', 'storm', 'straight', 'strauss', 'strength', 'strike', 'striker', 'strong', 'struck', 'struggl', 'stuart', 'stump', 'style', 'sub', 'substitut', 'succeed', 'success', 'suffer', 'suggest', 'sullivan', 'summer', 'sunday', 'superb', 'support', 'sure', 'surfac', 'surgeri', 'surpris', 'surviv', 'suspend', 'suspens', 'sydney', 'tabl', 'tackl', 'tait', 'take place', 'taken', 'talent', 'talk', 'target', 'task', 'taylor', 'team mate', 'team play', 'tel', 'tel aviv', 'televis', 'tell', 'tenni', 'term', 'terri', 'test seri', 'thank', 'thierri', 'thierri henri', 'thoma', 'thompson', 'thorp', 'though', 'thought', 'threat', 'threaten', 'three day', 'three game', 'three month', 'three test', 'three year', 'throughout', 'throw', 'thursday', 'tie', 'tight', 'tim', 'tim henman', 'today', 'togeth', 'told bbc', 'told daili', 'tommi', 'top seed', 'total', 'tottenham', 'touch', 'tough', 'tour', 'tour new', 'tourist', 'tournament', 'track', 'tradit', 'trafford', 'train', 'transfer', 'travel', 'treatment', 'trescothick', 'trial', 'tribut', 'trip', 'trophi', 'troubl', 'tuesday', 'turn', 'twice', 'twickenham', 'two game', 'two match', 'two week', 'two year', 'uefa', 'ul', 'unabl', 'unbeaten', 'understand', 'union', 'unit', 'unlik', 'upset', 'us open', 'usa', 'use', 'utd', 'van', 'vaughan', 'venu', 'veteran', 'victim', 'video', 'view', 'villa', 'villier', 'visit', 'visitor', 'volley', 'wait', 'wale', 'walk', 'want play', 'warm', 'warn', 'wasp', 'wast', 'watch', 'websit', 'wednesday', 'weekend', 'welsh', 'wenger', 'went', 'west', 'whether', 'white', 'whole', 'whose', 'wicket', 'wide', 'wilkinson', 'william', 'wimbledon', 'win first', 'win game', 'wing', 'winger', 'winner', 'winter', 'wish', 'withdraw', 'within', 'without', 'wkt', 'women', 'wonder', 'woodward', 'word', 'work hard', 'world champion', 'world cup', 'world indoor', 'world number', 'world record', 'worri', 'wors', 'would like', 'would take', 'wrong', 'xi', 'yard', 'year ago', 'year said', 'yet', 'young', 'zealand', 'zimbabw']\n"
     ]
    }
   ],
   "source": [
    "print(tf_idf_vect.get_feature_names())"
   ]
  },
  {
   "cell_type": "markdown",
   "metadata": {},
   "source": [
    "# Applying Model"
   ]
  },
  {
   "cell_type": "markdown",
   "metadata": {},
   "source": [
    "### Logistic Regression :"
   ]
  },
  {
   "cell_type": "code",
   "execution_count": 55,
   "metadata": {},
   "outputs": [
    {
     "name": "stdout",
     "output_type": "stream",
     "text": [
      "[-4 -3 -2 -1  0  1  2]\n",
      "[1.e-04 1.e-03 1.e-02 1.e-01 1.e+00 1.e+01 1.e+02]\n"
     ]
    }
   ],
   "source": [
    "# taking the value of C (hyperparameter) from the range of 0.0001 to 100\n",
    "n=np.arange(-4,3)\n",
    "print(n)\n",
    "r=pow(float(10),n)\n",
    "print(r)"
   ]
  },
  {
   "cell_type": "markdown",
   "metadata": {},
   "source": [
    "# Train on Unigram Data"
   ]
  },
  {
   "cell_type": "code",
   "execution_count": 56,
   "metadata": {
    "scrolled": true
   },
   "outputs": [
    {
     "data": {
      "application/vnd.jupyter.widget-view+json": {
       "model_id": "a2ae135183db4c01938d35bd85f27f0c",
       "version_major": 2,
       "version_minor": 0
      },
      "text/plain": [
       "HBox(children=(FloatProgress(value=0.0, max=7.0), HTML(value='')))"
      ]
     },
     "metadata": {},
     "output_type": "display_data"
    },
    {
     "name": "stdout",
     "output_type": "stream",
     "text": [
      "\n"
     ]
    }
   ],
   "source": [
    "from sklearn.linear_model import LogisticRegression\n",
    "from sklearn.metrics import accuracy_score\n",
    "\n",
    "train_accuracy = {}\n",
    "val_accuracy = {}\n",
    "train_loss ={}\n",
    "val_loss = {}\n",
    "for C in tqdm(r):\n",
    "    model = LogisticRegression(C=C, penalty = \"l1\")\n",
    "    model.fit(final_counts, X_train['Class'].values)\n",
    "    predicted_classes = model.predict(final_counts)\n",
    "    predicted_val_classes = model.predict(final_cv)\n",
    "    accuracy_train = accuracy_score(X_train['Class'].values.flatten(),predicted_classes)\n",
    "    accuracy_cv = accuracy_score(X_val['Class'].values.flatten(),predicted_val_classes)\n",
    "    train_accuracy[C] = accuracy_train\n",
    "    val_accuracy[C] = accuracy_cv\n",
    "    train_loss[C] = 1 - accuracy_train\n",
    "    val_loss[C] = 1 - accuracy_cv"
   ]
  },
  {
   "cell_type": "code",
   "execution_count": 57,
   "metadata": {},
   "outputs": [
    {
     "data": {
      "text/plain": [
       "array([0.14, 0.14, 0.35, 0.94, 1.  , 1.  , 1.  ])"
      ]
     },
     "execution_count": 57,
     "metadata": {},
     "output_type": "execute_result"
    }
   ],
   "source": [
    "np.round(list(train_accuracy.values()),2)"
   ]
  },
  {
   "cell_type": "markdown",
   "metadata": {},
   "source": [
    "### Accuracy Graph "
   ]
  },
  {
   "cell_type": "code",
   "execution_count": 58,
   "metadata": {},
   "outputs": [
    {
     "data": {
      "image/png": "[encoded data removed]",
      "text/plain": [
       "<Figure size 1080x360 with 2 Axes>"
      ]
     },
     "metadata": {},
     "output_type": "display_data"
    }
   ],
   "source": [
    "fig, axes = plt.subplots(nrows=1, ncols=2, figsize=(15, 5))\n",
    "axes[0].plot(list(train_accuracy.keys()),list(train_accuracy.values()),label=\"Train Accuracy\")\n",
    "for xy in zip(train_accuracy.keys(), np.round(list(train_accuracy.values()),2)):\n",
    "    axes[0].annotate('(%s, %s)' % xy, xy=xy, textcoords='data')\n",
    "axes[1].plot(list(val_accuracy.keys()),list(val_accuracy.values()),label=\"CV Accuracy\")\n",
    "\n",
    "for xy in zip(val_accuracy.keys(), np.round(list(val_accuracy.values()),2)):\n",
    "    axes[1].annotate('(%s, %s)' % xy, xy=xy, textcoords='data')\n",
    "plt.xlabel('C Value')\n",
    "plt.ylabel('AUC Data')\n",
    "plt.legend()\n",
    "plt.show()"
   ]
  },
  {
   "cell_type": "markdown",
   "metadata": {},
   "source": [
    "### Loss Graph"
   ]
  },
  {
   "cell_type": "code",
   "execution_count": 59,
   "metadata": {
    "scrolled": true
   },
   "outputs": [
    {
     "data": {
      "image/png": "[encoded data removed]",
      "text/plain": [
       "<Figure size 1080x360 with 2 Axes>"
      ]
     },
     "metadata": {},
     "output_type": "display_data"
    }
   ],
   "source": [
    "fig, axes = plt.subplots(nrows=1, ncols=2, figsize=(15, 5))\n",
    "axes[0].plot(list(train_loss.keys()),list(train_loss.values()),label=\"Train Accuracy\")\n",
    "for xy in zip(train_loss.keys(), np.round(list(train_loss.values()),2)):\n",
    "    axes[0].annotate('(%s, %s)' % xy, xy=xy, textcoords='data')\n",
    "\n",
    "axes[1].plot(list(val_loss.keys()),list(val_loss.values()),label=\"CV Accuracy\")\n",
    "for xy in zip(val_loss.keys(), np.round(list(val_loss.values()),2)):\n",
    "    axes[1].annotate('(%s, %s)' % xy, xy=xy, textcoords='data')\n",
    "plt.xlabel('C Value')\n",
    "plt.ylabel('AUC Data')\n",
    "plt.legend()\n",
    "plt.show()"
   ]
  },
  {
   "cell_type": "markdown",
   "metadata": {},
   "source": [
    "### Predicting on Test Data"
   ]
  },
  {
   "cell_type": "code",
   "execution_count": 60,
   "metadata": {},
   "outputs": [],
   "source": [
    "model = LogisticRegression(C=10, penalty = \"l1\")\n",
    "model.fit(final_counts, X_train['Class'].values)\n",
    "predicted_test_classes = model.predict(count_vect.transform(X_test['preprocessed_data']))\n",
    "predicted_category = [classes[index] for index in predicted_test_classes]\n",
    "accuracy = accuracy_score(X_test['Class'].values.flatten(),predicted_test_classes)"
   ]
  },
  {
   "cell_type": "code",
   "execution_count": 61,
   "metadata": {},
   "outputs": [
    {
     "name": "stdout",
     "output_type": "stream",
     "text": [
      "Getting 95.42 % Accuracy on test Data\n"
     ]
    }
   ],
   "source": [
    "print(\"Getting {} % Accuracy on test Data\".format(round(accuracy*100,2)) )"
   ]
  },
  {
   "cell_type": "markdown",
   "metadata": {},
   "source": [
    "### Confusion Matrix"
   ]
  },
  {
   "cell_type": "code",
   "execution_count": 62,
   "metadata": {
    "scrolled": true
   },
   "outputs": [
    {
     "name": "stdout",
     "output_type": "stream",
     "text": [
      "             precision    recall  f1-score   support\n",
      "\n",
      "          0       1.00      0.93      0.96        29\n",
      "          1       0.97      0.97      0.97        35\n",
      "          2       0.94      0.96      0.95        92\n",
      "          3       0.96      0.93      0.95        56\n",
      "          4       0.93      1.00      0.97        28\n",
      "\n",
      "avg / total       0.95      0.95      0.95       240\n",
      "\n"
     ]
    }
   ],
   "source": [
    "print(classification_report(X_test['Class'].values.flatten(),predicted_test_classes))"
   ]
  },
  {
   "cell_type": "code",
   "execution_count": 63,
   "metadata": {},
   "outputs": [],
   "source": [
    "import itertools\n",
    "# Plotting Confusion matrix to know How much data is correctly and incorrectly predicted by our model.\n",
    "\n",
    "def plot_confusion_matrix(cm, classes=['athletics', 'cricket', 'football', 'rugby', 'tennis'],\n",
    "                          normalize=False,\n",
    "                          title='Confusion matrix',\n",
    "                          cmap=plt.cm.Blues):\n",
    "    \"\"\"\n",
    "    This function prints and plots the confusion matrix.\n",
    "    Normalization can be applied by setting `normalize=True`.\n",
    "    \"\"\"\n",
    "    if normalize:\n",
    "        cm = cm.astype('float') / cm.sum(axis=1)[:, np.newaxis]\n",
    "        print(\"Normalized confusion matrix\")\n",
    "    else:\n",
    "        print('Confusion matrix, without normalization')\n",
    "\n",
    "#     print(cm)\n",
    "\n",
    "    plt.imshow(cm, interpolation='nearest', cmap=cmap)\n",
    "    plt.title(title)\n",
    "    plt.colorbar()\n",
    "    tick_marks = np.arange(len(classes))\n",
    "    plt.xticks(tick_marks, classes, rotation=45)\n",
    "    plt.yticks(tick_marks, classes)\n",
    "\n",
    "    fmt = '.2f' if normalize else 'd'\n",
    "    thresh = cm.max() / 2.\n",
    "    for i, j in itertools.product(range(cm.shape[0]), range(cm.shape[1])):\n",
    "        plt.text(j, i, format(cm[i, j], fmt),\n",
    "                 horizontalalignment=\"center\",\n",
    "                 color=\"white\" if cm[i, j] > thresh else \"black\")\n",
    "\n",
    "    plt.ylabel('True label')\n",
    "    plt.xlabel('Predicted label')\n",
    "    plt.tight_layout()\n"
   ]
  },
  {
   "cell_type": "code",
   "execution_count": 64,
   "metadata": {},
   "outputs": [
    {
     "data": {
      "text/plain": [
       "football     92\n",
       "rugby        56\n",
       "cricket      35\n",
       "athletics    29\n",
       "tennis       28\n",
       "Name: Category, dtype: int64"
      ]
     },
     "execution_count": 64,
     "metadata": {},
     "output_type": "execute_result"
    }
   ],
   "source": [
    "X_test['Category'].value_counts()"
   ]
  },
  {
   "cell_type": "code",
   "execution_count": 65,
   "metadata": {
    "scrolled": false
   },
   "outputs": [
    {
     "name": "stdout",
     "output_type": "stream",
     "text": [
      "Confusion matrix, without normalization\n",
      "Normalized confusion matrix\n"
     ]
    },
    {
     "data": {
      "image/png": "[encoded data removed]",
      "text/plain": [
       "<Figure size 432x288 with 2 Axes>"
      ]
     },
     "metadata": {},
     "output_type": "display_data"
    },
    {
     "data": {
      "image/png": "[encoded data removed]",
      "text/plain": [
       "<Figure size 432x288 with 2 Axes>"
      ]
     },
     "metadata": {},
     "output_type": "display_data"
    }
   ],
   "source": [
    "cnf_matrix  = confusion_matrix(X_test['Class'].values.flatten(),predicted_test_classes)\n",
    "np.set_printoptions(precision=2)\n",
    "\n",
    "# Plot non-normalized confusion matrix\n",
    "plt.figure()\n",
    "plot_confusion_matrix(cnf_matrix, \n",
    "                      title='Confusion matrix, without normalization')\n",
    "# Plot normalized confusion matrix\n",
    "plt.figure()\n",
    "plot_confusion_matrix(cnf_matrix,  normalize=True,\n",
    "                      title='Normalized confusion matrix')\n",
    "\n",
    "plt.show()"
   ]
  },
  {
   "cell_type": "code",
   "execution_count": 66,
   "metadata": {},
   "outputs": [],
   "source": [
    "# This function will give top 10 positive class feature which has hightest probability from BOW data with l1 regularizer\n",
    "def most_informative_feature_for_class(vectorizer, classifier, class_label, n=20):\n",
    "    classlabel = classes.index(class_label)\n",
    "    print(\"Class Name : \",class_label, \"Class Index : \",classlabel)\n",
    "    labelid = list(classifier.classes_).index(classlabel)\n",
    "    feature_names = vectorizer.get_feature_names()\n",
    "    topn = sorted(zip(classifier.coef_[labelid], feature_names))[:n]\n",
    "    column_names = [\"word\", \"coef\"]\n",
    "    df = pd.DataFrame(columns = column_names)\n",
    "    row = 0\n",
    "    for coe, name in topn:\n",
    "        df.loc[row] = [name, abs(coe)]\n",
    "        row+=1\n",
    "    return df"
   ]
  },
  {
   "cell_type": "code",
   "execution_count": 67,
   "metadata": {},
   "outputs": [
    {
     "data": {
      "text/plain": [
       "['athletics', 'cricket', 'football', 'rugby', 'tennis']"
      ]
     },
     "execution_count": 67,
     "metadata": {},
     "output_type": "execute_result"
    }
   ],
   "source": [
    "classes"
   ]
  },
  {
   "cell_type": "code",
   "execution_count": 68,
   "metadata": {},
   "outputs": [
    {
     "name": "stdout",
     "output_type": "stream",
     "text": [
      "Most Important Feature for class : \n",
      "Class Name :  athletics Class Index :  0\n"
     ]
    },
    {
     "data": {
      "image/png": "[encoded data removed]",
      "text/plain": [
       "<Figure size 432x288 with 1 Axes>"
      ]
     },
     "metadata": {},
     "output_type": "display_data"
    }
   ],
   "source": [
    "print(\"Most Important Feature for class : \")\n",
    "df = most_informative_feature_for_class(count_vect,model,'athletics')\n",
    "ax = df.plot.barh(x='word', y='coef')"
   ]
  },
  {
   "cell_type": "code",
   "execution_count": 69,
   "metadata": {},
   "outputs": [
    {
     "name": "stdout",
     "output_type": "stream",
     "text": [
      "Most Important Feature for class : \n",
      "Class Name :  cricket Class Index :  1\n"
     ]
    },
    {
     "data": {
      "image/png": "[encoded data removed]",
      "text/plain": [
       "<Figure size 432x288 with 1 Axes>"
      ]
     },
     "metadata": {},
     "output_type": "display_data"
    }
   ],
   "source": [
    "print(\"Most Important Feature for class : \")\n",
    "df = most_informative_feature_for_class(count_vect,model,'cricket')\n",
    "ax = df.plot.barh(x='word', y='coef')"
   ]
  },
  {
   "cell_type": "code",
   "execution_count": 70,
   "metadata": {},
   "outputs": [
    {
     "name": "stdout",
     "output_type": "stream",
     "text": [
      "Most Important Feature for class : \n",
      "Class Name :  football Class Index :  2\n"
     ]
    },
    {
     "data": {
      "image/png": "[encoded data removed]",
      "text/plain": [
       "<Figure size 432x288 with 1 Axes>"
      ]
     },
     "metadata": {},
     "output_type": "display_data"
    }
   ],
   "source": [
    "print(\"Most Important Feature for class : \")\n",
    "df = most_informative_feature_for_class(count_vect,model,'football')\n",
    "ax = df.plot.barh(x='word', y='coef')"
   ]
  },
  {
   "cell_type": "code",
   "execution_count": 71,
   "metadata": {},
   "outputs": [
    {
     "name": "stdout",
     "output_type": "stream",
     "text": [
      "Most Important Feature for class : \n",
      "Class Name :  rugby Class Index :  3\n"
     ]
    },
    {
     "data": {
      "image/png": "[encoded data removed]",
      "text/plain": [
       "<Figure size 432x288 with 1 Axes>"
      ]
     },
     "metadata": {},
     "output_type": "display_data"
    }
   ],
   "source": [
    "print(\"Most Important Feature for class : \")\n",
    "df = most_informative_feature_for_class(count_vect,model,'rugby')\n",
    "ax = df.plot.barh(x='word', y='coef')"
   ]
  },
  {
   "cell_type": "code",
   "execution_count": 72,
   "metadata": {},
   "outputs": [
    {
     "name": "stdout",
     "output_type": "stream",
     "text": [
      "Most Important Feature for class : \n",
      "Class Name :  tennis Class Index :  4\n"
     ]
    },
    {
     "data": {
      "image/png": "[encoded data removed]",
      "text/plain": [
       "<Figure size 432x288 with 1 Axes>"
      ]
     },
     "metadata": {},
     "output_type": "display_data"
    }
   ],
   "source": [
    "print(\"Most Important Feature for class : \")\n",
    "df = most_informative_feature_for_class(count_vect,model,'tennis')\n",
    "ax = df.plot.barh(x='word', y='coef')"
   ]
  },
  {
   "cell_type": "code",
   "execution_count": 73,
   "metadata": {
    "scrolled": true
   },
   "outputs": [
    {
     "data": {
      "text/html": [
       "<div>\n",
       "<style scoped>\n",
       "    .dataframe tbody tr th:only-of-type {\n",
       "        vertical-align: middle;\n",
       "    }\n",
       "\n",
       "    .dataframe tbody tr th {\n",
       "        vertical-align: top;\n",
       "    }\n",
       "\n",
       "    .dataframe thead th {\n",
       "        text-align: right;\n",
       "    }\n",
       "</style>\n",
       "<table border=\"1\" class=\"dataframe\">\n",
       "  <thead>\n",
       "    <tr style=\"text-align: right;\">\n",
       "      <th></th>\n",
       "      <th>Text</th>\n",
       "      <th>Category</th>\n",
       "      <th>Class</th>\n",
       "      <th>Count</th>\n",
       "      <th>preprocessed_data</th>\n",
       "    </tr>\n",
       "  </thead>\n",
       "  <tbody>\n",
       "    <tr>\n",
       "      <th>513</th>\n",
       "      <td>Poll explains free-kick decision\\n\\nReferee Gr...</td>\n",
       "      <td>football</td>\n",
       "      <td>2</td>\n",
       "      <td>1</td>\n",
       "      <td>poll explain free kick decis refere graham pol...</td>\n",
       "    </tr>\n",
       "    <tr>\n",
       "      <th>693</th>\n",
       "      <td>Wenger steps up row\\n\\nArsene Wenger has stepp...</td>\n",
       "      <td>football</td>\n",
       "      <td>2</td>\n",
       "      <td>1</td>\n",
       "      <td>wenger step row arsen wenger step feud sir ale...</td>\n",
       "    </tr>\n",
       "    <tr>\n",
       "      <th>377</th>\n",
       "      <td>Kuznetsova 'failed a drugs test'\\n\\nUS Open ch...</td>\n",
       "      <td>tennis</td>\n",
       "      <td>4</td>\n",
       "      <td>1</td>\n",
       "      <td>kuznetsova fail drug test us open champion sve...</td>\n",
       "    </tr>\n",
       "    <tr>\n",
       "      <th>33</th>\n",
       "      <td>Australia unchanged for Pakistan\\n\\nAustralia ...</td>\n",
       "      <td>cricket</td>\n",
       "      <td>1</td>\n",
       "      <td>1</td>\n",
       "      <td>australia unchang pakistan australia name unch...</td>\n",
       "    </tr>\n",
       "    <tr>\n",
       "      <th>63</th>\n",
       "      <td>Benitez delight after crucial win\\n\\nLiverpool...</td>\n",
       "      <td>football</td>\n",
       "      <td>2</td>\n",
       "      <td>1</td>\n",
       "      <td>benitez delight crucial win liverpool manag ra...</td>\n",
       "    </tr>\n",
       "  </tbody>\n",
       "</table>\n",
       "</div>"
      ],
      "text/plain": [
       "                                                  Text  Category  Class  \\\n",
       "513  Poll explains free-kick decision\\n\\nReferee Gr...  football      2   \n",
       "693  Wenger steps up row\\n\\nArsene Wenger has stepp...  football      2   \n",
       "377  Kuznetsova 'failed a drugs test'\\n\\nUS Open ch...    tennis      4   \n",
       "33   Australia unchanged for Pakistan\\n\\nAustralia ...   cricket      1   \n",
       "63   Benitez delight after crucial win\\n\\nLiverpool...  football      2   \n",
       "\n",
       "     Count                                  preprocessed_data  \n",
       "513      1  poll explain free kick decis refere graham pol...  \n",
       "693      1  wenger step row arsen wenger step feud sir ale...  \n",
       "377      1  kuznetsova fail drug test us open champion sve...  \n",
       "33       1  australia unchang pakistan australia name unch...  \n",
       "63       1  benitez delight crucial win liverpool manag ra...  "
      ]
     },
     "execution_count": 73,
     "metadata": {},
     "output_type": "execute_result"
    }
   ],
   "source": [
    "X_test.head()"
   ]
  },
  {
   "cell_type": "code",
   "execution_count": null,
   "metadata": {},
   "outputs": [],
   "source": []
  },
  {
   "cell_type": "code",
   "execution_count": 74,
   "metadata": {},
   "outputs": [],
   "source": [
    "# X_test = X_test.drop(['unigram_test', 'Count'], axis=1)"
   ]
  },
  {
   "cell_type": "code",
   "execution_count": 75,
   "metadata": {},
   "outputs": [
    {
     "name": "stderr",
     "output_type": "stream",
     "text": [
      "C:\\ProgramData\\Anaconda3\\lib\\site-packages\\ipykernel_launcher.py:1: SettingWithCopyWarning: \n",
      "A value is trying to be set on a copy of a slice from a DataFrame.\n",
      "Try using .loc[row_indexer,col_indexer] = value instead\n",
      "\n",
      "See the caveats in the documentation: http://pandas.pydata.org/pandas-docs/stable/indexing.html#indexing-view-versus-copy\n",
      "  \"\"\"Entry point for launching an IPython kernel.\n",
      "C:\\ProgramData\\Anaconda3\\lib\\site-packages\\ipykernel_launcher.py:2: SettingWithCopyWarning: \n",
      "A value is trying to be set on a copy of a slice from a DataFrame.\n",
      "Try using .loc[row_indexer,col_indexer] = value instead\n",
      "\n",
      "See the caveats in the documentation: http://pandas.pydata.org/pandas-docs/stable/indexing.html#indexing-view-versus-copy\n",
      "  \n"
     ]
    }
   ],
   "source": [
    "X_test['Unigram_Predicted_Test'] = predicted_test_classes\n",
    "X_test['Unigram_Predicted_Test_Category'] = predicted_category"
   ]
  },
  {
   "cell_type": "code",
   "execution_count": 76,
   "metadata": {},
   "outputs": [
    {
     "data": {
      "text/plain": [
       "(240, 240)"
      ]
     },
     "execution_count": 76,
     "metadata": {},
     "output_type": "execute_result"
    }
   ],
   "source": [
    "len(predicted_test_classes), len(X_test)"
   ]
  },
  {
   "cell_type": "code",
   "execution_count": 77,
   "metadata": {},
   "outputs": [
    {
     "data": {
      "text/html": [
       "<div>\n",
       "<style scoped>\n",
       "    .dataframe tbody tr th:only-of-type {\n",
       "        vertical-align: middle;\n",
       "    }\n",
       "\n",
       "    .dataframe tbody tr th {\n",
       "        vertical-align: top;\n",
       "    }\n",
       "\n",
       "    .dataframe thead th {\n",
       "        text-align: right;\n",
       "    }\n",
       "</style>\n",
       "<table border=\"1\" class=\"dataframe\">\n",
       "  <thead>\n",
       "    <tr style=\"text-align: right;\">\n",
       "      <th></th>\n",
       "      <th>Text</th>\n",
       "      <th>Category</th>\n",
       "      <th>Class</th>\n",
       "      <th>Count</th>\n",
       "      <th>preprocessed_data</th>\n",
       "      <th>Unigram_Predicted_Test</th>\n",
       "      <th>Unigram_Predicted_Test_Category</th>\n",
       "    </tr>\n",
       "  </thead>\n",
       "  <tbody>\n",
       "    <tr>\n",
       "      <th>513</th>\n",
       "      <td>Poll explains free-kick decision\\n\\nReferee Gr...</td>\n",
       "      <td>football</td>\n",
       "      <td>2</td>\n",
       "      <td>1</td>\n",
       "      <td>poll explain free kick decis refere graham pol...</td>\n",
       "      <td>2</td>\n",
       "      <td>football</td>\n",
       "    </tr>\n",
       "    <tr>\n",
       "      <th>693</th>\n",
       "      <td>Wenger steps up row\\n\\nArsene Wenger has stepp...</td>\n",
       "      <td>football</td>\n",
       "      <td>2</td>\n",
       "      <td>1</td>\n",
       "      <td>wenger step row arsen wenger step feud sir ale...</td>\n",
       "      <td>2</td>\n",
       "      <td>football</td>\n",
       "    </tr>\n",
       "    <tr>\n",
       "      <th>377</th>\n",
       "      <td>Kuznetsova 'failed a drugs test'\\n\\nUS Open ch...</td>\n",
       "      <td>tennis</td>\n",
       "      <td>4</td>\n",
       "      <td>1</td>\n",
       "      <td>kuznetsova fail drug test us open champion sve...</td>\n",
       "      <td>4</td>\n",
       "      <td>tennis</td>\n",
       "    </tr>\n",
       "    <tr>\n",
       "      <th>33</th>\n",
       "      <td>Australia unchanged for Pakistan\\n\\nAustralia ...</td>\n",
       "      <td>cricket</td>\n",
       "      <td>1</td>\n",
       "      <td>1</td>\n",
       "      <td>australia unchang pakistan australia name unch...</td>\n",
       "      <td>1</td>\n",
       "      <td>cricket</td>\n",
       "    </tr>\n",
       "    <tr>\n",
       "      <th>63</th>\n",
       "      <td>Benitez delight after crucial win\\n\\nLiverpool...</td>\n",
       "      <td>football</td>\n",
       "      <td>2</td>\n",
       "      <td>1</td>\n",
       "      <td>benitez delight crucial win liverpool manag ra...</td>\n",
       "      <td>2</td>\n",
       "      <td>football</td>\n",
       "    </tr>\n",
       "  </tbody>\n",
       "</table>\n",
       "</div>"
      ],
      "text/plain": [
       "                                                  Text  Category  Class  \\\n",
       "513  Poll explains free-kick decision\\n\\nReferee Gr...  football      2   \n",
       "693  Wenger steps up row\\n\\nArsene Wenger has stepp...  football      2   \n",
       "377  Kuznetsova 'failed a drugs test'\\n\\nUS Open ch...    tennis      4   \n",
       "33   Australia unchanged for Pakistan\\n\\nAustralia ...   cricket      1   \n",
       "63   Benitez delight after crucial win\\n\\nLiverpool...  football      2   \n",
       "\n",
       "     Count                                  preprocessed_data  \\\n",
       "513      1  poll explain free kick decis refere graham pol...   \n",
       "693      1  wenger step row arsen wenger step feud sir ale...   \n",
       "377      1  kuznetsova fail drug test us open champion sve...   \n",
       "33       1  australia unchang pakistan australia name unch...   \n",
       "63       1  benitez delight crucial win liverpool manag ra...   \n",
       "\n",
       "     Unigram_Predicted_Test Unigram_Predicted_Test_Category  \n",
       "513                       2                        football  \n",
       "693                       2                        football  \n",
       "377                       4                          tennis  \n",
       "33                        1                         cricket  \n",
       "63                        2                        football  "
      ]
     },
     "execution_count": 77,
     "metadata": {},
     "output_type": "execute_result"
    }
   ],
   "source": [
    "X_test.head()"
   ]
  },
  {
   "cell_type": "code",
   "execution_count": 78,
   "metadata": {},
   "outputs": [],
   "source": [
    "X_test_not_equal = X_test[X_test['Class'] != X_test['Unigram_Predicted_Test']]"
   ]
  },
  {
   "cell_type": "code",
   "execution_count": 79,
   "metadata": {},
   "outputs": [
    {
     "data": {
      "text/html": [
       "<div>\n",
       "<style scoped>\n",
       "    .dataframe tbody tr th:only-of-type {\n",
       "        vertical-align: middle;\n",
       "    }\n",
       "\n",
       "    .dataframe tbody tr th {\n",
       "        vertical-align: top;\n",
       "    }\n",
       "\n",
       "    .dataframe thead th {\n",
       "        text-align: right;\n",
       "    }\n",
       "</style>\n",
       "<table border=\"1\" class=\"dataframe\">\n",
       "  <thead>\n",
       "    <tr style=\"text-align: right;\">\n",
       "      <th></th>\n",
       "      <th>Text</th>\n",
       "      <th>Category</th>\n",
       "      <th>Class</th>\n",
       "      <th>Count</th>\n",
       "      <th>preprocessed_data</th>\n",
       "      <th>Unigram_Predicted_Test</th>\n",
       "      <th>Unigram_Predicted_Test_Category</th>\n",
       "    </tr>\n",
       "  </thead>\n",
       "  <tbody>\n",
       "    <tr>\n",
       "      <th>346</th>\n",
       "      <td>Johnson too strong for GB runners\\n\\nBritain's...</td>\n",
       "      <td>athletics</td>\n",
       "      <td>0</td>\n",
       "      <td>1</td>\n",
       "      <td>johnson strong gb runner britain kathi butler ...</td>\n",
       "      <td>2</td>\n",
       "      <td>football</td>\n",
       "    </tr>\n",
       "    <tr>\n",
       "      <th>388</th>\n",
       "      <td>Lewsey puzzle over disallowed try\\n\\nEngland's...</td>\n",
       "      <td>rugby</td>\n",
       "      <td>3</td>\n",
       "      <td>1</td>\n",
       "      <td>lewsey puzzl disallow tri england josh lewsey ...</td>\n",
       "      <td>2</td>\n",
       "      <td>football</td>\n",
       "    </tr>\n",
       "    <tr>\n",
       "      <th>449</th>\n",
       "      <td>Murphy: That was a bruising battle\\n\\nThat's w...</td>\n",
       "      <td>rugby</td>\n",
       "      <td>3</td>\n",
       "      <td>1</td>\n",
       "      <td>murphi bruis battl call tough game physic fair...</td>\n",
       "      <td>4</td>\n",
       "      <td>tennis</td>\n",
       "    </tr>\n",
       "    <tr>\n",
       "      <th>568</th>\n",
       "      <td>SA return to Mauritius\\n\\nTop seeds South Afri...</td>\n",
       "      <td>football</td>\n",
       "      <td>2</td>\n",
       "      <td>1</td>\n",
       "      <td>sa return mauritiu top seed south africa retur...</td>\n",
       "      <td>4</td>\n",
       "      <td>tennis</td>\n",
       "    </tr>\n",
       "    <tr>\n",
       "      <th>227</th>\n",
       "      <td>Finnan says Irish can win group\\n\\nSteve Finna...</td>\n",
       "      <td>football</td>\n",
       "      <td>2</td>\n",
       "      <td>1</td>\n",
       "      <td>finnan say irish win group steve finnan believ...</td>\n",
       "      <td>3</td>\n",
       "      <td>rugby</td>\n",
       "    </tr>\n",
       "  </tbody>\n",
       "</table>\n",
       "</div>"
      ],
      "text/plain": [
       "                                                  Text   Category  Class  \\\n",
       "346  Johnson too strong for GB runners\\n\\nBritain's...  athletics      0   \n",
       "388  Lewsey puzzle over disallowed try\\n\\nEngland's...      rugby      3   \n",
       "449  Murphy: That was a bruising battle\\n\\nThat's w...      rugby      3   \n",
       "568  SA return to Mauritius\\n\\nTop seeds South Afri...   football      2   \n",
       "227  Finnan says Irish can win group\\n\\nSteve Finna...   football      2   \n",
       "\n",
       "     Count                                  preprocessed_data  \\\n",
       "346      1  johnson strong gb runner britain kathi butler ...   \n",
       "388      1  lewsey puzzl disallow tri england josh lewsey ...   \n",
       "449      1  murphi bruis battl call tough game physic fair...   \n",
       "568      1  sa return mauritiu top seed south africa retur...   \n",
       "227      1  finnan say irish win group steve finnan believ...   \n",
       "\n",
       "     Unigram_Predicted_Test Unigram_Predicted_Test_Category  \n",
       "346                       2                        football  \n",
       "388                       2                        football  \n",
       "449                       4                          tennis  \n",
       "568                       4                          tennis  \n",
       "227                       3                           rugby  "
      ]
     },
     "execution_count": 79,
     "metadata": {},
     "output_type": "execute_result"
    }
   ],
   "source": [
    "X_test_not_equal.head()"
   ]
  },
  {
   "cell_type": "code",
   "execution_count": 80,
   "metadata": {},
   "outputs": [],
   "source": [
    "test_data_result = pd.DataFrame({'Text':X_test['Text'], 'Pre-Processed Text':X_test['preprocessed_data'], 'Actual Category':X_test['Category'], 'Predicted Category':X_test['Unigram_Predicted_Test_Category']})"
   ]
  },
  {
   "cell_type": "code",
   "execution_count": 81,
   "metadata": {
    "scrolled": true
   },
   "outputs": [
    {
     "data": {
      "text/html": [
       "<div>\n",
       "<style scoped>\n",
       "    .dataframe tbody tr th:only-of-type {\n",
       "        vertical-align: middle;\n",
       "    }\n",
       "\n",
       "    .dataframe tbody tr th {\n",
       "        vertical-align: top;\n",
       "    }\n",
       "\n",
       "    .dataframe thead th {\n",
       "        text-align: right;\n",
       "    }\n",
       "</style>\n",
       "<table border=\"1\" class=\"dataframe\">\n",
       "  <thead>\n",
       "    <tr style=\"text-align: right;\">\n",
       "      <th></th>\n",
       "      <th>Text</th>\n",
       "      <th>Pre-Processed Text</th>\n",
       "      <th>Actual Category</th>\n",
       "      <th>Predicted Category</th>\n",
       "    </tr>\n",
       "  </thead>\n",
       "  <tbody>\n",
       "    <tr>\n",
       "      <th>513</th>\n",
       "      <td>Poll explains free-kick decision\\n\\nReferee Gr...</td>\n",
       "      <td>poll explain free kick decis refere graham pol...</td>\n",
       "      <td>football</td>\n",
       "      <td>football</td>\n",
       "    </tr>\n",
       "    <tr>\n",
       "      <th>693</th>\n",
       "      <td>Wenger steps up row\\n\\nArsene Wenger has stepp...</td>\n",
       "      <td>wenger step row arsen wenger step feud sir ale...</td>\n",
       "      <td>football</td>\n",
       "      <td>football</td>\n",
       "    </tr>\n",
       "    <tr>\n",
       "      <th>377</th>\n",
       "      <td>Kuznetsova 'failed a drugs test'\\n\\nUS Open ch...</td>\n",
       "      <td>kuznetsova fail drug test us open champion sve...</td>\n",
       "      <td>tennis</td>\n",
       "      <td>tennis</td>\n",
       "    </tr>\n",
       "    <tr>\n",
       "      <th>33</th>\n",
       "      <td>Australia unchanged for Pakistan\\n\\nAustralia ...</td>\n",
       "      <td>australia unchang pakistan australia name unch...</td>\n",
       "      <td>cricket</td>\n",
       "      <td>cricket</td>\n",
       "    </tr>\n",
       "    <tr>\n",
       "      <th>63</th>\n",
       "      <td>Benitez delight after crucial win\\n\\nLiverpool...</td>\n",
       "      <td>benitez delight crucial win liverpool manag ra...</td>\n",
       "      <td>football</td>\n",
       "      <td>football</td>\n",
       "    </tr>\n",
       "  </tbody>\n",
       "</table>\n",
       "</div>"
      ],
      "text/plain": [
       "                                                  Text  \\\n",
       "513  Poll explains free-kick decision\\n\\nReferee Gr...   \n",
       "693  Wenger steps up row\\n\\nArsene Wenger has stepp...   \n",
       "377  Kuznetsova 'failed a drugs test'\\n\\nUS Open ch...   \n",
       "33   Australia unchanged for Pakistan\\n\\nAustralia ...   \n",
       "63   Benitez delight after crucial win\\n\\nLiverpool...   \n",
       "\n",
       "                                    Pre-Processed Text Actual Category  \\\n",
       "513  poll explain free kick decis refere graham pol...        football   \n",
       "693  wenger step row arsen wenger step feud sir ale...        football   \n",
       "377  kuznetsova fail drug test us open champion sve...          tennis   \n",
       "33   australia unchang pakistan australia name unch...         cricket   \n",
       "63   benitez delight crucial win liverpool manag ra...        football   \n",
       "\n",
       "    Predicted Category  \n",
       "513           football  \n",
       "693           football  \n",
       "377             tennis  \n",
       "33             cricket  \n",
       "63            football  "
      ]
     },
     "execution_count": 81,
     "metadata": {},
     "output_type": "execute_result"
    }
   ],
   "source": [
    "test_data_result.head()"
   ]
  },
  {
   "cell_type": "code",
   "execution_count": 82,
   "metadata": {},
   "outputs": [],
   "source": [
    "test_data_result.to_csv('test_result_bow_unigram.csv')"
   ]
  },
  {
   "cell_type": "markdown",
   "metadata": {},
   "source": [
    "### Predicting on Future Unseen Text Data"
   ]
  },
  {
   "cell_type": "code",
   "execution_count": 83,
   "metadata": {},
   "outputs": [],
   "source": [
    "PATH = '../BBCSports/bbcsport-fulltext-single/data/'"
   ]
  },
  {
   "cell_type": "code",
   "execution_count": 84,
   "metadata": {},
   "outputs": [],
   "source": [
    "def testing_data(path):\n",
    "    test_files = os.listdir(PATH)\n",
    "    test_files.remove('.ipynb_checkpoints')\n",
    "    test_data = []\n",
    "    for FILE_NAME in test_files:\n",
    "        file1 = open(path+FILE_NAME,\"r\")\n",
    "        test_data.append(file1.read())\n",
    "    preprocessed_data_test = []\n",
    "    # tqdm is for printing the status bar\n",
    "    for sentance in tqdm(test_data):\n",
    "\n",
    "    #     sentance = decontracted(sentance)\n",
    "        #remove words with numbers python: https://stackoverflow.com/a/18082370/4084039\n",
    "        sentance = re.sub(\"\\S*\\d\\S*\", \"\", sentance).strip()\n",
    "        sentance = re.sub('[^A-Za-z]+', ' ', sentance)\n",
    "        # https://gist.github.com/sebleier/554280\n",
    "        sentance = ' '.join(porter.stem(e.lower()) for e in sentance.split() if e.lower() not in stopWords)\n",
    "        preprocessed_data_test.append(sentance.strip())\n",
    "    predicted_on_unseen_classes = model.predict(count_vect.transform(preprocessed_data_test))\n",
    "    predicted_category = [classes[index] for index in predicted_on_unseen_classes]\n",
    "    data_dict_test = {'Text':test_data,'Category':predicted_category}\n",
    "    data_test  = pd.DataFrame(data_dict_test)\n",
    "    return data_test"
   ]
  },
  {
   "cell_type": "code",
   "execution_count": 85,
   "metadata": {},
   "outputs": [
    {
     "data": {
      "application/vnd.jupyter.widget-view+json": {
       "model_id": "6890ce7438304f14b1be04711af67de3",
       "version_major": 2,
       "version_minor": 0
      },
      "text/plain": [
       "HBox(children=(FloatProgress(value=0.0, max=737.0), HTML(value='')))"
      ]
     },
     "metadata": {},
     "output_type": "display_data"
    },
    {
     "name": "stdout",
     "output_type": "stream",
     "text": [
      "\n"
     ]
    }
   ],
   "source": [
    "result_unseen_data_test = testing_data(PATH)"
   ]
  },
  {
   "cell_type": "code",
   "execution_count": 86,
   "metadata": {},
   "outputs": [
    {
     "data": {
      "text/html": [
       "<div>\n",
       "<style scoped>\n",
       "    .dataframe tbody tr th:only-of-type {\n",
       "        vertical-align: middle;\n",
       "    }\n",
       "\n",
       "    .dataframe tbody tr th {\n",
       "        vertical-align: top;\n",
       "    }\n",
       "\n",
       "    .dataframe thead th {\n",
       "        text-align: right;\n",
       "    }\n",
       "</style>\n",
       "<table border=\"1\" class=\"dataframe\">\n",
       "  <thead>\n",
       "    <tr style=\"text-align: right;\">\n",
       "      <th></th>\n",
       "      <th>Text</th>\n",
       "      <th>Category</th>\n",
       "    </tr>\n",
       "  </thead>\n",
       "  <tbody>\n",
       "    <tr>\n",
       "      <th>0</th>\n",
       "      <td>Henman overcomes rival Rusedski\\n\\nTim Henman ...</td>\n",
       "      <td>tennis</td>\n",
       "    </tr>\n",
       "    <tr>\n",
       "      <th>1</th>\n",
       "      <td>Hantuchova in Dubai last eight\\n\\nDaniela Hant...</td>\n",
       "      <td>tennis</td>\n",
       "    </tr>\n",
       "    <tr>\n",
       "      <th>2</th>\n",
       "      <td>Sharapova overcomes tough Molik\\n\\nWimbledon c...</td>\n",
       "      <td>tennis</td>\n",
       "    </tr>\n",
       "    <tr>\n",
       "      <th>3</th>\n",
       "      <td>Hayden sets up Australia win\\n\\nSecond one-day...</td>\n",
       "      <td>cricket</td>\n",
       "    </tr>\n",
       "    <tr>\n",
       "      <th>4</th>\n",
       "      <td>Pietersen gives England a chance\\n\\nLunch: Eng...</td>\n",
       "      <td>cricket</td>\n",
       "    </tr>\n",
       "  </tbody>\n",
       "</table>\n",
       "</div>"
      ],
      "text/plain": [
       "                                                Text Category\n",
       "0  Henman overcomes rival Rusedski\\n\\nTim Henman ...   tennis\n",
       "1  Hantuchova in Dubai last eight\\n\\nDaniela Hant...   tennis\n",
       "2  Sharapova overcomes tough Molik\\n\\nWimbledon c...   tennis\n",
       "3  Hayden sets up Australia win\\n\\nSecond one-day...  cricket\n",
       "4  Pietersen gives England a chance\\n\\nLunch: Eng...  cricket"
      ]
     },
     "execution_count": 86,
     "metadata": {},
     "output_type": "execute_result"
    }
   ],
   "source": [
    "result_unseen_data_test.head()"
   ]
  },
  {
   "cell_type": "code",
   "execution_count": 88,
   "metadata": {},
   "outputs": [],
   "source": [
    "result_unseen_data_test.to_csv('result_bow_unigram.csv')"
   ]
  },
  {
   "cell_type": "code",
   "execution_count": null,
   "metadata": {},
   "outputs": [],
   "source": []
  },
  {
   "cell_type": "markdown",
   "metadata": {},
   "source": [
    "## Train on TF-IDF data"
   ]
  },
  {
   "cell_type": "code",
   "execution_count": 89,
   "metadata": {
    "scrolled": true
   },
   "outputs": [
    {
     "data": {
      "application/vnd.jupyter.widget-view+json": {
       "model_id": "ddb86d1c155f41fcb76c0a983e3f9ea3",
       "version_major": 2,
       "version_minor": 0
      },
      "text/plain": [
       "HBox(children=(FloatProgress(value=0.0, max=7.0), HTML(value='')))"
      ]
     },
     "metadata": {},
     "output_type": "display_data"
    },
    {
     "name": "stdout",
     "output_type": "stream",
     "text": [
      "\n"
     ]
    }
   ],
   "source": [
    "from sklearn.linear_model import LogisticRegression\n",
    "from sklearn.metrics import accuracy_score\n",
    "\n",
    "train_accuracy = {}\n",
    "val_accuracy = {}\n",
    "train_loss ={}\n",
    "val_loss = {}\n",
    "for C in tqdm(r):\n",
    "    model = LogisticRegression(C=C, penalty = \"l1\")\n",
    "    model.fit(final_tf_idf_train, X_train['Class'].values)\n",
    "    predicted_classes = model.predict(final_tf_idf_train)\n",
    "    predicted_val_classes = model.predict(final_tf_idf_cv)\n",
    "    accuracy_train = accuracy_score(X_train['Class'].values.flatten(),predicted_classes)\n",
    "    accuracy_cv = accuracy_score(X_val['Class'].values.flatten(),predicted_val_classes)\n",
    "    train_accuracy[C] = accuracy_train\n",
    "    val_accuracy[C] = accuracy_cv\n",
    "    train_loss[C] = 1 - accuracy_train\n",
    "    val_loss[C] = 1 - accuracy_cv"
   ]
  },
  {
   "cell_type": "markdown",
   "metadata": {},
   "source": [
    "### Accuracy Graph"
   ]
  },
  {
   "cell_type": "code",
   "execution_count": 90,
   "metadata": {
    "scrolled": true
   },
   "outputs": [
    {
     "data": {
      "image/png": "[encoded data removed]",
      "text/plain": [
       "<Figure size 1080x360 with 2 Axes>"
      ]
     },
     "metadata": {},
     "output_type": "display_data"
    }
   ],
   "source": [
    "fig, axes = plt.subplots(nrows=1, ncols=2, figsize=(15, 5))\n",
    "axes[0].plot(list(train_accuracy.keys()),list(train_accuracy.values()),label=\"Train Accuracy\")\n",
    "for xy in zip(train_accuracy.keys(), np.round(list(train_accuracy.values()),2)):\n",
    "    axes[0].annotate('(%s, %s)' % xy, xy=xy, textcoords='data')\n",
    "axes[1].plot(list(val_accuracy.keys()),list(val_accuracy.values()),label=\"CV Accuracy\")\n",
    "\n",
    "for xy in zip(val_accuracy.keys(), np.round(list(val_accuracy.values()),2)):\n",
    "    axes[1].annotate('(%s, %s)' % xy, xy=xy, textcoords='data')\n",
    "plt.xlabel('C Value')\n",
    "plt.ylabel('AUC Data')\n",
    "plt.legend()\n",
    "plt.show()"
   ]
  },
  {
   "cell_type": "markdown",
   "metadata": {},
   "source": [
    "### Loss Graph"
   ]
  },
  {
   "cell_type": "code",
   "execution_count": 91,
   "metadata": {
    "scrolled": true
   },
   "outputs": [
    {
     "data": {
      "image/png": "[encoded data removed]",
      "text/plain": [
       "<Figure size 1080x360 with 2 Axes>"
      ]
     },
     "metadata": {},
     "output_type": "display_data"
    }
   ],
   "source": [
    "fig, axes = plt.subplots(nrows=1, ncols=2, figsize=(15, 5))\n",
    "axes[0].plot(list(train_loss.keys()),list(train_loss.values()),label=\"Train Accuracy\")\n",
    "for xy in zip(train_loss.keys(), np.round(list(train_loss.values()),2)):\n",
    "    axes[0].annotate('(%s, %s)' % xy, xy=xy, textcoords='data')\n",
    "\n",
    "axes[1].plot(list(val_loss.keys()),list(val_loss.values()),label=\"CV Accuracy\")\n",
    "for xy in zip(val_loss.keys(), np.round(list(val_loss.values()),2)):\n",
    "    axes[1].annotate('(%s, %s)' % xy, xy=xy, textcoords='data')\n",
    "plt.xlabel('C Value')\n",
    "plt.ylabel('AUC Data')\n",
    "plt.legend()\n",
    "plt.show()"
   ]
  },
  {
   "cell_type": "markdown",
   "metadata": {},
   "source": [
    "### Predicting on Test Data"
   ]
  },
  {
   "cell_type": "code",
   "execution_count": 92,
   "metadata": {},
   "outputs": [],
   "source": [
    "model_tf = LogisticRegression(C=10, penalty = \"l1\")\n",
    "model_tf.fit(final_tf_idf_train, X_train['Class'].values)\n",
    "predicted_test_classes = model_tf.predict(tf_idf_vect.transform(X_test['preprocessed_data']))\n",
    "predicted_category = [classes[index] for index in predicted_test_classes]\n",
    "accuracy = accuracy_score(X_test['Class'].values.flatten(),predicted_test_classes)"
   ]
  },
  {
   "cell_type": "code",
   "execution_count": 93,
   "metadata": {},
   "outputs": [
    {
     "data": {
      "text/plain": [
       "array([[0., 0., 0., ..., 0., 0., 0.],\n",
       "       [0., 0., 0., ..., 0., 0., 0.],\n",
       "       [0., 0., 0., ..., 0., 0., 0.],\n",
       "       [0., 0., 0., ..., 0., 0., 0.],\n",
       "       [0., 0., 0., ..., 0., 0., 0.]])"
      ]
     },
     "execution_count": 93,
     "metadata": {},
     "output_type": "execute_result"
    }
   ],
   "source": [
    "model_tf.coef_"
   ]
  },
  {
   "cell_type": "code",
   "execution_count": 94,
   "metadata": {},
   "outputs": [
    {
     "name": "stdout",
     "output_type": "stream",
     "text": [
      "Getting 97.92 % Accuracy on test Data\n"
     ]
    }
   ],
   "source": [
    "print(\"Getting {} % Accuracy on test Data\".format(round(accuracy*100,2)) )"
   ]
  },
  {
   "cell_type": "code",
   "execution_count": 95,
   "metadata": {},
   "outputs": [
    {
     "name": "stdout",
     "output_type": "stream",
     "text": [
      "             precision    recall  f1-score   support\n",
      "\n",
      "          0       1.00      1.00      1.00        29\n",
      "          1       1.00      1.00      1.00        35\n",
      "          2       0.99      0.96      0.97        92\n",
      "          3       0.95      0.98      0.96        56\n",
      "          4       0.97      1.00      0.98        28\n",
      "\n",
      "avg / total       0.98      0.98      0.98       240\n",
      "\n"
     ]
    }
   ],
   "source": [
    "print(classification_report(X_test['Class'].values.flatten(),predicted_test_classes))"
   ]
  },
  {
   "cell_type": "code",
   "execution_count": 96,
   "metadata": {},
   "outputs": [
    {
     "name": "stdout",
     "output_type": "stream",
     "text": [
      "Confusion matrix, without normalization\n",
      "Normalized confusion matrix\n"
     ]
    },
    {
     "data": {
      "image/png": "[encoded data removed]",
      "text/plain": [
       "<Figure size 432x288 with 2 Axes>"
      ]
     },
     "metadata": {},
     "output_type": "display_data"
    },
    {
     "data": {
      "image/png": "[encoded data removed]",
      "text/plain": [
       "<Figure size 432x288 with 2 Axes>"
      ]
     },
     "metadata": {},
     "output_type": "display_data"
    }
   ],
   "source": [
    "cnf_matrix  = confusion_matrix(X_test['Class'].values.flatten(),predicted_test_classes)\n",
    "np.set_printoptions(precision=2)\n",
    "\n",
    "# Plot non-normalized confusion matrix\n",
    "plt.figure()\n",
    "plot_confusion_matrix(cnf_matrix, \n",
    "                      title='Confusion matrix, without normalization')\n",
    "# Plot normalized confusion matrix\n",
    "plt.figure()\n",
    "plot_confusion_matrix(cnf_matrix,  normalize=True,\n",
    "                      title='Normalized confusion matrix')\n",
    "\n",
    "plt.show()"
   ]
  },
  {
   "cell_type": "code",
   "execution_count": 97,
   "metadata": {},
   "outputs": [
    {
     "name": "stdout",
     "output_type": "stream",
     "text": [
      "Most Important Feature for class : \n",
      "Class Name :  athletics Class Index :  0\n"
     ]
    },
    {
     "data": {
      "image/png": "[encoded data removed]",
      "text/plain": [
       "<Figure size 432x288 with 1 Axes>"
      ]
     },
     "metadata": {},
     "output_type": "display_data"
    }
   ],
   "source": [
    "print(\"Most Important Feature for class : \")\n",
    "df = most_informative_feature_for_class(tf_idf_vect,model_tf,'athletics')\n",
    "ax = df.plot.barh(x='word', y='coef')"
   ]
  },
  {
   "cell_type": "code",
   "execution_count": null,
   "metadata": {},
   "outputs": [],
   "source": []
  },
  {
   "cell_type": "code",
   "execution_count": 98,
   "metadata": {},
   "outputs": [
    {
     "data": {
      "text/plain": [
       "['athletics', 'cricket', 'football', 'rugby', 'tennis']"
      ]
     },
     "execution_count": 98,
     "metadata": {},
     "output_type": "execute_result"
    }
   ],
   "source": [
    "classes"
   ]
  },
  {
   "cell_type": "code",
   "execution_count": 99,
   "metadata": {},
   "outputs": [
    {
     "name": "stdout",
     "output_type": "stream",
     "text": [
      "Most Important Feature for class : \n",
      "Class Name :  cricket Class Index :  1\n"
     ]
    },
    {
     "data": {
      "image/png": "[encoded data removed]",
      "text/plain": [
       "<Figure size 432x288 with 1 Axes>"
      ]
     },
     "metadata": {},
     "output_type": "display_data"
    }
   ],
   "source": [
    "print(\"Most Important Feature for class : \")\n",
    "df = most_informative_feature_for_class(tf_idf_vect,model,'cricket')\n",
    "ax = df.plot.barh(x='word', y='coef')"
   ]
  },
  {
   "cell_type": "code",
   "execution_count": 100,
   "metadata": {},
   "outputs": [
    {
     "name": "stdout",
     "output_type": "stream",
     "text": [
      "Most Important Feature for class : \n",
      "Class Name :  football Class Index :  2\n"
     ]
    },
    {
     "data": {
      "image/png": "[encoded data removed]",
      "text/plain": [
       "<Figure size 432x288 with 1 Axes>"
      ]
     },
     "metadata": {},
     "output_type": "display_data"
    }
   ],
   "source": [
    "print(\"Most Important Feature for class : \")\n",
    "df = most_informative_feature_for_class(tf_idf_vect,model_tf,'football')\n",
    "ax = df.plot.barh(x='word', y='coef')"
   ]
  },
  {
   "cell_type": "code",
   "execution_count": 101,
   "metadata": {},
   "outputs": [
    {
     "name": "stdout",
     "output_type": "stream",
     "text": [
      "Most Important Feature for class : \n",
      "Class Name :  rugby Class Index :  3\n"
     ]
    },
    {
     "data": {
      "image/png": "[encoded data removed]",
      "text/plain": [
       "<Figure size 432x288 with 1 Axes>"
      ]
     },
     "metadata": {},
     "output_type": "display_data"
    }
   ],
   "source": [
    "print(\"Most Important Feature for class : \")\n",
    "df = most_informative_feature_for_class(tf_idf_vect,model_tf,'rugby')\n",
    "ax = df.plot.barh(x='word', y='coef')"
   ]
  },
  {
   "cell_type": "code",
   "execution_count": 102,
   "metadata": {},
   "outputs": [
    {
     "name": "stdout",
     "output_type": "stream",
     "text": [
      "Most Important Feature for class : \n",
      "Class Name :  tennis Class Index :  4\n"
     ]
    },
    {
     "data": {
      "image/png": "[encoded data removed]",
      "text/plain": [
       "<Figure size 432x288 with 1 Axes>"
      ]
     },
     "metadata": {},
     "output_type": "display_data"
    }
   ],
   "source": [
    "print(\"Most Important Feature for class : \")\n",
    "df = most_informative_feature_for_class(tf_idf_vect,model_tf,'tennis')\n",
    "ax = df.plot.barh(x='word', y='coef')"
   ]
  },
  {
   "cell_type": "code",
   "execution_count": 103,
   "metadata": {},
   "outputs": [
    {
     "data": {
      "text/html": [
       "<div>\n",
       "<style scoped>\n",
       "    .dataframe tbody tr th:only-of-type {\n",
       "        vertical-align: middle;\n",
       "    }\n",
       "\n",
       "    .dataframe tbody tr th {\n",
       "        vertical-align: top;\n",
       "    }\n",
       "\n",
       "    .dataframe thead th {\n",
       "        text-align: right;\n",
       "    }\n",
       "</style>\n",
       "<table border=\"1\" class=\"dataframe\">\n",
       "  <thead>\n",
       "    <tr style=\"text-align: right;\">\n",
       "      <th></th>\n",
       "      <th>Text</th>\n",
       "      <th>Category</th>\n",
       "      <th>Class</th>\n",
       "      <th>Count</th>\n",
       "      <th>preprocessed_data</th>\n",
       "      <th>Unigram_Predicted_Test</th>\n",
       "      <th>Unigram_Predicted_Test_Category</th>\n",
       "    </tr>\n",
       "  </thead>\n",
       "  <tbody>\n",
       "    <tr>\n",
       "      <th>513</th>\n",
       "      <td>Poll explains free-kick decision\\n\\nReferee Gr...</td>\n",
       "      <td>football</td>\n",
       "      <td>2</td>\n",
       "      <td>1</td>\n",
       "      <td>poll explain free kick decis refere graham pol...</td>\n",
       "      <td>2</td>\n",
       "      <td>football</td>\n",
       "    </tr>\n",
       "    <tr>\n",
       "      <th>693</th>\n",
       "      <td>Wenger steps up row\\n\\nArsene Wenger has stepp...</td>\n",
       "      <td>football</td>\n",
       "      <td>2</td>\n",
       "      <td>1</td>\n",
       "      <td>wenger step row arsen wenger step feud sir ale...</td>\n",
       "      <td>2</td>\n",
       "      <td>football</td>\n",
       "    </tr>\n",
       "    <tr>\n",
       "      <th>377</th>\n",
       "      <td>Kuznetsova 'failed a drugs test'\\n\\nUS Open ch...</td>\n",
       "      <td>tennis</td>\n",
       "      <td>4</td>\n",
       "      <td>1</td>\n",
       "      <td>kuznetsova fail drug test us open champion sve...</td>\n",
       "      <td>4</td>\n",
       "      <td>tennis</td>\n",
       "    </tr>\n",
       "    <tr>\n",
       "      <th>33</th>\n",
       "      <td>Australia unchanged for Pakistan\\n\\nAustralia ...</td>\n",
       "      <td>cricket</td>\n",
       "      <td>1</td>\n",
       "      <td>1</td>\n",
       "      <td>australia unchang pakistan australia name unch...</td>\n",
       "      <td>1</td>\n",
       "      <td>cricket</td>\n",
       "    </tr>\n",
       "    <tr>\n",
       "      <th>63</th>\n",
       "      <td>Benitez delight after crucial win\\n\\nLiverpool...</td>\n",
       "      <td>football</td>\n",
       "      <td>2</td>\n",
       "      <td>1</td>\n",
       "      <td>benitez delight crucial win liverpool manag ra...</td>\n",
       "      <td>2</td>\n",
       "      <td>football</td>\n",
       "    </tr>\n",
       "  </tbody>\n",
       "</table>\n",
       "</div>"
      ],
      "text/plain": [
       "                                                  Text  Category  Class  \\\n",
       "513  Poll explains free-kick decision\\n\\nReferee Gr...  football      2   \n",
       "693  Wenger steps up row\\n\\nArsene Wenger has stepp...  football      2   \n",
       "377  Kuznetsova 'failed a drugs test'\\n\\nUS Open ch...    tennis      4   \n",
       "33   Australia unchanged for Pakistan\\n\\nAustralia ...   cricket      1   \n",
       "63   Benitez delight after crucial win\\n\\nLiverpool...  football      2   \n",
       "\n",
       "     Count                                  preprocessed_data  \\\n",
       "513      1  poll explain free kick decis refere graham pol...   \n",
       "693      1  wenger step row arsen wenger step feud sir ale...   \n",
       "377      1  kuznetsova fail drug test us open champion sve...   \n",
       "33       1  australia unchang pakistan australia name unch...   \n",
       "63       1  benitez delight crucial win liverpool manag ra...   \n",
       "\n",
       "     Unigram_Predicted_Test Unigram_Predicted_Test_Category  \n",
       "513                       2                        football  \n",
       "693                       2                        football  \n",
       "377                       4                          tennis  \n",
       "33                        1                         cricket  \n",
       "63                        2                        football  "
      ]
     },
     "execution_count": 103,
     "metadata": {},
     "output_type": "execute_result"
    }
   ],
   "source": [
    "X_test.head()"
   ]
  },
  {
   "cell_type": "code",
   "execution_count": 104,
   "metadata": {},
   "outputs": [],
   "source": [
    "# X_test = X_test.drop(['unigram_test', 'Count'], axis=1)"
   ]
  },
  {
   "cell_type": "code",
   "execution_count": 105,
   "metadata": {},
   "outputs": [
    {
     "name": "stderr",
     "output_type": "stream",
     "text": [
      "C:\\ProgramData\\Anaconda3\\lib\\site-packages\\ipykernel_launcher.py:1: SettingWithCopyWarning: \n",
      "A value is trying to be set on a copy of a slice from a DataFrame.\n",
      "Try using .loc[row_indexer,col_indexer] = value instead\n",
      "\n",
      "See the caveats in the documentation: http://pandas.pydata.org/pandas-docs/stable/indexing.html#indexing-view-versus-copy\n",
      "  \"\"\"Entry point for launching an IPython kernel.\n",
      "C:\\ProgramData\\Anaconda3\\lib\\site-packages\\ipykernel_launcher.py:2: SettingWithCopyWarning: \n",
      "A value is trying to be set on a copy of a slice from a DataFrame.\n",
      "Try using .loc[row_indexer,col_indexer] = value instead\n",
      "\n",
      "See the caveats in the documentation: http://pandas.pydata.org/pandas-docs/stable/indexing.html#indexing-view-versus-copy\n",
      "  \n"
     ]
    }
   ],
   "source": [
    "X_test['TFIDF_Predicted_Test'] = predicted_test_classes\n",
    "X_test['TFIDF_Predicted_Test_Category'] = predicted_category"
   ]
  },
  {
   "cell_type": "code",
   "execution_count": 106,
   "metadata": {},
   "outputs": [
    {
     "data": {
      "text/plain": [
       "(240, 240)"
      ]
     },
     "execution_count": 106,
     "metadata": {},
     "output_type": "execute_result"
    }
   ],
   "source": [
    "len(predicted_test_classes), len(X_test)"
   ]
  },
  {
   "cell_type": "code",
   "execution_count": 107,
   "metadata": {},
   "outputs": [
    {
     "data": {
      "text/html": [
       "<div>\n",
       "<style scoped>\n",
       "    .dataframe tbody tr th:only-of-type {\n",
       "        vertical-align: middle;\n",
       "    }\n",
       "\n",
       "    .dataframe tbody tr th {\n",
       "        vertical-align: top;\n",
       "    }\n",
       "\n",
       "    .dataframe thead th {\n",
       "        text-align: right;\n",
       "    }\n",
       "</style>\n",
       "<table border=\"1\" class=\"dataframe\">\n",
       "  <thead>\n",
       "    <tr style=\"text-align: right;\">\n",
       "      <th></th>\n",
       "      <th>Text</th>\n",
       "      <th>Category</th>\n",
       "      <th>Class</th>\n",
       "      <th>Count</th>\n",
       "      <th>preprocessed_data</th>\n",
       "      <th>Unigram_Predicted_Test</th>\n",
       "      <th>Unigram_Predicted_Test_Category</th>\n",
       "      <th>TFIDF_Predicted_Test</th>\n",
       "      <th>TFIDF_Predicted_Test_Category</th>\n",
       "    </tr>\n",
       "  </thead>\n",
       "  <tbody>\n",
       "    <tr>\n",
       "      <th>513</th>\n",
       "      <td>Poll explains free-kick decision\\n\\nReferee Gr...</td>\n",
       "      <td>football</td>\n",
       "      <td>2</td>\n",
       "      <td>1</td>\n",
       "      <td>poll explain free kick decis refere graham pol...</td>\n",
       "      <td>2</td>\n",
       "      <td>football</td>\n",
       "      <td>2</td>\n",
       "      <td>football</td>\n",
       "    </tr>\n",
       "    <tr>\n",
       "      <th>693</th>\n",
       "      <td>Wenger steps up row\\n\\nArsene Wenger has stepp...</td>\n",
       "      <td>football</td>\n",
       "      <td>2</td>\n",
       "      <td>1</td>\n",
       "      <td>wenger step row arsen wenger step feud sir ale...</td>\n",
       "      <td>2</td>\n",
       "      <td>football</td>\n",
       "      <td>2</td>\n",
       "      <td>football</td>\n",
       "    </tr>\n",
       "    <tr>\n",
       "      <th>377</th>\n",
       "      <td>Kuznetsova 'failed a drugs test'\\n\\nUS Open ch...</td>\n",
       "      <td>tennis</td>\n",
       "      <td>4</td>\n",
       "      <td>1</td>\n",
       "      <td>kuznetsova fail drug test us open champion sve...</td>\n",
       "      <td>4</td>\n",
       "      <td>tennis</td>\n",
       "      <td>4</td>\n",
       "      <td>tennis</td>\n",
       "    </tr>\n",
       "    <tr>\n",
       "      <th>33</th>\n",
       "      <td>Australia unchanged for Pakistan\\n\\nAustralia ...</td>\n",
       "      <td>cricket</td>\n",
       "      <td>1</td>\n",
       "      <td>1</td>\n",
       "      <td>australia unchang pakistan australia name unch...</td>\n",
       "      <td>1</td>\n",
       "      <td>cricket</td>\n",
       "      <td>1</td>\n",
       "      <td>cricket</td>\n",
       "    </tr>\n",
       "    <tr>\n",
       "      <th>63</th>\n",
       "      <td>Benitez delight after crucial win\\n\\nLiverpool...</td>\n",
       "      <td>football</td>\n",
       "      <td>2</td>\n",
       "      <td>1</td>\n",
       "      <td>benitez delight crucial win liverpool manag ra...</td>\n",
       "      <td>2</td>\n",
       "      <td>football</td>\n",
       "      <td>2</td>\n",
       "      <td>football</td>\n",
       "    </tr>\n",
       "  </tbody>\n",
       "</table>\n",
       "</div>"
      ],
      "text/plain": [
       "                                                  Text  Category  Class  \\\n",
       "513  Poll explains free-kick decision\\n\\nReferee Gr...  football      2   \n",
       "693  Wenger steps up row\\n\\nArsene Wenger has stepp...  football      2   \n",
       "377  Kuznetsova 'failed a drugs test'\\n\\nUS Open ch...    tennis      4   \n",
       "33   Australia unchanged for Pakistan\\n\\nAustralia ...   cricket      1   \n",
       "63   Benitez delight after crucial win\\n\\nLiverpool...  football      2   \n",
       "\n",
       "     Count                                  preprocessed_data  \\\n",
       "513      1  poll explain free kick decis refere graham pol...   \n",
       "693      1  wenger step row arsen wenger step feud sir ale...   \n",
       "377      1  kuznetsova fail drug test us open champion sve...   \n",
       "33       1  australia unchang pakistan australia name unch...   \n",
       "63       1  benitez delight crucial win liverpool manag ra...   \n",
       "\n",
       "     Unigram_Predicted_Test Unigram_Predicted_Test_Category  \\\n",
       "513                       2                        football   \n",
       "693                       2                        football   \n",
       "377                       4                          tennis   \n",
       "33                        1                         cricket   \n",
       "63                        2                        football   \n",
       "\n",
       "     TFIDF_Predicted_Test TFIDF_Predicted_Test_Category  \n",
       "513                     2                      football  \n",
       "693                     2                      football  \n",
       "377                     4                        tennis  \n",
       "33                      1                       cricket  \n",
       "63                      2                      football  "
      ]
     },
     "execution_count": 107,
     "metadata": {},
     "output_type": "execute_result"
    }
   ],
   "source": [
    "X_test.head()"
   ]
  },
  {
   "cell_type": "code",
   "execution_count": 108,
   "metadata": {},
   "outputs": [],
   "source": [
    "X_test_not_equal = X_test[X_test['Class'] != X_test['TFIDF_Predicted_Test']]"
   ]
  },
  {
   "cell_type": "code",
   "execution_count": 109,
   "metadata": {},
   "outputs": [
    {
     "data": {
      "text/html": [
       "<div>\n",
       "<style scoped>\n",
       "    .dataframe tbody tr th:only-of-type {\n",
       "        vertical-align: middle;\n",
       "    }\n",
       "\n",
       "    .dataframe tbody tr th {\n",
       "        vertical-align: top;\n",
       "    }\n",
       "\n",
       "    .dataframe thead th {\n",
       "        text-align: right;\n",
       "    }\n",
       "</style>\n",
       "<table border=\"1\" class=\"dataframe\">\n",
       "  <thead>\n",
       "    <tr style=\"text-align: right;\">\n",
       "      <th></th>\n",
       "      <th>Text</th>\n",
       "      <th>Category</th>\n",
       "      <th>Class</th>\n",
       "      <th>Count</th>\n",
       "      <th>preprocessed_data</th>\n",
       "      <th>Unigram_Predicted_Test</th>\n",
       "      <th>Unigram_Predicted_Test_Category</th>\n",
       "      <th>TFIDF_Predicted_Test</th>\n",
       "      <th>TFIDF_Predicted_Test_Category</th>\n",
       "    </tr>\n",
       "  </thead>\n",
       "  <tbody>\n",
       "    <tr>\n",
       "      <th>449</th>\n",
       "      <td>Murphy: That was a bruising battle\\n\\nThat's w...</td>\n",
       "      <td>rugby</td>\n",
       "      <td>3</td>\n",
       "      <td>1</td>\n",
       "      <td>murphi bruis battl call tough game physic fair...</td>\n",
       "      <td>4</td>\n",
       "      <td>tennis</td>\n",
       "      <td>2</td>\n",
       "      <td>football</td>\n",
       "    </tr>\n",
       "    <tr>\n",
       "      <th>568</th>\n",
       "      <td>SA return to Mauritius\\n\\nTop seeds South Afri...</td>\n",
       "      <td>football</td>\n",
       "      <td>2</td>\n",
       "      <td>1</td>\n",
       "      <td>sa return mauritiu top seed south africa retur...</td>\n",
       "      <td>4</td>\n",
       "      <td>tennis</td>\n",
       "      <td>4</td>\n",
       "      <td>tennis</td>\n",
       "    </tr>\n",
       "    <tr>\n",
       "      <th>281</th>\n",
       "      <td>Hereford 1-1 Doncaster\\n\\nHereford win 3-1 on ...</td>\n",
       "      <td>football</td>\n",
       "      <td>2</td>\n",
       "      <td>1</td>\n",
       "      <td>hereford doncast hereford win penalti rover to...</td>\n",
       "      <td>2</td>\n",
       "      <td>football</td>\n",
       "      <td>3</td>\n",
       "      <td>rugby</td>\n",
       "    </tr>\n",
       "    <tr>\n",
       "      <th>227</th>\n",
       "      <td>Finnan says Irish can win group\\n\\nSteve Finna...</td>\n",
       "      <td>football</td>\n",
       "      <td>2</td>\n",
       "      <td>1</td>\n",
       "      <td>finnan say irish win group steve finnan believ...</td>\n",
       "      <td>3</td>\n",
       "      <td>rugby</td>\n",
       "      <td>3</td>\n",
       "      <td>rugby</td>\n",
       "    </tr>\n",
       "    <tr>\n",
       "      <th>331</th>\n",
       "      <td>Irish finish with home game\\n\\nRepublic of Ire...</td>\n",
       "      <td>football</td>\n",
       "      <td>2</td>\n",
       "      <td>1</td>\n",
       "      <td>irish finish home game republ ireland manag br...</td>\n",
       "      <td>3</td>\n",
       "      <td>rugby</td>\n",
       "      <td>3</td>\n",
       "      <td>rugby</td>\n",
       "    </tr>\n",
       "  </tbody>\n",
       "</table>\n",
       "</div>"
      ],
      "text/plain": [
       "                                                  Text  Category  Class  \\\n",
       "449  Murphy: That was a bruising battle\\n\\nThat's w...     rugby      3   \n",
       "568  SA return to Mauritius\\n\\nTop seeds South Afri...  football      2   \n",
       "281  Hereford 1-1 Doncaster\\n\\nHereford win 3-1 on ...  football      2   \n",
       "227  Finnan says Irish can win group\\n\\nSteve Finna...  football      2   \n",
       "331  Irish finish with home game\\n\\nRepublic of Ire...  football      2   \n",
       "\n",
       "     Count                                  preprocessed_data  \\\n",
       "449      1  murphi bruis battl call tough game physic fair...   \n",
       "568      1  sa return mauritiu top seed south africa retur...   \n",
       "281      1  hereford doncast hereford win penalti rover to...   \n",
       "227      1  finnan say irish win group steve finnan believ...   \n",
       "331      1  irish finish home game republ ireland manag br...   \n",
       "\n",
       "     Unigram_Predicted_Test Unigram_Predicted_Test_Category  \\\n",
       "449                       4                          tennis   \n",
       "568                       4                          tennis   \n",
       "281                       2                        football   \n",
       "227                       3                           rugby   \n",
       "331                       3                           rugby   \n",
       "\n",
       "     TFIDF_Predicted_Test TFIDF_Predicted_Test_Category  \n",
       "449                     2                      football  \n",
       "568                     4                        tennis  \n",
       "281                     3                         rugby  \n",
       "227                     3                         rugby  \n",
       "331                     3                         rugby  "
      ]
     },
     "execution_count": 109,
     "metadata": {},
     "output_type": "execute_result"
    }
   ],
   "source": [
    "X_test_not_equal.head()"
   ]
  },
  {
   "cell_type": "code",
   "execution_count": 110,
   "metadata": {},
   "outputs": [],
   "source": [
    "test_data_result = pd.DataFrame({'Text':X_test['Text'], 'Pre-Processed Text':X_test['preprocessed_data'], 'Actual Category':X_test['Category'], 'Predicted Category':X_test['TFIDF_Predicted_Test_Category']})"
   ]
  },
  {
   "cell_type": "code",
   "execution_count": 111,
   "metadata": {
    "scrolled": true
   },
   "outputs": [
    {
     "data": {
      "text/html": [
       "<div>\n",
       "<style scoped>\n",
       "    .dataframe tbody tr th:only-of-type {\n",
       "        vertical-align: middle;\n",
       "    }\n",
       "\n",
       "    .dataframe tbody tr th {\n",
       "        vertical-align: top;\n",
       "    }\n",
       "\n",
       "    .dataframe thead th {\n",
       "        text-align: right;\n",
       "    }\n",
       "</style>\n",
       "<table border=\"1\" class=\"dataframe\">\n",
       "  <thead>\n",
       "    <tr style=\"text-align: right;\">\n",
       "      <th></th>\n",
       "      <th>Text</th>\n",
       "      <th>Pre-Processed Text</th>\n",
       "      <th>Actual Category</th>\n",
       "      <th>Predicted Category</th>\n",
       "    </tr>\n",
       "  </thead>\n",
       "  <tbody>\n",
       "    <tr>\n",
       "      <th>513</th>\n",
       "      <td>Poll explains free-kick decision\\n\\nReferee Gr...</td>\n",
       "      <td>poll explain free kick decis refere graham pol...</td>\n",
       "      <td>football</td>\n",
       "      <td>football</td>\n",
       "    </tr>\n",
       "    <tr>\n",
       "      <th>693</th>\n",
       "      <td>Wenger steps up row\\n\\nArsene Wenger has stepp...</td>\n",
       "      <td>wenger step row arsen wenger step feud sir ale...</td>\n",
       "      <td>football</td>\n",
       "      <td>football</td>\n",
       "    </tr>\n",
       "    <tr>\n",
       "      <th>377</th>\n",
       "      <td>Kuznetsova 'failed a drugs test'\\n\\nUS Open ch...</td>\n",
       "      <td>kuznetsova fail drug test us open champion sve...</td>\n",
       "      <td>tennis</td>\n",
       "      <td>tennis</td>\n",
       "    </tr>\n",
       "    <tr>\n",
       "      <th>33</th>\n",
       "      <td>Australia unchanged for Pakistan\\n\\nAustralia ...</td>\n",
       "      <td>australia unchang pakistan australia name unch...</td>\n",
       "      <td>cricket</td>\n",
       "      <td>cricket</td>\n",
       "    </tr>\n",
       "    <tr>\n",
       "      <th>63</th>\n",
       "      <td>Benitez delight after crucial win\\n\\nLiverpool...</td>\n",
       "      <td>benitez delight crucial win liverpool manag ra...</td>\n",
       "      <td>football</td>\n",
       "      <td>football</td>\n",
       "    </tr>\n",
       "  </tbody>\n",
       "</table>\n",
       "</div>"
      ],
      "text/plain": [
       "                                                  Text  \\\n",
       "513  Poll explains free-kick decision\\n\\nReferee Gr...   \n",
       "693  Wenger steps up row\\n\\nArsene Wenger has stepp...   \n",
       "377  Kuznetsova 'failed a drugs test'\\n\\nUS Open ch...   \n",
       "33   Australia unchanged for Pakistan\\n\\nAustralia ...   \n",
       "63   Benitez delight after crucial win\\n\\nLiverpool...   \n",
       "\n",
       "                                    Pre-Processed Text Actual Category  \\\n",
       "513  poll explain free kick decis refere graham pol...        football   \n",
       "693  wenger step row arsen wenger step feud sir ale...        football   \n",
       "377  kuznetsova fail drug test us open champion sve...          tennis   \n",
       "33   australia unchang pakistan australia name unch...         cricket   \n",
       "63   benitez delight crucial win liverpool manag ra...        football   \n",
       "\n",
       "    Predicted Category  \n",
       "513           football  \n",
       "693           football  \n",
       "377             tennis  \n",
       "33             cricket  \n",
       "63            football  "
      ]
     },
     "execution_count": 111,
     "metadata": {},
     "output_type": "execute_result"
    }
   ],
   "source": [
    "test_data_result.head()"
   ]
  },
  {
   "cell_type": "code",
   "execution_count": 112,
   "metadata": {},
   "outputs": [],
   "source": [
    "test_data_result.to_csv('test_result_tf_idf.csv')"
   ]
  },
  {
   "cell_type": "code",
   "execution_count": null,
   "metadata": {},
   "outputs": [],
   "source": []
  },
  {
   "cell_type": "markdown",
   "metadata": {},
   "source": [
    "### Predicting on Future Unseen Text Data"
   ]
  },
  {
   "cell_type": "code",
   "execution_count": 113,
   "metadata": {},
   "outputs": [],
   "source": [
    "PATH = '../BBCSports/bbcsport-fulltext-single/data/'"
   ]
  },
  {
   "cell_type": "code",
   "execution_count": 114,
   "metadata": {},
   "outputs": [],
   "source": [
    "def testing_data_tf_idf(path):\n",
    "    test_files = os.listdir(PATH)\n",
    "    test_files.remove('.ipynb_checkpoints')\n",
    "    test_data = []\n",
    "    for FILE_NAME in test_files:\n",
    "        file1 = open(path+FILE_NAME,\"r\")\n",
    "        test_data.append(file1.read())\n",
    "    preprocessed_data_test = []\n",
    "    # tqdm is for printing the status bar\n",
    "    for sentance in tqdm(test_data):\n",
    "\n",
    "    #     sentance = decontracted(sentance)\n",
    "        #remove words with numbers python: https://stackoverflow.com/a/18082370/4084039\n",
    "        sentance = re.sub(\"\\S*\\d\\S*\", \"\", sentance).strip()\n",
    "        sentance = re.sub('[^A-Za-z]+', ' ', sentance)\n",
    "        # https://gist.github.com/sebleier/554280\n",
    "        sentance = ' '.join(porter.stem(e.lower()) for e in sentance.split() if e.lower() not in stopWords)\n",
    "        preprocessed_data_test.append(sentance.strip())\n",
    "    predicted_on_unseen_classes = model.predict(tf_idf_vect.transform(preprocessed_data_test))\n",
    "    predicted_category = [classes[index] for index in predicted_on_unseen_classes]\n",
    "    data_dict_test = {'Text':test_data,'Category':predicted_category}\n",
    "    data_test  = pd.DataFrame(data_dict_test)\n",
    "    return data_test"
   ]
  },
  {
   "cell_type": "code",
   "execution_count": 115,
   "metadata": {},
   "outputs": [
    {
     "data": {
      "application/vnd.jupyter.widget-view+json": {
       "model_id": "f7f0fa688ef646c49f27566074653ffc",
       "version_major": 2,
       "version_minor": 0
      },
      "text/plain": [
       "HBox(children=(FloatProgress(value=0.0, max=737.0), HTML(value='')))"
      ]
     },
     "metadata": {},
     "output_type": "display_data"
    },
    {
     "name": "stdout",
     "output_type": "stream",
     "text": [
      "\n"
     ]
    }
   ],
   "source": [
    "result_unseen_data_test = testing_data_tf_idf(PATH)"
   ]
  },
  {
   "cell_type": "code",
   "execution_count": 116,
   "metadata": {
    "scrolled": true
   },
   "outputs": [
    {
     "data": {
      "text/html": [
       "<div>\n",
       "<style scoped>\n",
       "    .dataframe tbody tr th:only-of-type {\n",
       "        vertical-align: middle;\n",
       "    }\n",
       "\n",
       "    .dataframe tbody tr th {\n",
       "        vertical-align: top;\n",
       "    }\n",
       "\n",
       "    .dataframe thead th {\n",
       "        text-align: right;\n",
       "    }\n",
       "</style>\n",
       "<table border=\"1\" class=\"dataframe\">\n",
       "  <thead>\n",
       "    <tr style=\"text-align: right;\">\n",
       "      <th></th>\n",
       "      <th>Text</th>\n",
       "      <th>Category</th>\n",
       "    </tr>\n",
       "  </thead>\n",
       "  <tbody>\n",
       "    <tr>\n",
       "      <th>0</th>\n",
       "      <td>Henman overcomes rival Rusedski\\n\\nTim Henman ...</td>\n",
       "      <td>tennis</td>\n",
       "    </tr>\n",
       "    <tr>\n",
       "      <th>1</th>\n",
       "      <td>Hantuchova in Dubai last eight\\n\\nDaniela Hant...</td>\n",
       "      <td>tennis</td>\n",
       "    </tr>\n",
       "    <tr>\n",
       "      <th>2</th>\n",
       "      <td>Sharapova overcomes tough Molik\\n\\nWimbledon c...</td>\n",
       "      <td>tennis</td>\n",
       "    </tr>\n",
       "    <tr>\n",
       "      <th>3</th>\n",
       "      <td>Hayden sets up Australia win\\n\\nSecond one-day...</td>\n",
       "      <td>cricket</td>\n",
       "    </tr>\n",
       "    <tr>\n",
       "      <th>4</th>\n",
       "      <td>Pietersen gives England a chance\\n\\nLunch: Eng...</td>\n",
       "      <td>cricket</td>\n",
       "    </tr>\n",
       "  </tbody>\n",
       "</table>\n",
       "</div>"
      ],
      "text/plain": [
       "                                                Text Category\n",
       "0  Henman overcomes rival Rusedski\\n\\nTim Henman ...   tennis\n",
       "1  Hantuchova in Dubai last eight\\n\\nDaniela Hant...   tennis\n",
       "2  Sharapova overcomes tough Molik\\n\\nWimbledon c...   tennis\n",
       "3  Hayden sets up Australia win\\n\\nSecond one-day...  cricket\n",
       "4  Pietersen gives England a chance\\n\\nLunch: Eng...  cricket"
      ]
     },
     "execution_count": 116,
     "metadata": {},
     "output_type": "execute_result"
    }
   ],
   "source": [
    "result_unseen_data_test.head()"
   ]
  },
  {
   "cell_type": "code",
   "execution_count": 117,
   "metadata": {},
   "outputs": [],
   "source": [
    "result_unseen_data_test.to_csv('result_tf_idf.csv')"
   ]
  },
  {
   "cell_type": "markdown",
   "metadata": {},
   "source": [
    "## Summary :"
   ]
  },
  {
   "cell_type": "code",
   "execution_count": 118,
   "metadata": {},
   "outputs": [
    {
     "name": "stdout",
     "output_type": "stream",
     "text": [
      "+--------+----------+\n",
      "| Model  | Accuracy |\n",
      "+--------+----------+\n",
      "|  BOW   | 95.42 %  |\n",
      "| TF-IDF | 97.92 %  |\n",
      "+--------+----------+\n"
     ]
    }
   ],
   "source": [
    "from prettytable import PrettyTable\n",
    "    \n",
    "x = PrettyTable()\n",
    "\n",
    "x.field_names = [\"Model\", \"Accuracy\"]\n",
    "\n",
    "x.add_row([\"BOW\", \"95.42 %\"])\n",
    "x.add_row([\"TF-IDF\", \"97.92 %\"])\n",
    "\n",
    "print(x)"
   ]
  },
  {
   "cell_type": "markdown",
   "metadata": {},
   "source": [
    "#### From the table We can see that TF-IDF gives good result on Test Data So we can take TF-IDF as our Base Vectorizer for further prediction. "
   ]
  },
  {
   "cell_type": "code",
   "execution_count": null,
   "metadata": {},
   "outputs": [],
   "source": []
  }
 ],
 "metadata": {
  "kernelspec": {
   "display_name": "Python 3",
   "language": "python",
   "name": "python3"
  },
  "language_info": {
   "codemirror_mode": {
    "name": "ipython",
    "version": 3
   },
   "file_extension": ".py",
   "mimetype": "text/x-python",
   "name": "python",
   "nbconvert_exporter": "python",
   "pygments_lexer": "ipython3",
   "version": "3.6.5"
  }
 },
 "nbformat": 4,
 "nbformat_minor": 2
}
