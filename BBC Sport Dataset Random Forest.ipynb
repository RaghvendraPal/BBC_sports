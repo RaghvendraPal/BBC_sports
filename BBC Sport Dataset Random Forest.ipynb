{
 "cells": [
  {
   "cell_type": "code",
   "execution_count": 89,
   "metadata": {},
   "outputs": [],
   "source": [
    "import nltk\n",
    "from nltk.tokenize import word_tokenize \n",
    "from nltk.corpus import stopwords\n",
    "from nltk.stem import PorterStemmer\n",
    "import pandas as pd\n",
    "import numpy as np\n",
    "import os\n",
    "from tqdm.notebook import tqdm as tqdm\n",
    "from nltk.corpus import stopwords\n",
    "from sklearn.feature_extraction.text import TfidfTransformer\n",
    "from sklearn.feature_extraction.text import TfidfVectorizer\n",
    "from sklearn.feature_extraction.text import CountVectorizer\n",
    "from sklearn.metrics import confusion_matrix\n",
    "from sklearn.metrics import classification_report\n",
    "import seaborn as sns\n",
    "from sklearn.tree import export_graphviz\n",
    "from graphviz import Source\n",
    "from sklearn import tree\n",
    "import pydotplus"
   ]
  },
  {
   "cell_type": "code",
   "execution_count": 2,
   "metadata": {},
   "outputs": [],
   "source": [
    "PATH = '../BBCSports/bbcsport-fulltext-asis/bbcsport/'\n",
    "classes = os.listdir(PATH)\n",
    "classes.remove('README.TXT')"
   ]
  },
  {
   "cell_type": "code",
   "execution_count": 3,
   "metadata": {},
   "outputs": [
    {
     "name": "stdout",
     "output_type": "stream",
     "text": [
      "['athletics', 'cricket', 'football', 'rugby', 'tennis']\n"
     ]
    }
   ],
   "source": [
    "print(classes)"
   ]
  },
  {
   "cell_type": "code",
   "execution_count": 4,
   "metadata": {},
   "outputs": [
    {
     "name": "stdout",
     "output_type": "stream",
     "text": [
      "There are 5 classes present for the BBC sports dataset\n"
     ]
    }
   ],
   "source": [
    "print(\"There are {} classes present for the BBC sports dataset\".format(len(classes)))"
   ]
  },
  {
   "cell_type": "code",
   "execution_count": 5,
   "metadata": {},
   "outputs": [
    {
     "data": {
      "text/plain": [
       "['athletics', 'cricket', 'football', 'rugby', 'tennis']"
      ]
     },
     "execution_count": 5,
     "metadata": {},
     "output_type": "execute_result"
    }
   ],
   "source": [
    "classes"
   ]
  },
  {
   "cell_type": "code",
   "execution_count": 6,
   "metadata": {},
   "outputs": [
    {
     "data": {
      "text/plain": [
       "'../BBCSports/bbcsport-fulltext-asis/bbcsport/athletics'"
      ]
     },
     "execution_count": 6,
     "metadata": {},
     "output_type": "execute_result"
    }
   ],
   "source": [
    "PATH+classes[0]"
   ]
  },
  {
   "cell_type": "code",
   "execution_count": 7,
   "metadata": {},
   "outputs": [],
   "source": [
    "class_data = os.listdir(PATH+classes[0])"
   ]
  },
  {
   "cell_type": "code",
   "execution_count": 8,
   "metadata": {},
   "outputs": [
    {
     "data": {
      "text/plain": [
       "'003.txt'"
      ]
     },
     "execution_count": 8,
     "metadata": {},
     "output_type": "execute_result"
    }
   ],
   "source": [
    "class_data[2]"
   ]
  },
  {
   "cell_type": "code",
   "execution_count": 9,
   "metadata": {},
   "outputs": [
    {
     "data": {
      "text/plain": [
       "101"
      ]
     },
     "execution_count": 9,
     "metadata": {},
     "output_type": "execute_result"
    }
   ],
   "source": [
    "len(class_data)"
   ]
  },
  {
   "cell_type": "code",
   "execution_count": 10,
   "metadata": {},
   "outputs": [
    {
     "data": {
      "text/plain": [
       "'../BBCSports/bbcsport-fulltext-asis/bbcsport/athletics/001.txt'"
      ]
     },
     "execution_count": 10,
     "metadata": {},
     "output_type": "execute_result"
    }
   ],
   "source": [
    "PATH+classes[0]+\"/\"+class_data[0]"
   ]
  },
  {
   "cell_type": "code",
   "execution_count": 11,
   "metadata": {},
   "outputs": [],
   "source": [
    "file1 = open(PATH+classes[0]+\"/\"+class_data[0],\"r\")"
   ]
  },
  {
   "cell_type": "code",
   "execution_count": 12,
   "metadata": {
    "scrolled": true
   },
   "outputs": [
    {
     "data": {
      "text/plain": [
       "'Claxton hunting first major medal\\n\\nBritish hurdler Sarah Claxton is confident she can win her first major medal at next month\\'s European Indoor Championships in Madrid.\\n\\nThe 25-year-old has already smashed the British record over 60m hurdles twice this season, setting a new mark of 7.96 seconds to win the AAAs title. \"I am quite confident,\" said Claxton. \"But I take each race as it comes. \"As long as I keep up my training but not do too much I think there is a chance of a medal.\" Claxton has won the national 60m hurdles title for the past three years but has struggled to translate her domestic success to the international stage. Now, the Scotland-born athlete owns the equal fifth-fastest time in the world this year. And at last week\\'s Birmingham Grand Prix, Claxton left European medal favourite Russian Irina Shevchenko trailing in sixth spot.\\n\\nFor the first time, Claxton has only been preparing for a campaign over the hurdles - which could explain her leap in form. In previous seasons, the 25-year-old also contested the long jump but since moving from Colchester to London she has re-focused her attentions. Claxton will see if her new training regime pays dividends at the European Indoors which take place on 5-6 March.\\n'"
      ]
     },
     "execution_count": 12,
     "metadata": {},
     "output_type": "execute_result"
    }
   ],
   "source": [
    "file1.read()"
   ]
  },
  {
   "cell_type": "code",
   "execution_count": 13,
   "metadata": {},
   "outputs": [
    {
     "data": {
      "application/vnd.jupyter.widget-view+json": {
       "model_id": "",
       "version_major": 2,
       "version_minor": 0
      },
      "text/plain": [
       "HBox(children=(FloatProgress(value=0.0, max=5.0), HTML(value='')))"
      ]
     },
     "metadata": {},
     "output_type": "display_data"
    },
    {
     "name": "stdout",
     "output_type": "stream",
     "text": [
      "\n"
     ]
    }
   ],
   "source": [
    "text_list = []\n",
    "class_list = []\n",
    "class_num = []\n",
    "for SPORT in tqdm(classes):\n",
    "    for FILE_NAME in os.listdir(PATH+SPORT):\n",
    "        file1 = open(PATH+SPORT+\"/\"+FILE_NAME,\"r\")\n",
    "        text_list.append(file1.read())\n",
    "        class_list.append(SPORT)\n",
    "        class_num.append(classes.index(SPORT))"
   ]
  },
  {
   "cell_type": "code",
   "execution_count": 14,
   "metadata": {},
   "outputs": [
    {
     "name": "stdout",
     "output_type": "stream",
     "text": [
      "Length of Text Data :  737\n",
      "Length of Class Data :  737\n",
      "Length of Number Class Data :  737\n"
     ]
    }
   ],
   "source": [
    "print(\"Length of Text Data : \", len(text_list))\n",
    "print(\"Length of Class Data : \", len(class_list))\n",
    "print(\"Length of Number Class Data : \", len(class_num))"
   ]
  },
  {
   "cell_type": "code",
   "execution_count": 15,
   "metadata": {},
   "outputs": [],
   "source": [
    "data_dict = {'Text':text_list,'Category':class_list, 'Class': class_num}\n",
    "data  = pd.DataFrame(data_dict)"
   ]
  },
  {
   "cell_type": "code",
   "execution_count": 16,
   "metadata": {},
   "outputs": [
    {
     "data": {
      "text/html": [
       "<div>\n",
       "<style scoped>\n",
       "    .dataframe tbody tr th:only-of-type {\n",
       "        vertical-align: middle;\n",
       "    }\n",
       "\n",
       "    .dataframe tbody tr th {\n",
       "        vertical-align: top;\n",
       "    }\n",
       "\n",
       "    .dataframe thead th {\n",
       "        text-align: right;\n",
       "    }\n",
       "</style>\n",
       "<table border=\"1\" class=\"dataframe\">\n",
       "  <thead>\n",
       "    <tr style=\"text-align: right;\">\n",
       "      <th></th>\n",
       "      <th>Text</th>\n",
       "      <th>Category</th>\n",
       "      <th>Class</th>\n",
       "    </tr>\n",
       "  </thead>\n",
       "  <tbody>\n",
       "    <tr>\n",
       "      <th>0</th>\n",
       "      <td>Claxton hunting first major medal\\n\\nBritish h...</td>\n",
       "      <td>athletics</td>\n",
       "      <td>0</td>\n",
       "    </tr>\n",
       "    <tr>\n",
       "      <th>1</th>\n",
       "      <td>O'Sullivan could run in Worlds\\n\\nSonia O'Sull...</td>\n",
       "      <td>athletics</td>\n",
       "      <td>0</td>\n",
       "    </tr>\n",
       "    <tr>\n",
       "      <th>2</th>\n",
       "      <td>Greene sets sights on world title\\n\\nMaurice G...</td>\n",
       "      <td>athletics</td>\n",
       "      <td>0</td>\n",
       "    </tr>\n",
       "    <tr>\n",
       "      <th>3</th>\n",
       "      <td>IAAF launches fight against drugs\\n\\nThe IAAF ...</td>\n",
       "      <td>athletics</td>\n",
       "      <td>0</td>\n",
       "    </tr>\n",
       "    <tr>\n",
       "      <th>4</th>\n",
       "      <td>Dibaba breaks 5,000m world record\\n\\nEthiopia'...</td>\n",
       "      <td>athletics</td>\n",
       "      <td>0</td>\n",
       "    </tr>\n",
       "  </tbody>\n",
       "</table>\n",
       "</div>"
      ],
      "text/plain": [
       "                                                Text   Category  Class\n",
       "0  Claxton hunting first major medal\\n\\nBritish h...  athletics      0\n",
       "1  O'Sullivan could run in Worlds\\n\\nSonia O'Sull...  athletics      0\n",
       "2  Greene sets sights on world title\\n\\nMaurice G...  athletics      0\n",
       "3  IAAF launches fight against drugs\\n\\nThe IAAF ...  athletics      0\n",
       "4  Dibaba breaks 5,000m world record\\n\\nEthiopia'...  athletics      0"
      ]
     },
     "execution_count": 16,
     "metadata": {},
     "output_type": "execute_result"
    }
   ],
   "source": [
    "data.head()"
   ]
  },
  {
   "cell_type": "code",
   "execution_count": 17,
   "metadata": {},
   "outputs": [
    {
     "data": {
      "text/html": [
       "<div>\n",
       "<style scoped>\n",
       "    .dataframe tbody tr th:only-of-type {\n",
       "        vertical-align: middle;\n",
       "    }\n",
       "\n",
       "    .dataframe tbody tr th {\n",
       "        vertical-align: top;\n",
       "    }\n",
       "\n",
       "    .dataframe thead th {\n",
       "        text-align: right;\n",
       "    }\n",
       "</style>\n",
       "<table border=\"1\" class=\"dataframe\">\n",
       "  <thead>\n",
       "    <tr style=\"text-align: right;\">\n",
       "      <th></th>\n",
       "      <th>Text</th>\n",
       "      <th>Category</th>\n",
       "      <th>Class</th>\n",
       "    </tr>\n",
       "  </thead>\n",
       "  <tbody>\n",
       "    <tr>\n",
       "      <th>101</th>\n",
       "      <td>Hayden sets up Australia win\\n\\nSecond one-day...</td>\n",
       "      <td>cricket</td>\n",
       "      <td>1</td>\n",
       "    </tr>\n",
       "    <tr>\n",
       "      <th>102</th>\n",
       "      <td>Pietersen gives England a chance\\n\\nLunch: Eng...</td>\n",
       "      <td>cricket</td>\n",
       "      <td>1</td>\n",
       "    </tr>\n",
       "    <tr>\n",
       "      <th>103</th>\n",
       "      <td>South Africa far too strong again\\n\\nSecond on...</td>\n",
       "      <td>cricket</td>\n",
       "      <td>1</td>\n",
       "    </tr>\n",
       "    <tr>\n",
       "      <th>104</th>\n",
       "      <td>Pakistan on revenge mission\\n\\nPakistan's cric...</td>\n",
       "      <td>cricket</td>\n",
       "      <td>1</td>\n",
       "    </tr>\n",
       "    <tr>\n",
       "      <th>105</th>\n",
       "      <td>Russell to instruct keeper Jones\\n\\nFormer Eng...</td>\n",
       "      <td>cricket</td>\n",
       "      <td>1</td>\n",
       "    </tr>\n",
       "    <tr>\n",
       "      <th>106</th>\n",
       "      <td>England A roll to second victory\\n\\nOne-day to...</td>\n",
       "      <td>cricket</td>\n",
       "      <td>1</td>\n",
       "    </tr>\n",
       "    <tr>\n",
       "      <th>107</th>\n",
       "      <td>Kaif absence wrong - Azharuddin\\n\\nIndia were ...</td>\n",
       "      <td>cricket</td>\n",
       "      <td>1</td>\n",
       "    </tr>\n",
       "    <tr>\n",
       "      <th>108</th>\n",
       "      <td>Bracewell worried by Lee\\n\\nNew Zealand coach ...</td>\n",
       "      <td>cricket</td>\n",
       "      <td>1</td>\n",
       "    </tr>\n",
       "    <tr>\n",
       "      <th>109</th>\n",
       "      <td>Pakistan accept venues compromise\\n\\nThe doubt...</td>\n",
       "      <td>cricket</td>\n",
       "      <td>1</td>\n",
       "    </tr>\n",
       "  </tbody>\n",
       "</table>\n",
       "</div>"
      ],
      "text/plain": [
       "                                                  Text Category  Class\n",
       "101  Hayden sets up Australia win\\n\\nSecond one-day...  cricket      1\n",
       "102  Pietersen gives England a chance\\n\\nLunch: Eng...  cricket      1\n",
       "103  South Africa far too strong again\\n\\nSecond on...  cricket      1\n",
       "104  Pakistan on revenge mission\\n\\nPakistan's cric...  cricket      1\n",
       "105  Russell to instruct keeper Jones\\n\\nFormer Eng...  cricket      1\n",
       "106  England A roll to second victory\\n\\nOne-day to...  cricket      1\n",
       "107  Kaif absence wrong - Azharuddin\\n\\nIndia were ...  cricket      1\n",
       "108  Bracewell worried by Lee\\n\\nNew Zealand coach ...  cricket      1\n",
       "109  Pakistan accept venues compromise\\n\\nThe doubt...  cricket      1"
      ]
     },
     "execution_count": 17,
     "metadata": {},
     "output_type": "execute_result"
    }
   ],
   "source": [
    "data.iloc[101:110]"
   ]
  },
  {
   "cell_type": "code",
   "execution_count": 18,
   "metadata": {},
   "outputs": [
    {
     "data": {
      "text/html": [
       "<div>\n",
       "<style scoped>\n",
       "    .dataframe tbody tr th:only-of-type {\n",
       "        vertical-align: middle;\n",
       "    }\n",
       "\n",
       "    .dataframe tbody tr th {\n",
       "        vertical-align: top;\n",
       "    }\n",
       "\n",
       "    .dataframe thead th {\n",
       "        text-align: right;\n",
       "    }\n",
       "</style>\n",
       "<table border=\"1\" class=\"dataframe\">\n",
       "  <thead>\n",
       "    <tr style=\"text-align: right;\">\n",
       "      <th></th>\n",
       "      <th>Text</th>\n",
       "      <th>Category</th>\n",
       "      <th>Class</th>\n",
       "    </tr>\n",
       "  </thead>\n",
       "  <tbody>\n",
       "    <tr>\n",
       "      <th>225</th>\n",
       "      <td>Man Utd stroll to Cup win\\n\\nWayne Rooney made...</td>\n",
       "      <td>football</td>\n",
       "      <td>2</td>\n",
       "    </tr>\n",
       "    <tr>\n",
       "      <th>226</th>\n",
       "      <td>Van Nistelrooy set to return\\n\\nManchester Uni...</td>\n",
       "      <td>football</td>\n",
       "      <td>2</td>\n",
       "    </tr>\n",
       "    <tr>\n",
       "      <th>227</th>\n",
       "      <td>Moyes U-turn on Beattie dismissal\\n\\nEverton m...</td>\n",
       "      <td>football</td>\n",
       "      <td>2</td>\n",
       "    </tr>\n",
       "    <tr>\n",
       "      <th>228</th>\n",
       "      <td>Ronaldo considering new contract\\n\\nManchester...</td>\n",
       "      <td>football</td>\n",
       "      <td>2</td>\n",
       "    </tr>\n",
       "    <tr>\n",
       "      <th>229</th>\n",
       "      <td>Smith keen on Home series return\\n\\nScotland m...</td>\n",
       "      <td>football</td>\n",
       "      <td>2</td>\n",
       "    </tr>\n",
       "    <tr>\n",
       "      <th>230</th>\n",
       "      <td>Mido makes third apology\\n\\nAhmed 'Mido' Hossa...</td>\n",
       "      <td>football</td>\n",
       "      <td>2</td>\n",
       "    </tr>\n",
       "    <tr>\n",
       "      <th>231</th>\n",
       "      <td>Man City 0-2 Man Utd\\n\\nManchester United redu...</td>\n",
       "      <td>football</td>\n",
       "      <td>2</td>\n",
       "    </tr>\n",
       "    <tr>\n",
       "      <th>232</th>\n",
       "      <td>Gerrard plays down European hopes\\n\\nSteven Ge...</td>\n",
       "      <td>football</td>\n",
       "      <td>2</td>\n",
       "    </tr>\n",
       "    <tr>\n",
       "      <th>233</th>\n",
       "      <td>Duff ruled out of Barcelona clash\\n\\nChelsea's...</td>\n",
       "      <td>football</td>\n",
       "      <td>2</td>\n",
       "    </tr>\n",
       "    <tr>\n",
       "      <th>234</th>\n",
       "      <td>Chelsea clinch cup in extra-time\\n\\n(after ext...</td>\n",
       "      <td>football</td>\n",
       "      <td>2</td>\n",
       "    </tr>\n",
       "  </tbody>\n",
       "</table>\n",
       "</div>"
      ],
      "text/plain": [
       "                                                  Text  Category  Class\n",
       "225  Man Utd stroll to Cup win\\n\\nWayne Rooney made...  football      2\n",
       "226  Van Nistelrooy set to return\\n\\nManchester Uni...  football      2\n",
       "227  Moyes U-turn on Beattie dismissal\\n\\nEverton m...  football      2\n",
       "228  Ronaldo considering new contract\\n\\nManchester...  football      2\n",
       "229  Smith keen on Home series return\\n\\nScotland m...  football      2\n",
       "230  Mido makes third apology\\n\\nAhmed 'Mido' Hossa...  football      2\n",
       "231  Man City 0-2 Man Utd\\n\\nManchester United redu...  football      2\n",
       "232  Gerrard plays down European hopes\\n\\nSteven Ge...  football      2\n",
       "233  Duff ruled out of Barcelona clash\\n\\nChelsea's...  football      2\n",
       "234  Chelsea clinch cup in extra-time\\n\\n(after ext...  football      2"
      ]
     },
     "execution_count": 18,
     "metadata": {},
     "output_type": "execute_result"
    }
   ],
   "source": [
    "data.iloc[225:235]"
   ]
  },
  {
   "cell_type": "code",
   "execution_count": 19,
   "metadata": {
    "scrolled": true
   },
   "outputs": [
    {
     "data": {
      "text/html": [
       "<div>\n",
       "<style scoped>\n",
       "    .dataframe tbody tr th:only-of-type {\n",
       "        vertical-align: middle;\n",
       "    }\n",
       "\n",
       "    .dataframe tbody tr th {\n",
       "        vertical-align: top;\n",
       "    }\n",
       "\n",
       "    .dataframe thead th {\n",
       "        text-align: right;\n",
       "    }\n",
       "</style>\n",
       "<table border=\"1\" class=\"dataframe\">\n",
       "  <thead>\n",
       "    <tr style=\"text-align: right;\">\n",
       "      <th></th>\n",
       "      <th>Text</th>\n",
       "      <th>Category</th>\n",
       "      <th>Class</th>\n",
       "    </tr>\n",
       "  </thead>\n",
       "  <tbody>\n",
       "    <tr>\n",
       "      <th>490</th>\n",
       "      <td>Hodgson shoulders England blame\\n\\nFly-half Ch...</td>\n",
       "      <td>rugby</td>\n",
       "      <td>3</td>\n",
       "    </tr>\n",
       "    <tr>\n",
       "      <th>491</th>\n",
       "      <td>Vickery out of Six Nations\\n\\nEngland tight-he...</td>\n",
       "      <td>rugby</td>\n",
       "      <td>3</td>\n",
       "    </tr>\n",
       "    <tr>\n",
       "      <th>492</th>\n",
       "      <td>Yachvili savours France comeback\\n\\nFrance scr...</td>\n",
       "      <td>rugby</td>\n",
       "      <td>3</td>\n",
       "    </tr>\n",
       "    <tr>\n",
       "      <th>493</th>\n",
       "      <td>Laporte tinkers with team\\n\\nFrance coach Bern...</td>\n",
       "      <td>rugby</td>\n",
       "      <td>3</td>\n",
       "    </tr>\n",
       "    <tr>\n",
       "      <th>494</th>\n",
       "      <td>Lewsey puzzle over disallowed try\\n\\nEngland's...</td>\n",
       "      <td>rugby</td>\n",
       "      <td>3</td>\n",
       "    </tr>\n",
       "    <tr>\n",
       "      <th>495</th>\n",
       "      <td>Fuming Robinson blasts officials\\n\\nEngland co...</td>\n",
       "      <td>rugby</td>\n",
       "      <td>3</td>\n",
       "    </tr>\n",
       "    <tr>\n",
       "      <th>496</th>\n",
       "      <td>O'Gara revels in Ireland victory\\n\\nIreland fl...</td>\n",
       "      <td>rugby</td>\n",
       "      <td>3</td>\n",
       "    </tr>\n",
       "    <tr>\n",
       "      <th>497</th>\n",
       "      <td>Thomas out of Six Nations\\n\\nWales captain Gar...</td>\n",
       "      <td>rugby</td>\n",
       "      <td>3</td>\n",
       "    </tr>\n",
       "    <tr>\n",
       "      <th>498</th>\n",
       "      <td>Wales coach elated with win\\n\\nMike Ruddock pa...</td>\n",
       "      <td>rugby</td>\n",
       "      <td>3</td>\n",
       "    </tr>\n",
       "    <tr>\n",
       "      <th>499</th>\n",
       "      <td>Newcastle 27-27 Gloucester\\n\\nNewcastle centre...</td>\n",
       "      <td>rugby</td>\n",
       "      <td>3</td>\n",
       "    </tr>\n",
       "  </tbody>\n",
       "</table>\n",
       "</div>"
      ],
      "text/plain": [
       "                                                  Text Category  Class\n",
       "490  Hodgson shoulders England blame\\n\\nFly-half Ch...    rugby      3\n",
       "491  Vickery out of Six Nations\\n\\nEngland tight-he...    rugby      3\n",
       "492  Yachvili savours France comeback\\n\\nFrance scr...    rugby      3\n",
       "493  Laporte tinkers with team\\n\\nFrance coach Bern...    rugby      3\n",
       "494  Lewsey puzzle over disallowed try\\n\\nEngland's...    rugby      3\n",
       "495  Fuming Robinson blasts officials\\n\\nEngland co...    rugby      3\n",
       "496  O'Gara revels in Ireland victory\\n\\nIreland fl...    rugby      3\n",
       "497  Thomas out of Six Nations\\n\\nWales captain Gar...    rugby      3\n",
       "498  Wales coach elated with win\\n\\nMike Ruddock pa...    rugby      3\n",
       "499  Newcastle 27-27 Gloucester\\n\\nNewcastle centre...    rugby      3"
      ]
     },
     "execution_count": 19,
     "metadata": {},
     "output_type": "execute_result"
    }
   ],
   "source": [
    "data.iloc[490:500]"
   ]
  },
  {
   "cell_type": "code",
   "execution_count": 20,
   "metadata": {
    "scrolled": false
   },
   "outputs": [
    {
     "data": {
      "text/html": [
       "<div>\n",
       "<style scoped>\n",
       "    .dataframe tbody tr th:only-of-type {\n",
       "        vertical-align: middle;\n",
       "    }\n",
       "\n",
       "    .dataframe tbody tr th {\n",
       "        vertical-align: top;\n",
       "    }\n",
       "\n",
       "    .dataframe thead th {\n",
       "        text-align: right;\n",
       "    }\n",
       "</style>\n",
       "<table border=\"1\" class=\"dataframe\">\n",
       "  <thead>\n",
       "    <tr style=\"text-align: right;\">\n",
       "      <th></th>\n",
       "      <th>Text</th>\n",
       "      <th>Category</th>\n",
       "      <th>Class</th>\n",
       "    </tr>\n",
       "  </thead>\n",
       "  <tbody>\n",
       "    <tr>\n",
       "      <th>637</th>\n",
       "      <td>Henman overcomes rival Rusedski\\n\\nTim Henman ...</td>\n",
       "      <td>tennis</td>\n",
       "      <td>4</td>\n",
       "    </tr>\n",
       "    <tr>\n",
       "      <th>638</th>\n",
       "      <td>Safin slumps to shock Dubai loss\\n\\nMarat Safi...</td>\n",
       "      <td>tennis</td>\n",
       "      <td>4</td>\n",
       "    </tr>\n",
       "    <tr>\n",
       "      <th>639</th>\n",
       "      <td>Ferrero eyes return to top form\\n\\nFormer worl...</td>\n",
       "      <td>tennis</td>\n",
       "      <td>4</td>\n",
       "    </tr>\n",
       "    <tr>\n",
       "      <th>640</th>\n",
       "      <td>Roddick into San Jose final\\n\\nAndy Roddick wi...</td>\n",
       "      <td>tennis</td>\n",
       "      <td>4</td>\n",
       "    </tr>\n",
       "    <tr>\n",
       "      <th>641</th>\n",
       "      <td>Federer claims Dubai crown\\n\\nWorld number one...</td>\n",
       "      <td>tennis</td>\n",
       "      <td>4</td>\n",
       "    </tr>\n",
       "    <tr>\n",
       "      <th>642</th>\n",
       "      <td>Young debut cut short by Ginepri\\n\\nFifteen-ye...</td>\n",
       "      <td>tennis</td>\n",
       "      <td>4</td>\n",
       "    </tr>\n",
       "    <tr>\n",
       "      <th>643</th>\n",
       "      <td>Melzer shocks Agassi\\n\\nSecond seed Andre Agas...</td>\n",
       "      <td>tennis</td>\n",
       "      <td>4</td>\n",
       "    </tr>\n",
       "    <tr>\n",
       "      <th>644</th>\n",
       "      <td>Federer forced to dig deep\\n\\nTop seed Roger F...</td>\n",
       "      <td>tennis</td>\n",
       "      <td>4</td>\n",
       "    </tr>\n",
       "    <tr>\n",
       "      <th>645</th>\n",
       "      <td>Nadal marches on in Mexico\\n\\nRafael Nadal con...</td>\n",
       "      <td>tennis</td>\n",
       "      <td>4</td>\n",
       "    </tr>\n",
       "    <tr>\n",
       "      <th>646</th>\n",
       "      <td>Hantuchova in Dubai last eight\\n\\nDaniela Hant...</td>\n",
       "      <td>tennis</td>\n",
       "      <td>4</td>\n",
       "    </tr>\n",
       "  </tbody>\n",
       "</table>\n",
       "</div>"
      ],
      "text/plain": [
       "                                                  Text Category  Class\n",
       "637  Henman overcomes rival Rusedski\\n\\nTim Henman ...   tennis      4\n",
       "638  Safin slumps to shock Dubai loss\\n\\nMarat Safi...   tennis      4\n",
       "639  Ferrero eyes return to top form\\n\\nFormer worl...   tennis      4\n",
       "640  Roddick into San Jose final\\n\\nAndy Roddick wi...   tennis      4\n",
       "641  Federer claims Dubai crown\\n\\nWorld number one...   tennis      4\n",
       "642  Young debut cut short by Ginepri\\n\\nFifteen-ye...   tennis      4\n",
       "643  Melzer shocks Agassi\\n\\nSecond seed Andre Agas...   tennis      4\n",
       "644  Federer forced to dig deep\\n\\nTop seed Roger F...   tennis      4\n",
       "645  Nadal marches on in Mexico\\n\\nRafael Nadal con...   tennis      4\n",
       "646  Hantuchova in Dubai last eight\\n\\nDaniela Hant...   tennis      4"
      ]
     },
     "execution_count": 20,
     "metadata": {},
     "output_type": "execute_result"
    }
   ],
   "source": [
    "data.iloc[637:647]"
   ]
  },
  {
   "cell_type": "code",
   "execution_count": 21,
   "metadata": {
    "scrolled": true
   },
   "outputs": [
    {
     "data": {
      "text/plain": [
       "football     265\n",
       "rugby        147\n",
       "cricket      124\n",
       "athletics    101\n",
       "tennis       100\n",
       "Name: Category, dtype: int64"
      ]
     },
     "execution_count": 21,
     "metadata": {},
     "output_type": "execute_result"
    }
   ],
   "source": [
    "data['Category'].value_counts()"
   ]
  },
  {
   "cell_type": "code",
   "execution_count": 22,
   "metadata": {
    "scrolled": false
   },
   "outputs": [
    {
     "data": {
      "text/plain": [
       "2    265\n",
       "3    147\n",
       "1    124\n",
       "0    101\n",
       "4    100\n",
       "Name: Class, dtype: int64"
      ]
     },
     "execution_count": 22,
     "metadata": {},
     "output_type": "execute_result"
    }
   ],
   "source": [
    "data['Class'].value_counts()"
   ]
  },
  {
   "cell_type": "code",
   "execution_count": 23,
   "metadata": {
    "scrolled": false
   },
   "outputs": [
    {
     "data": {
      "text/plain": [
       "'Claxton hunting first major medal\\n\\nBritish hurdler Sarah Claxton is confident she can win her first major medal at next month\\'s European Indoor Championships in Madrid.\\n\\nThe 25-year-old has already smashed the British record over 60m hurdles twice this season, setting a new mark of 7.96 seconds to win the AAAs title. \"I am quite confident,\" said Claxton. \"But I take each race as it comes. \"As long as I keep up my training but not do too much I think there is a chance of a medal.\" Claxton has won the national 60m hurdles title for the past three years but has struggled to translate her domestic success to the international stage. Now, the Scotland-born athlete owns the equal fifth-fastest time in the world this year. And at last week\\'s Birmingham Grand Prix, Claxton left European medal favourite Russian Irina Shevchenko trailing in sixth spot.\\n\\nFor the first time, Claxton has only been preparing for a campaign over the hurdles - which could explain her leap in form. In previous seasons, the 25-year-old also contested the long jump but since moving from Colchester to London she has re-focused her attentions. Claxton will see if her new training regime pays dividends at the European Indoors which take place on 5-6 March.\\n'"
      ]
     },
     "execution_count": 23,
     "metadata": {},
     "output_type": "execute_result"
    }
   ],
   "source": [
    "data.iloc[0,0]"
   ]
  },
  {
   "cell_type": "code",
   "execution_count": 24,
   "metadata": {
    "scrolled": false
   },
   "outputs": [
    {
     "name": "stdout",
     "output_type": "stream",
     "text": [
      "Claxton hunting first major medal\n",
      "\n",
      "British hurdler Sarah Claxton is confident she can win her first major medal at next month's European Indoor Championships in Madrid.\n",
      "\n",
      "The 25-year-old has already smashed the British record over 60m hurdles twice this season, setting a new mark of 7.96 seconds to win the AAAs title. \"I am quite confident,\" said Claxton. \"But I take each race as it comes. \"As long as I keep up my training but not do too much I think there is a chance of a medal.\" Claxton has won the national 60m hurdles title for the past three years but has struggled to translate her domestic success to the international stage. Now, the Scotland-born athlete owns the equal fifth-fastest time in the world this year. And at last week's Birmingham Grand Prix, Claxton left European medal favourite Russian Irina Shevchenko trailing in sixth spot.\n",
      "\n",
      "For the first time, Claxton has only been preparing for a campaign over the hurdles - which could explain her leap in form. In previous seasons, the 25-year-old also contested the long jump but since moving from Colchester to London she has re-focused her attentions. Claxton will see if her new training regime pays dividends at the European Indoors which take place on 5-6 March.\n",
      "\n",
      "====================================================================================================\n",
      "Event devised to nurture athletes\n",
      "\n",
      "UK Athletics has launched a new outdoor series aimed at creating extra competitive events for athletes just below Great Britain standard.\n",
      "\n",
      "The UK Challenge will consist of 10 high standard meetings from May until the series final on 3 September. Athletes must compete in at least three events to gain a series ranking with the top eight athletes in each discipline contesting the final. The scheme also coincides with plans to introduce a new UK ranking system. A list of the top 100 athletes in each event will be compiled and updated every two weeks throughout the outdoor season. UK Athletics chief executive David Moorcroft said he hoped the initiatives would stimulate the sport at all levels. \"We are building on the development of domestic competition started in the indoor season and will be looking to affect the careers of thousands of British athletes,\" said Moorcroft. \"This is an athlete driven programme and identifies a strata of competitors who will provide depth to our club profile.\"\n",
      "\n",
      "====================================================================================================\n",
      "Shoaib ruled out of Test series\n",
      "\n",
      "Fast bowler Shoaib Akhtar will miss Pakistan's Test series in India because he is still troubled by a hamstring injury and cannot be considered.\n",
      "\n",
      "He suffered the injury in Australia last month and says his recovery will take another four to five weeks. The squad for India will be named on Saturday but he was quoted as saying: \"I don't want to play half fit.\" The news comes less than 24 hours after he was fined Â£265 for breaching the terms of his contract in Australia. He was accused of visiting nightclubs and talking to the media without permission, but denies the charges and has lodged an appeal against the decision of a disciplinary panel. However, Shoaib insisted his decision to pull out of the Test series had nothing to do with the outcome of the disciplinary hearing. \"My decision is not linked to the fine or warning,\" he said. \"It is an honest decision since I don't want to go half fit to India.\" Shoaib's absence will be a huge blow to Pakistan's chances of avenging last year's home Test series defeat by India. But he still hopes to be available for the six one-day internationals which follow the Test matches. \"I have informed the Pakistan Cricket Board of my decision and will inform them as soon as I get fit so if the team needs me at that stage I am available.\n",
      "\n",
      "\"I would love to play the one-day series provided the team needs me,\" he added. The 29-year-old, known as the Rawalpindi Express, is the quickest bowler in world cricket and has been clocked at 100mph. But his fitness record has been poor and he has missed 30 of the 66 Tests Pakistan have played since he made his debut in November 1997. Shoaib believes injuries are an inevitable part of the game for fast bowlers because of the amount of international cricket nowadays. But critics point to the fact that he has increased his workload by agreeing contracts with English counties. He had spells with Durham in 2003-04 and is due to play for Worcestershire in the second half of the 2005 season following a tour to the West Indies. Pakistan, meanwhile, are awaiting fitness reports on fellow seamers Mohammad Sami, Mohammad Khalil and Shabbir Ahmed before finalising their squad for India. Another paceman, Umar Gul, will definitely not make the trip because he is still undergoing rehabilitation following stress fractures in his back.\n",
      "\n",
      "====================================================================================================\n",
      "Aragones angered by racism fine\n",
      "\n",
      "Spain coach Luis Aragones is furious after being fined by The Spanish Football Federation for his comments about Thierry Henry.\n",
      "\n",
      "The 66-year-old criticised his 3000 euros (Â£2,060) punishment even though it was far below the maximum penalty. \"I am not guilty, nor do I accept being judged for actions against the image of the sport,\" he said. \"I'm not a racist and I've never lacked sporting decorum. I've never done that and I have medals for sporting merit.\" Aragones was handed the fine on Tuesday after making racist remarks about Henry to Arsenal team-mate and Spanish international Jose Reyes last October.\n",
      "\n",
      "The Spanish Football Federation at first declined to take action against Aragones, but was then requested to do so by Spain's anti-violence commission. The fine was far less than the expected amount of about Â£22,000 or even the suspension of his coaching licence. Arsenal boss Arsene Wenger, who was fined Â£15,000 in December for accusing Manchester United striker Ruud van Nistelrooy of cheating, believes that Aragones' punishment was too lenient. \"You compare his fine and my fine, and if you consider his was for racist abuse, then you seem to get away with it more in Spain than you should,\" Wenger said. \"He shouldn't have said what he said, and how much money is enough, I don't know but it doesn't look a big punishment.\" However, Aragones insists the fine is unjustified and unfair. \"I have been treated like Islero (the bull that killed famous bullfighter Manolete),\" said Aragones on hearing he had been fined for his actions. \"I have not liked one thing about this whole affair and I do not agree with the sanction. They have looked for a scapegoat.\" Spain's anti-violence commission must now ratify the Spanish FA's decision and has until next week to announce its verdict. Aragones has 10 days to appeal, and the commission can also appeal. Alberto Flores, president of the Spanish FA's disciplinary committee, said no-one in the committee felt Aragones was a racist nor had \"acted in a racist way.\" \"A fine, the highest we could apply, is sufficient punishment. Suspension would have been a bit exaggerated,\" Flores told sports daily Marca.\n",
      "\n",
      "====================================================================================================\n"
     ]
    }
   ],
   "source": [
    "print(data.iloc[0,0])\n",
    "print(100*'=')\n",
    "print(data.iloc[100,0])\n",
    "print(100*'=')\n",
    "print(data.iloc[200,0])\n",
    "print(100*'=')\n",
    "print(data.iloc[300,0])\n",
    "print(100*'=')"
   ]
  },
  {
   "cell_type": "code",
   "execution_count": 25,
   "metadata": {},
   "outputs": [],
   "source": [
    "import re\n",
    "def decontracted(phrase):\n",
    "    # specific\n",
    "    phrase = re.sub(r\"won't\", \"will not\", phrase)\n",
    "    phrase = re.sub(r\"shan't\", \"shall not\", phrase)\n",
    "    phrase = re.sub(r\"can\\'t\", \"can not\", phrase)\n",
    "    # general\n",
    "    phrase = re.sub(r\"n\\'t\", \" not\", phrase)\n",
    "    phrase = re.sub(r\"\\'re\", \" are\", phrase)\n",
    "    phrase = re.sub(r\"\\'s\", \" is\", phrase)\n",
    "    phrase = re.sub(r\"\\'d\", \" would\", phrase)\n",
    "    phrase = re.sub(r\"\\'ll\", \" will\", phrase)\n",
    "    phrase = re.sub(r\"\\'t\", \" not\", phrase)\n",
    "    phrase = re.sub(r\"\\'ve\", \" have\", phrase)\n",
    "    phrase = re.sub(r\"\\'m\", \" am\", phrase)\n",
    "    \n",
    "    return phrase\n"
   ]
  },
  {
   "cell_type": "code",
   "execution_count": 26,
   "metadata": {},
   "outputs": [],
   "source": [
    "stopWords = set(stopwords.words('english'))"
   ]
  },
  {
   "cell_type": "code",
   "execution_count": 27,
   "metadata": {
    "scrolled": false
   },
   "outputs": [
    {
     "data": {
      "text/plain": [
       "{'a',\n",
       " 'about',\n",
       " 'above',\n",
       " 'after',\n",
       " 'again',\n",
       " 'against',\n",
       " 'ain',\n",
       " 'all',\n",
       " 'am',\n",
       " 'an',\n",
       " 'and',\n",
       " 'any',\n",
       " 'are',\n",
       " 'aren',\n",
       " \"aren't\",\n",
       " 'as',\n",
       " 'at',\n",
       " 'be',\n",
       " 'because',\n",
       " 'been',\n",
       " 'before',\n",
       " 'being',\n",
       " 'below',\n",
       " 'between',\n",
       " 'both',\n",
       " 'but',\n",
       " 'by',\n",
       " 'can',\n",
       " 'couldn',\n",
       " \"couldn't\",\n",
       " 'd',\n",
       " 'did',\n",
       " 'didn',\n",
       " \"didn't\",\n",
       " 'do',\n",
       " 'does',\n",
       " 'doesn',\n",
       " \"doesn't\",\n",
       " 'doing',\n",
       " 'don',\n",
       " \"don't\",\n",
       " 'down',\n",
       " 'during',\n",
       " 'each',\n",
       " 'few',\n",
       " 'for',\n",
       " 'from',\n",
       " 'further',\n",
       " 'had',\n",
       " 'hadn',\n",
       " \"hadn't\",\n",
       " 'has',\n",
       " 'hasn',\n",
       " \"hasn't\",\n",
       " 'have',\n",
       " 'haven',\n",
       " \"haven't\",\n",
       " 'having',\n",
       " 'he',\n",
       " 'her',\n",
       " 'here',\n",
       " 'hers',\n",
       " 'herself',\n",
       " 'him',\n",
       " 'himself',\n",
       " 'his',\n",
       " 'how',\n",
       " 'i',\n",
       " 'if',\n",
       " 'in',\n",
       " 'into',\n",
       " 'is',\n",
       " 'isn',\n",
       " \"isn't\",\n",
       " 'it',\n",
       " \"it's\",\n",
       " 'its',\n",
       " 'itself',\n",
       " 'just',\n",
       " 'll',\n",
       " 'm',\n",
       " 'ma',\n",
       " 'me',\n",
       " 'mightn',\n",
       " \"mightn't\",\n",
       " 'more',\n",
       " 'most',\n",
       " 'mustn',\n",
       " \"mustn't\",\n",
       " 'my',\n",
       " 'myself',\n",
       " 'needn',\n",
       " \"needn't\",\n",
       " 'no',\n",
       " 'nor',\n",
       " 'not',\n",
       " 'now',\n",
       " 'o',\n",
       " 'of',\n",
       " 'off',\n",
       " 'on',\n",
       " 'once',\n",
       " 'only',\n",
       " 'or',\n",
       " 'other',\n",
       " 'our',\n",
       " 'ours',\n",
       " 'ourselves',\n",
       " 'out',\n",
       " 'over',\n",
       " 'own',\n",
       " 're',\n",
       " 's',\n",
       " 'same',\n",
       " 'shan',\n",
       " \"shan't\",\n",
       " 'she',\n",
       " \"she's\",\n",
       " 'should',\n",
       " \"should've\",\n",
       " 'shouldn',\n",
       " \"shouldn't\",\n",
       " 'so',\n",
       " 'some',\n",
       " 'such',\n",
       " 't',\n",
       " 'than',\n",
       " 'that',\n",
       " \"that'll\",\n",
       " 'the',\n",
       " 'their',\n",
       " 'theirs',\n",
       " 'them',\n",
       " 'themselves',\n",
       " 'then',\n",
       " 'there',\n",
       " 'these',\n",
       " 'they',\n",
       " 'this',\n",
       " 'those',\n",
       " 'through',\n",
       " 'to',\n",
       " 'too',\n",
       " 'under',\n",
       " 'until',\n",
       " 'up',\n",
       " 've',\n",
       " 'very',\n",
       " 'was',\n",
       " 'wasn',\n",
       " \"wasn't\",\n",
       " 'we',\n",
       " 'were',\n",
       " 'weren',\n",
       " \"weren't\",\n",
       " 'what',\n",
       " 'when',\n",
       " 'where',\n",
       " 'which',\n",
       " 'while',\n",
       " 'who',\n",
       " 'whom',\n",
       " 'why',\n",
       " 'will',\n",
       " 'with',\n",
       " 'won',\n",
       " \"won't\",\n",
       " 'wouldn',\n",
       " \"wouldn't\",\n",
       " 'y',\n",
       " 'you',\n",
       " \"you'd\",\n",
       " \"you'll\",\n",
       " \"you're\",\n",
       " \"you've\",\n",
       " 'your',\n",
       " 'yours',\n",
       " 'yourself',\n",
       " 'yourselves'}"
      ]
     },
     "execution_count": 27,
     "metadata": {},
     "output_type": "execute_result"
    }
   ],
   "source": [
    "stopWords"
   ]
  },
  {
   "cell_type": "code",
   "execution_count": 28,
   "metadata": {},
   "outputs": [],
   "source": [
    "# stopwords= set(['br', 'the', 'i', 'me', 'my', 'myself', 'we', 'our', 'ours', 'ourselves', 'you', \"you're\", \"you've\",\\\n",
    "# \"you'll\", \"you'd\", 'your', 'yours', 'yourself', 'yourselves', 'he', 'him', 'his',\n",
    "# 'himself', \\\n",
    "# 'she', \"she's\", 'her', 'hers', 'herself', 'it', \"it's\", 'its', 'itself', 'they', 'them',\n",
    "# 'their',\\\n",
    "# 'theirs', 'themselves', 'what', 'which', 'who', 'whom', 'this', 'that', \"that'll\",\n",
    "# 'these', 'those', \\\n",
    "# 'am', 'is', 'are', 'was', 'were', 'be', 'been', 'being', 'have', 'has', 'had', 'having',\n",
    "# 'do', 'does', \\\n",
    "# 'did', 'doing', 'a', 'an', 'the', 'and', 'but', 'if', 'or', 'because', 'as', 'until', 'while', 'of', \\\n",
    "# 'at', 'by', 'for', 'with', 'about', 'against', 'between', 'into', 'through', 'during',\n",
    "# 'before', 'after',\\\n",
    "# 'above', 'below', 'to', 'from', 'up', 'down', 'in', 'out', 'on', 'off', 'over', 'under'\n",
    "# , 'again', 'further',\\\n",
    "# 'then', 'once', 'here', 'there', 'when', 'where', 'why', 'how', 'all', 'any', 'both', 'each', 'few', 'more',\\\n",
    "# 'most', 'other', 'some', 'such', 'only', 'own', 'same', 'so', 'than', 'too', 'very', \\\n",
    "# 's', 't', 'can', 'will', 'just', 'don', \"don't\", 'should', \"should've\", 'now', 'd', 'll'\n",
    "# , 'm', 'o', 're', \\\n",
    "# 've', 'y', 'ain', 'aren', \"aren't\", 'couldn', \"couldn't\", 'didn', \"didn't\", 'doesn', \"doesn't\", 'hadn',\\\n",
    "# \"hadn't\", 'hasn', \"hasn't\", 'haven', \"haven't\", 'isn', \"isn't\", 'ma', 'mightn',\n",
    "# \"mightn't\", 'mustn',\\\n",
    "# \"mustn't\", 'needn', \"needn't\", 'shan', \"shan't\", 'shouldn', \"shouldn't\", 'wasn',\n",
    "# \"wasn't\", 'weren', \"weren't\", \\\n",
    "# 'won', \"won't\", 'wouldn', \"wouldn't\"])\n"
   ]
  },
  {
   "cell_type": "code",
   "execution_count": 29,
   "metadata": {},
   "outputs": [
    {
     "data": {
      "application/vnd.jupyter.widget-view+json": {
       "model_id": "",
       "version_major": 2,
       "version_minor": 0
      },
      "text/plain": [
       "HBox(children=(FloatProgress(value=0.0, max=737.0), HTML(value='')))"
      ]
     },
     "metadata": {},
     "output_type": "display_data"
    },
    {
     "name": "stdout",
     "output_type": "stream",
     "text": [
      "\n"
     ]
    }
   ],
   "source": [
    "from nltk.tokenize import word_tokenize\n",
    "from nltk.stem import PorterStemmer\n",
    "\n",
    "porter = PorterStemmer()\n",
    "preprocessed_data = []\n",
    "# tqdm is for printing the status bar\n",
    "for sentance in tqdm(data['Text'].values):\n",
    "\n",
    "#     sentance = decontracted(sentance)\n",
    "    #remove words with numbers python: https://stackoverflow.com/a/18082370/4084039\n",
    "    sentance = re.sub(\"\\S*\\d\\S*\", \"\", sentance).strip()\n",
    "    sentance = re.sub('[^A-Za-z]+', ' ', sentance)\n",
    "    # https://gist.github.com/sebleier/554280\n",
    "    sentance = ' '.join(porter.stem(e.lower()) for e in sentance.split() if e.lower() not in stopWords)\n",
    "    preprocessed_data.append(sentance.strip())\n"
   ]
  },
  {
   "cell_type": "code",
   "execution_count": null,
   "metadata": {},
   "outputs": [],
   "source": []
  },
  {
   "cell_type": "markdown",
   "metadata": {},
   "source": [
    "### Before Stemming"
   ]
  },
  {
   "cell_type": "code",
   "execution_count": 30,
   "metadata": {},
   "outputs": [
    {
     "data": {
      "text/plain": [
       "'Claxton hunting first major medal\\n\\nBritish hurdler Sarah Claxton is confident she can win her first major medal at next month\\'s European Indoor Championships in Madrid.\\n\\nThe 25-year-old has already smashed the British record over 60m hurdles twice this season, setting a new mark of 7.96 seconds to win the AAAs title. \"I am quite confident,\" said Claxton. \"But I take each race as it comes. \"As long as I keep up my training but not do too much I think there is a chance of a medal.\" Claxton has won the national 60m hurdles title for the past three years but has struggled to translate her domestic success to the international stage. Now, the Scotland-born athlete owns the equal fifth-fastest time in the world this year. And at last week\\'s Birmingham Grand Prix, Claxton left European medal favourite Russian Irina Shevchenko trailing in sixth spot.\\n\\nFor the first time, Claxton has only been preparing for a campaign over the hurdles - which could explain her leap in form. In previous seasons, the 25-year-old also contested the long jump but since moving from Colchester to London she has re-focused her attentions. Claxton will see if her new training regime pays dividends at the European Indoors which take place on 5-6 March.\\n'"
      ]
     },
     "execution_count": 30,
     "metadata": {},
     "output_type": "execute_result"
    }
   ],
   "source": [
    "data['Text'][0]"
   ]
  },
  {
   "cell_type": "markdown",
   "metadata": {},
   "source": [
    "### After Stemming "
   ]
  },
  {
   "cell_type": "code",
   "execution_count": 31,
   "metadata": {},
   "outputs": [
    {
     "data": {
      "text/plain": [
       "'claxton hunt first major medal british hurdler sarah claxton confid win first major medal next month european indoor championship madrid alreadi smash british record hurdl twice season set new mark second win aaa titl quit confid said claxton take race come long keep train much think chanc medal claxton nation hurdl titl past three year struggl translat domest success intern stage scotland born athlet own equal fifth fastest time world year last week birmingham grand prix claxton left european medal favourit russian irina shevchenko trail sixth spot first time claxton prepar campaign hurdl could explain leap form previou season also contest long jump sinc move colchest london focus attent claxton see new train regim pay dividend european indoor take place march'"
      ]
     },
     "execution_count": 31,
     "metadata": {},
     "output_type": "execute_result"
    }
   ],
   "source": [
    "preprocessed_data[0]"
   ]
  },
  {
   "cell_type": "code",
   "execution_count": 32,
   "metadata": {},
   "outputs": [],
   "source": [
    "data['preprocessed_data'] = preprocessed_data"
   ]
  },
  {
   "cell_type": "code",
   "execution_count": 33,
   "metadata": {},
   "outputs": [
    {
     "data": {
      "text/html": [
       "<div>\n",
       "<style scoped>\n",
       "    .dataframe tbody tr th:only-of-type {\n",
       "        vertical-align: middle;\n",
       "    }\n",
       "\n",
       "    .dataframe tbody tr th {\n",
       "        vertical-align: top;\n",
       "    }\n",
       "\n",
       "    .dataframe thead th {\n",
       "        text-align: right;\n",
       "    }\n",
       "</style>\n",
       "<table border=\"1\" class=\"dataframe\">\n",
       "  <thead>\n",
       "    <tr style=\"text-align: right;\">\n",
       "      <th></th>\n",
       "      <th>Text</th>\n",
       "      <th>Category</th>\n",
       "      <th>Class</th>\n",
       "      <th>preprocessed_data</th>\n",
       "    </tr>\n",
       "  </thead>\n",
       "  <tbody>\n",
       "    <tr>\n",
       "      <th>0</th>\n",
       "      <td>Claxton hunting first major medal\\n\\nBritish h...</td>\n",
       "      <td>athletics</td>\n",
       "      <td>0</td>\n",
       "      <td>claxton hunt first major medal british hurdler...</td>\n",
       "    </tr>\n",
       "    <tr>\n",
       "      <th>1</th>\n",
       "      <td>O'Sullivan could run in Worlds\\n\\nSonia O'Sull...</td>\n",
       "      <td>athletics</td>\n",
       "      <td>0</td>\n",
       "      <td>sullivan could run world sonia sullivan indic ...</td>\n",
       "    </tr>\n",
       "    <tr>\n",
       "      <th>2</th>\n",
       "      <td>Greene sets sights on world title\\n\\nMaurice G...</td>\n",
       "      <td>athletics</td>\n",
       "      <td>0</td>\n",
       "      <td>green set sight world titl mauric green aim wi...</td>\n",
       "    </tr>\n",
       "    <tr>\n",
       "      <th>3</th>\n",
       "      <td>IAAF launches fight against drugs\\n\\nThe IAAF ...</td>\n",
       "      <td>athletics</td>\n",
       "      <td>0</td>\n",
       "      <td>iaaf launch fight drug iaaf athlet world gover...</td>\n",
       "    </tr>\n",
       "    <tr>\n",
       "      <th>4</th>\n",
       "      <td>Dibaba breaks 5,000m world record\\n\\nEthiopia'...</td>\n",
       "      <td>athletics</td>\n",
       "      <td>0</td>\n",
       "      <td>dibaba break world record ethiopia tirunesh di...</td>\n",
       "    </tr>\n",
       "  </tbody>\n",
       "</table>\n",
       "</div>"
      ],
      "text/plain": [
       "                                                Text   Category  Class  \\\n",
       "0  Claxton hunting first major medal\\n\\nBritish h...  athletics      0   \n",
       "1  O'Sullivan could run in Worlds\\n\\nSonia O'Sull...  athletics      0   \n",
       "2  Greene sets sights on world title\\n\\nMaurice G...  athletics      0   \n",
       "3  IAAF launches fight against drugs\\n\\nThe IAAF ...  athletics      0   \n",
       "4  Dibaba breaks 5,000m world record\\n\\nEthiopia'...  athletics      0   \n",
       "\n",
       "                                   preprocessed_data  \n",
       "0  claxton hunt first major medal british hurdler...  \n",
       "1  sullivan could run world sonia sullivan indic ...  \n",
       "2  green set sight world titl mauric green aim wi...  \n",
       "3  iaaf launch fight drug iaaf athlet world gover...  \n",
       "4  dibaba break world record ethiopia tirunesh di...  "
      ]
     },
     "execution_count": 33,
     "metadata": {},
     "output_type": "execute_result"
    }
   ],
   "source": [
    "data.head()"
   ]
  },
  {
   "cell_type": "code",
   "execution_count": 34,
   "metadata": {},
   "outputs": [
    {
     "data": {
      "text/html": [
       "<div>\n",
       "<style scoped>\n",
       "    .dataframe tbody tr th:only-of-type {\n",
       "        vertical-align: middle;\n",
       "    }\n",
       "\n",
       "    .dataframe tbody tr th {\n",
       "        vertical-align: top;\n",
       "    }\n",
       "\n",
       "    .dataframe thead th {\n",
       "        text-align: right;\n",
       "    }\n",
       "</style>\n",
       "<table border=\"1\" class=\"dataframe\">\n",
       "  <thead>\n",
       "    <tr style=\"text-align: right;\">\n",
       "      <th></th>\n",
       "      <th>Text</th>\n",
       "      <th>Category</th>\n",
       "      <th>Class</th>\n",
       "      <th>preprocessed_data</th>\n",
       "    </tr>\n",
       "  </thead>\n",
       "  <tbody>\n",
       "    <tr>\n",
       "      <th>101</th>\n",
       "      <td>Hayden sets up Australia win\\n\\nSecond one-day...</td>\n",
       "      <td>cricket</td>\n",
       "      <td>1</td>\n",
       "      <td>hayden set australia win second one day intern...</td>\n",
       "    </tr>\n",
       "    <tr>\n",
       "      <th>102</th>\n",
       "      <td>Pietersen gives England a chance\\n\\nLunch: Eng...</td>\n",
       "      <td>cricket</td>\n",
       "      <td>1</td>\n",
       "      <td>pietersen give england chanc lunch england ove...</td>\n",
       "    </tr>\n",
       "    <tr>\n",
       "      <th>103</th>\n",
       "      <td>South Africa far too strong again\\n\\nSecond on...</td>\n",
       "      <td>cricket</td>\n",
       "      <td>1</td>\n",
       "      <td>south africa far strong second one day intern ...</td>\n",
       "    </tr>\n",
       "    <tr>\n",
       "      <th>104</th>\n",
       "      <td>Pakistan on revenge mission\\n\\nPakistan's cric...</td>\n",
       "      <td>cricket</td>\n",
       "      <td>1</td>\n",
       "      <td>pakistan reveng mission pakistan cricket depar...</td>\n",
       "    </tr>\n",
       "    <tr>\n",
       "      <th>105</th>\n",
       "      <td>Russell to instruct keeper Jones\\n\\nFormer Eng...</td>\n",
       "      <td>cricket</td>\n",
       "      <td>1</td>\n",
       "      <td>russel instruct keeper jone former england glo...</td>\n",
       "    </tr>\n",
       "    <tr>\n",
       "      <th>106</th>\n",
       "      <td>England A roll to second victory\\n\\nOne-day to...</td>\n",
       "      <td>cricket</td>\n",
       "      <td>1</td>\n",
       "      <td>england roll second victori one day tour match...</td>\n",
       "    </tr>\n",
       "    <tr>\n",
       "      <th>107</th>\n",
       "      <td>Kaif absence wrong - Azharuddin\\n\\nIndia were ...</td>\n",
       "      <td>cricket</td>\n",
       "      <td>1</td>\n",
       "      <td>kaif absenc wrong azharuddin india wrong leav ...</td>\n",
       "    </tr>\n",
       "    <tr>\n",
       "      <th>108</th>\n",
       "      <td>Bracewell worried by Lee\\n\\nNew Zealand coach ...</td>\n",
       "      <td>cricket</td>\n",
       "      <td>1</td>\n",
       "      <td>bracewel worri lee new zealand coach john brac...</td>\n",
       "    </tr>\n",
       "    <tr>\n",
       "      <th>109</th>\n",
       "      <td>Pakistan accept venues compromise\\n\\nThe doubt...</td>\n",
       "      <td>cricket</td>\n",
       "      <td>1</td>\n",
       "      <td>pakistan accept venu compromis doubt surround ...</td>\n",
       "    </tr>\n",
       "  </tbody>\n",
       "</table>\n",
       "</div>"
      ],
      "text/plain": [
       "                                                  Text Category  Class  \\\n",
       "101  Hayden sets up Australia win\\n\\nSecond one-day...  cricket      1   \n",
       "102  Pietersen gives England a chance\\n\\nLunch: Eng...  cricket      1   \n",
       "103  South Africa far too strong again\\n\\nSecond on...  cricket      1   \n",
       "104  Pakistan on revenge mission\\n\\nPakistan's cric...  cricket      1   \n",
       "105  Russell to instruct keeper Jones\\n\\nFormer Eng...  cricket      1   \n",
       "106  England A roll to second victory\\n\\nOne-day to...  cricket      1   \n",
       "107  Kaif absence wrong - Azharuddin\\n\\nIndia were ...  cricket      1   \n",
       "108  Bracewell worried by Lee\\n\\nNew Zealand coach ...  cricket      1   \n",
       "109  Pakistan accept venues compromise\\n\\nThe doubt...  cricket      1   \n",
       "\n",
       "                                     preprocessed_data  \n",
       "101  hayden set australia win second one day intern...  \n",
       "102  pietersen give england chanc lunch england ove...  \n",
       "103  south africa far strong second one day intern ...  \n",
       "104  pakistan reveng mission pakistan cricket depar...  \n",
       "105  russel instruct keeper jone former england glo...  \n",
       "106  england roll second victori one day tour match...  \n",
       "107  kaif absenc wrong azharuddin india wrong leav ...  \n",
       "108  bracewel worri lee new zealand coach john brac...  \n",
       "109  pakistan accept venu compromis doubt surround ...  "
      ]
     },
     "execution_count": 34,
     "metadata": {},
     "output_type": "execute_result"
    }
   ],
   "source": [
    "data.iloc[101:110]"
   ]
  },
  {
   "cell_type": "code",
   "execution_count": 35,
   "metadata": {
    "scrolled": true
   },
   "outputs": [
    {
     "data": {
      "text/html": [
       "<div>\n",
       "<style scoped>\n",
       "    .dataframe tbody tr th:only-of-type {\n",
       "        vertical-align: middle;\n",
       "    }\n",
       "\n",
       "    .dataframe tbody tr th {\n",
       "        vertical-align: top;\n",
       "    }\n",
       "\n",
       "    .dataframe thead th {\n",
       "        text-align: right;\n",
       "    }\n",
       "</style>\n",
       "<table border=\"1\" class=\"dataframe\">\n",
       "  <thead>\n",
       "    <tr style=\"text-align: right;\">\n",
       "      <th></th>\n",
       "      <th>Text</th>\n",
       "      <th>Category</th>\n",
       "      <th>Class</th>\n",
       "      <th>preprocessed_data</th>\n",
       "    </tr>\n",
       "  </thead>\n",
       "  <tbody>\n",
       "    <tr>\n",
       "      <th>225</th>\n",
       "      <td>Man Utd stroll to Cup win\\n\\nWayne Rooney made...</td>\n",
       "      <td>football</td>\n",
       "      <td>2</td>\n",
       "      <td>man utd stroll cup win wayn rooney made win re...</td>\n",
       "    </tr>\n",
       "    <tr>\n",
       "      <th>226</th>\n",
       "      <td>Van Nistelrooy set to return\\n\\nManchester Uni...</td>\n",
       "      <td>football</td>\n",
       "      <td>2</td>\n",
       "      <td>van nistelrooy set return manchest unit strike...</td>\n",
       "    </tr>\n",
       "    <tr>\n",
       "      <th>227</th>\n",
       "      <td>Moyes U-turn on Beattie dismissal\\n\\nEverton m...</td>\n",
       "      <td>football</td>\n",
       "      <td>2</td>\n",
       "      <td>moy u turn beatti dismiss everton manag david ...</td>\n",
       "    </tr>\n",
       "    <tr>\n",
       "      <th>228</th>\n",
       "      <td>Ronaldo considering new contract\\n\\nManchester...</td>\n",
       "      <td>football</td>\n",
       "      <td>2</td>\n",
       "      <td>ronaldo consid new contract manchest unit wing...</td>\n",
       "    </tr>\n",
       "    <tr>\n",
       "      <th>229</th>\n",
       "      <td>Smith keen on Home series return\\n\\nScotland m...</td>\n",
       "      <td>football</td>\n",
       "      <td>2</td>\n",
       "      <td>smith keen home seri return scotland manag wal...</td>\n",
       "    </tr>\n",
       "    <tr>\n",
       "      <th>230</th>\n",
       "      <td>Mido makes third apology\\n\\nAhmed 'Mido' Hossa...</td>\n",
       "      <td>football</td>\n",
       "      <td>2</td>\n",
       "      <td>mido make third apolog ahm mido hossam made an...</td>\n",
       "    </tr>\n",
       "    <tr>\n",
       "      <th>231</th>\n",
       "      <td>Man City 0-2 Man Utd\\n\\nManchester United redu...</td>\n",
       "      <td>football</td>\n",
       "      <td>2</td>\n",
       "      <td>man citi man utd manchest unit reduc chelsea p...</td>\n",
       "    </tr>\n",
       "    <tr>\n",
       "      <th>232</th>\n",
       "      <td>Gerrard plays down European hopes\\n\\nSteven Ge...</td>\n",
       "      <td>football</td>\n",
       "      <td>2</td>\n",
       "      <td>gerrard play european hope steven gerrard admi...</td>\n",
       "    </tr>\n",
       "    <tr>\n",
       "      <th>233</th>\n",
       "      <td>Duff ruled out of Barcelona clash\\n\\nChelsea's...</td>\n",
       "      <td>football</td>\n",
       "      <td>2</td>\n",
       "      <td>duff rule barcelona clash chelsea damien duff ...</td>\n",
       "    </tr>\n",
       "    <tr>\n",
       "      <th>234</th>\n",
       "      <td>Chelsea clinch cup in extra-time\\n\\n(after ext...</td>\n",
       "      <td>football</td>\n",
       "      <td>2</td>\n",
       "      <td>chelsea clinch cup extra time extra time score...</td>\n",
       "    </tr>\n",
       "  </tbody>\n",
       "</table>\n",
       "</div>"
      ],
      "text/plain": [
       "                                                  Text  Category  Class  \\\n",
       "225  Man Utd stroll to Cup win\\n\\nWayne Rooney made...  football      2   \n",
       "226  Van Nistelrooy set to return\\n\\nManchester Uni...  football      2   \n",
       "227  Moyes U-turn on Beattie dismissal\\n\\nEverton m...  football      2   \n",
       "228  Ronaldo considering new contract\\n\\nManchester...  football      2   \n",
       "229  Smith keen on Home series return\\n\\nScotland m...  football      2   \n",
       "230  Mido makes third apology\\n\\nAhmed 'Mido' Hossa...  football      2   \n",
       "231  Man City 0-2 Man Utd\\n\\nManchester United redu...  football      2   \n",
       "232  Gerrard plays down European hopes\\n\\nSteven Ge...  football      2   \n",
       "233  Duff ruled out of Barcelona clash\\n\\nChelsea's...  football      2   \n",
       "234  Chelsea clinch cup in extra-time\\n\\n(after ext...  football      2   \n",
       "\n",
       "                                     preprocessed_data  \n",
       "225  man utd stroll cup win wayn rooney made win re...  \n",
       "226  van nistelrooy set return manchest unit strike...  \n",
       "227  moy u turn beatti dismiss everton manag david ...  \n",
       "228  ronaldo consid new contract manchest unit wing...  \n",
       "229  smith keen home seri return scotland manag wal...  \n",
       "230  mido make third apolog ahm mido hossam made an...  \n",
       "231  man citi man utd manchest unit reduc chelsea p...  \n",
       "232  gerrard play european hope steven gerrard admi...  \n",
       "233  duff rule barcelona clash chelsea damien duff ...  \n",
       "234  chelsea clinch cup extra time extra time score...  "
      ]
     },
     "execution_count": 35,
     "metadata": {},
     "output_type": "execute_result"
    }
   ],
   "source": [
    "data.iloc[225:235]"
   ]
  },
  {
   "cell_type": "code",
   "execution_count": 36,
   "metadata": {},
   "outputs": [
    {
     "data": {
      "text/plain": [
       "football     265\n",
       "rugby        147\n",
       "cricket      124\n",
       "athletics    101\n",
       "tennis       100\n",
       "Name: Category, dtype: int64"
      ]
     },
     "execution_count": 36,
     "metadata": {},
     "output_type": "execute_result"
    }
   ],
   "source": [
    "data['Category'].value_counts()"
   ]
  },
  {
   "cell_type": "code",
   "execution_count": 37,
   "metadata": {
    "scrolled": true
   },
   "outputs": [
    {
     "data": {
      "image/png": "[encoded data removed]",
      "text/plain": [
       "<Figure size 432x288 with 1 Axes>"
      ]
     },
     "metadata": {},
     "output_type": "display_data"
    }
   ],
   "source": [
    "import matplotlib.pyplot as plt\n",
    "data['Category'].value_counts().plot(kind='bar')\n",
    "plt.title('Class distribution in Original data')\n",
    "plt.xlabel('Class Count')\n",
    "plt.ylabel('Class')\n",
    "plt.show()"
   ]
  },
  {
   "cell_type": "code",
   "execution_count": 38,
   "metadata": {},
   "outputs": [],
   "source": [
    "from sklearn.model_selection import train_test_split\n",
    "X, X_test = train_test_split(data, test_size=0.05, random_state=42)\n",
    "X_train, X_val = train_test_split(X, test_size=0.05, random_state=42)"
   ]
  },
  {
   "cell_type": "code",
   "execution_count": 39,
   "metadata": {},
   "outputs": [
    {
     "data": {
      "image/png": "[encoded data removed]",
      "text/plain": [
       "<Figure size 432x288 with 1 Axes>"
      ]
     },
     "metadata": {},
     "output_type": "display_data"
    }
   ],
   "source": [
    "X_train['Category'].value_counts().plot(kind='bar')\n",
    "plt.title('Class distribution in Train data')\n",
    "plt.xlabel('Class Count')\n",
    "plt.ylabel('Class')\n",
    "plt.show()"
   ]
  },
  {
   "cell_type": "code",
   "execution_count": 40,
   "metadata": {},
   "outputs": [
    {
     "data": {
      "image/png": "[encoded data removed]",
      "text/plain": [
       "<Figure size 432x288 with 1 Axes>"
      ]
     },
     "metadata": {},
     "output_type": "display_data"
    }
   ],
   "source": [
    "X_val['Category'].value_counts().plot(kind='bar')\n",
    "plt.title('Class distribution in Validation data')\n",
    "plt.xlabel('Class Count')\n",
    "plt.ylabel('Class')\n",
    "plt.show()"
   ]
  },
  {
   "cell_type": "code",
   "execution_count": 41,
   "metadata": {},
   "outputs": [
    {
     "data": {
      "image/png": "[encoded data removed]",
      "text/plain": [
       "<Figure size 432x288 with 1 Axes>"
      ]
     },
     "metadata": {},
     "output_type": "display_data"
    }
   ],
   "source": [
    "X_test['Category'].value_counts().plot(kind='bar')\n",
    "plt.title('Class distribution in Test data')\n",
    "plt.xlabel('Class Count')\n",
    "plt.ylabel('Class')\n",
    "plt.show()"
   ]
  },
  {
   "cell_type": "code",
   "execution_count": 42,
   "metadata": {},
   "outputs": [
    {
     "name": "stdout",
     "output_type": "stream",
     "text": [
      "Shape of Train Data      :  (665, 4)\n",
      "Shape of Validation Data :  (35, 4)\n",
      "Shape of Test Data       :  (37, 4)\n"
     ]
    }
   ],
   "source": [
    "print(\"Shape of Train Data      : \",X_train.shape)\n",
    "print(\"Shape of Validation Data : \",X_val.shape)\n",
    "print(\"Shape of Test Data       : \",X_test.shape)"
   ]
  },
  {
   "cell_type": "code",
   "execution_count": 43,
   "metadata": {},
   "outputs": [
    {
     "name": "stdout",
     "output_type": "stream",
     "text": [
      "some feature names  ['aaa', 'ab', 'abdul', 'abil', 'abl', 'absenc', 'absolut', 'ac', 'accept', 'accid']\n",
      "==================================================\n",
      "the type of count vectorizer  <class 'scipy.sparse.csr.csr_matrix'>\n",
      "the shape of out text BOW vectorizer  (665, 1463)\n",
      "the number of unique words  1463\n"
     ]
    }
   ],
   "source": [
    "#BoW\n",
    "count_vect = CountVectorizer(max_df = 70, min_df = 10, max_features = 3000) #in scikit-learn\n",
    "count_vect.fit(X_train['preprocessed_data'])\n",
    "print(\"some feature names \", count_vect.get_feature_names()[:10])\n",
    "print('='*50)\n",
    "final_counts = count_vect.transform(X_train['preprocessed_data'])\n",
    "final_cv = count_vect.transform(X_val['preprocessed_data'])\n",
    "print(\"the type of count vectorizer \",type(final_counts))\n",
    "print(\"the shape of out text BOW vectorizer \",final_counts.get_shape())\n",
    "print(\"the number of unique words \", final_counts.get_shape()[1])\n"
   ]
  },
  {
   "cell_type": "code",
   "execution_count": 44,
   "metadata": {},
   "outputs": [
    {
     "name": "stdout",
     "output_type": "stream",
     "text": [
      "['aaa', 'ab', 'abdul', 'abil', 'abl', 'absenc', 'absolut', 'ac', 'accept', 'accid', 'accord', 'account', 'accus', 'achiev', 'across', 'act', 'action', 'actual', 'adam', 'add', 'admir', 'advanc', 'advantag', 'affair', 'affect', 'afford', 'africa', 'african', 'afternoon', 'afterward', 'agassi', 'age', 'agenc', 'agent', 'ago', 'agre', 'agreement', 'aim', 'air', 'akhtar', 'akmal', 'alan', 'alex', 'alleg', 'allow', 'almost', 'alon', 'along', 'alongsid', 'although', 'amaz', 'ambit', 'america', 'american', 'among', 'amount', 'anderson', 'andr', 'andrew', 'anfield', 'angl', 'angri', 'ankl', 'announc', 'answer', 'anti', 'antonio', 'anybodi', 'anyon', 'anyth', 'apart', 'apologis', 'appeal', 'appear', 'appli', 'appoint', 'approach', 'april', 'area', 'argentina', 'arm', 'around', 'arriv', 'ash', 'ashley', 'asid', 'ask', 'assess', 'assist', 'associ', 'assur', 'aston', 'athen', 'athlet', 'atmospher', 'attack', 'attempt', 'attend', 'attent', 'attitud', 'attract', 'august', 'aussi', 'author', 'autumn', 'avail', 'averag', 'aviv', 'avoid', 'await', 'awar', 'award', 'bad', 'badli', 'balanc', 'ban', 'bangladesh', 'bar', 'barcelona', 'barkley', 'barri', 'base', 'basi', 'basic', 'bat', 'bath', 'batsman', 'batsmen', 'battl', 'beaten', 'becam', 'beckham', 'becom', 'began', 'begin', 'behaviour', 'belgian', 'belief', 'bell', 'ben', 'bench', 'benefit', 'benitez', 'bernard', 'beyond', 'bid', 'bigger', 'biggest', 'birmingham', 'black', 'blackburn', 'blame', 'block', 'blow', 'blue', 'board', 'bob', 'bodi', 'boje', 'bolton', 'book', 'boost', 'boot', 'born', 'bortolami', 'boston', 'bottom', 'boucher', 'bounc', 'boundari', 'bowl', 'bowler', 'box', 'boy', 'brave', 'brazil', 'brazilian', 'brendon', 'brett', 'brian', 'bridg', 'brilliant', 'bring', 'britain', 'british', 'briton', 'broke', 'broken', 'bronz', 'brought', 'brown', 'build', 'busi', 'butt', 'buy', 'byrn', 'cairn', 'calm', 'camp', 'campaign', 'campbel', 'candid', 'cannot', 'cap', 'capabl', 'cape', 'capt', 'captainci', 'card', 'cardiff', 'care', 'carl', 'carlo', 'carri', 'carrol', 'case', 'cash', 'catch', 'caught', 'caus', 'celebr', 'celtic', 'centr', 'central', 'centuri', 'certain', 'certainli', 'chairman', 'challeng', 'charact', 'charg', 'charli', 'charlton', 'chase', 'chicago', 'chief', 'choic', 'chose', 'chri', 'christoph', 'citi', 'clark', 'clash', 'class', 'clean', 'clear', 'clearli', 'clinch', 'clive', 'clock', 'cole', 'collect', 'collin', 'combin', 'comeback', 'comfort', 'comment', 'commit', 'committe', 'commun', 'compani', 'compatriot', 'compet', 'complet', 'conced', 'concentr', 'concern', 'condit', 'conduct', 'confer', 'confirm', 'connel', 'connor', 'consecut', 'consid', 'consist', 'contact', 'contend', 'content', 'contest', 'contract', 'contribut', 'control', 'controversi', 'convers', 'convert', 'convinc', 'cope', 'corner', 'corri', 'cost', 'council', 'count', 'counter', 'counti', 'coupl', 'cours', 'court', 'cover', 'craig', 'crash', 'creat', 'credit', 'crimin', 'critic', 'criticis', 'cross', 'crowd', 'crown', 'crucial', 'cueto', 'current', 'cut', 'czech', 'daili', 'dallaglio', 'damag', 'damien', 'danger', 'daniel', 'danish', 'danni', 'darren', 'date', 'davenport', 'davi', 'dawson', 'de', 'deal', 'death', 'debut', 'decemb', 'declar', 'declin', 'deep', 'defenc', 'defens', 'definit', 'delay', 'delight', 'deliv', 'deliveri', 'demand', 'deni', 'depart', 'departur', 'depth', 'derbi', 'describ', 'deserv', 'desir', 'desper', 'determin', 'develop', 'didier', 'differ', 'direct', 'director', 'disallow', 'disappoint', 'disciplin', 'disciplinari', 'discuss', 'dismiss', 'display', 'disput', 'distanc', 'dive', 'domest', 'domin', 'door', 'dope', 'doubl', 'doubt', 'dougla', 'drag', 'dramat', 'draw', 'drawn', 'dream', 'dress', 'driscol', 'drive', 'drogba', 'drug', 'dubai', 'dublin', 'duck', 'due', 'duff', 'duncan', 'duo', 'dutch', 'dutchman', 'duti', 'earlier', 'earn', 'eas', 'easi', 'easier', 'easili', 'eddi', 'edg', 'edinburgh', 'effect', 'effort', 'eighth', 'either', 'elena', 'elit', 'elli', 'els', 'elsewher', 'emerg', 'emot', 'encount', 'endur', 'energi', 'english', 'enhanc', 'enjoy', 'enough', 'ensur', 'enter', 'entertain', 'entir', 'equal', 'equalis', 'error', 'especi', 'establish', 'euro', 'europ', 'eve', 'eventu', 'ever', 'everton', 'everybodi', 'everyon', 'everyth', 'evid', 'ex', 'exampl', 'excel', 'except', 'excit', 'execut', 'experi', 'experienc', 'explain', 'express', 'extend', 'extra', 'extrem', 'eye', 'fa', 'fact', 'factor', 'failur', 'fair', 'faith', 'fake', 'fall', 'famou', 'fan', 'fantast', 'fashion', 'fast', 'fastest', 'fault', 'favour', 'favourit', 'fear', 'featur', 'februari', 'feder', 'fee', 'feet', 'fell', 'fellow', 'felt', 'ferguson', 'fernando', 'field', 'fierc', 'fifa', 'fifth', 'fight', 'figur', 'financi', 'find', 'fine', 'fire', 'firm', 'fixtur', 'flanker', 'fleme', 'fli', 'flight', 'flintoff', 'focu', 'focus', 'foot', 'forc', 'forget', 'fortun', 'fought', 'foul', 'found', 'fractur', 'franci', 'frank', 'free', 'french', 'fresh', 'friday', 'friend', 'friendli', 'front', 'frustrat', 'fulham', 'fulli', 'fund', 'futur', 'gain', 'galla', 'gap', 'gara', 'garden', 'gareth', 'gari', 'gave', 'gavin', 'gb', 'gear', 'gener', 'geraint', 'german', 'germani', 'gerrard', 'gibb', 'gilchrist', 'gile', 'gillespi', 'glad', 'glasgow', 'glenn', 'glori', 'gloucest', 'gmt', 'goalkeep', 'goe', 'gold', 'golden', 'gone', 'gordon', 'gough', 'govern', 'grab', 'graem', 'graham', 'grand', 'grant', 'greater', 'greec', 'greek', 'green', 'greg', 'gregori', 'ground', 'group', 'guid', 'guilti', 'gunner', 'guy', 'hail', 'hall', 'ham', 'hame', 'hammer', 'hamstr', 'hander', 'handl', 'hang', 'harmison', 'harri', 'hat', 'hay', 'hayden', 'hazel', 'header', 'hear', 'heard', 'heart', 'heineken', 'held', 'henman', 'henri', 'henson', 'heptathlon', 'hero', 'herschel', 'hewitt', 'high', 'highburi', 'highest', 'highli', 'highlight', 'hill', 'hint', 'histori', 'hodgson', 'hogg', 'hoggard', 'hold', 'holder', 'holland', 'holm', 'honest', 'honour', 'hospit', 'host', 'hot', 'hotel', 'hour', 'huge', 'hugh', 'humphrey', 'hurdl', 'hurt', 'iaaf', 'ian', 'icc', 'idea', 'ideal', 'ill', 'illeg', 'immedi', 'impact', 'import', 'improv', 'incid', 'increas', 'incred', 'inde', 'independ', 'indi', 'india', 'indian', 'individu', 'indoor', 'influenc', 'inform', 'initi', 'injur', 'inning', 'innoc', 'inquiri', 'insid', 'inspir', 'instead', 'intend', 'intens', 'intent', 'interest', 'interv', 'interview', 'introduc', 'investig', 'involv', 'irb', 'irish', 'israel', 'issu', 'itali', 'italian', 'ivan', 'jacqu', 'jame', 'jami', 'januari', 'jason', 'jeremi', 'jimmi', 'job', 'joe', 'johannesburg', 'johansson', 'john', 'johnson', 'jon', 'jonathan', 'jone', 'jonni', 'jose', 'josh', 'judg', 'juli', 'jump', 'june', 'junior', 'justin', 'kalli', 'kasprowicz', 'katerina', 'keen', 'keeper', 'kelli', 'kenteri', 'kept', 'kevin', 'key', 'khan', 'kid', 'kill', 'kim', 'knee', 'knew', 'knock', 'known', 'kosta', 'la', 'lack', 'lad', 'lampard', 'land', 'langer', 'lanka', 'lankan', 'lansdown', 'laport', 'larg', 'late', 'later', 'latest', 'launch', 'law', 'lawyer', 'lbw', 'leader', 'leadership', 'learn', 'least', 'leav', 'led', 'lee', 'leed', 'leg', 'legal', 'legend', 'lehmann', 'leicest', 'less', 'let', 'lewi', 'lewsey', 'lie', 'life', 'lift', 'light', 'limit', 'limp', 'lindsay', 'link', 'lion', 'list', 'live', 'liverpool', 'ljubic', 'lleyton', 'lo', 'loan', 'local', 'lock', 'london', 'longer', 'loos', 'loss', 'love', 'low', 'lower', 'luck', 'lucki', 'lui', 'madrid', 'magnific', 'main', 'maintain', 'major', 'makhaya', 'malcolm', 'manner', 'marat', 'marathon', 'marcu', 'marshal', 'martin', 'martyn', 'massiv', 'mate', 'mathew', 'matt', 'matter', 'matthew', 'mauric', 'mayb', 'mcgrath', 'mean', 'meant', 'meanwhil', 'measur', 'medal', 'medallist', 'media', 'medic', 'melbourn', 'member', 'memori', 'men', 'mental', 'met', 'metr', 'michael', 'mid', 'middl', 'middlesbrough', 'midfield', 'might', 'mike', 'milan', 'mill', 'miller', 'mind', 'minist', 'mistak', 'mix', 'mohammad', 'monday', 'money', 'mood', 'moodi', 'morgan', 'morn', 'motiv', 'mourinho', 'moya', 'murphi', 'murray', 'murrayfield', 'muscl', 'must', 'nadal', 'natur', 'near', 'nearli', 'neck', 'negoti', 'neil', 'nerv', 'nervou', 'net', 'newcastl', 'news', 'newspap', 'nice', 'nick', 'nicki', 'nicola', 'nigel', 'night', 'nine', 'ninth', 'nobodi', 'non', 'noon', 'normal', 'north', 'northern', 'norwich', 'noth', 'novemb', 'ntini', 'obviou', 'obvious', 'occas', 'octob', 'odd', 'offenc', 'offer', 'offici', 'offsid', 'often', 'old', 'olivi', 'olli', 'onto', 'oper', 'opinion', 'oppon', 'opposit', 'opt', 'optimist', 'option', 'order', 'organis', 'osprey', 'other', 'outcom', 'outdoor', 'outsid', 'outstand', 'over', 'overal', 'overnight', 'owen', 'pace', 'paceman', 'pack', 'paid', 'pair', 'pakistan', 'panel', 'pari', 'park', 'parker', 'parti', 'particular', 'particularli', 'partner', 'partnership', 'pass', 'patrick', 'paul', 'paula', 'pay', 'pelou', 'penalti', 'perfect', 'perfectli', 'perhap', 'period', 'person', 'perth', 'peter', 'phil', 'phillip', 'physic', 'pick', 'piec', 'pitch', 'plan', 'pleas', 'plenti', 'plu', 'pole', 'pollock', 'pont', 'poor', 'portsmouth', 'portug', 'possess', 'possibl', 'post', 'potenti', 'power', 'practic', 'prais', 'pre', 'prefer', 'premier', 'prepar', 'present', 'presid', 'press', 'pretti', 'prevent', 'previou', 'previous', 'price', 'pride', 'prior', 'prix', 'prize', 'probabl', 'process', 'produc', 'profession', 'programm', 'progress', 'promis', 'promot', 'prop', 'propos', 'prospect', 'protest', 'proud', 'prove', 'provid', 'public', 'pull', 'punish', 'push', 'qualifi', 'qualiti', 'quarter', 'question', 'quick', 'quickli', 'quit', 'radcliff', 'radio', 'rafael', 'rain', 'rais', 'ralli', 'ran', 'rang', 'ranger', 'rank', 'rare', 'rate', 'rather', 'razzaq', 'rb', 'react', 'read', 'readi', 'real', 'realis', 'reason', 'recal', 'receiv', 'recent', 'recognis', 'recommend', 'recov', 'recoveri', 'red', 'reduc', 'ref', 'refere', 'refus', 'regard', 'region', 'regular', 'reign', 'reject', 'relationship', 'relax', 'relay', 'releas', 'reli', 'relief', 'relish', 'remain', 'remark', 'rememb', 'remov', 'repeat', 'replay', 'repli', 'report', 'repres', 'republ', 'reput', 'request', 'requir', 'resign', 'resist', 'resolv', 'respect', 'respond', 'respons', 'rest', 'resum', 'retir', 'reveal', 'review', 'reward', 'richard', 'ricki', 'rise', 'risk', 'rival', 'road', 'rob', 'robben', 'robbi', 'robert', 'robinson', 'rock', 'roddick', 'roger', 'role', 'rome', 'ronaldo', 'room', 'rooney', 'rounder', 'row', 'roy', 'rubber', 'ruddock', 'rudolph', 'rumour', 'runner', 'rusedski', 'rush', 'russia', 'russian', 'ryan', 'sack', 'safe', 'safin', 'saint', 'sale', 'salman', 'san', 'saracen', 'save', 'saw', 'scan', 'schedul', 'school', 'scorer', 'scot', 'scott', 'scottish', 'scrum', 'seal', 'seam', 'search', 'sebastien', 'secur', 'seed', 'seek', 'seem', 'seen', 'select', 'selector', 'self', 'sell', 'semi', 'send', 'senior', 'sent', 'septemb', 'serena', 'seriou', 'serv', 'servic', 'session', 'settl', 'seventh', 'sever', 'shane', 'shape', 'share', 'shark', 'shaun', 'sheffield', 'shoaib', 'shock', 'short', 'shortli', 'shot', 'shoulder', 'shown', 'sidelin', 'sight', 'sign', 'silver', 'similar', 'simon', 'simpli', 'singh', 'singl', 'sir', 'sit', 'situat', 'sixth', 'skill', 'skipper', 'slam', 'slip', 'slot', 'slow', 'slump', 'small', 'smash', 'smith', 'sole', 'somebodi', 'someon', 'sometim', 'soon', 'sort', 'souness', 'southampton', 'space', 'spain', 'spaniard', 'spanish', 'spark', 'speak', 'special', 'specul', 'speed', 'spell', 'spend', 'spent', 'spin', 'spinner', 'spirit', 'spoke', 'spoken', 'spokesman', 'spot', 'sprint', 'sprinter', 'spur', 'squar', 'sri', 'st', 'stade', 'stadium', 'stage', 'stamford', 'stand', 'standard', 'state', 'statement', 'stay', 'step', 'stephen', 'steve', 'steven', 'stewart', 'stop', 'storm', 'straight', 'strain', 'strauss', 'streak', 'strength', 'stress', 'strike', 'striker', 'strong', 'struck', 'struggl', 'stuart', 'stuck', 'stump', 'stun', 'style', 'sub', 'subject', 'submit', 'substanc', 'substitut', 'succeed', 'suffer', 'suggest', 'suit', 'sullivan', 'superb', 'support', 'sure', 'surfac', 'surgeri', 'surpris', 'surviv', 'suspend', 'suspens', 'sustain', 'svetlana', 'swansea', 'sweden', 'sweep', 'swept', 'swiss', 'switch', 'sydney', 'system', 'tabl', 'tackl', 'tactic', 'taibu', 'tait', 'taken', 'talent', 'target', 'task', 'tatenda', 'taylor', 'technic', 'technolog', 'teenag', 'tel', 'televis', 'tell', 'tendulkar', 'tenni', 'tens', 'term', 'terri', 'thank', 'thanou', 'thierri', 'thoma', 'thompson', 'thorp', 'though', 'thought', 'threat', 'threaten', 'throughout', 'throw', 'thursday', 'tie', 'tight', 'tim', 'tip', 'tire', 'today', 'togeth', 'tom', 'tommi', 'toss', 'total', 'tottenham', 'touch', 'tough', 'tourist', 'tournament', 'toward', 'town', 'track', 'tradit', 'trafford', 'trail', 'transfer', 'trap', 'travel', 'treat', 'treatment', 'tremend', 'trescothick', 'trial', 'tribut', 'trick', 'trip', 'tripl', 'triumph', 'trophi', 'troubl', 'tsunami', 'tuesday', 'tv', 'twice', 'twickenham', 'type', 'uefa', 'uk', 'ul', 'ultim', 'umpir', 'unabl', 'unbeaten', 'understand', 'unfortun', 'union', 'unlik', 'upset', 'usa', 'usual', 'utd', 'van', 'vaughan', 'venu', 'veteran', 'vettori', 'vice', 'vickeri', 'victim', 'victor', 'video', 'view', 'villa', 'villier', 'visit', 'visitor', 'vital', 'volley', 'wait', 'wale', 'walk', 'warm', 'warn', 'wasp', 'wast', 'watch', 'wayn', 'wear', 'weather', 'websit', 'wednesday', 'weekend', 'welcom', 'welsh', 'wenger', 'west', 'whatev', 'whether', 'whistl', 'white', 'whole', 'whose', 'wicket', 'wide', 'wild', 'wilkinson', 'william', 'wilson', 'wimbledon', 'window', 'wing', 'winger', 'winner', 'winter', 'wish', 'withdraw', 'withdrew', 'within', 'wkt', 'women', 'wonder', 'woodward', 'word', 'worri', 'wors', 'worsley', 'worst', 'worth', 'wrap', 'wright', 'wrong', 'wta', 'xi', 'yard', 'yasir', 'yet', 'youhana', 'young', 'younger', 'youngster', 'youni', 'yousuf', 'zaheer', 'zealand', 'zimbabw', 'zurich']\n"
     ]
    }
   ],
   "source": [
    "print(count_vect.get_feature_names())"
   ]
  },
  {
   "cell_type": "markdown",
   "metadata": {},
   "source": [
    "### TF-IDF"
   ]
  },
  {
   "cell_type": "code",
   "execution_count": 45,
   "metadata": {},
   "outputs": [
    {
     "name": "stdout",
     "output_type": "stream",
     "text": [
      "some sample features(unique words in the corpus) ['aaa', 'ab', 'ab de', 'abdul', 'abdul razzaq', 'abil', 'abl', 'absenc', 'absolut', 'ac']\n",
      "==================================================\n",
      "the type of count vectorizer  <class 'scipy.sparse.csr.csr_matrix'>\n",
      "the shape of out text TFIDF vectorizer  (665, 1863)\n",
      "the number of unique words including both unigrams and bigrams  1863\n"
     ]
    }
   ],
   "source": [
    "tf_idf_vect = TfidfVectorizer(ngram_range=(1,2),max_df = 70, min_df = 10, max_features = 3000)\n",
    "tf_idf_vect.fit(X_train['preprocessed_data'])\n",
    "print(\"some sample features(unique words in the corpus)\",tf_idf_vect.get_feature_names()[0:10])\n",
    "print('='*50)\n",
    "\n",
    "final_tf_idf_train = tf_idf_vect.transform(X_train['preprocessed_data'])\n",
    "final_tf_idf_cv = tf_idf_vect.transform(X_val['preprocessed_data'])\n",
    "print(\"the type of count vectorizer \",type(final_tf_idf_train))\n",
    "print(\"the shape of out text TFIDF vectorizer \",final_tf_idf_train.get_shape())\n",
    "print(\"the number of unique words including both unigrams and bigrams \", final_tf_idf_train.get_shape()[1])"
   ]
  },
  {
   "cell_type": "code",
   "execution_count": 46,
   "metadata": {
    "scrolled": false
   },
   "outputs": [
    {
     "name": "stdout",
     "output_type": "stream",
     "text": [
      "['aaa', 'ab', 'ab de', 'abdul', 'abdul razzaq', 'abil', 'abl', 'absenc', 'absolut', 'ac', 'ac milan', 'accept', 'accid', 'accord', 'account', 'accus', 'achiev', 'across', 'act', 'action', 'actual', 'adam', 'adam gilchrist', 'add', 'admir', 'advanc', 'advantag', 'affair', 'affect', 'afford', 'africa', 'african', 'afternoon', 'afterward', 'agassi', 'age', 'agenc', 'agent', 'ago', 'agre', 'agreement', 'aim', 'air', 'akhtar', 'akmal', 'alan', 'alex', 'alex ferguson', 'alleg', 'allow', 'almost', 'alon', 'along', 'alongsid', 'also play', 'also reveal', 'although', 'amaz', 'ambit', 'america', 'american', 'among', 'amount', 'anderson', 'andi robinson', 'andi roddick', 'andr', 'andr agassi', 'andrew', 'andrew flintoff', 'andrew strauss', 'anfield', 'angl', 'angri', 'ankl', 'ankl injuri', 'announc', 'answer', 'anti', 'anti dope', 'antonio', 'anybodi', 'anyon', 'anyth', 'apart', 'apologis', 'appeal', 'appear', 'appli', 'appoint', 'approach', 'april', 'area', 'argentina', 'arm', 'around', 'arriv', 'arsen wenger', 'ash', 'ashley', 'ashley cole', 'ashley gile', 'asid', 'ask', 'assess', 'assist', 'associ', 'assur', 'aston', 'aston villa', 'athen', 'athen olymp', 'athlet', 'athlet feder', 'atmospher', 'attack', 'attempt', 'attend', 'attent', 'attitud', 'attract', 'august', 'aussi', 'australian open', 'author', 'autumn', 'avail', 'averag', 'aviv', 'avoid', 'await', 'awar', 'award', 'back row', 'bad', 'badli', 'balanc', 'ban', 'bangladesh', 'bar', 'barcelona', 'barkley', 'barri', 'base', 'basi', 'basic', 'bat', 'bath', 'batsman', 'batsmen', 'battl', 'bbc radio', 'bbc sport', 'beaten', 'becam', 'beckham', 'becom', 'began', 'begin', 'behaviour', 'belgian', 'belief', 'bell', 'ben', 'bench', 'benefit', 'benitez', 'bernard', 'bernard laport', 'best player', 'beyond', 'bid', 'bigger', 'biggest', 'birmingham', 'black', 'blackburn', 'blame', 'block', 'blow', 'blue', 'board', 'bob', 'bodi', 'boje', 'bolton', 'book', 'boost', 'boot', 'born', 'bortolami', 'boss jose', 'boss sir', 'boston', 'bottom', 'boucher', 'bounc', 'boundari', 'bowl', 'bowler', 'box', 'boy', 'brave', 'brazil', 'brazilian', 'brendon', 'brett', 'brian', 'brian driscol', 'bridg', 'brilliant', 'bring', 'britain', 'british', 'british number', 'briton', 'broke', 'broken', 'bronz', 'brought', 'brown', 'build', 'busi', 'butt', 'buy', 'byrn', 'cairn', 'calm', 'camp', 'campaign', 'campbel', 'candid', 'cannot', 'cap', 'capabl', 'cape', 'cape town', 'capt', 'captainci', 'card', 'cardiff', 'care', 'carl', 'carl cup', 'carlo', 'carlo moya', 'carri', 'carrol', 'case', 'cash', 'catch', 'caught', 'caught behind', 'caus', 'celebr', 'celtic', 'centr', 'central', 'centuri', 'certain', 'certainli', 'chairman', 'challeng', 'champion leagu', 'chanc win', 'charact', 'charg', 'charli', 'charli hodgson', 'charlton', 'chase', 'chelsea boss', 'chicago', 'chief', 'chief execut', 'choic', 'chose', 'chri', 'christoph', 'citi', 'clark', 'clash', 'class', 'clean', 'clear', 'clearli', 'clinch', 'clive', 'clive woodward', 'clock', 'close rang', 'coach andi', 'coach bernard', 'coach john', 'coach mike', 'cole', 'collect', 'collin', 'combin', 'come back', 'comeback', 'comfort', 'comment', 'commit', 'committe', 'commun', 'compani', 'compatriot', 'compet', 'complet', 'conced', 'concentr', 'concern', 'condit', 'conduct', 'confer', 'confirm', 'connel', 'connor', 'consecut', 'consid', 'consist', 'contact', 'contend', 'content', 'contest', 'contract', 'contribut', 'control', 'controversi', 'convers', 'convert', 'convinc', 'cope', 'corner', 'corri', 'cost', 'council', 'count', 'counter', 'counti', 'counti cricket', 'countri championship', 'coupl', 'cours', 'court', 'cover', 'craig', 'crash', 'creat', 'credit', 'cricket board', 'cricket council', 'crimin', 'critic', 'criticis', 'cross', 'cross countri', 'crowd', 'crown', 'crucial', 'cueto', 'cup final', 'cup match', 'cup qualifi', 'cup win', 'cup winner', 'current', 'cut', 'czech', 'daili', 'dallaglio', 'damag', 'damien', 'damien martyn', 'danger', 'daniel', 'danish', 'danni', 'darren', 'date', 'davenport', 'davi', 'davi cup', 'david beckham', 'dawson', 'day game', 'day intern', 'day said', 'day seri', 'de', 'de villier', 'deal', 'death', 'debut', 'decemb', 'decid whether', 'declar', 'declin', 'deep', 'defeat wale', 'defenc', 'defend champion', 'defens', 'definit', 'delay', 'delight', 'deliv', 'deliveri', 'demand', 'deni', 'depart', 'departur', 'depth', 'derbi', 'describ', 'deserv', 'desir', 'desper', 'determin', 'develop', 'didier', 'didier drogba', 'differ', 'direct', 'director', 'disallow', 'disappoint', 'disciplin', 'disciplinari', 'discuss', 'dismiss', 'display', 'disput', 'distanc', 'dive', 'domest', 'domin', 'door', 'dope', 'doubl', 'doubl olymp', 'doubt', 'dougla', 'drag', 'dramat', 'draw', 'drawn', 'dream', 'dress', 'dress room', 'driscol', 'drive', 'drogba', 'drop goal', 'drug', 'drug test', 'dubai', 'dublin', 'duck', 'due', 'duff', 'duncan', 'duo', 'dutch', 'dutchman', 'duti', 'earlier', 'earlier season', 'earn', 'eas', 'easi', 'easier', 'easili', 'eddi', 'eddi sullivan', 'edg', 'edinburgh', 'effect', 'effort', 'eighth', 'eighth seed', 'either', 'elena', 'elit', 'elli', 'els', 'elsewher', 'emerg', 'emot', 'encount', 'end season', 'endur', 'energi', 'england captain', 'england coach', 'england lost', 'england team', 'english', 'enhanc', 'enjoy', 'enough', 'ensur', 'enter', 'entertain', 'entir', 'equal', 'equalis', 'error', 'especi', 'establish', 'euro', 'europ', 'european championship', 'european footbal', 'european indoor', 'eve', 'even though', 'eventu', 'ever', 'everi time', 'everton', 'everybodi', 'everyon', 'everyth', 'evid', 'ex', 'exampl', 'excel', 'except', 'excit', 'execut', 'experi', 'experienc', 'explain', 'express', 'extend', 'extra', 'extra time', 'extrem', 'eye', 'fa', 'fa cup', 'fact', 'factor', 'fail recov', 'failur', 'fair', 'faith', 'fake', 'fall', 'famou', 'fan', 'fantast', 'fashion', 'fast', 'fastest', 'fault', 'favour', 'favourit', 'fear', 'featur', 'februari', 'feder', 'fee', 'feel like', 'feet', 'fell', 'fellow', 'felt', 'ferguson', 'fernando', 'field', 'fierc', 'fifa', 'fifth', 'fight', 'figur', 'final win', 'financi', 'find', 'fine', 'fire', 'firm', 'first choic', 'first class', 'first game', 'first goal', 'first grand', 'first half', 'first inning', 'first leg', 'first match', 'first one', 'first round', 'first set', 'first team', 'first test', 'first three', 'first time', 'first two', 'first win', 'five live', 'five year', 'fixtur', 'flanker', 'fleme', 'fli', 'fli half', 'flight', 'flintoff', 'focu', 'focus', 'foot', 'footbal associ', 'forc', 'forget', 'former england', 'former world', 'fortun', 'fought', 'foul', 'found', 'found guilti', 'four day', 'four five', 'four minut', 'four six', 'four time', 'four year', 'fourth round', 'fractur', 'franci', 'frank', 'free', 'free kick', 'french', 'french open', 'fresh', 'friday', 'friend', 'friendli', 'front', 'frustrat', 'fulham', 'full back', 'fulli', 'fulli fit', 'fund', 'futur', 'gain', 'galla', 'game come', 'game play', 'game said', 'gap', 'gara', 'garden', 'gareth', 'gari', 'gave', 'gavin', 'gavin henson', 'gb', 'gear', 'gener', 'geraint', 'geraint jone', 'german', 'germani', 'gerrard', 'get back', 'get right', 'gibb', 'gilchrist', 'gile', 'gillespi', 'glad', 'glasgow', 'glenn', 'glenn mcgrath', 'glori', 'gloucest', 'gmt', 'go back', 'go get', 'goalkeep', 'goe', 'gold', 'gold medal', 'gold medallist', 'golden', 'gone', 'good enough', 'good team', 'gordon', 'gough', 'govern', 'govern bodi', 'grab', 'graem', 'graem smith', 'graem souness', 'graham', 'graham thorp', 'grand', 'grand prix', 'grand slam', 'grant', 'great britain', 'great opportun', 'greater', 'greec', 'greek', 'green', 'greg', 'greg rusedski', 'gregori', 'ground', 'group', 'guid', 'guilti', 'gunner', 'guy', 'hail', 'half centuri', 'half hour', 'half time', 'hall', 'ham', 'hame', 'hammer', 'hamstr', 'hamstr injuri', 'hander', 'handl', 'hang', 'harmison', 'harri', 'hat', 'hay', 'hayden', 'hazel', 'header', 'hear', 'heard', 'heart', 'heineken', 'heineken cup', 'held', 'henman', 'henri', 'henson', 'heptathlon', 'hero', 'herschel', 'herschel gibb', 'hewitt', 'high', 'highburi', 'highest', 'highli', 'highlight', 'hill', 'hint', 'histori', 'hit back', 'hodgson', 'hogg', 'hoggard', 'hold', 'holder', 'holland', 'holm', 'home side', 'honest', 'honour', 'hope get', 'hospit', 'host', 'hot', 'hotel', 'hour', 'huge', 'hugh', 'humphrey', 'hurdl', 'hurt', 'iaaf', 'ian', 'icc', 'idea', 'ideal', 'ill', 'illeg', 'immedi', 'impact', 'import', 'import thing', 'improv', 'incid', 'increas', 'incred', 'inde', 'independ', 'indi', 'india', 'indian', 'individu', 'indoor', 'indoor championship', 'influenc', 'inform', 'initi', 'injur', 'injuri time', 'inning', 'innoc', 'inquiri', 'insid', 'inspir', 'instead', 'intend', 'intens', 'intent', 'interest', 'intern cricket', 'intern rugbi', 'interv', 'interview', 'introduc', 'investig', 'involv', 'irb', 'irish', 'israel', 'issu', 'itali', 'italian', 'ivan', 'ivan ljubic', 'jacqu', 'jacqu kalli', 'jacqu rudolph', 'jame', 'jami', 'jami noon', 'januari', 'jason', 'jason garden', 'jason gillespi', 'jason robinson', 'jeremi', 'jimmi', 'job', 'joe', 'johannesburg', 'johansson', 'john', 'johnson', 'jon', 'jonathan', 'jone', 'jonni', 'jonni wilkinson', 'jose', 'jose mourinho', 'josh', 'josh lewsey', 'judg', 'juli', 'jump', 'june', 'junior', 'justin', 'justin langer', 'kalli', 'kasprowicz', 'katerina', 'katerina thanou', 'keen', 'keeper', 'kelli', 'kelli holm', 'kenteri', 'kept', 'kevin', 'key', 'khan', 'kid', 'kill', 'kim', 'knee', 'knee injuri', 'knew', 'knock', 'known', 'kosta', 'kosta kenteri', 'la', 'lack', 'lad', 'lampard', 'land', 'langer', 'lanka', 'lankan', 'lansdown', 'lansdown road', 'laport', 'larg', 'last eight', 'last four', 'last game', 'last minut', 'last month', 'last season', 'last summer', 'last three', 'last two', 'last week', 'last weekend', 'late', 'later', 'latest', 'launch', 'law', 'lawyer', 'lbw', 'leader', 'leader chelsea', 'leadership', 'leagu game', 'learn', 'least', 'leav', 'led', 'lee', 'leed', 'left foot', 'leg', 'legal', 'legend', 'lehmann', 'leicest', 'less', 'let', 'lewi', 'lewi franci', 'lewsey', 'lie', 'life', 'lift', 'light', 'limit', 'limp', 'lindsay', 'lindsay davenport', 'link', 'lion', 'lion tour', 'list', 'littl bit', 'live', 'liverpool', 'ljubic', 'lleyton', 'lleyton hewitt', 'lo', 'loan', 'local', 'lock', 'london', 'long term', 'long time', 'long way', 'longer', 'look forward', 'look like', 'loos', 'loss', 'lost three', 'lot peopl', 'love', 'low', 'lower', 'luck', 'lucki', 'lui', 'made mistak', 'madrid', 'magnific', 'main', 'maintain', 'major', 'make decis', 'make sure', 'makhaya', 'makhaya ntini', 'malcolm', 'man utd', 'manchest citi', 'manchest unit', 'manner', 'marat', 'marat safin', 'marathon', 'marcu', 'marcu trescothick', 'mark cueto', 'mark lewi', 'marshal', 'martin', 'martin corri', 'martin johnson', 'martyn', 'massiv', 'mate', 'mathew', 'mathew tait', 'matt', 'matter', 'matthew', 'matthew hayden', 'matthew hoggard', 'mauric', 'mayb', 'mcgrath', 'mean', 'meant', 'meanwhil', 'measur', 'medal', 'medallist', 'media', 'medic', 'melbourn', 'member', 'memori', 'men', 'mental', 'met', 'metr', 'michael', 'michael clark', 'michael owen', 'michael vaughan', 'mid', 'middl', 'middl order', 'middlesbrough', 'midfield', 'might', 'mike', 'mike ruddock', 'milan', 'mill', 'miller', 'mind', 'minist', 'minut left', 'minut second', 'miss test', 'mistak', 'mix', 'mohammad', 'monday', 'money', 'mood', 'moodi', 'morgan', 'morn', 'motiv', 'mourinho', 'moya', 'murphi', 'murray', 'murrayfield', 'muscl', 'must', 'nadal', 'nation team', 'natur', 'near', 'nearli', 'neck', 'negoti', 'neil', 'nerv', 'nervou', 'net', 'new coach', 'new year', 'new zealand', 'newcastl', 'news', 'newspap', 'next month', 'next season', 'next week', 'next year', 'nice', 'nick', 'nicki', 'nicki boje', 'nicola', 'nigel', 'night', 'nine', 'ninth', 'nobodi', 'non', 'noon', 'normal', 'north', 'northern', 'norwich', 'norwich union', 'noth', 'novemb', 'ntini', 'number one', 'number two', 'obviou', 'obvious', 'occas', 'octob', 'odd', 'offenc', 'offer', 'offici', 'offsid', 'often', 'old', 'old trafford', 'olivi', 'olli', 'olli barkley', 'olymp champion', 'olymp gold', 'one day', 'one two', 'onto', 'open champion', 'oper', 'opinion', 'oppon', 'opposit', 'opt', 'optimist', 'option', 'order', 'organis', 'osprey', 'other', 'outcom', 'outdoor', 'outsid', 'outstand', 'over', 'overal', 'overnight', 'owen', 'pace', 'paceman', 'pack', 'paid', 'paid tribut', 'pair', 'pakistan', 'panel', 'pari', 'park', 'parker', 'parti', 'particular', 'particularli', 'partner', 'partnership', 'pass', 'patrick', 'paul', 'paula', 'pay', 'pelou', 'penalti', 'perfect', 'perfectli', 'perhap', 'period', 'person', 'person best', 'perth', 'peter', 'phil', 'phil vickeri', 'phillip', 'physic', 'pick', 'piec', 'pitch', 'plan', 'play best', 'play better', 'play england', 'play first', 'play game', 'play good', 'play great', 'play one', 'play sinc', 'play test', 'play two', 'play well', 'player come', 'player like', 'player play', 'player world', 'pleas', 'plenti', 'plu', 'pole', 'pollock', 'pont', 'poor', 'portsmouth', 'portug', 'possess', 'possibl', 'post', 'potenti', 'power', 'practic', 'prais', 'pre', 'prefer', 'premier', 'premier leagu', 'prepar', 'present', 'presid', 'press', 'pretti', 'prevent', 'previou', 'previous', 'price', 'pride', 'prior', 'prix', 'prize', 'probabl', 'process', 'produc', 'profession', 'programm', 'progress', 'promis', 'promot', 'prop', 'propos', 'prospect', 'protest', 'proud', 'prove', 'provid', 'public', 'pull', 'punish', 'push', 'qualifi', 'qualiti', 'quarter', 'quarter final', 'question', 'quick', 'quickli', 'quit', 'radcliff', 'radio', 'radio five', 'rafael', 'rafael benitez', 'rain', 'rais', 'ralli', 'ran', 'rang', 'ranger', 'rank', 'rare', 'rate', 'rather', 'razzaq', 'rb', 'rb six', 'react', 'read', 'readi', 'real', 'real madrid', 'realis', 'realli good', 'realli well', 'reason', 'recal', 'receiv', 'recent', 'recent week', 'recognis', 'recommend', 'record holder', 'recov', 'recoveri', 'red', 'reduc', 'ref', 'refere', 'refus', 'regard', 'region', 'regular', 'reign', 'reject', 'relationship', 'relax', 'relay', 'releas', 'reli', 'relief', 'relish', 'remain', 'remark', 'rememb', 'remov', 'repeat', 'replay', 'repli', 'report', 'repres', 'republ', 'reput', 'request', 'requir', 'resign', 'resist', 'resolv', 'respect', 'respond', 'respons', 'rest', 'resum', 'retir', 'reveal', 'review', 'reward', 'richard', 'ricki', 'ricki pont', 'right thing', 'rise', 'risk', 'rival', 'road', 'rob', 'robben', 'robbi', 'robert', 'robinson', 'rock', 'roddick', 'roger', 'roger feder', 'role', 'rome', 'ronaldo', 'room', 'rooney', 'rounder', 'row', 'roy', 'rubber', 'ruddock', 'rudolph', 'rugbi board', 'rugbi union', 'rumour', 'runner', 'rusedski', 'rush', 'russia', 'russian', 'ryan', 'sack', 'safe', 'safin', 'said go', 'said team', 'said think', 'said want', 'said would', 'saint', 'sale', 'salman', 'salman butt', 'san', 'saracen', 'save', 'saw', 'scan', 'schedul', 'school', 'score goal', 'scorer', 'scot', 'scott', 'scottish', 'scrum', 'scrum half', 'seal', 'seam', 'search', 'sebastien', 'second half', 'second round', 'second seed', 'second set', 'second test', 'second time', 'secur', 'seed', 'seek', 'seem', 'seen', 'select', 'selector', 'self', 'sell', 'semi', 'semi final', 'send', 'senior', 'sent', 'septemb', 'serena', 'serena william', 'seriou', 'serv', 'servic', 'session', 'set new', 'settl', 'seventh', 'seventh seed', 'sever', 'shane', 'shane warn', 'shape', 'share', 'shark', 'shaun', 'shaun pollock', 'sheffield', 'sheffield unit', 'shoaib', 'shoaib akhtar', 'shock', 'short', 'shortli', 'shot', 'shoulder', 'shown', 'sidelin', 'sight', 'sign', 'silver', 'similar', 'simon', 'simon jone', 'simpli', 'sinc last', 'singh', 'singl', 'sir', 'sir alex', 'sir clive', 'sit', 'situat', 'six week', 'six year', 'sixth', 'skill', 'skipper', 'slam', 'slip', 'slot', 'slow', 'slump', 'small', 'smash', 'smith', 'sole', 'somebodi', 'someon', 'sometim', 'soon', 'sort', 'souness', 'south africa', 'south african', 'southampton', 'space', 'spain', 'spaniard', 'spanish', 'spark', 'speak', 'special', 'specul', 'speed', 'spell', 'spend', 'spent', 'spin', 'spinner', 'spirit', 'spoke', 'spoken', 'spokesman', 'spot', 'sprint', 'sprinter', 'spur', 'squar', 'sri', 'sri lanka', 'sri lankan', 'st', 'stade', 'stadium', 'stage', 'stamford', 'stamford bridg', 'stand', 'standard', 'start game', 'start line', 'start season', 'state', 'statement', 'stay', 'step', 'stephen', 'stephen jone', 'steve', 'steve harmison', 'steven', 'steven gerrard', 'stewart', 'stop', 'storm', 'straight', 'strain', 'strauss', 'streak', 'strength', 'stress', 'strike', 'striker', 'strong', 'struck', 'struggl', 'stuart', 'stuck', 'stump', 'stun', 'style', 'sub', 'sub use', 'subject', 'submit', 'substanc', 'substitut', 'succeed', 'suffer', 'suggest', 'suit', 'sullivan', 'superb', 'support', 'sure', 'surfac', 'surgeri', 'surpris', 'surviv', 'suspend', 'suspens', 'sustain', 'svetlana', 'swansea', 'sweden', 'sweep', 'swept', 'swiss', 'switch', 'sydney', 'system', 'tabl', 'tackl', 'tactic', 'taibu', 'tait', 'take action', 'take part', 'take place', 'taken', 'talent', 'target', 'task', 'tatenda', 'tatenda taibu', 'taylor', 'team mate', 'team play', 'technic', 'technolog', 'teenag', 'tel', 'tel aviv', 'televis', 'tell', 'tendulkar', 'tenni', 'tens', 'term', 'terri', 'test cricket', 'test match', 'test posit', 'test seri', 'thank', 'thanou', 'thierri', 'thierri henri', 'think would', 'third round', 'third seed', 'thoma', 'thompson', 'thorp', 'though', 'thought', 'threat', 'threaten', 'three day', 'three four', 'three game', 'three month', 'three point', 'three test', 'three time', 'three year', 'throughout', 'throw', 'thursday', 'tie', 'tie break', 'tight', 'tim', 'tim henman', 'time said', 'time sinc', 'tip', 'tire', 'today', 'togeth', 'told daili', 'tom', 'tommi', 'top seed', 'toss', 'total', 'tottenham', 'touch', 'tough', 'tour india', 'tour new', 'tourist', 'tournament', 'toward', 'town', 'track', 'tradit', 'trafford', 'trail', 'transfer', 'transfer window', 'trap', 'travel', 'treat', 'treatment', 'tremend', 'trescothick', 'trial', 'tribut', 'trick', 'trip', 'tripl', 'triumph', 'trophi', 'troubl', 'tsunami', 'tuesday', 'tv', 'twice', 'twickenham', 'two game', 'two goal', 'two match', 'two three', 'two week', 'two year', 'type', 'uefa', 'uefa cup', 'uk', 'ul', 'ultim', 'umpir', 'unabl', 'unbeaten', 'understand', 'unfortun', 'union', 'unit boss', 'unit state', 'unlik', 'upset', 'us open', 'usa', 'usual', 'utd', 'van', 'vaughan', 'venu', 'veteran', 'vettori', 'vice', 'vickeri', 'victim', 'victor', 'video', 'view', 'villa', 'villier', 'visit', 'visitor', 'vital', 'volley', 'wait', 'wale', 'wale coach', 'walk', 'want make', 'want play', 'want win', 'warm', 'warn', 'wasp', 'wast', 'watch', 'wayn', 'wayn rooney', 'wear', 'weather', 'websit', 'wednesday', 'weekend', 'welcom', 'well said', 'welsh', 'wenger', 'west', 'west ham', 'west indi', 'whatev', 'whether', 'whistl', 'white', 'whole', 'whose', 'wicket', 'wide', 'wild', 'wilkinson', 'william', 'wilson', 'wimbledon', 'wimbledon champion', 'win england', 'win first', 'win game', 'win match', 'win six', 'win three', 'window', 'wing', 'winger', 'winner', 'winter', 'wish', 'withdraw', 'withdrew', 'within', 'wkt', 'women', 'wonder', 'woodward', 'word', 'work hard', 'world champion', 'world class', 'world cross', 'world cup', 'world indoor', 'world number', 'world record', 'worri', 'wors', 'worsley', 'worst', 'worth', 'would also', 'would like', 'would take', 'would want', 'wrap', 'wright', 'wrong', 'wta', 'xi', 'yard', 'yasir', 'yasir hame', 'year ago', 'year ban', 'year contract', 'year said', 'yet', 'youhana', 'young', 'young player', 'younger', 'youngster', 'youni', 'youni khan', 'yousuf', 'yousuf youhana', 'zaheer', 'zaheer khan', 'zealand', 'zimbabw', 'zurich']\n"
     ]
    }
   ],
   "source": [
    "print(tf_idf_vect.get_feature_names())"
   ]
  },
  {
   "cell_type": "markdown",
   "metadata": {},
   "source": [
    "# Applying Model"
   ]
  },
  {
   "cell_type": "markdown",
   "metadata": {},
   "source": [
    "### Random Forest :"
   ]
  },
  {
   "cell_type": "code",
   "execution_count": 123,
   "metadata": {},
   "outputs": [],
   "source": [
    "max_depth = [1,5,10,50,500,1000]\n",
    "n_estimators = [5,10,100,500]"
   ]
  },
  {
   "cell_type": "markdown",
   "metadata": {},
   "source": [
    "# Train on Unigram Data"
   ]
  },
  {
   "cell_type": "code",
   "execution_count": 124,
   "metadata": {},
   "outputs": [],
   "source": [
    "from sklearn.ensemble import RandomForestClassifier\n",
    "from sklearn.metrics import accuracy_score"
   ]
  },
  {
   "cell_type": "code",
   "execution_count": 125,
   "metadata": {},
   "outputs": [],
   "source": [
    "def learning_best_hyperparameter(train_data, cv_data):\n",
    "    train_accuracy = np.zeros((len(max_depth), len(n_estimators)))\n",
    "    val_accuracy = np.zeros((len(max_depth), len(n_estimators)))\n",
    "    train_loss = np.zeros((len(max_depth), len(n_estimators)))\n",
    "    val_loss = np.zeros((len(max_depth), len(n_estimators)))\n",
    "    for depth in tqdm(range(len(max_depth))):\n",
    "        for estimator in range(len(n_estimators)):\n",
    "            model = RandomForestClassifier(max_depth=max_depth[depth], n_estimators = n_estimators[estimator])\n",
    "            model.fit(train_data, X_train['Class'].values)\n",
    "            predicted_classes = model.predict(train_data)\n",
    "            predicted_val_classes = model.predict(cv_data)\n",
    "            accuracy_train = accuracy_score(X_train['Class'].values.flatten(),predicted_classes)\n",
    "            accuracy_cv = accuracy_score(X_val['Class'].values.flatten(),predicted_val_classes)\n",
    "            train_accuracy[depth][estimator] = accuracy_train\n",
    "            val_accuracy[depth][estimator] = accuracy_cv\n",
    "            train_loss[depth][estimator] = 1 - accuracy_train\n",
    "            val_loss[depth][estimator] = 1 - accuracy_cv\n",
    "    return train_accuracy, val_accuracy, train_loss, val_loss"
   ]
  },
  {
   "cell_type": "code",
   "execution_count": 126,
   "metadata": {
    "scrolled": true
   },
   "outputs": [
    {
     "data": {
      "application/vnd.jupyter.widget-view+json": {
       "model_id": "1a4c2394097d4f4e927d5ba9035f36a9",
       "version_major": 2,
       "version_minor": 0
      },
      "text/plain": [
       "HBox(children=(FloatProgress(value=0.0, max=6.0), HTML(value='')))"
      ]
     },
     "metadata": {},
     "output_type": "display_data"
    },
    {
     "name": "stdout",
     "output_type": "stream",
     "text": [
      "\n"
     ]
    }
   ],
   "source": [
    "train_accuracy, val_accuracy, train_loss, val_loss = learning_best_hyperparameter(final_counts, final_cv)"
   ]
  },
  {
   "cell_type": "markdown",
   "metadata": {},
   "source": [
    "## Graph"
   ]
  },
  {
   "cell_type": "code",
   "execution_count": 127,
   "metadata": {},
   "outputs": [],
   "source": [
    "def plot_graph(train, val, title_train, title_val):\n",
    "    df_train = pd.DataFrame(train, columns = n_estimators, index = max_depth)\n",
    "    df_val = pd.DataFrame(val, columns = n_estimators, index = max_depth)\n",
    "    sns.heatmap(df_train, annot = True, fmt = \"g\", cmap = \"viridis\")\n",
    "    plt.xlabel('Sample Split')\n",
    "    plt.ylabel('Depth')\n",
    "    plt.title(title_train)\n",
    "    plt.show()\n",
    "    \n",
    "    sns.heatmap(df_val, annot = True, fmt = \"g\", cmap = \"viridis\")\n",
    "    plt.xlabel('Sample Split')\n",
    "    plt.ylabel('Depth')\n",
    "    plt.title(title_val)\n",
    "    plt.show()"
   ]
  },
  {
   "cell_type": "markdown",
   "metadata": {},
   "source": [
    "### Accuracy Graph "
   ]
  },
  {
   "cell_type": "code",
   "execution_count": 128,
   "metadata": {},
   "outputs": [
    {
     "data": {
      "image/png": "[encoded data removed]",
      "text/plain": [
       "<Figure size 432x288 with 2 Axes>"
      ]
     },
     "metadata": {},
     "output_type": "display_data"
    },
    {
     "data": {
      "image/png": "[encoded data removed]",
      "text/plain": [
       "<Figure size 432x288 with 2 Axes>"
      ]
     },
     "metadata": {},
     "output_type": "display_data"
    }
   ],
   "source": [
    "plot_graph(train_accuracy, val_accuracy, \"Train Accuracy\", \"Val Accuracy\")"
   ]
  },
  {
   "cell_type": "markdown",
   "metadata": {},
   "source": [
    "### Loss Graph"
   ]
  },
  {
   "cell_type": "code",
   "execution_count": 129,
   "metadata": {},
   "outputs": [
    {
     "data": {
      "image/png": "[encoded data removed]",
      "text/plain": [
       "<Figure size 432x288 with 2 Axes>"
      ]
     },
     "metadata": {},
     "output_type": "display_data"
    },
    {
     "data": {
      "image/png": "[encoded data removed]",
      "text/plain": [
       "<Figure size 432x288 with 2 Axes>"
      ]
     },
     "metadata": {},
     "output_type": "display_data"
    }
   ],
   "source": [
    "plot_graph(train_loss, val_loss, \"Train Loss\", \"Val Loss\")"
   ]
  },
  {
   "cell_type": "markdown",
   "metadata": {},
   "source": [
    "### Predicting on Test Data"
   ]
  },
  {
   "cell_type": "code",
   "execution_count": 130,
   "metadata": {},
   "outputs": [],
   "source": [
    "def training_best_model(max_depth, n_estimators, vectorizer, train):\n",
    "    model = RandomForestClassifier(max_depth=max_depth, n_estimators = n_estimators)\n",
    "    model.fit(train, X_train['Class'].values)\n",
    "    predicted_test_classes = model.predict(vectorizer.transform(X_test['preprocessed_data']))\n",
    "    predicted_category = [classes[index] for index in predicted_test_classes]\n",
    "    accuracy = accuracy_score(X_test['Class'].values.flatten(),predicted_test_classes)\n",
    "    return model, predicted_test_classes, predicted_category, accuracy"
   ]
  },
  {
   "cell_type": "code",
   "execution_count": 134,
   "metadata": {},
   "outputs": [],
   "source": [
    "model, predicted_test_classes, predicted_category, accuracy = training_best_model(50, 100, count_vect, final_counts)"
   ]
  },
  {
   "cell_type": "code",
   "execution_count": 135,
   "metadata": {},
   "outputs": [
    {
     "name": "stdout",
     "output_type": "stream",
     "text": [
      "number of decision trees created :  100\n"
     ]
    }
   ],
   "source": [
    "print(\"number of decision trees created : \",len(model.estimators_))"
   ]
  },
  {
   "cell_type": "code",
   "execution_count": 136,
   "metadata": {},
   "outputs": [
    {
     "name": "stdout",
     "output_type": "stream",
     "text": [
      "Getting 97.3 % Accuracy on test Data\n"
     ]
    }
   ],
   "source": [
    "print(\"Getting {} % Accuracy on test Data\".format(round(accuracy*100,2)) )"
   ]
  },
  {
   "cell_type": "markdown",
   "metadata": {},
   "source": [
    "### Confusion Matrix"
   ]
  },
  {
   "cell_type": "code",
   "execution_count": 137,
   "metadata": {
    "scrolled": true
   },
   "outputs": [
    {
     "name": "stdout",
     "output_type": "stream",
     "text": [
      "             precision    recall  f1-score   support\n",
      "\n",
      "          0       1.00      1.00      1.00         8\n",
      "          1       1.00      1.00      1.00         4\n",
      "          2       0.93      1.00      0.97        14\n",
      "          3       1.00      0.83      0.91         6\n",
      "          4       1.00      1.00      1.00         5\n",
      "\n",
      "avg / total       0.97      0.97      0.97        37\n",
      "\n"
     ]
    }
   ],
   "source": [
    "print(classification_report(X_test['Class'].values.flatten(),predicted_test_classes))"
   ]
  },
  {
   "cell_type": "code",
   "execution_count": 138,
   "metadata": {},
   "outputs": [],
   "source": [
    "import itertools\n",
    "# Plotting Confusion matrix to know How much data is correctly and incorrectly predicted by our model.\n",
    "\n",
    "def plot_confusion_matrix(cm, classes=['athletics', 'cricket', 'football', 'rugby', 'tennis'],\n",
    "                          normalize=False,\n",
    "                          title='Confusion matrix',\n",
    "                          cmap=plt.cm.Blues):\n",
    "    \"\"\"\n",
    "    This function prints and plots the confusion matrix.\n",
    "    Normalization can be applied by setting `normalize=True`.\n",
    "    \"\"\"\n",
    "    if normalize:\n",
    "        cm = cm.astype('float') / cm.sum(axis=1)[:, np.newaxis]\n",
    "        print(\"Normalized confusion matrix\")\n",
    "    else:\n",
    "        print('Confusion matrix, without normalization')\n",
    "\n",
    "#     print(cm)\n",
    "\n",
    "    plt.imshow(cm, interpolation='nearest', cmap=cmap)\n",
    "    plt.title(title)\n",
    "    plt.colorbar()\n",
    "    tick_marks = np.arange(len(classes))\n",
    "    plt.xticks(tick_marks, classes, rotation=45)\n",
    "    plt.yticks(tick_marks, classes)\n",
    "\n",
    "    fmt = '.2f' if normalize else 'd'\n",
    "    thresh = cm.max() / 2.\n",
    "    for i, j in itertools.product(range(cm.shape[0]), range(cm.shape[1])):\n",
    "        plt.text(j, i, format(cm[i, j], fmt),\n",
    "                 horizontalalignment=\"center\",\n",
    "                 color=\"white\" if cm[i, j] > thresh else \"black\")\n",
    "\n",
    "    plt.ylabel('True label')\n",
    "    plt.xlabel('Predicted label')\n",
    "    plt.tight_layout()\n"
   ]
  },
  {
   "cell_type": "code",
   "execution_count": 139,
   "metadata": {},
   "outputs": [
    {
     "data": {
      "text/plain": [
       "football     14\n",
       "athletics     8\n",
       "rugby         6\n",
       "tennis        5\n",
       "cricket       4\n",
       "Name: Category, dtype: int64"
      ]
     },
     "execution_count": 139,
     "metadata": {},
     "output_type": "execute_result"
    }
   ],
   "source": [
    "X_test['Category'].value_counts()"
   ]
  },
  {
   "cell_type": "code",
   "execution_count": 140,
   "metadata": {},
   "outputs": [
    {
     "name": "stdout",
     "output_type": "stream",
     "text": [
      "Confusion matrix, without normalization\n",
      "Normalized confusion matrix\n"
     ]
    },
    {
     "data": {
      "image/png": "[encoded data removed]",
      "text/plain": [
       "<Figure size 432x288 with 2 Axes>"
      ]
     },
     "metadata": {},
     "output_type": "display_data"
    },
    {
     "data": {
      "image/png": "[encoded data removed]",
      "text/plain": [
       "<Figure size 432x288 with 2 Axes>"
      ]
     },
     "metadata": {},
     "output_type": "display_data"
    }
   ],
   "source": [
    "cnf_matrix  = confusion_matrix(X_test['Class'].values.flatten(),predicted_test_classes)\n",
    "np.set_printoptions(precision=2)\n",
    "\n",
    "# Plot non-normalized confusion matrix\n",
    "plt.figure()\n",
    "plot_confusion_matrix(cnf_matrix, \n",
    "                      title='Confusion matrix, without normalization')\n",
    "# Plot normalized confusion matrix\n",
    "plt.figure()\n",
    "plot_confusion_matrix(cnf_matrix,  normalize=True,\n",
    "                      title='Normalized confusion matrix')\n",
    "\n",
    "plt.show()"
   ]
  },
  {
   "cell_type": "code",
   "execution_count": null,
   "metadata": {},
   "outputs": [],
   "source": []
  },
  {
   "cell_type": "code",
   "execution_count": 142,
   "metadata": {},
   "outputs": [],
   "source": [
    "def decision_trees_save(clf, iteration, feature_names, target_names):\n",
    "    file_name = \"BBC_\"+str(iteration)+\"_bow.dot\"\n",
    "    dot_data = export_graphviz(clf, out_file = file_name,feature_names=feature_names, class_names = target_names)\n",
    "#     print(dot_data)\n",
    "#     graph = pydotplus.graph_from_dot_data(dot_data)\n",
    "#     print(graph)\n",
    "#     graph.write_png(file_name)\n",
    "    print(\"Decision tree {} saved as png file\".format(iteration+1))"
   ]
  },
  {
   "cell_type": "code",
   "execution_count": 143,
   "metadata": {
    "scrolled": false
   },
   "outputs": [
    {
     "name": "stdout",
     "output_type": "stream",
     "text": [
      "Decision tree 1 saved as png file\n",
      "Decision tree 2 saved as png file\n",
      "Decision tree 3 saved as png file\n",
      "Decision tree 4 saved as png file\n",
      "Decision tree 5 saved as png file\n",
      "Decision tree 6 saved as png file\n",
      "Decision tree 7 saved as png file\n",
      "Decision tree 8 saved as png file\n",
      "Decision tree 9 saved as png file\n",
      "Decision tree 10 saved as png file\n",
      "Decision tree 11 saved as png file\n",
      "Decision tree 12 saved as png file\n",
      "Decision tree 13 saved as png file\n",
      "Decision tree 14 saved as png file\n",
      "Decision tree 15 saved as png file\n",
      "Decision tree 16 saved as png file\n",
      "Decision tree 17 saved as png file\n",
      "Decision tree 18 saved as png file\n",
      "Decision tree 19 saved as png file\n",
      "Decision tree 20 saved as png file\n",
      "Decision tree 21 saved as png file\n",
      "Decision tree 22 saved as png file\n",
      "Decision tree 23 saved as png file\n",
      "Decision tree 24 saved as png file\n",
      "Decision tree 25 saved as png file\n",
      "Decision tree 26 saved as png file\n",
      "Decision tree 27 saved as png file\n",
      "Decision tree 28 saved as png file\n",
      "Decision tree 29 saved as png file\n",
      "Decision tree 30 saved as png file\n",
      "Decision tree 31 saved as png file\n",
      "Decision tree 32 saved as png file\n",
      "Decision tree 33 saved as png file\n",
      "Decision tree 34 saved as png file\n",
      "Decision tree 35 saved as png file\n",
      "Decision tree 36 saved as png file\n",
      "Decision tree 37 saved as png file\n",
      "Decision tree 38 saved as png file\n",
      "Decision tree 39 saved as png file\n",
      "Decision tree 40 saved as png file\n",
      "Decision tree 41 saved as png file\n",
      "Decision tree 42 saved as png file\n",
      "Decision tree 43 saved as png file\n",
      "Decision tree 44 saved as png file\n",
      "Decision tree 45 saved as png file\n",
      "Decision tree 46 saved as png file\n",
      "Decision tree 47 saved as png file\n",
      "Decision tree 48 saved as png file\n",
      "Decision tree 49 saved as png file\n",
      "Decision tree 50 saved as png file\n",
      "Decision tree 51 saved as png file\n",
      "Decision tree 52 saved as png file\n",
      "Decision tree 53 saved as png file\n",
      "Decision tree 54 saved as png file\n",
      "Decision tree 55 saved as png file\n",
      "Decision tree 56 saved as png file\n",
      "Decision tree 57 saved as png file\n",
      "Decision tree 58 saved as png file\n",
      "Decision tree 59 saved as png file\n",
      "Decision tree 60 saved as png file\n",
      "Decision tree 61 saved as png file\n",
      "Decision tree 62 saved as png file\n",
      "Decision tree 63 saved as png file\n",
      "Decision tree 64 saved as png file\n",
      "Decision tree 65 saved as png file\n",
      "Decision tree 66 saved as png file\n",
      "Decision tree 67 saved as png file\n",
      "Decision tree 68 saved as png file\n",
      "Decision tree 69 saved as png file\n",
      "Decision tree 70 saved as png file\n",
      "Decision tree 71 saved as png file\n",
      "Decision tree 72 saved as png file\n",
      "Decision tree 73 saved as png file\n",
      "Decision tree 74 saved as png file\n",
      "Decision tree 75 saved as png file\n",
      "Decision tree 76 saved as png file\n",
      "Decision tree 77 saved as png file\n",
      "Decision tree 78 saved as png file\n",
      "Decision tree 79 saved as png file\n",
      "Decision tree 80 saved as png file\n",
      "Decision tree 81 saved as png file\n",
      "Decision tree 82 saved as png file\n",
      "Decision tree 83 saved as png file\n",
      "Decision tree 84 saved as png file\n",
      "Decision tree 85 saved as png file\n",
      "Decision tree 86 saved as png file\n",
      "Decision tree 87 saved as png file\n",
      "Decision tree 88 saved as png file\n",
      "Decision tree 89 saved as png file\n",
      "Decision tree 90 saved as png file\n",
      "Decision tree 91 saved as png file\n",
      "Decision tree 92 saved as png file\n",
      "Decision tree 93 saved as png file\n",
      "Decision tree 94 saved as png file\n",
      "Decision tree 95 saved as png file\n",
      "Decision tree 96 saved as png file\n",
      "Decision tree 97 saved as png file\n",
      "Decision tree 98 saved as png file\n",
      "Decision tree 99 saved as png file\n",
      "Decision tree 100 saved as png file\n"
     ]
    }
   ],
   "source": [
    "for i in range(len(model.estimators_)):\n",
    "    decision_trees_save(model.estimators_[i], i, count_vect.get_feature_names(), classes)"
   ]
  },
  {
   "cell_type": "code",
   "execution_count": 144,
   "metadata": {},
   "outputs": [],
   "source": [
    "test_data_result = pd.DataFrame({'Text':X_test['preprocessed_data'],'Category':predicted_category})"
   ]
  },
  {
   "cell_type": "code",
   "execution_count": 145,
   "metadata": {
    "scrolled": true
   },
   "outputs": [
    {
     "data": {
      "text/html": [
       "<div>\n",
       "<style scoped>\n",
       "    .dataframe tbody tr th:only-of-type {\n",
       "        vertical-align: middle;\n",
       "    }\n",
       "\n",
       "    .dataframe tbody tr th {\n",
       "        vertical-align: top;\n",
       "    }\n",
       "\n",
       "    .dataframe thead th {\n",
       "        text-align: right;\n",
       "    }\n",
       "</style>\n",
       "<table border=\"1\" class=\"dataframe\">\n",
       "  <thead>\n",
       "    <tr style=\"text-align: right;\">\n",
       "      <th></th>\n",
       "      <th>Text</th>\n",
       "      <th>Category</th>\n",
       "    </tr>\n",
       "  </thead>\n",
       "  <tbody>\n",
       "    <tr>\n",
       "      <th>669</th>\n",
       "      <td>johansson take adelaid victori second seed joa...</td>\n",
       "      <td>tennis</td>\n",
       "    </tr>\n",
       "    <tr>\n",
       "      <th>33</th>\n",
       "      <td>athen memori soar low well goodby anoth olymp ...</td>\n",
       "      <td>athletics</td>\n",
       "    </tr>\n",
       "    <tr>\n",
       "      <th>549</th>\n",
       "      <td>england coach face rap row england coach andi ...</td>\n",
       "      <td>rugby</td>\n",
       "    </tr>\n",
       "    <tr>\n",
       "      <th>199</th>\n",
       "      <td>new zealand step secur new zealand cricket off...</td>\n",
       "      <td>cricket</td>\n",
       "    </tr>\n",
       "    <tr>\n",
       "      <th>264</th>\n",
       "      <td>irish finish home game republ ireland manag br...</td>\n",
       "      <td>football</td>\n",
       "    </tr>\n",
       "  </tbody>\n",
       "</table>\n",
       "</div>"
      ],
      "text/plain": [
       "                                                  Text   Category\n",
       "669  johansson take adelaid victori second seed joa...     tennis\n",
       "33   athen memori soar low well goodby anoth olymp ...  athletics\n",
       "549  england coach face rap row england coach andi ...      rugby\n",
       "199  new zealand step secur new zealand cricket off...    cricket\n",
       "264  irish finish home game republ ireland manag br...   football"
      ]
     },
     "execution_count": 145,
     "metadata": {},
     "output_type": "execute_result"
    }
   ],
   "source": [
    "test_data_result.head()"
   ]
  },
  {
   "cell_type": "code",
   "execution_count": 146,
   "metadata": {},
   "outputs": [
    {
     "name": "stderr",
     "output_type": "stream",
     "text": [
      "C:\\ProgramData\\Anaconda3\\lib\\site-packages\\ipykernel_launcher.py:1: SettingWithCopyWarning: \n",
      "A value is trying to be set on a copy of a slice from a DataFrame.\n",
      "Try using .loc[row_indexer,col_indexer] = value instead\n",
      "\n",
      "See the caveats in the documentation: http://pandas.pydata.org/pandas-docs/stable/indexing.html#indexing-view-versus-copy\n",
      "  \"\"\"Entry point for launching an IPython kernel.\n",
      "C:\\ProgramData\\Anaconda3\\lib\\site-packages\\ipykernel_launcher.py:2: SettingWithCopyWarning: \n",
      "A value is trying to be set on a copy of a slice from a DataFrame.\n",
      "Try using .loc[row_indexer,col_indexer] = value instead\n",
      "\n",
      "See the caveats in the documentation: http://pandas.pydata.org/pandas-docs/stable/indexing.html#indexing-view-versus-copy\n",
      "  \n"
     ]
    }
   ],
   "source": [
    "X_test['Unigram_Predicted_Test'] = predicted_test_classes\n",
    "X_test['Unigram_Predicted_Test_Category'] = predicted_category"
   ]
  },
  {
   "cell_type": "code",
   "execution_count": 147,
   "metadata": {},
   "outputs": [
    {
     "data": {
      "text/html": [
       "<div>\n",
       "<style scoped>\n",
       "    .dataframe tbody tr th:only-of-type {\n",
       "        vertical-align: middle;\n",
       "    }\n",
       "\n",
       "    .dataframe tbody tr th {\n",
       "        vertical-align: top;\n",
       "    }\n",
       "\n",
       "    .dataframe thead th {\n",
       "        text-align: right;\n",
       "    }\n",
       "</style>\n",
       "<table border=\"1\" class=\"dataframe\">\n",
       "  <thead>\n",
       "    <tr style=\"text-align: right;\">\n",
       "      <th></th>\n",
       "      <th>Text</th>\n",
       "      <th>Category</th>\n",
       "      <th>Class</th>\n",
       "      <th>preprocessed_data</th>\n",
       "      <th>Unigram_Predicted_Test</th>\n",
       "      <th>Unigram_Predicted_Test_Category</th>\n",
       "    </tr>\n",
       "  </thead>\n",
       "  <tbody>\n",
       "    <tr>\n",
       "      <th>669</th>\n",
       "      <td>Johansson takes Adelaide victory\\n\\nSecond see...</td>\n",
       "      <td>tennis</td>\n",
       "      <td>4</td>\n",
       "      <td>johansson take adelaid victori second seed joa...</td>\n",
       "      <td>4</td>\n",
       "      <td>tennis</td>\n",
       "    </tr>\n",
       "    <tr>\n",
       "      <th>33</th>\n",
       "      <td>Athens memories soar above lows\\n\\nWell, it's ...</td>\n",
       "      <td>athletics</td>\n",
       "      <td>0</td>\n",
       "      <td>athen memori soar low well goodby anoth olymp ...</td>\n",
       "      <td>0</td>\n",
       "      <td>athletics</td>\n",
       "    </tr>\n",
       "    <tr>\n",
       "      <th>549</th>\n",
       "      <td>England coach faces rap after row\\n\\nEngland c...</td>\n",
       "      <td>rugby</td>\n",
       "      <td>3</td>\n",
       "      <td>england coach face rap row england coach andi ...</td>\n",
       "      <td>3</td>\n",
       "      <td>rugby</td>\n",
       "    </tr>\n",
       "    <tr>\n",
       "      <th>199</th>\n",
       "      <td>New Zealand to step up security\\n\\nNew Zealand...</td>\n",
       "      <td>cricket</td>\n",
       "      <td>1</td>\n",
       "      <td>new zealand step secur new zealand cricket off...</td>\n",
       "      <td>1</td>\n",
       "      <td>cricket</td>\n",
       "    </tr>\n",
       "    <tr>\n",
       "      <th>264</th>\n",
       "      <td>Irish finish with home game\\n\\nRepublic of Ire...</td>\n",
       "      <td>football</td>\n",
       "      <td>2</td>\n",
       "      <td>irish finish home game republ ireland manag br...</td>\n",
       "      <td>2</td>\n",
       "      <td>football</td>\n",
       "    </tr>\n",
       "  </tbody>\n",
       "</table>\n",
       "</div>"
      ],
      "text/plain": [
       "                                                  Text   Category  Class  \\\n",
       "669  Johansson takes Adelaide victory\\n\\nSecond see...     tennis      4   \n",
       "33   Athens memories soar above lows\\n\\nWell, it's ...  athletics      0   \n",
       "549  England coach faces rap after row\\n\\nEngland c...      rugby      3   \n",
       "199  New Zealand to step up security\\n\\nNew Zealand...    cricket      1   \n",
       "264  Irish finish with home game\\n\\nRepublic of Ire...   football      2   \n",
       "\n",
       "                                     preprocessed_data  \\\n",
       "669  johansson take adelaid victori second seed joa...   \n",
       "33   athen memori soar low well goodby anoth olymp ...   \n",
       "549  england coach face rap row england coach andi ...   \n",
       "199  new zealand step secur new zealand cricket off...   \n",
       "264  irish finish home game republ ireland manag br...   \n",
       "\n",
       "     Unigram_Predicted_Test Unigram_Predicted_Test_Category  \n",
       "669                       4                          tennis  \n",
       "33                        0                       athletics  \n",
       "549                       3                           rugby  \n",
       "199                       1                         cricket  \n",
       "264                       2                        football  "
      ]
     },
     "execution_count": 147,
     "metadata": {},
     "output_type": "execute_result"
    }
   ],
   "source": [
    "X_test.head()"
   ]
  },
  {
   "cell_type": "code",
   "execution_count": 148,
   "metadata": {},
   "outputs": [],
   "source": [
    "X_test_not_equal = X_test[X_test['Class'] != X_test['Unigram_Predicted_Test']]"
   ]
  },
  {
   "cell_type": "code",
   "execution_count": 149,
   "metadata": {},
   "outputs": [
    {
     "name": "stdout",
     "output_type": "stream",
     "text": [
      "Shape of Wrong Data :  (1, 6)\n"
     ]
    }
   ],
   "source": [
    "print(\"Shape of Wrong Data : \",X_test_not_equal.shape)"
   ]
  },
  {
   "cell_type": "code",
   "execution_count": 150,
   "metadata": {},
   "outputs": [
    {
     "data": {
      "text/html": [
       "<div>\n",
       "<style scoped>\n",
       "    .dataframe tbody tr th:only-of-type {\n",
       "        vertical-align: middle;\n",
       "    }\n",
       "\n",
       "    .dataframe tbody tr th {\n",
       "        vertical-align: top;\n",
       "    }\n",
       "\n",
       "    .dataframe thead th {\n",
       "        text-align: right;\n",
       "    }\n",
       "</style>\n",
       "<table border=\"1\" class=\"dataframe\">\n",
       "  <thead>\n",
       "    <tr style=\"text-align: right;\">\n",
       "      <th></th>\n",
       "      <th>Text</th>\n",
       "      <th>Category</th>\n",
       "      <th>Class</th>\n",
       "      <th>preprocessed_data</th>\n",
       "      <th>Unigram_Predicted_Test</th>\n",
       "      <th>Unigram_Predicted_Test_Category</th>\n",
       "    </tr>\n",
       "  </thead>\n",
       "  <tbody>\n",
       "    <tr>\n",
       "      <th>609</th>\n",
       "      <td>Bath faced with Tindall ultimatum\\n\\nMike Tind...</td>\n",
       "      <td>rugby</td>\n",
       "      <td>3</td>\n",
       "      <td>bath face tindal ultimatum mike tindal agent w...</td>\n",
       "      <td>2</td>\n",
       "      <td>football</td>\n",
       "    </tr>\n",
       "  </tbody>\n",
       "</table>\n",
       "</div>"
      ],
      "text/plain": [
       "                                                  Text Category  Class  \\\n",
       "609  Bath faced with Tindall ultimatum\\n\\nMike Tind...    rugby      3   \n",
       "\n",
       "                                     preprocessed_data  \\\n",
       "609  bath face tindal ultimatum mike tindal agent w...   \n",
       "\n",
       "     Unigram_Predicted_Test Unigram_Predicted_Test_Category  \n",
       "609                       2                        football  "
      ]
     },
     "execution_count": 150,
     "metadata": {},
     "output_type": "execute_result"
    }
   ],
   "source": [
    "X_test_not_equal"
   ]
  },
  {
   "cell_type": "code",
   "execution_count": 151,
   "metadata": {},
   "outputs": [],
   "source": [
    "test_data_result = pd.DataFrame({'Text':X_test['Text'], 'Pre-Processed Text':X_test['preprocessed_data'], 'Actual Category':X_test['Category'], 'Predicted Category':X_test['Unigram_Predicted_Test_Category']})"
   ]
  },
  {
   "cell_type": "code",
   "execution_count": 152,
   "metadata": {},
   "outputs": [],
   "source": [
    "test_data_result.to_csv('test_result_bow_unigram_rf.csv')"
   ]
  },
  {
   "cell_type": "code",
   "execution_count": null,
   "metadata": {},
   "outputs": [],
   "source": []
  },
  {
   "cell_type": "markdown",
   "metadata": {},
   "source": [
    "### Predicting on Future Unseen Text Data"
   ]
  },
  {
   "cell_type": "code",
   "execution_count": 153,
   "metadata": {},
   "outputs": [],
   "source": [
    "PATH = '../BBCSports/bbcsport-fulltext-single/data/'"
   ]
  },
  {
   "cell_type": "code",
   "execution_count": 154,
   "metadata": {},
   "outputs": [],
   "source": [
    "def testing_data(path, model, vectorizer):\n",
    "    test_files = os.listdir(path)\n",
    "    test_files.remove('.ipynb_checkpoints')\n",
    "    test_data = []\n",
    "    for FILE_NAME in test_files:\n",
    "        file1 = open(path+FILE_NAME,\"r\")\n",
    "        test_data.append(file1.read())\n",
    "    preprocessed_data_test = []\n",
    "    # tqdm is for printing the status bar\n",
    "    for sentance in tqdm(test_data):\n",
    "\n",
    "    #     sentance = decontracted(sentance)\n",
    "        #remove words with numbers python: https://stackoverflow.com/a/18082370/4084039\n",
    "        sentance = re.sub(\"\\S*\\d\\S*\", \"\", sentance).strip()\n",
    "        sentance = re.sub('[^A-Za-z]+', ' ', sentance)\n",
    "        # https://gist.github.com/sebleier/554280\n",
    "        sentance = ' '.join(porter.stem(e.lower()) for e in sentance.split() if e.lower() not in stopWords)\n",
    "        preprocessed_data_test.append(sentance.strip())\n",
    "    predicted_on_unseen_classes = model.predict(vectorizer.transform(preprocessed_data_test))\n",
    "    predicted_category = [classes[index] for index in predicted_on_unseen_classes]\n",
    "    data_dict_test = {'Text':test_data,'Category':predicted_category}\n",
    "    data_test  = pd.DataFrame(data_dict_test)\n",
    "    return data_test"
   ]
  },
  {
   "cell_type": "code",
   "execution_count": 155,
   "metadata": {},
   "outputs": [
    {
     "data": {
      "application/vnd.jupyter.widget-view+json": {
       "model_id": "b956fd6bb73a48e085f11c5a3d7a7458",
       "version_major": 2,
       "version_minor": 0
      },
      "text/plain": [
       "HBox(children=(FloatProgress(value=0.0, max=737.0), HTML(value='')))"
      ]
     },
     "metadata": {},
     "output_type": "display_data"
    },
    {
     "name": "stdout",
     "output_type": "stream",
     "text": [
      "\n"
     ]
    }
   ],
   "source": [
    "result_unseen_data_test = testing_data(PATH, model, count_vect)"
   ]
  },
  {
   "cell_type": "code",
   "execution_count": 156,
   "metadata": {},
   "outputs": [
    {
     "data": {
      "text/html": [
       "<div>\n",
       "<style scoped>\n",
       "    .dataframe tbody tr th:only-of-type {\n",
       "        vertical-align: middle;\n",
       "    }\n",
       "\n",
       "    .dataframe tbody tr th {\n",
       "        vertical-align: top;\n",
       "    }\n",
       "\n",
       "    .dataframe thead th {\n",
       "        text-align: right;\n",
       "    }\n",
       "</style>\n",
       "<table border=\"1\" class=\"dataframe\">\n",
       "  <thead>\n",
       "    <tr style=\"text-align: right;\">\n",
       "      <th></th>\n",
       "      <th>Text</th>\n",
       "      <th>Category</th>\n",
       "    </tr>\n",
       "  </thead>\n",
       "  <tbody>\n",
       "    <tr>\n",
       "      <th>0</th>\n",
       "      <td>Henman overcomes rival Rusedski\\n\\nTim Henman ...</td>\n",
       "      <td>tennis</td>\n",
       "    </tr>\n",
       "    <tr>\n",
       "      <th>1</th>\n",
       "      <td>Hantuchova in Dubai last eight\\n\\nDaniela Hant...</td>\n",
       "      <td>tennis</td>\n",
       "    </tr>\n",
       "    <tr>\n",
       "      <th>2</th>\n",
       "      <td>Sharapova overcomes tough Molik\\n\\nWimbledon c...</td>\n",
       "      <td>tennis</td>\n",
       "    </tr>\n",
       "    <tr>\n",
       "      <th>3</th>\n",
       "      <td>Hayden sets up Australia win\\n\\nSecond one-day...</td>\n",
       "      <td>cricket</td>\n",
       "    </tr>\n",
       "    <tr>\n",
       "      <th>4</th>\n",
       "      <td>Pietersen gives England a chance\\n\\nLunch: Eng...</td>\n",
       "      <td>cricket</td>\n",
       "    </tr>\n",
       "  </tbody>\n",
       "</table>\n",
       "</div>"
      ],
      "text/plain": [
       "                                                Text Category\n",
       "0  Henman overcomes rival Rusedski\\n\\nTim Henman ...   tennis\n",
       "1  Hantuchova in Dubai last eight\\n\\nDaniela Hant...   tennis\n",
       "2  Sharapova overcomes tough Molik\\n\\nWimbledon c...   tennis\n",
       "3  Hayden sets up Australia win\\n\\nSecond one-day...  cricket\n",
       "4  Pietersen gives England a chance\\n\\nLunch: Eng...  cricket"
      ]
     },
     "execution_count": 156,
     "metadata": {},
     "output_type": "execute_result"
    }
   ],
   "source": [
    "result_unseen_data_test.head()"
   ]
  },
  {
   "cell_type": "code",
   "execution_count": 157,
   "metadata": {},
   "outputs": [],
   "source": [
    "result_unseen_data_test.to_csv('result_bow_unigram_rf.csv')"
   ]
  },
  {
   "cell_type": "code",
   "execution_count": null,
   "metadata": {},
   "outputs": [],
   "source": []
  },
  {
   "cell_type": "markdown",
   "metadata": {},
   "source": [
    "## Train on TF-IDF data"
   ]
  },
  {
   "cell_type": "code",
   "execution_count": 158,
   "metadata": {},
   "outputs": [
    {
     "data": {
      "application/vnd.jupyter.widget-view+json": {
       "model_id": "1d696b32be9d49bf9dc46b65804bc2ad",
       "version_major": 2,
       "version_minor": 0
      },
      "text/plain": [
       "HBox(children=(FloatProgress(value=0.0, max=6.0), HTML(value='')))"
      ]
     },
     "metadata": {},
     "output_type": "display_data"
    },
    {
     "name": "stdout",
     "output_type": "stream",
     "text": [
      "\n"
     ]
    }
   ],
   "source": [
    "train_accuracy, val_accuracy, train_loss, val_loss = learning_best_hyperparameter(final_tf_idf_train, final_tf_idf_cv)"
   ]
  },
  {
   "cell_type": "markdown",
   "metadata": {},
   "source": [
    "### Accuracy Graph"
   ]
  },
  {
   "cell_type": "code",
   "execution_count": 159,
   "metadata": {
    "scrolled": false
   },
   "outputs": [
    {
     "data": {
      "image/png": "[encoded data removed]",
      "text/plain": [
       "<Figure size 432x288 with 2 Axes>"
      ]
     },
     "metadata": {},
     "output_type": "display_data"
    },
    {
     "data": {
      "image/png": "[encoded data removed]",
      "text/plain": [
       "<Figure size 432x288 with 2 Axes>"
      ]
     },
     "metadata": {},
     "output_type": "display_data"
    }
   ],
   "source": [
    "plot_graph(train_accuracy, val_accuracy, \"Train Accuracy\", \"Val Accuracy\")"
   ]
  },
  {
   "cell_type": "markdown",
   "metadata": {},
   "source": [
    "### Loss Graph"
   ]
  },
  {
   "cell_type": "code",
   "execution_count": 160,
   "metadata": {
    "scrolled": false
   },
   "outputs": [
    {
     "data": {
      "image/png": "[encoded data removed]",
      "text/plain": [
       "<Figure size 432x288 with 2 Axes>"
      ]
     },
     "metadata": {},
     "output_type": "display_data"
    },
    {
     "data": {
      "image/png": "[encoded data removed]",
      "text/plain": [
       "<Figure size 432x288 with 2 Axes>"
      ]
     },
     "metadata": {},
     "output_type": "display_data"
    }
   ],
   "source": [
    "plot_graph(train_loss, val_loss, \"Train Loss\", \"Val Loss\")"
   ]
  },
  {
   "cell_type": "markdown",
   "metadata": {},
   "source": [
    "### Predicting on Test Data"
   ]
  },
  {
   "cell_type": "code",
   "execution_count": 161,
   "metadata": {},
   "outputs": [],
   "source": [
    "model, predicted_test_classes, predicted_category, accuracy = training_best_model(50, 100, tf_idf_vect, final_tf_idf_train)"
   ]
  },
  {
   "cell_type": "code",
   "execution_count": 162,
   "metadata": {},
   "outputs": [
    {
     "name": "stdout",
     "output_type": "stream",
     "text": [
      "Getting 97.3 % Accuracy on test Data\n"
     ]
    }
   ],
   "source": [
    "print(\"Getting {} % Accuracy on test Data\".format(round(accuracy*100,2)) )"
   ]
  },
  {
   "cell_type": "code",
   "execution_count": 163,
   "metadata": {},
   "outputs": [
    {
     "name": "stdout",
     "output_type": "stream",
     "text": [
      "             precision    recall  f1-score   support\n",
      "\n",
      "          0       1.00      1.00      1.00         8\n",
      "          1       1.00      1.00      1.00         4\n",
      "          2       0.93      1.00      0.97        14\n",
      "          3       1.00      0.83      0.91         6\n",
      "          4       1.00      1.00      1.00         5\n",
      "\n",
      "avg / total       0.97      0.97      0.97        37\n",
      "\n"
     ]
    }
   ],
   "source": [
    "print(classification_report(X_test['Class'].values.flatten(),predicted_test_classes))"
   ]
  },
  {
   "cell_type": "code",
   "execution_count": 164,
   "metadata": {},
   "outputs": [
    {
     "name": "stdout",
     "output_type": "stream",
     "text": [
      "Confusion matrix, without normalization\n",
      "Normalized confusion matrix\n"
     ]
    },
    {
     "data": {
      "image/png": "[encoded data removed]",
      "text/plain": [
       "<Figure size 432x288 with 2 Axes>"
      ]
     },
     "metadata": {},
     "output_type": "display_data"
    },
    {
     "data": {
      "image/png": "[encoded data removed]",
      "text/plain": [
       "<Figure size 432x288 with 2 Axes>"
      ]
     },
     "metadata": {},
     "output_type": "display_data"
    }
   ],
   "source": [
    "cnf_matrix  = confusion_matrix(X_test['Class'].values.flatten(),predicted_test_classes)\n",
    "np.set_printoptions(precision=2)\n",
    "\n",
    "# Plot non-normalized confusion matrix\n",
    "plt.figure()\n",
    "plot_confusion_matrix(cnf_matrix, \n",
    "                      title='Confusion matrix, without normalization')\n",
    "# Plot normalized confusion matrix\n",
    "plt.figure()\n",
    "plot_confusion_matrix(cnf_matrix,  normalize=True,\n",
    "                      title='Normalized confusion matrix')\n",
    "\n",
    "plt.show()"
   ]
  },
  {
   "cell_type": "code",
   "execution_count": 173,
   "metadata": {},
   "outputs": [],
   "source": [
    "def decision_trees_save_tf_idf(clf, iteration, feature_names, target_names):\n",
    "    file_name = \"BBC_\"+str(iteration)+\"_tfidf.dot\"\n",
    "    dot_data = export_graphviz(clf, out_file = file_name,feature_names=feature_names, class_names = target_names)\n",
    "#     print(dot_data)\n",
    "#     graph = pydotplus.graph_from_dot_data(dot_data)\n",
    "#     print(graph)\n",
    "#     graph.write_png(file_name)\n",
    "    print(\"Decision tree {} saved as png file\".format(iteration+1))"
   ]
  },
  {
   "cell_type": "code",
   "execution_count": 174,
   "metadata": {},
   "outputs": [
    {
     "name": "stdout",
     "output_type": "stream",
     "text": [
      "Decision tree 1 saved as png file\n",
      "Decision tree 2 saved as png file\n",
      "Decision tree 3 saved as png file\n",
      "Decision tree 4 saved as png file\n",
      "Decision tree 5 saved as png file\n",
      "Decision tree 6 saved as png file\n",
      "Decision tree 7 saved as png file\n",
      "Decision tree 8 saved as png file\n",
      "Decision tree 9 saved as png file\n",
      "Decision tree 10 saved as png file\n",
      "Decision tree 11 saved as png file\n",
      "Decision tree 12 saved as png file\n",
      "Decision tree 13 saved as png file\n",
      "Decision tree 14 saved as png file\n",
      "Decision tree 15 saved as png file\n",
      "Decision tree 16 saved as png file\n",
      "Decision tree 17 saved as png file\n",
      "Decision tree 18 saved as png file\n",
      "Decision tree 19 saved as png file\n",
      "Decision tree 20 saved as png file\n",
      "Decision tree 21 saved as png file\n",
      "Decision tree 22 saved as png file\n",
      "Decision tree 23 saved as png file\n",
      "Decision tree 24 saved as png file\n",
      "Decision tree 25 saved as png file\n",
      "Decision tree 26 saved as png file\n",
      "Decision tree 27 saved as png file\n",
      "Decision tree 28 saved as png file\n",
      "Decision tree 29 saved as png file\n",
      "Decision tree 30 saved as png file\n",
      "Decision tree 31 saved as png file\n",
      "Decision tree 32 saved as png file\n",
      "Decision tree 33 saved as png file\n",
      "Decision tree 34 saved as png file\n",
      "Decision tree 35 saved as png file\n",
      "Decision tree 36 saved as png file\n",
      "Decision tree 37 saved as png file\n",
      "Decision tree 38 saved as png file\n",
      "Decision tree 39 saved as png file\n",
      "Decision tree 40 saved as png file\n",
      "Decision tree 41 saved as png file\n",
      "Decision tree 42 saved as png file\n",
      "Decision tree 43 saved as png file\n",
      "Decision tree 44 saved as png file\n",
      "Decision tree 45 saved as png file\n",
      "Decision tree 46 saved as png file\n",
      "Decision tree 47 saved as png file\n",
      "Decision tree 48 saved as png file\n",
      "Decision tree 49 saved as png file\n",
      "Decision tree 50 saved as png file\n",
      "Decision tree 51 saved as png file\n",
      "Decision tree 52 saved as png file\n",
      "Decision tree 53 saved as png file\n",
      "Decision tree 54 saved as png file\n",
      "Decision tree 55 saved as png file\n",
      "Decision tree 56 saved as png file\n",
      "Decision tree 57 saved as png file\n",
      "Decision tree 58 saved as png file\n",
      "Decision tree 59 saved as png file\n",
      "Decision tree 60 saved as png file\n",
      "Decision tree 61 saved as png file\n",
      "Decision tree 62 saved as png file\n",
      "Decision tree 63 saved as png file\n",
      "Decision tree 64 saved as png file\n",
      "Decision tree 65 saved as png file\n",
      "Decision tree 66 saved as png file\n",
      "Decision tree 67 saved as png file\n",
      "Decision tree 68 saved as png file\n",
      "Decision tree 69 saved as png file\n",
      "Decision tree 70 saved as png file\n",
      "Decision tree 71 saved as png file\n",
      "Decision tree 72 saved as png file\n",
      "Decision tree 73 saved as png file\n",
      "Decision tree 74 saved as png file\n",
      "Decision tree 75 saved as png file\n",
      "Decision tree 76 saved as png file\n",
      "Decision tree 77 saved as png file\n",
      "Decision tree 78 saved as png file\n",
      "Decision tree 79 saved as png file\n",
      "Decision tree 80 saved as png file\n",
      "Decision tree 81 saved as png file\n",
      "Decision tree 82 saved as png file\n",
      "Decision tree 83 saved as png file\n",
      "Decision tree 84 saved as png file\n",
      "Decision tree 85 saved as png file\n",
      "Decision tree 86 saved as png file\n",
      "Decision tree 87 saved as png file\n",
      "Decision tree 88 saved as png file\n",
      "Decision tree 89 saved as png file\n",
      "Decision tree 90 saved as png file\n",
      "Decision tree 91 saved as png file\n",
      "Decision tree 92 saved as png file\n",
      "Decision tree 93 saved as png file\n",
      "Decision tree 94 saved as png file\n",
      "Decision tree 95 saved as png file\n",
      "Decision tree 96 saved as png file\n",
      "Decision tree 97 saved as png file\n",
      "Decision tree 98 saved as png file\n",
      "Decision tree 99 saved as png file\n",
      "Decision tree 100 saved as png file\n"
     ]
    }
   ],
   "source": [
    "for i in range(len(model.estimators_)):\n",
    "    decision_trees_save_tf_idf(model.estimators_[i], i, tf_idf_vect.get_feature_names(), classes)"
   ]
  },
  {
   "cell_type": "code",
   "execution_count": 175,
   "metadata": {},
   "outputs": [
    {
     "name": "stderr",
     "output_type": "stream",
     "text": [
      "C:\\ProgramData\\Anaconda3\\lib\\site-packages\\ipykernel_launcher.py:1: SettingWithCopyWarning: \n",
      "A value is trying to be set on a copy of a slice from a DataFrame.\n",
      "Try using .loc[row_indexer,col_indexer] = value instead\n",
      "\n",
      "See the caveats in the documentation: http://pandas.pydata.org/pandas-docs/stable/indexing.html#indexing-view-versus-copy\n",
      "  \"\"\"Entry point for launching an IPython kernel.\n",
      "C:\\ProgramData\\Anaconda3\\lib\\site-packages\\ipykernel_launcher.py:2: SettingWithCopyWarning: \n",
      "A value is trying to be set on a copy of a slice from a DataFrame.\n",
      "Try using .loc[row_indexer,col_indexer] = value instead\n",
      "\n",
      "See the caveats in the documentation: http://pandas.pydata.org/pandas-docs/stable/indexing.html#indexing-view-versus-copy\n",
      "  \n"
     ]
    }
   ],
   "source": [
    "X_test['TFIDF_Predicted_Test'] = predicted_test_classes\n",
    "X_test['TFIDF_Predicted_Test_Category'] = predicted_category"
   ]
  },
  {
   "cell_type": "code",
   "execution_count": 176,
   "metadata": {},
   "outputs": [
    {
     "data": {
      "text/html": [
       "<div>\n",
       "<style scoped>\n",
       "    .dataframe tbody tr th:only-of-type {\n",
       "        vertical-align: middle;\n",
       "    }\n",
       "\n",
       "    .dataframe tbody tr th {\n",
       "        vertical-align: top;\n",
       "    }\n",
       "\n",
       "    .dataframe thead th {\n",
       "        text-align: right;\n",
       "    }\n",
       "</style>\n",
       "<table border=\"1\" class=\"dataframe\">\n",
       "  <thead>\n",
       "    <tr style=\"text-align: right;\">\n",
       "      <th></th>\n",
       "      <th>Text</th>\n",
       "      <th>Category</th>\n",
       "      <th>Class</th>\n",
       "      <th>preprocessed_data</th>\n",
       "      <th>Unigram_Predicted_Test</th>\n",
       "      <th>Unigram_Predicted_Test_Category</th>\n",
       "      <th>TFIDF_Predicted_Test</th>\n",
       "      <th>TFIDF_Predicted_Test_Category</th>\n",
       "    </tr>\n",
       "  </thead>\n",
       "  <tbody>\n",
       "    <tr>\n",
       "      <th>669</th>\n",
       "      <td>Johansson takes Adelaide victory\\n\\nSecond see...</td>\n",
       "      <td>tennis</td>\n",
       "      <td>4</td>\n",
       "      <td>johansson take adelaid victori second seed joa...</td>\n",
       "      <td>4</td>\n",
       "      <td>tennis</td>\n",
       "      <td>4</td>\n",
       "      <td>tennis</td>\n",
       "    </tr>\n",
       "    <tr>\n",
       "      <th>33</th>\n",
       "      <td>Athens memories soar above lows\\n\\nWell, it's ...</td>\n",
       "      <td>athletics</td>\n",
       "      <td>0</td>\n",
       "      <td>athen memori soar low well goodby anoth olymp ...</td>\n",
       "      <td>0</td>\n",
       "      <td>athletics</td>\n",
       "      <td>0</td>\n",
       "      <td>athletics</td>\n",
       "    </tr>\n",
       "    <tr>\n",
       "      <th>549</th>\n",
       "      <td>England coach faces rap after row\\n\\nEngland c...</td>\n",
       "      <td>rugby</td>\n",
       "      <td>3</td>\n",
       "      <td>england coach face rap row england coach andi ...</td>\n",
       "      <td>3</td>\n",
       "      <td>rugby</td>\n",
       "      <td>3</td>\n",
       "      <td>rugby</td>\n",
       "    </tr>\n",
       "    <tr>\n",
       "      <th>199</th>\n",
       "      <td>New Zealand to step up security\\n\\nNew Zealand...</td>\n",
       "      <td>cricket</td>\n",
       "      <td>1</td>\n",
       "      <td>new zealand step secur new zealand cricket off...</td>\n",
       "      <td>1</td>\n",
       "      <td>cricket</td>\n",
       "      <td>1</td>\n",
       "      <td>cricket</td>\n",
       "    </tr>\n",
       "    <tr>\n",
       "      <th>264</th>\n",
       "      <td>Irish finish with home game\\n\\nRepublic of Ire...</td>\n",
       "      <td>football</td>\n",
       "      <td>2</td>\n",
       "      <td>irish finish home game republ ireland manag br...</td>\n",
       "      <td>2</td>\n",
       "      <td>football</td>\n",
       "      <td>2</td>\n",
       "      <td>football</td>\n",
       "    </tr>\n",
       "  </tbody>\n",
       "</table>\n",
       "</div>"
      ],
      "text/plain": [
       "                                                  Text   Category  Class  \\\n",
       "669  Johansson takes Adelaide victory\\n\\nSecond see...     tennis      4   \n",
       "33   Athens memories soar above lows\\n\\nWell, it's ...  athletics      0   \n",
       "549  England coach faces rap after row\\n\\nEngland c...      rugby      3   \n",
       "199  New Zealand to step up security\\n\\nNew Zealand...    cricket      1   \n",
       "264  Irish finish with home game\\n\\nRepublic of Ire...   football      2   \n",
       "\n",
       "                                     preprocessed_data  \\\n",
       "669  johansson take adelaid victori second seed joa...   \n",
       "33   athen memori soar low well goodby anoth olymp ...   \n",
       "549  england coach face rap row england coach andi ...   \n",
       "199  new zealand step secur new zealand cricket off...   \n",
       "264  irish finish home game republ ireland manag br...   \n",
       "\n",
       "     Unigram_Predicted_Test Unigram_Predicted_Test_Category  \\\n",
       "669                       4                          tennis   \n",
       "33                        0                       athletics   \n",
       "549                       3                           rugby   \n",
       "199                       1                         cricket   \n",
       "264                       2                        football   \n",
       "\n",
       "     TFIDF_Predicted_Test TFIDF_Predicted_Test_Category  \n",
       "669                     4                        tennis  \n",
       "33                      0                     athletics  \n",
       "549                     3                         rugby  \n",
       "199                     1                       cricket  \n",
       "264                     2                      football  "
      ]
     },
     "execution_count": 176,
     "metadata": {},
     "output_type": "execute_result"
    }
   ],
   "source": [
    "X_test.head()"
   ]
  },
  {
   "cell_type": "code",
   "execution_count": 177,
   "metadata": {},
   "outputs": [],
   "source": [
    "X_test_not_equal = X_test[X_test['Class'] != X_test['TFIDF_Predicted_Test']]"
   ]
  },
  {
   "cell_type": "code",
   "execution_count": 178,
   "metadata": {},
   "outputs": [
    {
     "name": "stdout",
     "output_type": "stream",
     "text": [
      "Shape of Wrong Data :  (1, 8)\n"
     ]
    }
   ],
   "source": [
    "print(\"Shape of Wrong Data : \",X_test_not_equal.shape)"
   ]
  },
  {
   "cell_type": "code",
   "execution_count": 179,
   "metadata": {
    "scrolled": false
   },
   "outputs": [
    {
     "data": {
      "text/html": [
       "<div>\n",
       "<style scoped>\n",
       "    .dataframe tbody tr th:only-of-type {\n",
       "        vertical-align: middle;\n",
       "    }\n",
       "\n",
       "    .dataframe tbody tr th {\n",
       "        vertical-align: top;\n",
       "    }\n",
       "\n",
       "    .dataframe thead th {\n",
       "        text-align: right;\n",
       "    }\n",
       "</style>\n",
       "<table border=\"1\" class=\"dataframe\">\n",
       "  <thead>\n",
       "    <tr style=\"text-align: right;\">\n",
       "      <th></th>\n",
       "      <th>Text</th>\n",
       "      <th>Category</th>\n",
       "      <th>Class</th>\n",
       "      <th>preprocessed_data</th>\n",
       "      <th>Unigram_Predicted_Test</th>\n",
       "      <th>Unigram_Predicted_Test_Category</th>\n",
       "      <th>TFIDF_Predicted_Test</th>\n",
       "      <th>TFIDF_Predicted_Test_Category</th>\n",
       "    </tr>\n",
       "  </thead>\n",
       "  <tbody>\n",
       "    <tr>\n",
       "      <th>609</th>\n",
       "      <td>Bath faced with Tindall ultimatum\\n\\nMike Tind...</td>\n",
       "      <td>rugby</td>\n",
       "      <td>3</td>\n",
       "      <td>bath face tindal ultimatum mike tindal agent w...</td>\n",
       "      <td>2</td>\n",
       "      <td>football</td>\n",
       "      <td>2</td>\n",
       "      <td>football</td>\n",
       "    </tr>\n",
       "  </tbody>\n",
       "</table>\n",
       "</div>"
      ],
      "text/plain": [
       "                                                  Text Category  Class  \\\n",
       "609  Bath faced with Tindall ultimatum\\n\\nMike Tind...    rugby      3   \n",
       "\n",
       "                                     preprocessed_data  \\\n",
       "609  bath face tindal ultimatum mike tindal agent w...   \n",
       "\n",
       "     Unigram_Predicted_Test Unigram_Predicted_Test_Category  \\\n",
       "609                       2                        football   \n",
       "\n",
       "     TFIDF_Predicted_Test TFIDF_Predicted_Test_Category  \n",
       "609                     2                      football  "
      ]
     },
     "execution_count": 179,
     "metadata": {},
     "output_type": "execute_result"
    }
   ],
   "source": [
    "X_test_not_equal.head()"
   ]
  },
  {
   "cell_type": "code",
   "execution_count": 180,
   "metadata": {},
   "outputs": [],
   "source": [
    "test_data_result = pd.DataFrame({'Text':X_test['Text'], 'Pre-Processed Text':X_test['preprocessed_data'], 'Actual Category':X_test['Category'], 'Predicted Category':X_test['TFIDF_Predicted_Test_Category']})"
   ]
  },
  {
   "cell_type": "code",
   "execution_count": 181,
   "metadata": {},
   "outputs": [
    {
     "data": {
      "text/html": [
       "<div>\n",
       "<style scoped>\n",
       "    .dataframe tbody tr th:only-of-type {\n",
       "        vertical-align: middle;\n",
       "    }\n",
       "\n",
       "    .dataframe tbody tr th {\n",
       "        vertical-align: top;\n",
       "    }\n",
       "\n",
       "    .dataframe thead th {\n",
       "        text-align: right;\n",
       "    }\n",
       "</style>\n",
       "<table border=\"1\" class=\"dataframe\">\n",
       "  <thead>\n",
       "    <tr style=\"text-align: right;\">\n",
       "      <th></th>\n",
       "      <th>Text</th>\n",
       "      <th>Pre-Processed Text</th>\n",
       "      <th>Actual Category</th>\n",
       "      <th>Predicted Category</th>\n",
       "    </tr>\n",
       "  </thead>\n",
       "  <tbody>\n",
       "    <tr>\n",
       "      <th>669</th>\n",
       "      <td>Johansson takes Adelaide victory\\n\\nSecond see...</td>\n",
       "      <td>johansson take adelaid victori second seed joa...</td>\n",
       "      <td>tennis</td>\n",
       "      <td>tennis</td>\n",
       "    </tr>\n",
       "    <tr>\n",
       "      <th>33</th>\n",
       "      <td>Athens memories soar above lows\\n\\nWell, it's ...</td>\n",
       "      <td>athen memori soar low well goodby anoth olymp ...</td>\n",
       "      <td>athletics</td>\n",
       "      <td>athletics</td>\n",
       "    </tr>\n",
       "    <tr>\n",
       "      <th>549</th>\n",
       "      <td>England coach faces rap after row\\n\\nEngland c...</td>\n",
       "      <td>england coach face rap row england coach andi ...</td>\n",
       "      <td>rugby</td>\n",
       "      <td>rugby</td>\n",
       "    </tr>\n",
       "    <tr>\n",
       "      <th>199</th>\n",
       "      <td>New Zealand to step up security\\n\\nNew Zealand...</td>\n",
       "      <td>new zealand step secur new zealand cricket off...</td>\n",
       "      <td>cricket</td>\n",
       "      <td>cricket</td>\n",
       "    </tr>\n",
       "    <tr>\n",
       "      <th>264</th>\n",
       "      <td>Irish finish with home game\\n\\nRepublic of Ire...</td>\n",
       "      <td>irish finish home game republ ireland manag br...</td>\n",
       "      <td>football</td>\n",
       "      <td>football</td>\n",
       "    </tr>\n",
       "    <tr>\n",
       "      <th>583</th>\n",
       "      <td>Ireland 17-12 South Africa\\n\\nRonan O'Gara sco...</td>\n",
       "      <td>ireland south africa ronan gara score ireland ...</td>\n",
       "      <td>rugby</td>\n",
       "      <td>rugby</td>\n",
       "    </tr>\n",
       "    <tr>\n",
       "      <th>39</th>\n",
       "      <td>Radcliffe tackles marathon tasks\\n\\nPaula Radc...</td>\n",
       "      <td>radcliff tackl marathon task paula radcliff fa...</td>\n",
       "      <td>athletics</td>\n",
       "      <td>athletics</td>\n",
       "    </tr>\n",
       "    <tr>\n",
       "      <th>554</th>\n",
       "      <td>Owen set for skipper role\\n\\nWales number eigh...</td>\n",
       "      <td>owen set skipper role wale number eight michae...</td>\n",
       "      <td>rugby</td>\n",
       "      <td>rugby</td>\n",
       "    </tr>\n",
       "    <tr>\n",
       "      <th>585</th>\n",
       "      <td>Ireland call up uncapped Campbell\\n\\nUlster sc...</td>\n",
       "      <td>ireland call uncap campbel ulster scrum half k...</td>\n",
       "      <td>rugby</td>\n",
       "      <td>rugby</td>\n",
       "    </tr>\n",
       "    <tr>\n",
       "      <th>609</th>\n",
       "      <td>Bath faced with Tindall ultimatum\\n\\nMike Tind...</td>\n",
       "      <td>bath face tindal ultimatum mike tindal agent w...</td>\n",
       "      <td>rugby</td>\n",
       "      <td>football</td>\n",
       "    </tr>\n",
       "    <tr>\n",
       "      <th>324</th>\n",
       "      <td>Klinsmann issues Lehmann warning\\n\\nGermany co...</td>\n",
       "      <td>klinsmann issu lehmann warn germani coach jurg...</td>\n",
       "      <td>football</td>\n",
       "      <td>football</td>\n",
       "    </tr>\n",
       "    <tr>\n",
       "      <th>390</th>\n",
       "      <td>Bellamy fined after row\\n\\nNewcastle have fine...</td>\n",
       "      <td>bellami fine row newcastl fine welsh striker c...</td>\n",
       "      <td>football</td>\n",
       "      <td>football</td>\n",
       "    </tr>\n",
       "    <tr>\n",
       "      <th>485</th>\n",
       "      <td>Crusaders 2-3 Ballymena United\\n\\nBallymena Un...</td>\n",
       "      <td>crusad ballymena unit ballymena unit came back...</td>\n",
       "      <td>football</td>\n",
       "      <td>football</td>\n",
       "    </tr>\n",
       "    <tr>\n",
       "      <th>703</th>\n",
       "      <td>Officials respond in court row\\n\\nAustralian t...</td>\n",
       "      <td>offici respond court row australian tenni top ...</td>\n",
       "      <td>tennis</td>\n",
       "      <td>tennis</td>\n",
       "    </tr>\n",
       "    <tr>\n",
       "      <th>66</th>\n",
       "      <td>Lewis-Francis eyeing world gold\\n\\nMark Lewis-...</td>\n",
       "      <td>lewi franci eye world gold mark lewi franci sa...</td>\n",
       "      <td>athletics</td>\n",
       "      <td>athletics</td>\n",
       "    </tr>\n",
       "    <tr>\n",
       "      <th>78</th>\n",
       "      <td>Wada will appeal against ruling\\n\\nThe World A...</td>\n",
       "      <td>wada appeal rule world anti dope agenc wada ap...</td>\n",
       "      <td>athletics</td>\n",
       "      <td>athletics</td>\n",
       "    </tr>\n",
       "    <tr>\n",
       "      <th>72</th>\n",
       "      <td>Johnson uncertain about Euro bid\\n\\nJade Johns...</td>\n",
       "      <td>johnson uncertain euro bid jade johnson undeci...</td>\n",
       "      <td>athletics</td>\n",
       "      <td>athletics</td>\n",
       "    </tr>\n",
       "    <tr>\n",
       "      <th>192</th>\n",
       "      <td>Union to contest Vaughan penalty\\n\\nThe hefty ...</td>\n",
       "      <td>union contest vaughan penalti hefti fine impos...</td>\n",
       "      <td>cricket</td>\n",
       "      <td>cricket</td>\n",
       "    </tr>\n",
       "    <tr>\n",
       "      <th>398</th>\n",
       "      <td>Campbell rescues Arsenal\\n\\nSol Campbell prove...</td>\n",
       "      <td>campbel rescu arsen sol campbel prove unlik ma...</td>\n",
       "      <td>football</td>\n",
       "      <td>football</td>\n",
       "    </tr>\n",
       "    <tr>\n",
       "      <th>666</th>\n",
       "      <td>Hewitt overcomes wobble in Sydney\\n\\nLleyton H...</td>\n",
       "      <td>hewitt overcom wobbl sydney lleyton hewitt gav...</td>\n",
       "      <td>tennis</td>\n",
       "      <td>tennis</td>\n",
       "    </tr>\n",
       "    <tr>\n",
       "      <th>211</th>\n",
       "      <td>Zimbabwe bowlers endure hard toil\\n\\nTour matc...</td>\n",
       "      <td>zimbabw bowler endur hard toil tour match chit...</td>\n",
       "      <td>cricket</td>\n",
       "      <td>cricket</td>\n",
       "    </tr>\n",
       "    <tr>\n",
       "      <th>469</th>\n",
       "      <td>Cech sets clean-sheet benchmark\\n\\nChelsea's P...</td>\n",
       "      <td>cech set clean sheet benchmark chelsea petr ce...</td>\n",
       "      <td>football</td>\n",
       "      <td>football</td>\n",
       "    </tr>\n",
       "    <tr>\n",
       "      <th>375</th>\n",
       "      <td>Bomb threat at Bernabeu stadium\\n\\nSpectators ...</td>\n",
       "      <td>bomb threat bernabeu stadium spectat evacu rea...</td>\n",
       "      <td>football</td>\n",
       "      <td>football</td>\n",
       "    </tr>\n",
       "    <tr>\n",
       "      <th>65</th>\n",
       "      <td>Britain boosted by Holmes double\\n\\nAthletics ...</td>\n",
       "      <td>britain boost holm doubl athlet fan endur year...</td>\n",
       "      <td>athletics</td>\n",
       "      <td>athletics</td>\n",
       "    </tr>\n",
       "    <tr>\n",
       "      <th>54</th>\n",
       "      <td>Holmes is hit by hamstring injury\\n\\nKelly Hol...</td>\n",
       "      <td>holm hit hamstr injuri kelli holm forc weekend...</td>\n",
       "      <td>athletics</td>\n",
       "      <td>athletics</td>\n",
       "    </tr>\n",
       "    <tr>\n",
       "      <th>611</th>\n",
       "      <td>Paris promise raises Welsh hopes\\n\\nHas there ...</td>\n",
       "      <td>pari promis rais welsh hope better six nation ...</td>\n",
       "      <td>rugby</td>\n",
       "      <td>rugby</td>\n",
       "    </tr>\n",
       "    <tr>\n",
       "      <th>81</th>\n",
       "      <td>Greek duo cleared in doping case\\n\\nSprinters ...</td>\n",
       "      <td>greek duo clear dope case sprinter kosta kente...</td>\n",
       "      <td>athletics</td>\n",
       "      <td>athletics</td>\n",
       "    </tr>\n",
       "    <tr>\n",
       "      <th>436</th>\n",
       "      <td>A need to limit foreign numbers\\n\\nWith all th...</td>\n",
       "      <td>need limit foreign number top club vy titl cha...</td>\n",
       "      <td>football</td>\n",
       "      <td>football</td>\n",
       "    </tr>\n",
       "    <tr>\n",
       "      <th>680</th>\n",
       "      <td>Connors boost for British tennis\\n\\nFormer wor...</td>\n",
       "      <td>connor boost british tenni former world number...</td>\n",
       "      <td>tennis</td>\n",
       "      <td>tennis</td>\n",
       "    </tr>\n",
       "    <tr>\n",
       "      <th>723</th>\n",
       "      <td>Big guns ease through in San Jose\\n\\nTop-seede...</td>\n",
       "      <td>big gun eas san jose top seed american andi ro...</td>\n",
       "      <td>tennis</td>\n",
       "      <td>tennis</td>\n",
       "    </tr>\n",
       "    <tr>\n",
       "      <th>266</th>\n",
       "      <td>Iranian misses Israel match\\n\\nIranian striker...</td>\n",
       "      <td>iranian miss israel match iranian striker vahi...</td>\n",
       "      <td>football</td>\n",
       "      <td>football</td>\n",
       "    </tr>\n",
       "    <tr>\n",
       "      <th>311</th>\n",
       "      <td>Desailly backs Blues revenge trip\\n\\nMarcel De...</td>\n",
       "      <td>desailli back blue reveng trip marcel desailli...</td>\n",
       "      <td>football</td>\n",
       "      <td>football</td>\n",
       "    </tr>\n",
       "    <tr>\n",
       "      <th>198</th>\n",
       "      <td>Pakistan have the edge - Mushtaq\\n\\nMushtaq Ah...</td>\n",
       "      <td>pakistan edg mushtaq mushtaq ahm believ pakist...</td>\n",
       "      <td>cricket</td>\n",
       "      <td>cricket</td>\n",
       "    </tr>\n",
       "    <tr>\n",
       "      <th>355</th>\n",
       "      <td>Hereford 1-1 Doncaster\\n\\nHereford win 3-1 on ...</td>\n",
       "      <td>hereford doncast hereford win penalti rover to...</td>\n",
       "      <td>football</td>\n",
       "      <td>football</td>\n",
       "    </tr>\n",
       "    <tr>\n",
       "      <th>470</th>\n",
       "      <td>Blackburn 0-1 Chelsea\\n\\nChelsea extended thei...</td>\n",
       "      <td>blackburn chelsea chelsea extend lead top prem...</td>\n",
       "      <td>football</td>\n",
       "      <td>football</td>\n",
       "    </tr>\n",
       "    <tr>\n",
       "      <th>453</th>\n",
       "      <td>Dein concerned by Chelsea stance\\n\\nArsenal vi...</td>\n",
       "      <td>dein concern chelsea stanc arsen vice chairman...</td>\n",
       "      <td>football</td>\n",
       "      <td>football</td>\n",
       "    </tr>\n",
       "    <tr>\n",
       "      <th>417</th>\n",
       "      <td>Henchoz prefers England to Gers\\n\\nRangers cou...</td>\n",
       "      <td>henchoz prefer england ger ranger could miss l...</td>\n",
       "      <td>football</td>\n",
       "      <td>football</td>\n",
       "    </tr>\n",
       "  </tbody>\n",
       "</table>\n",
       "</div>"
      ],
      "text/plain": [
       "                                                  Text  \\\n",
       "669  Johansson takes Adelaide victory\\n\\nSecond see...   \n",
       "33   Athens memories soar above lows\\n\\nWell, it's ...   \n",
       "549  England coach faces rap after row\\n\\nEngland c...   \n",
       "199  New Zealand to step up security\\n\\nNew Zealand...   \n",
       "264  Irish finish with home game\\n\\nRepublic of Ire...   \n",
       "583  Ireland 17-12 South Africa\\n\\nRonan O'Gara sco...   \n",
       "39   Radcliffe tackles marathon tasks\\n\\nPaula Radc...   \n",
       "554  Owen set for skipper role\\n\\nWales number eigh...   \n",
       "585  Ireland call up uncapped Campbell\\n\\nUlster sc...   \n",
       "609  Bath faced with Tindall ultimatum\\n\\nMike Tind...   \n",
       "324  Klinsmann issues Lehmann warning\\n\\nGermany co...   \n",
       "390  Bellamy fined after row\\n\\nNewcastle have fine...   \n",
       "485  Crusaders 2-3 Ballymena United\\n\\nBallymena Un...   \n",
       "703  Officials respond in court row\\n\\nAustralian t...   \n",
       "66   Lewis-Francis eyeing world gold\\n\\nMark Lewis-...   \n",
       "78   Wada will appeal against ruling\\n\\nThe World A...   \n",
       "72   Johnson uncertain about Euro bid\\n\\nJade Johns...   \n",
       "192  Union to contest Vaughan penalty\\n\\nThe hefty ...   \n",
       "398  Campbell rescues Arsenal\\n\\nSol Campbell prove...   \n",
       "666  Hewitt overcomes wobble in Sydney\\n\\nLleyton H...   \n",
       "211  Zimbabwe bowlers endure hard toil\\n\\nTour matc...   \n",
       "469  Cech sets clean-sheet benchmark\\n\\nChelsea's P...   \n",
       "375  Bomb threat at Bernabeu stadium\\n\\nSpectators ...   \n",
       "65   Britain boosted by Holmes double\\n\\nAthletics ...   \n",
       "54   Holmes is hit by hamstring injury\\n\\nKelly Hol...   \n",
       "611  Paris promise raises Welsh hopes\\n\\nHas there ...   \n",
       "81   Greek duo cleared in doping case\\n\\nSprinters ...   \n",
       "436  A need to limit foreign numbers\\n\\nWith all th...   \n",
       "680  Connors boost for British tennis\\n\\nFormer wor...   \n",
       "723  Big guns ease through in San Jose\\n\\nTop-seede...   \n",
       "266  Iranian misses Israel match\\n\\nIranian striker...   \n",
       "311  Desailly backs Blues revenge trip\\n\\nMarcel De...   \n",
       "198  Pakistan have the edge - Mushtaq\\n\\nMushtaq Ah...   \n",
       "355  Hereford 1-1 Doncaster\\n\\nHereford win 3-1 on ...   \n",
       "470  Blackburn 0-1 Chelsea\\n\\nChelsea extended thei...   \n",
       "453  Dein concerned by Chelsea stance\\n\\nArsenal vi...   \n",
       "417  Henchoz prefers England to Gers\\n\\nRangers cou...   \n",
       "\n",
       "                                    Pre-Processed Text Actual Category  \\\n",
       "669  johansson take adelaid victori second seed joa...          tennis   \n",
       "33   athen memori soar low well goodby anoth olymp ...       athletics   \n",
       "549  england coach face rap row england coach andi ...           rugby   \n",
       "199  new zealand step secur new zealand cricket off...         cricket   \n",
       "264  irish finish home game republ ireland manag br...        football   \n",
       "583  ireland south africa ronan gara score ireland ...           rugby   \n",
       "39   radcliff tackl marathon task paula radcliff fa...       athletics   \n",
       "554  owen set skipper role wale number eight michae...           rugby   \n",
       "585  ireland call uncap campbel ulster scrum half k...           rugby   \n",
       "609  bath face tindal ultimatum mike tindal agent w...           rugby   \n",
       "324  klinsmann issu lehmann warn germani coach jurg...        football   \n",
       "390  bellami fine row newcastl fine welsh striker c...        football   \n",
       "485  crusad ballymena unit ballymena unit came back...        football   \n",
       "703  offici respond court row australian tenni top ...          tennis   \n",
       "66   lewi franci eye world gold mark lewi franci sa...       athletics   \n",
       "78   wada appeal rule world anti dope agenc wada ap...       athletics   \n",
       "72   johnson uncertain euro bid jade johnson undeci...       athletics   \n",
       "192  union contest vaughan penalti hefti fine impos...         cricket   \n",
       "398  campbel rescu arsen sol campbel prove unlik ma...        football   \n",
       "666  hewitt overcom wobbl sydney lleyton hewitt gav...          tennis   \n",
       "211  zimbabw bowler endur hard toil tour match chit...         cricket   \n",
       "469  cech set clean sheet benchmark chelsea petr ce...        football   \n",
       "375  bomb threat bernabeu stadium spectat evacu rea...        football   \n",
       "65   britain boost holm doubl athlet fan endur year...       athletics   \n",
       "54   holm hit hamstr injuri kelli holm forc weekend...       athletics   \n",
       "611  pari promis rais welsh hope better six nation ...           rugby   \n",
       "81   greek duo clear dope case sprinter kosta kente...       athletics   \n",
       "436  need limit foreign number top club vy titl cha...        football   \n",
       "680  connor boost british tenni former world number...          tennis   \n",
       "723  big gun eas san jose top seed american andi ro...          tennis   \n",
       "266  iranian miss israel match iranian striker vahi...        football   \n",
       "311  desailli back blue reveng trip marcel desailli...        football   \n",
       "198  pakistan edg mushtaq mushtaq ahm believ pakist...         cricket   \n",
       "355  hereford doncast hereford win penalti rover to...        football   \n",
       "470  blackburn chelsea chelsea extend lead top prem...        football   \n",
       "453  dein concern chelsea stanc arsen vice chairman...        football   \n",
       "417  henchoz prefer england ger ranger could miss l...        football   \n",
       "\n",
       "    Predicted Category  \n",
       "669             tennis  \n",
       "33           athletics  \n",
       "549              rugby  \n",
       "199            cricket  \n",
       "264           football  \n",
       "583              rugby  \n",
       "39           athletics  \n",
       "554              rugby  \n",
       "585              rugby  \n",
       "609           football  \n",
       "324           football  \n",
       "390           football  \n",
       "485           football  \n",
       "703             tennis  \n",
       "66           athletics  \n",
       "78           athletics  \n",
       "72           athletics  \n",
       "192            cricket  \n",
       "398           football  \n",
       "666             tennis  \n",
       "211            cricket  \n",
       "469           football  \n",
       "375           football  \n",
       "65           athletics  \n",
       "54           athletics  \n",
       "611              rugby  \n",
       "81           athletics  \n",
       "436           football  \n",
       "680             tennis  \n",
       "723             tennis  \n",
       "266           football  \n",
       "311           football  \n",
       "198            cricket  \n",
       "355           football  \n",
       "470           football  \n",
       "453           football  \n",
       "417           football  "
      ]
     },
     "execution_count": 181,
     "metadata": {},
     "output_type": "execute_result"
    }
   ],
   "source": [
    "test_data_result"
   ]
  },
  {
   "cell_type": "code",
   "execution_count": 182,
   "metadata": {},
   "outputs": [],
   "source": [
    "test_data_result.to_csv('test_result_tf_idf_rf.csv')"
   ]
  },
  {
   "cell_type": "code",
   "execution_count": null,
   "metadata": {},
   "outputs": [],
   "source": []
  },
  {
   "cell_type": "markdown",
   "metadata": {},
   "source": [
    "### Predicting on Future Unseen Text Data"
   ]
  },
  {
   "cell_type": "code",
   "execution_count": 183,
   "metadata": {},
   "outputs": [],
   "source": [
    "PATH = '../BBCSports/bbcsport-fulltext-single/data/'"
   ]
  },
  {
   "cell_type": "code",
   "execution_count": 184,
   "metadata": {},
   "outputs": [
    {
     "data": {
      "application/vnd.jupyter.widget-view+json": {
       "model_id": "bb37871c608640d3899a51a0cb7233ce",
       "version_major": 2,
       "version_minor": 0
      },
      "text/plain": [
       "HBox(children=(FloatProgress(value=0.0, max=737.0), HTML(value='')))"
      ]
     },
     "metadata": {},
     "output_type": "display_data"
    },
    {
     "name": "stdout",
     "output_type": "stream",
     "text": [
      "\n"
     ]
    }
   ],
   "source": [
    "result_unseen_data_test = testing_data(PATH, model, tf_idf_vect)"
   ]
  },
  {
   "cell_type": "code",
   "execution_count": 185,
   "metadata": {
    "scrolled": true
   },
   "outputs": [
    {
     "data": {
      "text/html": [
       "<div>\n",
       "<style scoped>\n",
       "    .dataframe tbody tr th:only-of-type {\n",
       "        vertical-align: middle;\n",
       "    }\n",
       "\n",
       "    .dataframe tbody tr th {\n",
       "        vertical-align: top;\n",
       "    }\n",
       "\n",
       "    .dataframe thead th {\n",
       "        text-align: right;\n",
       "    }\n",
       "</style>\n",
       "<table border=\"1\" class=\"dataframe\">\n",
       "  <thead>\n",
       "    <tr style=\"text-align: right;\">\n",
       "      <th></th>\n",
       "      <th>Text</th>\n",
       "      <th>Category</th>\n",
       "    </tr>\n",
       "  </thead>\n",
       "  <tbody>\n",
       "    <tr>\n",
       "      <th>0</th>\n",
       "      <td>Henman overcomes rival Rusedski\\n\\nTim Henman ...</td>\n",
       "      <td>tennis</td>\n",
       "    </tr>\n",
       "    <tr>\n",
       "      <th>1</th>\n",
       "      <td>Hantuchova in Dubai last eight\\n\\nDaniela Hant...</td>\n",
       "      <td>tennis</td>\n",
       "    </tr>\n",
       "    <tr>\n",
       "      <th>2</th>\n",
       "      <td>Sharapova overcomes tough Molik\\n\\nWimbledon c...</td>\n",
       "      <td>tennis</td>\n",
       "    </tr>\n",
       "    <tr>\n",
       "      <th>3</th>\n",
       "      <td>Hayden sets up Australia win\\n\\nSecond one-day...</td>\n",
       "      <td>cricket</td>\n",
       "    </tr>\n",
       "    <tr>\n",
       "      <th>4</th>\n",
       "      <td>Pietersen gives England a chance\\n\\nLunch: Eng...</td>\n",
       "      <td>cricket</td>\n",
       "    </tr>\n",
       "  </tbody>\n",
       "</table>\n",
       "</div>"
      ],
      "text/plain": [
       "                                                Text Category\n",
       "0  Henman overcomes rival Rusedski\\n\\nTim Henman ...   tennis\n",
       "1  Hantuchova in Dubai last eight\\n\\nDaniela Hant...   tennis\n",
       "2  Sharapova overcomes tough Molik\\n\\nWimbledon c...   tennis\n",
       "3  Hayden sets up Australia win\\n\\nSecond one-day...  cricket\n",
       "4  Pietersen gives England a chance\\n\\nLunch: Eng...  cricket"
      ]
     },
     "execution_count": 185,
     "metadata": {},
     "output_type": "execute_result"
    }
   ],
   "source": [
    "result_unseen_data_test.head()"
   ]
  },
  {
   "cell_type": "code",
   "execution_count": 186,
   "metadata": {},
   "outputs": [],
   "source": [
    "result_unseen_data_test.to_csv('result_tf_idf_rf.csv')"
   ]
  },
  {
   "cell_type": "code",
   "execution_count": 187,
   "metadata": {},
   "outputs": [
    {
     "name": "stdout",
     "output_type": "stream",
     "text": [
      "+--------+----------+\n",
      "| Model  | Accuracy |\n",
      "+--------+----------+\n",
      "|  BOW   |  97.3 %  |\n",
      "| TF-IDF |  97.3 %  |\n",
      "+--------+----------+\n"
     ]
    }
   ],
   "source": [
    "from prettytable import PrettyTable\n",
    "    \n",
    "x = PrettyTable()\n",
    "\n",
    "x.field_names = [\"Model\", \"Accuracy\"]\n",
    "\n",
    "x.add_row([\"BOW\", \"97.3 %\"])\n",
    "x.add_row([\"TF-IDF\", \"97.3 %\"])\n",
    "\n",
    "print(x)"
   ]
  },
  {
   "cell_type": "code",
   "execution_count": null,
   "metadata": {},
   "outputs": [],
   "source": []
  }
 ],
 "metadata": {
  "kernelspec": {
   "display_name": "Python 3",
   "language": "python",
   "name": "python3"
  },
  "language_info": {
   "codemirror_mode": {
    "name": "ipython",
    "version": 3
   },
   "file_extension": ".py",
   "mimetype": "text/x-python",
   "name": "python",
   "nbconvert_exporter": "python",
   "pygments_lexer": "ipython3",
   "version": "3.6.5"
  }
 },
 "nbformat": 4,
 "nbformat_minor": 2
}
