{
 "cells": [
  {
   "cell_type": "code",
   "execution_count": 1,
   "metadata": {},
   "outputs": [
    {
     "name": "stdout",
     "output_type": "stream",
     "text": [
      "+----------------------+\n",
      "| Logistic Regression  |\n",
      "+---------+------------+\n",
      "|  Model  |  Accuracy  |\n",
      "+---------+------------+\n",
      "|   BOW   |  95.42 %   |\n",
      "|  TF-IDF |  97.92 %   |\n",
      "+---------+------------+\n",
      "+-------------------+\n",
      "|    Naive Bayes    |\n",
      "+--------+----------+\n",
      "| Model  | Accuracy |\n",
      "+--------+----------+\n",
      "|  BOW   | 96.25 %  |\n",
      "| TF-IDF | 97.08 %  |\n",
      "+--------+----------+\n",
      "+-------------------+\n",
      "|     Linear SVM    |\n",
      "+--------+----------+\n",
      "| Model  | Accuracy |\n",
      "+--------+----------+\n",
      "|  BOW   | 91.67 %  |\n",
      "| TF-IDF | 97.92 %  |\n",
      "+--------+----------+\n",
      "+-------------------+\n",
      "|   Decision Tree   |\n",
      "+--------+----------+\n",
      "| Model  | Accuracy |\n",
      "+--------+----------+\n",
      "|  BOW   | 87.08 %  |\n",
      "| TF-IDF | 89.17 %  |\n",
      "+--------+----------+\n",
      "+-------------------+\n",
      "|   Random Forest   |\n",
      "+--------+----------+\n",
      "| Model  | Accuracy |\n",
      "+--------+----------+\n",
      "|  BOW   | 95.49 %  |\n",
      "| TF-IDF | 97.54 %  |\n",
      "+--------+----------+\n"
     ]
    }
   ],
   "source": [
    "from prettytable import PrettyTable\n",
    "    \n",
    "x = PrettyTable()\n",
    "\n",
    "x.title = 'Logistic Regression'\n",
    "x.field_names = [\"Model\", \"Accuracy\"]\n",
    "\n",
    "x.add_row([\"BOW\", \"95.42 %\"])\n",
    "x.add_row([\"TF-IDF\", \"97.92 %\"])\n",
    "\n",
    "print(x)\n",
    "\n",
    "x = PrettyTable()\n",
    "x.title = 'Naive Bayes'\n",
    "x.field_names = [\"Model\", \"Accuracy\"]\n",
    "\n",
    "x.add_row([\"BOW\", \"96.25 %\"])\n",
    "x.add_row([\"TF-IDF\", \"97.08 %\"])\n",
    "\n",
    "print(x)\n",
    "\n",
    "x = PrettyTable()\n",
    "x.title = 'Linear SVM'\n",
    "x.field_names = [\"Model\", \"Accuracy\"]\n",
    "\n",
    "x.add_row([\"BOW\", \"91.67 %\"])\n",
    "x.add_row([\"TF-IDF\", \"97.92 %\"])\n",
    "\n",
    "print(x)\n",
    "\n",
    "x = PrettyTable()\n",
    "x.title = 'Decision Tree'\n",
    "x.field_names = [\"Model\", \"Accuracy\"]\n",
    "\n",
    "\n",
    "x.add_row([\"BOW\", \"87.08 %\"])\n",
    "x.add_row([\"TF-IDF\", \"89.17 %\"])\n",
    "\n",
    "\n",
    "print(x)\n",
    "\n",
    "x = PrettyTable()\n",
    "x.title = 'Random Forest'\n",
    "x.field_names = [\"Model\", \"Accuracy\"]\n",
    "\n",
    "x.add_row([\"BOW\", \"95.49 %\"])\n",
    "x.add_row([\"TF-IDF\", \"97.54 %\"])\n",
    "\n",
    "\n",
    "print(x)"
   ]
  },
  {
   "cell_type": "markdown",
   "metadata": {},
   "source": [
    "## From the table We can see that each vectorizer of Logistic Regression, Linear SVM gives good result on Test Data So we can take Logistic Regression and Linear SVM as our Base Model and TF-IDF as Base Vectorizer for further prediction."
   ]
  },
  {
   "cell_type": "code",
   "execution_count": null,
   "metadata": {},
   "outputs": [],
   "source": []
  }
 ],
 "metadata": {
  "kernelspec": {
   "display_name": "Python 3",
   "language": "python",
   "name": "python3"
  },
  "language_info": {
   "codemirror_mode": {
    "name": "ipython",
    "version": 3
   },
   "file_extension": ".py",
   "mimetype": "text/x-python",
   "name": "python",
   "nbconvert_exporter": "python",
   "pygments_lexer": "ipython3",
   "version": "3.6.5"
  }
 },
 "nbformat": 4,
 "nbformat_minor": 2
}
